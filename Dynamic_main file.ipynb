{
 "cells": [
  {
   "cell_type": "markdown",
   "id": "d876cdc6-4a9b-4d04-a475-061cd470940f",
   "metadata": {
    "tags": []
   },
   "source": [
    "# DYNAMIC MODEL"
   ]
  },
  {
   "cell_type": "markdown",
   "id": "ded8e054-62f7-4be6-afb3-b7ea57cbd194",
   "metadata": {},
   "source": [
    "## Introduction"
   ]
  },
  {
   "cell_type": "markdown",
   "id": "89333e58-ea46-4c6e-9865-c2fb564cebb7",
   "metadata": {},
   "source": [
    "### Additional Simplifications in the Dynamic Study\n",
    "\n",
    "Below we present the **additional simplifications**, beyond those already applied in the steady-state study, that were introduced in our **dynamic model**. We considered these as minor additions that would not bring substantial pedagogical value and were relatively secondary within the scope of our analysis.\n",
    "\n",
    "- We **assumed identical auxiliary heat gains** in the bathroom and in the living room.\n",
    "\n",
    "- We **simplified the solar heat flux sources**, retaining only **three types**:\n",
    "  - `φ_o`: solar radiation **absorbed by the external opaque walls**.\n",
    "  - `φ_a`: radiation **absorbed by the glazing surfaces**.\n",
    "  - `φ_i`: solar radiation **transmitted through the glazing and absorbed by the internal walls**.\n",
    "\n",
    "To simplify the calculation of the glazing-related fluxes, we assumed a **total glazing surface** equal to the **sum of the bathroom and living room windows**. This resulted in the following changes in the code, compared to the steady-state model:\n",
    "\n",
    "- `phi_0 = phi_19 = φ_o`\n",
    "- `phi_10 = phi_14 = φ_a`\n",
    "- `phi_4 = phi_6 = phi_8 = phi_15 = φ_i`\n",
    "\n",
    "This simplification helped us avoid repetitive and unnecessary calculations. However, it also meant we had to assume **the same solar irradiance** for all window surfaces, despite their different orientations.\n",
    "\n",
    "> To improve the accuracy of the results, it would have been better to calculate a specific `E_tot` for each façade based on its orientation, and then compute a weighted average according to the corresponding glazing surface areas.\n"
   ]
  },
  {
   "cell_type": "markdown",
   "id": "8e0d5535-5f85-45ba-889d-58de36aff794",
   "metadata": {
    "tags": []
   },
   "source": [
    "## Code"
   ]
  },
  {
   "cell_type": "code",
   "execution_count": 1,
   "id": "3302ac61-7d7d-434a-bdcb-6a4a7e1ad11a",
   "metadata": {
    "tags": []
   },
   "outputs": [],
   "source": [
    "import numpy as np\n",
    "import pandas as pd\n",
    "import matplotlib.pyplot as plt\n",
    "import control as ctrl\n",
    "import time\n",
    "\n",
    "import dm4bem\n",
    "from dm4bem import read_epw, sol_rad_tilt_surf"
   ]
  },
  {
   "cell_type": "code",
   "execution_count": 2,
   "id": "f85b2fb3-fc58-4662-a9aa-9e119b95c26b",
   "metadata": {
    "tags": []
   },
   "outputs": [],
   "source": [
    "controller = True\n",
    "Kp = 1e3    # W/°C, controller gain\n",
    "\n",
    "neglect_air_capacity = False\n",
    "neglect_glass_capacity = False\n",
    "\n",
    "explicit_Euler = True\n",
    "\n",
    "imposed_time_step = False\n",
    "Δt = 3600    # s, imposed time step "
   ]
  },
  {
   "cell_type": "markdown",
   "id": "da24bc4e-9adc-480b-b4a8-421a52a74164",
   "metadata": {
    "tags": []
   },
   "source": [
    "## State-space representation"
   ]
  },
  {
   "cell_type": "markdown",
   "id": "c897d0ae-bf02-44fa-8250-ff30e6f2c348",
   "metadata": {
    "tags": []
   },
   "source": [
    "![Thermal model](thermal.png)\n",
    "\n",
    "*Figure 1: Thermal mode*"
   ]
  },
  {
   "cell_type": "code",
   "execution_count": 3,
   "id": "dc4488a6-0d90-4acb-9c38-c4d4ebebb438",
   "metadata": {
    "tags": []
   },
   "outputs": [
    {
     "name": "stdout",
     "output_type": "stream",
     "text": [
      "A:\n",
      "      θ0   θ1   θ2   θ3   θ4   θ5   θ6   θ7   θ8   θ9  θ10  θ11  θ12  θ13  \\\n",
      "q0   0.0  0.0  0.0  0.0  0.0  1.0  0.0  0.0  0.0  0.0  0.0  0.0  0.0  0.0   \n",
      "q1   0.0  0.0  0.0  0.0  0.0  0.0  0.0  0.0  0.0  1.0  0.0  0.0  0.0  0.0   \n",
      "q2   1.0  0.0  0.0  0.0  0.0  0.0  0.0  0.0  0.0  0.0  0.0  0.0  0.0  0.0   \n",
      "q3  -1.0  1.0  0.0  0.0  0.0  0.0  0.0  0.0  0.0  0.0  0.0  0.0  0.0  0.0   \n",
      "q4   0.0 -1.0  1.0  0.0  0.0  0.0  0.0  0.0  0.0  0.0  0.0  0.0  0.0  0.0   \n",
      "q5   0.0  0.0 -1.0  1.0  0.0  0.0  0.0  0.0  0.0  0.0  0.0  0.0  0.0  0.0   \n",
      "q6   0.0  0.0  0.0 -1.0  1.0  0.0  0.0  0.0  0.0  0.0  0.0  0.0  0.0  0.0   \n",
      "q7   0.0  0.0  0.0  0.0 -1.0  1.0  0.0  0.0  0.0  0.0  0.0  0.0  0.0  0.0   \n",
      "q8   0.0  0.0  0.0  0.0  0.0 -1.0  1.0  0.0  0.0  0.0  0.0  0.0  0.0  0.0   \n",
      "q9   0.0  0.0  0.0  0.0  0.0  0.0 -1.0  1.0  0.0  0.0  0.0  0.0  0.0  0.0   \n",
      "q10  0.0  0.0  0.0  0.0  0.0  0.0  0.0 -1.0  1.0  0.0  0.0  0.0  0.0  0.0   \n",
      "q11  0.0  0.0  0.0  0.0  0.0  0.0  0.0  0.0 -1.0  1.0  0.0  0.0  0.0  0.0   \n",
      "q12  0.0  0.0  0.0  0.0  0.0  0.0  0.0  0.0  0.0 -1.0  1.0  0.0  0.0  0.0   \n",
      "q13  0.0  0.0  0.0  0.0  0.0  0.0  0.0  0.0  0.0  0.0  1.0  0.0  0.0  0.0   \n",
      "q14  0.0  0.0  0.0  0.0  0.0  1.0  0.0  0.0  0.0  0.0  0.0  0.0  0.0  0.0   \n",
      "q15  0.0  0.0  0.0  0.0  0.0 -1.0  0.0  0.0  0.0  0.0  0.0  1.0  0.0  0.0   \n",
      "q16  0.0  0.0  0.0  0.0  0.0  0.0  0.0  0.0  0.0  0.0  0.0 -1.0  1.0  0.0   \n",
      "q17  0.0  0.0  0.0  0.0  0.0  0.0  0.0  0.0  0.0  0.0  0.0  0.0 -1.0  1.0   \n",
      "q18  0.0  0.0  0.0  0.0  0.0  0.0  0.0  0.0  0.0  1.0  0.0  0.0  0.0 -1.0   \n",
      "q19  0.0  0.0  0.0  0.0  0.0  0.0  0.0  0.0  0.0  1.0  0.0  0.0  0.0  0.0   \n",
      "q20  0.0  0.0  0.0  0.0  0.0  0.0  0.0  0.0  0.0  0.0  0.0  0.0  0.0  0.0   \n",
      "q21  0.0  0.0  0.0  0.0  0.0  0.0  0.0  0.0  0.0  0.0  0.0  0.0  0.0  0.0   \n",
      "q22  0.0  0.0  0.0  0.0  0.0  0.0  0.0  0.0  0.0  0.0  0.0  0.0  0.0  0.0   \n",
      "q23  0.0  0.0  0.0  0.0  0.0  0.0  0.0  0.0  0.0  0.0  0.0  0.0  0.0  0.0   \n",
      "q24  0.0  0.0  0.0  0.0  0.0  0.0  0.0  0.0  0.0  0.0  0.0  0.0  0.0  0.0   \n",
      "q25  0.0  0.0  0.0  0.0  0.0  0.0  0.0  0.0  0.0  0.0  0.0  0.0  0.0  0.0   \n",
      "q26  0.0  0.0  0.0  0.0  0.0  0.0  0.0  0.0  0.0  1.0  0.0  0.0  0.0  0.0   \n",
      "\n",
      "     θ14  θ15  θ16  θ17  θ18  θ19  \n",
      "q0   0.0  0.0  0.0  0.0  0.0  0.0  \n",
      "q1   0.0  0.0  0.0  0.0  0.0  0.0  \n",
      "q2   0.0  0.0  0.0  0.0  0.0  0.0  \n",
      "q3   0.0  0.0  0.0  0.0  0.0  0.0  \n",
      "q4   0.0  0.0  0.0  0.0  0.0  0.0  \n",
      "q5   0.0  0.0  0.0  0.0  0.0  0.0  \n",
      "q6   0.0  0.0  0.0  0.0  0.0  0.0  \n",
      "q7   0.0  0.0  0.0  0.0  0.0  0.0  \n",
      "q8   0.0  0.0  0.0  0.0  0.0  0.0  \n",
      "q9   0.0  0.0  0.0  0.0  0.0  0.0  \n",
      "q10  0.0  0.0  0.0  0.0  0.0  0.0  \n",
      "q11  0.0  0.0  0.0  0.0  0.0  0.0  \n",
      "q12  0.0  0.0  0.0  0.0  0.0  0.0  \n",
      "q13  0.0  0.0  0.0  0.0  0.0  0.0  \n",
      "q14 -1.0  0.0  0.0  0.0  0.0  0.0  \n",
      "q15  0.0  0.0  0.0  0.0  0.0  0.0  \n",
      "q16  0.0  0.0  0.0  0.0  0.0  0.0  \n",
      "q17  0.0  0.0  0.0  0.0  0.0  0.0  \n",
      "q18  0.0  0.0  0.0  0.0  0.0  0.0  \n",
      "q19  0.0 -1.0  0.0  0.0  0.0  0.0  \n",
      "q20  1.0  0.0  0.0  0.0  0.0  0.0  \n",
      "q21  0.0  1.0 -1.0  0.0  0.0  0.0  \n",
      "q22  0.0  0.0  1.0 -1.0  0.0  0.0  \n",
      "q23  0.0  0.0  0.0  1.0 -1.0  0.0  \n",
      "q24  0.0  0.0  0.0  0.0  1.0 -1.0  \n",
      "q25  0.0  0.0  0.0  0.0  0.0  1.0  \n",
      "q26  0.0  0.0  0.0  0.0  0.0  0.0   \n",
      "\n",
      "G:\n",
      "q0       10.00000\n",
      "q1     1000.00000\n",
      "q2      375.00000\n",
      "q3      210.00000\n",
      "q4      210.00000\n",
      "q5        8.10000\n",
      "q6        8.10000\n",
      "q7      120.00000\n",
      "q8      120.00000\n",
      "q9      560.00000\n",
      "q10     560.00000\n",
      "q11     120.00000\n",
      "q12     120.00000\n",
      "q13     375.00000\n",
      "q14      48.00000\n",
      "q15     400.00000\n",
      "q16       0.12852\n",
      "q17       0.12852\n",
      "q18     400.00000\n",
      "q19     120.00000\n",
      "q20     150.00000\n",
      "q21       8.10000\n",
      "q22       8.10000\n",
      "q23     210.00000\n",
      "q24     210.00000\n",
      "q25     750.00000\n",
      "q26      25.00000\n",
      "Name: G, dtype: float64 \n",
      "\n",
      "C:\n",
      "θ0            0.0\n",
      "θ1      9273600.0\n",
      "θ2            0.0\n",
      "θ3        88200.0\n",
      "θ4            0.0\n",
      "θ5        36000.0\n",
      "θ6            0.0\n",
      "θ7      2484000.0\n",
      "θ8            0.0\n",
      "θ9        90000.0\n",
      "θ10     1089000.0\n",
      "θ11           0.0\n",
      "θ12           0.0\n",
      "θ13           0.0\n",
      "θ14      435600.0\n",
      "θ15           0.0\n",
      "θ16      126000.0\n",
      "θ17           0.0\n",
      "θ18    13248000.0\n",
      "θ19           0.0\n",
      "Name: C, dtype: float64 \n",
      "\n",
      "b:\n",
      "q0       To\n",
      "q1     Tisp\n",
      "q2       To\n",
      "q3        0\n",
      "q4        0\n",
      "q5        0\n",
      "q6        0\n",
      "q7        0\n",
      "q8        0\n",
      "q9        0\n",
      "q10       0\n",
      "q11       0\n",
      "q12       0\n",
      "q13      To\n",
      "q14       0\n",
      "q15       0\n",
      "q16       0\n",
      "q17       0\n",
      "q18       0\n",
      "q19       0\n",
      "q20      To\n",
      "q21       0\n",
      "q22       0\n",
      "q23       0\n",
      "q24       0\n",
      "q25      To\n",
      "q26       0\n",
      "Name: b, dtype: object \n",
      "\n",
      "f:\n",
      "θ0      Φo\n",
      "θ1     0.0\n",
      "θ2     0.0\n",
      "θ3     0.0\n",
      "θ4      Φi\n",
      "θ5      Qa\n",
      "θ6      Φi\n",
      "θ7     0.0\n",
      "θ8      Φi\n",
      "θ9      Qa\n",
      "θ10     Φa\n",
      "θ11    0.0\n",
      "θ12    0.0\n",
      "θ13    0.0\n",
      "θ14     Φa\n",
      "θ15     Φi\n",
      "θ16    0.0\n",
      "θ17    0.0\n",
      "θ18    0.0\n",
      "θ19     Φo\n",
      "Name: f, dtype: object \n",
      "\n",
      "y:\n",
      "θ0     0.0\n",
      "θ1     0.0\n",
      "θ2     0.0\n",
      "θ3     0.0\n",
      "θ4     0.0\n",
      "θ5     1.0\n",
      "θ6     0.0\n",
      "θ7     0.0\n",
      "θ8     0.0\n",
      "θ9     1.0\n",
      "θ10    0.0\n",
      "θ11    0.0\n",
      "θ12    0.0\n",
      "θ13    0.0\n",
      "θ14    0.0\n",
      "θ15    0.0\n",
      "θ16    0.0\n",
      "θ17    0.0\n",
      "θ18    0.0\n",
      "θ19    0.0\n",
      "Name: y, dtype: float64 \n",
      "\n"
     ]
    }
   ],
   "source": [
    "# Thermal circuits\n",
    "TC = dm4bem.file2TC('toy_model.csv', name='', auto_number=False)\n",
    "\n",
    "# by default TC['G']['q1'] = 0 # Kp -> 0, no controller (free-floating)\n",
    "if controller:\n",
    "    TC['G']['q1'] = Kp      # G1 = Kp, conductance of edge q11\n",
    "                            # Kp -> ∞, almost perfect controller\n",
    "if neglect_air_capacity:\n",
    "    TC['C']['θ5'] = 0       # C5, capacity of vertex θ5 (air)\n",
    "if neglect_glass_capacity:\n",
    "    TC['C']['θ9'] = 0       # C9, capacity of vertex θ9 (glass) \n",
    "\n",
    "# State-space\n",
    "[As, Bs, Cs, Ds, us] = dm4bem.tc2ss(TC)\n",
    "dm4bem.print_TC(TC)"
   ]
  },
  {
   "cell_type": "markdown",
   "id": "05d780c2-87f8-4242-b7db-7074ee4c6b30",
   "metadata": {},
   "source": [
    "The condition for numerical stability of Euler explicit integration"
   ]
  },
  {
   "cell_type": "code",
   "execution_count": 4,
   "id": "b4d0a840-58a7-4d0d-bd4c-aa9730ff8632",
   "metadata": {
    "tags": []
   },
   "outputs": [
    {
     "name": "stdout",
     "output_type": "stream",
     "text": [
      "dt = 120 s = 2.0 min\n"
     ]
    }
   ],
   "source": [
    "λ = np.linalg.eig(As)[0]    # eigenvalues of matrix As\n",
    "dtmax = 2 * min(-1. / λ)    # max time step for Euler explicit stability\n",
    "dt = dm4bem.round_time(dtmax)\n",
    "\n",
    "if imposed_time_step:\n",
    "    dt = Δt\n",
    "\n",
    "dm4bem.print_rounded_time('dt', dt)"
   ]
  },
  {
   "cell_type": "markdown",
   "id": "424e64a5-7d46-4d68-8021-f02939b1c3a6",
   "metadata": {},
   "source": [
    "## Input data set"
   ]
  },
  {
   "cell_type": "code",
   "execution_count": 5,
   "id": "b91a7682-073c-4c2c-bf97-466f472e4f57",
   "metadata": {
    "tags": []
   },
   "outputs": [
    {
     "name": "stdout",
     "output_type": "stream",
     "text": [
      "2000-02-01 12:00:00 \tstart date\n",
      "2000-02-07 18:00:00 \tend date\n"
     ]
    }
   ],
   "source": [
    "start_date = '02-01 12:00:00'\n",
    "end_date = '02-07 18:00:00'\n",
    "\n",
    "start_date = '2000-' + start_date\n",
    "end_date = '2000-' + end_date\n",
    "print(f'{start_date} \\tstart date')\n",
    "print(f'{end_date} \\tend date')\n",
    "\n",
    "filename = 'FRA_AR_Lyon-Bron.AP.074800_TMYx.2004-2018.epw'\n",
    "[data, meta] = dm4bem.read_epw(filename, coerce_year=None)\n",
    "weather = data[[\"temp_air\", \"dir_n_rad\", \"dif_h_rad\"]]\n",
    "del data\n",
    "\n",
    "weather.index = weather.index.map(lambda t: t.replace(year=2000))\n",
    "weather = weather.loc[start_date:end_date]"
   ]
  },
  {
   "cell_type": "code",
   "execution_count": 6,
   "id": "1e74c3d0-35bb-48e8-8e8d-7ba33d22e364",
   "metadata": {
    "tags": []
   },
   "outputs": [
    {
     "data": {
      "image/png": "[encoded data removed]",
      "text/plain": [
       "<Figure size 640x480 with 1 Axes>"
      ]
     },
     "metadata": {},
     "output_type": "display_data"
    },
    {
     "data": {
      "image/png": "[encoded data removed]",
      "text/plain": [
       "<Figure size 640x480 with 1 Axes>"
      ]
     },
     "metadata": {},
     "output_type": "display_data"
    }
   ],
   "source": [
    "# Temperature sources\n",
    "To = weather['temp_air']\n",
    "\n",
    "To.plot()\n",
    "plt.xlabel(\"Time\")\n",
    "plt.ylabel(\"Dry-bulb air temperature, θ / °C\")\n",
    "plt.legend([])\n",
    "plt.show()\n",
    "\n",
    "weather[['dir_n_rad', 'dif_h_rad']].plot()\n",
    "plt.xlabel(\"Time\")\n",
    "plt.ylabel(\"Solar radiation, Φ / (W·m⁻²)\")\n",
    "plt.legend(['$Φ_{direct}$', '$Φ_{diffuse}$'])\n",
    "plt.show()"
   ]
  },
  {
   "cell_type": "code",
   "execution_count": 7,
   "id": "5605b4e3-843b-4e0b-a329-090f1de1e0f3",
   "metadata": {
    "tags": []
   },
   "outputs": [
    {
     "name": "stdout",
     "output_type": "stream",
     "text": [
      "   ID  type  Area   β  γ  albedo  T0  Q0  Q1  h0  h1    α0   α1    ε0   ε1  \\\n",
      "0  w0     0    51  90  0    0.45  To  Φo  Φi  25   8  0.25  0.3  0.85  0.7   \n",
      "\n",
      "      y  \n",
      "0  [-1]  \n"
     ]
    }
   ],
   "source": [
    "# total solar irradiance\n",
    "wall_out = pd.read_csv('walls_out.csv')\n",
    "w0 = wall_out[wall_out['ID'] == 'w0']\n",
    "\n",
    "surface_orientation = {'slope': w0['β'].values[0],\n",
    "                       'azimuth': w0['γ'].values[0],\n",
    "                       'latitude': 45}\n",
    "\n",
    "rad_surf = dm4bem.sol_rad_tilt_surf(\n",
    "    weather, surface_orientation, w0['albedo'].values[0])\n",
    "print(wall_out)"
   ]
  },
  {
   "cell_type": "code",
   "execution_count": 8,
   "id": "298a01cb-7a23-4041-8a8f-e8082d6457ac",
   "metadata": {
    "tags": []
   },
   "outputs": [
    {
     "name": "stdout",
     "output_type": "stream",
     "text": [
      "40 W/m²\n",
      "Mean. direct irradiation: 8 W/m²\n",
      "Max. direct irradiation:  308 W/m²\n",
      "Direct solar irradiance is maximum on 2000-02-04 14:00:00+01:00\n"
     ]
    }
   ],
   "source": [
    "print(f\"{rad_surf.loc['2000-02-02 12:00']['direct']:.0f} W/m²\")\n",
    "print(f\"Mean. direct irradiation: {rad_surf['direct'].mean():.0f} W/m²\")\n",
    "print(f\"Max. direct irradiation:  {rad_surf['direct'].max():.0f} W/m²\")\n",
    "print(f\"Direct solar irradiance is maximum on {rad_surf['direct'].idxmax()}\")"
   ]
  },
  {
   "cell_type": "markdown",
   "id": "a5bf407c-f0aa-42bc-b32d-8e7d50625e08",
   "metadata": {
    "tags": []
   },
   "source": [
    "The total solar [irradiance](https://en.m.wikipedia.org/wiki/Solar_irradiance) on the wall  $E_{tot}$, in W/m², is the sum of direct, diffuse, and reflected components.  "
   ]
  },
  {
   "cell_type": "code",
   "execution_count": 9,
   "id": "05d124c1-2163-422d-8d77-de84f221441b",
   "metadata": {
    "tags": []
   },
   "outputs": [],
   "source": [
    "Etot = rad_surf.sum(axis=1)"
   ]
  },
  {
   "cell_type": "markdown",
   "id": "687feffb-3642-4bed-8d9c-06874bb6f24e",
   "metadata": {
    "tags": []
   },
   "source": [
    "### The short wave (i.e. solar) radiation, in W"
   ]
  },
  {
   "cell_type": "markdown",
   "id": "914bf65a-093b-4e65-89bd-90dd334bcd5a",
   "metadata": {},
   "source": [
    "#### Window glass properties"
   ]
  },
  {
   "cell_type": "code",
   "execution_count": 26,
   "id": "04aa6f1d-b967-4c3f-8ea8-703178f94de5",
   "metadata": {
    "tags": []
   },
   "outputs": [],
   "source": [
    "α_gSW = 0.38    # short wave absortivity: reflective blue glass\n",
    "τ_gSW = 0.30    # short wave transmitance: reflective blue glass\n",
    "S_g  = 7*3      # Glazing surface"
   ]
  },
  {
   "cell_type": "code",
   "execution_count": 11,
   "id": "b04f2bd9-8d95-4c85-a85c-a2da4514774c",
   "metadata": {
    "tags": []
   },
   "outputs": [],
   "source": [
    "# solar radiation absorbed by the outdoor surface of the wall\n",
    "Φo = w0['α1'].values[0] * w0['Area'].values[0] * Etot"
   ]
  },
  {
   "cell_type": "code",
   "execution_count": 12,
   "id": "f0b1ed5d-abb2-4fcc-8628-46c554cc1eb8",
   "metadata": {
    "tags": []
   },
   "outputs": [],
   "source": [
    "# solar radiation absorbed by the indoor surface of the wall\n",
    "Φi = τ_gSW * w0['α0'].values[0] * S_g * Etot"
   ]
  },
  {
   "cell_type": "code",
   "execution_count": 13,
   "id": "7783162b-39b6-4d2c-a99c-54b7bc084d2e",
   "metadata": {
    "tags": []
   },
   "outputs": [],
   "source": [
    "# solar radiation absorbed by the glass\n",
    "Φa = α_gSW * S_g * Etot"
   ]
  },
  {
   "cell_type": "markdown",
   "id": "71c9aeae-cfed-416a-ab6a-43b79733eb1d",
   "metadata": {},
   "source": [
    "### Schedules\n",
    "#### Indoor air temperature set-point\n",
    "\n",
    "$$T_{i, sp} = [T_{{i, sp}(0)}, T_{{i, sp}(1)}, ..., T_{{i, sp}(n-1)}]$$\n",
    "\n",
    "is the [time series](https://en.m.wikipedia.org/wiki/Time_series) of the setpoint indoor temperature at [discrete time](https://en.m.wikipedia.org/wiki/Discrete_time_and_continuous_time#Discrete_time) $t = [t_0, t_1, ... , t_{n-1}]$. Let's consider the indoor temperature set-point different between day and night: $Ti_{day} = 20 \\, \\mathrm{°C}$; $Ti_{night} = 16 \\, \\mathrm{°C}$."
   ]
  },
  {
   "cell_type": "code",
   "execution_count": 14,
   "id": "c61bdc5d-4182-4f6e-bafe-6c41fdbfc093",
   "metadata": {
    "tags": []
   },
   "outputs": [],
   "source": [
    "Ti_day, Ti_night = 20, 16\n",
    "\n",
    "Tisp = pd.Series(\n",
    "    [Ti_day if 6 <= hour <= 22 else Ti_night for hour in To.index.hour],\n",
    "    index=To.index)"
   ]
  },
  {
   "cell_type": "code",
   "execution_count": 15,
   "id": "f2a0ed00-281a-433e-b275-c0e33b96122d",
   "metadata": {
    "tags": []
   },
   "outputs": [],
   "source": [
    "Qa = 120 "
   ]
  },
  {
   "cell_type": "markdown",
   "id": "c2cf6be1-b7c0-4746-ab8b-628b32f6ca9d",
   "metadata": {},
   "source": [
    "### Input data set"
   ]
  },
  {
   "cell_type": "code",
   "execution_count": 16,
   "id": "c294efef-18d7-41e9-80fd-2a3fa1288d24",
   "metadata": {
    "tags": []
   },
   "outputs": [],
   "source": [
    "# Input data set\n",
    "input_data_set = pd.DataFrame({'To': To, 'Tisp': Tisp,\n",
    "                               'Φo': Φo, 'Φi': Φi, 'Qa': Qa,  'Φa': Φa,\n",
    "                               'Etot': Etot})"
   ]
  },
  {
   "cell_type": "code",
   "execution_count": 17,
   "id": "2467ee7b-b4c1-4a3e-8984-4ecf54b92abd",
   "metadata": {
    "tags": []
   },
   "outputs": [
    {
     "data": {
      "text/html": [
       "<div>\n",
       "<style scoped>\n",
       "    .dataframe tbody tr th:only-of-type {\n",
       "        vertical-align: middle;\n",
       "    }\n",
       "\n",
       "    .dataframe tbody tr th {\n",
       "        vertical-align: top;\n",
       "    }\n",
       "\n",
       "    .dataframe thead th {\n",
       "        text-align: right;\n",
       "    }\n",
       "</style>\n",
       "<table border=\"1\" class=\"dataframe\">\n",
       "  <thead>\n",
       "    <tr style=\"text-align: right;\">\n",
       "      <th></th>\n",
       "      <th>To</th>\n",
       "      <th>Tisp</th>\n",
       "      <th>Φo</th>\n",
       "      <th>Φi</th>\n",
       "      <th>Qa</th>\n",
       "      <th>Φa</th>\n",
       "      <th>Etot</th>\n",
       "    </tr>\n",
       "  </thead>\n",
       "  <tbody>\n",
       "    <tr>\n",
       "      <th>2000-02-01 12:00:00+01:00</th>\n",
       "      <td>4.6</td>\n",
       "      <td>20</td>\n",
       "      <td>1933.155000</td>\n",
       "      <td>199.001250</td>\n",
       "      <td>120</td>\n",
       "      <td>1008.273000</td>\n",
       "      <td>126.350000</td>\n",
       "    </tr>\n",
       "    <tr>\n",
       "      <th>2000-02-01 13:00:00+01:00</th>\n",
       "      <td>4.9</td>\n",
       "      <td>20</td>\n",
       "      <td>3512.661828</td>\n",
       "      <td>361.597541</td>\n",
       "      <td>120</td>\n",
       "      <td>1832.094208</td>\n",
       "      <td>229.585740</td>\n",
       "    </tr>\n",
       "    <tr>\n",
       "      <th>2000-02-01 14:00:00+01:00</th>\n",
       "      <td>5.4</td>\n",
       "      <td>20</td>\n",
       "      <td>2782.969174</td>\n",
       "      <td>286.482121</td>\n",
       "      <td>120</td>\n",
       "      <td>1451.509412</td>\n",
       "      <td>181.893410</td>\n",
       "    </tr>\n",
       "    <tr>\n",
       "      <th>2000-02-01 15:00:00+01:00</th>\n",
       "      <td>5.9</td>\n",
       "      <td>20</td>\n",
       "      <td>1901.569813</td>\n",
       "      <td>195.749834</td>\n",
       "      <td>120</td>\n",
       "      <td>991.799158</td>\n",
       "      <td>124.285609</td>\n",
       "    </tr>\n",
       "    <tr>\n",
       "      <th>2000-02-01 16:00:00+01:00</th>\n",
       "      <td>5.6</td>\n",
       "      <td>20</td>\n",
       "      <td>1248.585456</td>\n",
       "      <td>128.530856</td>\n",
       "      <td>120</td>\n",
       "      <td>651.223003</td>\n",
       "      <td>81.606893</td>\n",
       "    </tr>\n",
       "    <tr>\n",
       "      <th>...</th>\n",
       "      <td>...</td>\n",
       "      <td>...</td>\n",
       "      <td>...</td>\n",
       "      <td>...</td>\n",
       "      <td>...</td>\n",
       "      <td>...</td>\n",
       "      <td>...</td>\n",
       "    </tr>\n",
       "    <tr>\n",
       "      <th>2000-02-07 14:00:00+01:00</th>\n",
       "      <td>4.0</td>\n",
       "      <td>20</td>\n",
       "      <td>1773.270000</td>\n",
       "      <td>182.542500</td>\n",
       "      <td>120</td>\n",
       "      <td>924.882000</td>\n",
       "      <td>115.900000</td>\n",
       "    </tr>\n",
       "    <tr>\n",
       "      <th>2000-02-07 15:00:00+01:00</th>\n",
       "      <td>3.9</td>\n",
       "      <td>20</td>\n",
       "      <td>1279.080000</td>\n",
       "      <td>131.670000</td>\n",
       "      <td>120</td>\n",
       "      <td>667.128000</td>\n",
       "      <td>83.600000</td>\n",
       "    </tr>\n",
       "    <tr>\n",
       "      <th>2000-02-07 16:00:00+01:00</th>\n",
       "      <td>2.9</td>\n",
       "      <td>20</td>\n",
       "      <td>639.540000</td>\n",
       "      <td>65.835000</td>\n",
       "      <td>120</td>\n",
       "      <td>333.564000</td>\n",
       "      <td>41.800000</td>\n",
       "    </tr>\n",
       "    <tr>\n",
       "      <th>2000-02-07 17:00:00+01:00</th>\n",
       "      <td>2.2</td>\n",
       "      <td>20</td>\n",
       "      <td>159.885000</td>\n",
       "      <td>16.458750</td>\n",
       "      <td>120</td>\n",
       "      <td>83.391000</td>\n",
       "      <td>10.450000</td>\n",
       "    </tr>\n",
       "    <tr>\n",
       "      <th>2000-02-07 18:00:00+01:00</th>\n",
       "      <td>1.8</td>\n",
       "      <td>20</td>\n",
       "      <td>0.000000</td>\n",
       "      <td>0.000000</td>\n",
       "      <td>120</td>\n",
       "      <td>0.000000</td>\n",
       "      <td>0.000000</td>\n",
       "    </tr>\n",
       "  </tbody>\n",
       "</table>\n",
       "<p>151 rows × 7 columns</p>\n",
       "</div>"
      ],
      "text/plain": [
       "                            To  Tisp           Φo          Φi   Qa  \\\n",
       "2000-02-01 12:00:00+01:00  4.6    20  1933.155000  199.001250  120   \n",
       "2000-02-01 13:00:00+01:00  4.9    20  3512.661828  361.597541  120   \n",
       "2000-02-01 14:00:00+01:00  5.4    20  2782.969174  286.482121  120   \n",
       "2000-02-01 15:00:00+01:00  5.9    20  1901.569813  195.749834  120   \n",
       "2000-02-01 16:00:00+01:00  5.6    20  1248.585456  128.530856  120   \n",
       "...                        ...   ...          ...         ...  ...   \n",
       "2000-02-07 14:00:00+01:00  4.0    20  1773.270000  182.542500  120   \n",
       "2000-02-07 15:00:00+01:00  3.9    20  1279.080000  131.670000  120   \n",
       "2000-02-07 16:00:00+01:00  2.9    20   639.540000   65.835000  120   \n",
       "2000-02-07 17:00:00+01:00  2.2    20   159.885000   16.458750  120   \n",
       "2000-02-07 18:00:00+01:00  1.8    20     0.000000    0.000000  120   \n",
       "\n",
       "                                    Φa        Etot  \n",
       "2000-02-01 12:00:00+01:00  1008.273000  126.350000  \n",
       "2000-02-01 13:00:00+01:00  1832.094208  229.585740  \n",
       "2000-02-01 14:00:00+01:00  1451.509412  181.893410  \n",
       "2000-02-01 15:00:00+01:00   991.799158  124.285609  \n",
       "2000-02-01 16:00:00+01:00   651.223003   81.606893  \n",
       "...                                ...         ...  \n",
       "2000-02-07 14:00:00+01:00   924.882000  115.900000  \n",
       "2000-02-07 15:00:00+01:00   667.128000   83.600000  \n",
       "2000-02-07 16:00:00+01:00   333.564000   41.800000  \n",
       "2000-02-07 17:00:00+01:00    83.391000   10.450000  \n",
       "2000-02-07 18:00:00+01:00     0.000000    0.000000  \n",
       "\n",
       "[151 rows x 7 columns]"
      ]
     },
     "execution_count": 17,
     "metadata": {},
     "output_type": "execute_result"
    }
   ],
   "source": [
    "input_data_set.to_csv('input_data_set.csv')\n",
    "input_data_set"
   ]
  },
  {
   "cell_type": "markdown",
   "id": "a8338546-d275-4230-a9b4-e5da8f428c68",
   "metadata": {
    "tags": []
   },
   "source": [
    "### Resample input data set\n",
    "\n",
    "The weather data and the scheduled sources are at the time-step of 1 h. The data needs to be resampled at time step `dt` used for numerical integration."
   ]
  },
  {
   "cell_type": "code",
   "execution_count": 18,
   "id": "06594f6a-8396-4bd7-a4d0-3c3bc1af1759",
   "metadata": {
    "tags": []
   },
   "outputs": [
    {
     "data": {
      "text/html": [
       "<div>\n",
       "<style scoped>\n",
       "    .dataframe tbody tr th:only-of-type {\n",
       "        vertical-align: middle;\n",
       "    }\n",
       "\n",
       "    .dataframe tbody tr th {\n",
       "        vertical-align: top;\n",
       "    }\n",
       "\n",
       "    .dataframe thead th {\n",
       "        text-align: right;\n",
       "    }\n",
       "</style>\n",
       "<table border=\"1\" class=\"dataframe\">\n",
       "  <thead>\n",
       "    <tr style=\"text-align: right;\">\n",
       "      <th></th>\n",
       "      <th>To</th>\n",
       "      <th>Tisp</th>\n",
       "      <th>Φo</th>\n",
       "      <th>Φi</th>\n",
       "      <th>Qa</th>\n",
       "      <th>Φa</th>\n",
       "      <th>Etot</th>\n",
       "    </tr>\n",
       "  </thead>\n",
       "  <tbody>\n",
       "    <tr>\n",
       "      <th>2000-02-01 12:00:00+01:00</th>\n",
       "      <td>4.60</td>\n",
       "      <td>20.0</td>\n",
       "      <td>1933.155000</td>\n",
       "      <td>199.001250</td>\n",
       "      <td>120.0</td>\n",
       "      <td>1008.273000</td>\n",
       "      <td>126.350000</td>\n",
       "    </tr>\n",
       "    <tr>\n",
       "      <th>2000-02-01 12:02:00+01:00</th>\n",
       "      <td>4.61</td>\n",
       "      <td>20.0</td>\n",
       "      <td>1985.805228</td>\n",
       "      <td>204.421126</td>\n",
       "      <td>120.0</td>\n",
       "      <td>1035.733707</td>\n",
       "      <td>129.791191</td>\n",
       "    </tr>\n",
       "    <tr>\n",
       "      <th>2000-02-01 12:04:00+01:00</th>\n",
       "      <td>4.62</td>\n",
       "      <td>20.0</td>\n",
       "      <td>2038.455455</td>\n",
       "      <td>209.841003</td>\n",
       "      <td>120.0</td>\n",
       "      <td>1063.194414</td>\n",
       "      <td>133.232383</td>\n",
       "    </tr>\n",
       "    <tr>\n",
       "      <th>2000-02-01 12:06:00+01:00</th>\n",
       "      <td>4.63</td>\n",
       "      <td>20.0</td>\n",
       "      <td>2091.105683</td>\n",
       "      <td>215.260879</td>\n",
       "      <td>120.0</td>\n",
       "      <td>1090.655121</td>\n",
       "      <td>136.673574</td>\n",
       "    </tr>\n",
       "    <tr>\n",
       "      <th>2000-02-01 12:08:00+01:00</th>\n",
       "      <td>4.64</td>\n",
       "      <td>20.0</td>\n",
       "      <td>2143.755910</td>\n",
       "      <td>220.680755</td>\n",
       "      <td>120.0</td>\n",
       "      <td>1118.115828</td>\n",
       "      <td>140.114765</td>\n",
       "    </tr>\n",
       "  </tbody>\n",
       "</table>\n",
       "</div>"
      ],
      "text/plain": [
       "                             To  Tisp           Φo          Φi     Qa  \\\n",
       "2000-02-01 12:00:00+01:00  4.60  20.0  1933.155000  199.001250  120.0   \n",
       "2000-02-01 12:02:00+01:00  4.61  20.0  1985.805228  204.421126  120.0   \n",
       "2000-02-01 12:04:00+01:00  4.62  20.0  2038.455455  209.841003  120.0   \n",
       "2000-02-01 12:06:00+01:00  4.63  20.0  2091.105683  215.260879  120.0   \n",
       "2000-02-01 12:08:00+01:00  4.64  20.0  2143.755910  220.680755  120.0   \n",
       "\n",
       "                                    Φa        Etot  \n",
       "2000-02-01 12:00:00+01:00  1008.273000  126.350000  \n",
       "2000-02-01 12:02:00+01:00  1035.733707  129.791191  \n",
       "2000-02-01 12:04:00+01:00  1063.194414  133.232383  \n",
       "2000-02-01 12:06:00+01:00  1090.655121  136.673574  \n",
       "2000-02-01 12:08:00+01:00  1118.115828  140.114765  "
      ]
     },
     "execution_count": 18,
     "metadata": {},
     "output_type": "execute_result"
    }
   ],
   "source": [
    "input_data_set = input_data_set.resample(\n",
    "    str(dt) + 'S').interpolate(method='linear')\n",
    "input_data_set.head()"
   ]
  },
  {
   "cell_type": "markdown",
   "id": "171b6c3e-3121-483d-adff-f4179d857491",
   "metadata": {},
   "source": [
    "## Input vector in time\n",
    "\n",
    "In the _input data set_ an input, e.g. $T_o$, appears only once. However, the _i nput vector_ may contain the same time series multiple time.\n",
    "\n",
    "The input in time is formed by the vectors of time series of temperature sources $\\left [ T_o, T_o ,T_o, T_o, T_o ,T_o, T_{i,sp} \\right ]^T$ and vectors of time series of the heat flow sources $\\left [ \\Phi_o, \\Phi_i, \\dot{Q_a}, \\Phi_i, \\Phi_i, \\dot{Q_a}, \\Phi_a, \\Phi_a, \\Phi_i, \\Phi_o \\right ]^T$:\n",
    "\n",
    "where the input data set is:\n",
    "\n",
    "$T_o$: the time series vector of outdoor temperatures (from weather data), °C.\n",
    "\n",
    "$T_{i,sp}$: time series vector of indoor setpoint temperatures, °C.\n",
    "\n",
    "$\\Phi_o$: time series vector of solar (i.e. short wave) radiation absorbed by the outdoor surface of the wall, W;\n",
    "\n",
    "$\\Phi_i$: time series vector of short wave (i.e. solar) radiation absorbed by the indoor surfaces of the wall, W;\n",
    "\n",
    "$\\dot{Q}_a$: time vector of auxiliary heat flows (from occupants, electrical devices, etc.), W.\n",
    "\n",
    "$\\Phi_a$: time series vector of short wave (i.e. solar) radiation absorbed by the window glass, W.\n",
    "\n",
    "The *input vector* `u` is obtained from the *input data set*, $T_o, T_{i,sp}, \\Phi_o, \\Phi_i, \\dot Q_a, \\Phi_a$, by using the order of the sources given in the state-space model, `us`: `q0` = $T_o$, `q2` = $T_o$,`q13` = $T_o$, `q20` = $T_o$, `q25` = $T_o$, `q26` = $T_o$, `q1` = $T_{i,sp}$, `θ0` = $\\Phi_o$, `θ4` = $\\Phi_i$, `θ5` = $\\dot Q_a$, `θ6` = $\\Phi_i$, `θ8` = $\\Phi_i$, `θ9` = $\\dot Q_a$, `θ10` = $\\Phi_a$, `θ14` = $\\Phi_a$, `θ15` = $\\Phi_i$, and `θ19` = $\\Phi_o$."
   ]
  },
  {
   "cell_type": "code",
   "execution_count": 19,
   "id": "b2f20b3a-4cdd-4995-81c2-6d2e86250a8f",
   "metadata": {
    "tags": []
   },
   "outputs": [
    {
     "data": {
      "text/html": [
       "<div>\n",
       "<style scoped>\n",
       "    .dataframe tbody tr th:only-of-type {\n",
       "        vertical-align: middle;\n",
       "    }\n",
       "\n",
       "    .dataframe tbody tr th {\n",
       "        vertical-align: top;\n",
       "    }\n",
       "\n",
       "    .dataframe thead th {\n",
       "        text-align: right;\n",
       "    }\n",
       "</style>\n",
       "<table border=\"1\" class=\"dataframe\">\n",
       "  <thead>\n",
       "    <tr style=\"text-align: right;\">\n",
       "      <th></th>\n",
       "      <th>q0</th>\n",
       "      <th>q1</th>\n",
       "      <th>q2</th>\n",
       "      <th>q13</th>\n",
       "      <th>q20</th>\n",
       "      <th>q25</th>\n",
       "      <th>θ0</th>\n",
       "      <th>θ4</th>\n",
       "      <th>θ5</th>\n",
       "      <th>θ6</th>\n",
       "      <th>θ8</th>\n",
       "      <th>θ9</th>\n",
       "      <th>θ10</th>\n",
       "      <th>θ14</th>\n",
       "      <th>θ15</th>\n",
       "      <th>θ19</th>\n",
       "    </tr>\n",
       "  </thead>\n",
       "  <tbody>\n",
       "    <tr>\n",
       "      <th>2000-02-01 12:00:00+01:00</th>\n",
       "      <td>4.60</td>\n",
       "      <td>20.0</td>\n",
       "      <td>4.60</td>\n",
       "      <td>4.60</td>\n",
       "      <td>4.60</td>\n",
       "      <td>4.60</td>\n",
       "      <td>1933.155000</td>\n",
       "      <td>199.001250</td>\n",
       "      <td>120.0</td>\n",
       "      <td>199.001250</td>\n",
       "      <td>199.001250</td>\n",
       "      <td>120.0</td>\n",
       "      <td>1008.273000</td>\n",
       "      <td>1008.273000</td>\n",
       "      <td>199.001250</td>\n",
       "      <td>1933.155000</td>\n",
       "    </tr>\n",
       "    <tr>\n",
       "      <th>2000-02-01 12:02:00+01:00</th>\n",
       "      <td>4.61</td>\n",
       "      <td>20.0</td>\n",
       "      <td>4.61</td>\n",
       "      <td>4.61</td>\n",
       "      <td>4.61</td>\n",
       "      <td>4.61</td>\n",
       "      <td>1985.805228</td>\n",
       "      <td>204.421126</td>\n",
       "      <td>120.0</td>\n",
       "      <td>204.421126</td>\n",
       "      <td>204.421126</td>\n",
       "      <td>120.0</td>\n",
       "      <td>1035.733707</td>\n",
       "      <td>1035.733707</td>\n",
       "      <td>204.421126</td>\n",
       "      <td>1985.805228</td>\n",
       "    </tr>\n",
       "    <tr>\n",
       "      <th>2000-02-01 12:04:00+01:00</th>\n",
       "      <td>4.62</td>\n",
       "      <td>20.0</td>\n",
       "      <td>4.62</td>\n",
       "      <td>4.62</td>\n",
       "      <td>4.62</td>\n",
       "      <td>4.62</td>\n",
       "      <td>2038.455455</td>\n",
       "      <td>209.841003</td>\n",
       "      <td>120.0</td>\n",
       "      <td>209.841003</td>\n",
       "      <td>209.841003</td>\n",
       "      <td>120.0</td>\n",
       "      <td>1063.194414</td>\n",
       "      <td>1063.194414</td>\n",
       "      <td>209.841003</td>\n",
       "      <td>2038.455455</td>\n",
       "    </tr>\n",
       "    <tr>\n",
       "      <th>2000-02-01 12:06:00+01:00</th>\n",
       "      <td>4.63</td>\n",
       "      <td>20.0</td>\n",
       "      <td>4.63</td>\n",
       "      <td>4.63</td>\n",
       "      <td>4.63</td>\n",
       "      <td>4.63</td>\n",
       "      <td>2091.105683</td>\n",
       "      <td>215.260879</td>\n",
       "      <td>120.0</td>\n",
       "      <td>215.260879</td>\n",
       "      <td>215.260879</td>\n",
       "      <td>120.0</td>\n",
       "      <td>1090.655121</td>\n",
       "      <td>1090.655121</td>\n",
       "      <td>215.260879</td>\n",
       "      <td>2091.105683</td>\n",
       "    </tr>\n",
       "    <tr>\n",
       "      <th>2000-02-01 12:08:00+01:00</th>\n",
       "      <td>4.64</td>\n",
       "      <td>20.0</td>\n",
       "      <td>4.64</td>\n",
       "      <td>4.64</td>\n",
       "      <td>4.64</td>\n",
       "      <td>4.64</td>\n",
       "      <td>2143.755910</td>\n",
       "      <td>220.680755</td>\n",
       "      <td>120.0</td>\n",
       "      <td>220.680755</td>\n",
       "      <td>220.680755</td>\n",
       "      <td>120.0</td>\n",
       "      <td>1118.115828</td>\n",
       "      <td>1118.115828</td>\n",
       "      <td>220.680755</td>\n",
       "      <td>2143.755910</td>\n",
       "    </tr>\n",
       "  </tbody>\n",
       "</table>\n",
       "</div>"
      ],
      "text/plain": [
       "                             q0    q1    q2   q13   q20   q25           θ0  \\\n",
       "2000-02-01 12:00:00+01:00  4.60  20.0  4.60  4.60  4.60  4.60  1933.155000   \n",
       "2000-02-01 12:02:00+01:00  4.61  20.0  4.61  4.61  4.61  4.61  1985.805228   \n",
       "2000-02-01 12:04:00+01:00  4.62  20.0  4.62  4.62  4.62  4.62  2038.455455   \n",
       "2000-02-01 12:06:00+01:00  4.63  20.0  4.63  4.63  4.63  4.63  2091.105683   \n",
       "2000-02-01 12:08:00+01:00  4.64  20.0  4.64  4.64  4.64  4.64  2143.755910   \n",
       "\n",
       "                                   θ4     θ5          θ6          θ8     θ9  \\\n",
       "2000-02-01 12:00:00+01:00  199.001250  120.0  199.001250  199.001250  120.0   \n",
       "2000-02-01 12:02:00+01:00  204.421126  120.0  204.421126  204.421126  120.0   \n",
       "2000-02-01 12:04:00+01:00  209.841003  120.0  209.841003  209.841003  120.0   \n",
       "2000-02-01 12:06:00+01:00  215.260879  120.0  215.260879  215.260879  120.0   \n",
       "2000-02-01 12:08:00+01:00  220.680755  120.0  220.680755  220.680755  120.0   \n",
       "\n",
       "                                   θ10          θ14         θ15          θ19  \n",
       "2000-02-01 12:00:00+01:00  1008.273000  1008.273000  199.001250  1933.155000  \n",
       "2000-02-01 12:02:00+01:00  1035.733707  1035.733707  204.421126  1985.805228  \n",
       "2000-02-01 12:04:00+01:00  1063.194414  1063.194414  209.841003  2038.455455  \n",
       "2000-02-01 12:06:00+01:00  1090.655121  1090.655121  215.260879  2091.105683  \n",
       "2000-02-01 12:08:00+01:00  1118.115828  1118.115828  220.680755  2143.755910  "
      ]
     },
     "execution_count": 19,
     "metadata": {},
     "output_type": "execute_result"
    }
   ],
   "source": [
    "# Input vector in time from input_data_set\n",
    "u = dm4bem.inputs_in_time(us, input_data_set)\n",
    "u.head()"
   ]
  },
  {
   "cell_type": "markdown",
   "id": "e0d2794e-0258-48d5-92b0-cfc38fc2ddb1",
   "metadata": {},
   "source": [
    "## Initial conditions"
   ]
  },
  {
   "cell_type": "code",
   "execution_count": 20,
   "id": "625a41a2-984e-4546-b4af-0c89fec22f6b",
   "metadata": {
    "tags": []
   },
   "outputs": [],
   "source": [
    "# Initial conditions\n",
    "θ0 = 20.0                   # °C, initial temperatures\n",
    "θ = pd.DataFrame(index=u.index)\n",
    "θ[As.columns] = θ0          # fill θ with initial valeus θ0"
   ]
  },
  {
   "cell_type": "markdown",
   "id": "f9cee594-929d-434e-b4d7-e3b3f0ec5f1e",
   "metadata": {},
   "source": [
    "## Time integration\n",
    "The state-space model\n",
    "\n",
    "$$\\left\\{\\begin{array}{rr}\n",
    "\\dot{\\theta}_C=A_s \\theta_C + B_s u\\\\ \n",
    "y = C_s \\theta_C + D_s u\n",
    "\\end{array}\\right.$$\n",
    "\n",
    "is integrated in time by using [Euler forward (or explicit) method](https://en.m.wikipedia.org/wiki/Numerical_methods_for_ordinary_differential_equations#Euler_method) for numerical integration:\n",
    "\n",
    "$$ \\theta_{s,k+1} = (I + \\Delta t A) \\theta_{s,k} + \\Delta t B u_k $$\n",
    "\n",
    "or [Euler backward (or implicit) method](https://en.m.wikipedia.org/wiki/Numerical_methods_for_ordinary_differential_equations#Backward_Euler_method) for numerical integration:\n",
    "\n",
    "$$\\theta_{s,k+1} = (I - \\Delta t A)^{-1} ( \\theta_{s,k} + \\Delta t B u_k )$$\n",
    "\n",
    "\n",
    "where $k = 0, ... , n - 1$."
   ]
  },
  {
   "cell_type": "code",
   "execution_count": 21,
   "id": "5ea5ed40-1dfe-4858-862f-1acb8bc1ab53",
   "metadata": {
    "tags": []
   },
   "outputs": [],
   "source": [
    "I = np.eye(As.shape[0])     # identity matrix\n",
    "\n",
    "if explicit_Euler:\n",
    "    for k in range(u.shape[0] - 1):\n",
    "        θ.iloc[k + 1] = (I + dt * As) @ θ.iloc[k] + dt * Bs @ u.iloc[k]\n",
    "else:\n",
    "    for k in range(u.shape[0] - 1):\n",
    "        θ.iloc[k + 1] = np.linalg.inv(\n",
    "            I - dt * As) @ (θ.iloc[k] + dt * Bs @ u.iloc[k])"
   ]
  },
  {
   "cell_type": "markdown",
   "id": "61e150db-8a96-440f-91b0-1bc1705a36ea",
   "metadata": {},
   "source": [
    "## Outputs\n",
    "\n",
    "From the time variation of state variable $\\theta_s$ we obtain the time variation of the output $y$ (i.e., indoor temperature):\n",
    "\n",
    "$$y = C_s \\theta_s + D_s u$$"
   ]
  },
  {
   "cell_type": "code",
   "execution_count": 22,
   "id": "f181f342-5055-4257-a46a-353aec9e32e8",
   "metadata": {},
   "outputs": [],
   "source": [
    "# outputs\n",
    "y = (Cs @ θ.T + Ds @  u.T).T"
   ]
  },
  {
   "cell_type": "markdown",
   "id": "362b9956-fb76-47e5-b8fb-0345dd564ed1",
   "metadata": {},
   "source": [
    "and the variation in time of the heat flow of the HVAC system:\n",
    "\n",
    "$$q_{HVAC} = K_p (T_{i,sp} - \\theta_i) = K_p (T_{i,sp} - y)$$\n",
    "\n",
    "where $K_p$ is the gain of the P-controller and $T_{i,sp}$ is the HVAC-setpoint for the indoor temperature."
   ]
  },
  {
   "cell_type": "code",
   "execution_count": 23,
   "id": "8490635f-2904-430e-89f0-8ef457f76591",
   "metadata": {},
   "outputs": [
    {
     "data": {
      "text/plain": [
       "2000-02-01 12:00:00+01:00    20.000000\n",
       "2000-02-01 12:02:00+01:00    19.788715\n",
       "2000-02-01 12:04:00+01:00    19.856252\n",
       "2000-02-01 12:06:00+01:00    19.742296\n",
       "2000-02-01 12:08:00+01:00    19.754940\n",
       "                               ...    \n",
       "2000-02-07 17:52:00+01:00    18.128240\n",
       "2000-02-07 17:54:00+01:00    18.124425\n",
       "2000-02-07 17:56:00+01:00    18.120634\n",
       "2000-02-07 17:58:00+01:00    18.116864\n",
       "2000-02-07 18:00:00+01:00    18.113115\n",
       "Freq: 120S, Name: θ9, Length: 4501, dtype: float64"
      ]
     },
     "execution_count": 23,
     "metadata": {},
     "output_type": "execute_result"
    }
   ],
   "source": [
    "Kp = TC['G']['q1']     # controller gain\n",
    "S = 25                   # m², surface area of the living room\n",
    "q_HVAC = Kp * (u['q1'] - y['θ9']) / S  # W/m²\n",
    "y['θ9']"
   ]
  },
  {
   "cell_type": "markdown",
   "id": "c7b62b90-e915-4223-933b-bb57699f64f4",
   "metadata": {},
   "source": [
    "## Plots\n",
    "\n",
    "We select the data to plot:\n",
    "\n",
    "- $T_o$, outdoor temperature, °C;\n",
    "- $\\theta_i$, indoor temperature, °C;\n",
    "- $E_{tot}$, total solar irradiance, W/m²;\n",
    "- $q_{HVAC}$, thermal load, i.e., the power that the HVAC system needs to deliver in order to maintain the indoor air temperature at its set-point, W."
   ]
  },
  {
   "cell_type": "code",
   "execution_count": 24,
   "id": "164d4a37-03cc-40ba-ad5e-a1a502ea98f2",
   "metadata": {},
   "outputs": [],
   "source": [
    "data = pd.DataFrame({'To': input_data_set['To'],\n",
    "                     'θlr': y['θ9'],\n",
    "                     'θb': y['θ5'],\n",
    "                     'Etot': input_data_set['Etot'],\n",
    "                     'q_HVAC': q_HVAC})"
   ]
  },
  {
   "cell_type": "markdown",
   "id": "08d86b04-fbfa-497d-a440-e8a4df246b10",
   "metadata": {},
   "source": [
    "### Plots using Pandas"
   ]
  },
  {
   "cell_type": "code",
   "execution_count": 25,
   "id": "59b95541-0a88-4cbe-8df6-0655e89ef4e9",
   "metadata": {},
   "outputs": [
    {
     "data": {
      "image/png": "[encoded data removed]",
      "text/plain": [
       "<Figure size 640x480 with 3 Axes>"
      ]
     },
     "metadata": {},
     "output_type": "display_data"
    }
   ],
   "source": [
    "fig, axs = plt.subplots(3, 1)\n",
    "\n",
    "data[['To', 'θb']].plot(ax=axs[0],\n",
    "                        xticks=[],\n",
    "                        ylabel='Temperature, $θ$ / °C')\n",
    "\n",
    "axs[0].legend(['$θ_{outdoor}$', '$θ_{bathroom}$'],\n",
    "              loc='upper right')\n",
    "\n",
    "\n",
    "data[['To', 'θlr']].plot(ax=axs[1],\n",
    "                        xticks=[],\n",
    "                        ylabel='Temperature, $θ$ / °C')\n",
    "\n",
    "axs[1].legend(['$θ_{outdoor}$', '$θ_{living room}$'],\n",
    "              loc='upper right')\n",
    "\n",
    "\n",
    "data[['Etot', 'q_HVAC']].plot(ax=axs[2],\n",
    "                              ylabel='Heat rate, $q$ / (W·m⁻²)')\n",
    "axs[2].set(xlabel='Time')\n",
    "axs[2].legend(['$E_{total}$', '$q_{HVAC}$'],\n",
    "              loc='upper right')\n",
    "plt.show();"
   ]
  },
  {
   "cell_type": "markdown",
   "id": "9c3146db-6fc3-424f-b6d5-fee621466191",
   "metadata": {},
   "source": [
    "> Simulation in free-running with weather data using Euler explicit method of integration. a) Bathroom and outdoor temperatures. b) Living room and outdoor temperatures.c) Solar and HVAC heat flow rates."
   ]
  }
 ],
 "metadata": {
  "kernelspec": {
   "display_name": "Python 3 (ipykernel)",
   "language": "python",
   "name": "python3"
  },
  "language_info": {
   "codemirror_mode": {
    "name": "ipython",
    "version": 3
   },
   "file_extension": ".py",
   "mimetype": "text/x-python",
   "name": "python",
   "nbconvert_exporter": "python",
   "pygments_lexer": "ipython3",
   "version": "3.11.5"
  }
 },
 "nbformat": 4,
 "nbformat_minor": 5
}
