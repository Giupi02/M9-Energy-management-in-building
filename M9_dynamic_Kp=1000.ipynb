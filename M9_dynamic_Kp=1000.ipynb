{
 "cells": [
  {
   "cell_type": "markdown",
   "id": "ded8e054-62f7-4be6-afb3-b7ea57cbd194",
   "metadata": {},
   "source": [
    "## Introduction"
   ]
  },
  {
   "cell_type": "markdown",
   "id": "89333e58-ea46-4c6e-9865-c2fb564cebb7",
   "metadata": {},
   "source": [
    "The goal of the raport is to make a model of a simple building and examine its thermal properties and behaviour. "
   ]
  },
  {
   "cell_type": "markdown",
   "id": "c76cb8c4-8602-40cf-bc50-4e76a9f12dfd",
   "metadata": {},
   "source": [
    "## Description of building "
   ]
  },
  {
   "cell_type": "markdown",
   "id": "88db8f56-2690-4a0a-b25f-0668c30c655d",
   "metadata": {},
   "source": [
    "The chosen building is a studio apartment with one main living room and a bathroom. The building is located in France with the glazed wall facing south."
   ]
  },
  {
   "cell_type": "markdown",
   "id": "930a3225-3a26-4cb2-bc66-b76c80751a24",
   "metadata": {},
   "source": [
    "![Floor scetch of building](front.jpg)"
   ]
  },
  {
   "cell_type": "markdown",
   "id": "6d246530-4020-4f0f-b867-5019202e47a7",
   "metadata": {},
   "source": [
    "Furthermore the entire building has been divided into two zones. As seen in the following table, the first zone is the living room/kitchen area whilst the other zone is a bathroom. The total area of the apartment is 35 $m^2$.\n",
    "| Area                                | Surface [m²] |\n",
    "|-------------------------------------|--------------|\n",
    "| Zone 1 (Living room/kitchen)       | 25           |\n",
    "| Zone 2 (Bathroom)                  | 10           |"
   ]
  },
  {
   "cell_type": "markdown",
   "id": "3339f6e2-340d-4dba-9d1b-70e57356f14e",
   "metadata": {},
   "source": [
    "skriv något om air och dess egenskaper"
   ]
  },
  {
   "cell_type": "code",
   "execution_count": 1591,
   "id": "800f07e9-a925-4415-82a9-313b5a1916b1",
   "metadata": {
    "tags": []
   },
   "outputs": [
    {
     "data": {
      "text/html": [
       "<div>\n",
       "<style scoped>\n",
       "    .dataframe tbody tr th:only-of-type {\n",
       "        vertical-align: middle;\n",
       "    }\n",
       "\n",
       "    .dataframe tbody tr th {\n",
       "        vertical-align: top;\n",
       "    }\n",
       "\n",
       "    .dataframe thead th {\n",
       "        text-align: right;\n",
       "    }\n",
       "</style>\n",
       "<table border=\"1\" class=\"dataframe\">\n",
       "  <thead>\n",
       "    <tr style=\"text-align: right;\">\n",
       "      <th></th>\n",
       "      <th>Density</th>\n",
       "      <th>Specific heat</th>\n",
       "    </tr>\n",
       "  </thead>\n",
       "  <tbody>\n",
       "    <tr>\n",
       "      <th>Air</th>\n",
       "      <td>1.2</td>\n",
       "      <td>1000</td>\n",
       "    </tr>\n",
       "  </tbody>\n",
       "</table>\n",
       "</div>"
      ],
      "text/plain": [
       "     Density  Specific heat\n",
       "Air      1.2           1000"
      ]
     },
     "execution_count": 1591,
     "metadata": {},
     "output_type": "execute_result"
    }
   ],
   "source": [
    "import numpy as np\n",
    "import pandas as pd\n",
    "air = {'Density': 1.2,                      # kg/m³\n",
    "       'Specific heat': 1000}               # J/(kg·K)\n",
    "pd.DataFrame(air, index=['Air'])"
   ]
  },
  {
   "cell_type": "markdown",
   "id": "c1984f50-c1c2-4972-8258-31084dea9931",
   "metadata": {},
   "source": [
    "The exterior walls are compossed with a layer of concrete followed by a layer of insulation with the following parameters:\n",
    "| Material     | Thickness [cm] | Thermal conductivity λ [W/mK] | Specific heat c [J/kgK] | Volumetric mass density ρ [kg/m³] |\n",
    "|--------------|----------------|-------------------------------|--------------------------|-----------------------------------|\n",
    "| Concrete     | 20             | 1,4                           | 960                      | 2300                              |\n",
    "| Insulation   | 10             | 0,027                         | 840                      | 50                                |\n"
   ]
  },
  {
   "cell_type": "code",
   "execution_count": 1593,
   "id": "920ba537-7f0a-4572-bf3b-d472b9b6975b",
   "metadata": {
    "tags": []
   },
   "outputs": [],
   "source": [
    "concrete_extern_salon = {'Conductivity': 1.400,          # W/(m·K)\n",
    "            'Density': 2300.0,              # kg/m³\n",
    "            'Specific heat': 960,           # J/(kg⋅K)\n",
    "            'Width': 0.2,                   # m\n",
    "            'Surface': 5*3*2}            # m²"
   ]
  },
  {
   "cell_type": "code",
   "execution_count": 1594,
   "id": "989d385c-5841-411d-89b2-cbde67cfd0dd",
   "metadata": {
    "tags": []
   },
   "outputs": [],
   "source": [
    "insulation_salon = {'Conductivity': 0.027,        # W/(m·K)\n",
    "              'Density': 50.0,              # kg/m³\n",
    "              'Specific heat': 840,        # J/(kg⋅K)\n",
    "              'Width': 0.1,                # m\n",
    "              'Surface': 5*2*3}          # m²"
   ]
  },
  {
   "cell_type": "code",
   "execution_count": 1595,
   "id": "625f412b-cc72-429c-9359-8c380709466b",
   "metadata": {
    "tags": []
   },
   "outputs": [],
   "source": [
    "concrete_extern_bathroom = {'Conductivity': 1.400,          # W/(m·K)\n",
    "            'Density': 2300.0,              # kg/m³\n",
    "            'Specific heat': 960,           # J/(kg⋅K)\n",
    "            'Width': 0.2,                   # m\n",
    "            'Surface': 5*3+2*3}            # m²\n",
    "\n",
    "insulation_bathroom = {'Conductivity': 0.027,        # W/(m·K)\n",
    "              'Density': 50.0,              # kg/m³\n",
    "              'Specific heat': 840,        # J/(kg⋅K)\n",
    "              'Width': 0.1,                # m\n",
    "              'Surface': 5*3+2*3}          # m²"
   ]
  },
  {
   "cell_type": "markdown",
   "id": "3fb21829-2882-4220-beb6-7dde0589c7fb",
   "metadata": {},
   "source": [
    "*Source: [Engineering Toolbox - Specific Heat of Solids](https://www.engineeringtoolbox.com/specific-heat-solids-d_154.html)*"
   ]
  },
  {
   "cell_type": "markdown",
   "id": "98b06156-004a-428b-b884-bd6a55f6b03c",
   "metadata": {},
   "source": [
    "The interior walls are as follows:"
   ]
  },
  {
   "cell_type": "markdown",
   "id": "ad35549f-b41a-465c-81a8-dbe1773a3de6",
   "metadata": {},
   "source": [
    "| Material     | Thickness [cm] | Thermal conductivity λ [W/mK] | Specific heat c [J/kgK] | Volumetric mass density ρ [kg/m³] |\n",
    "|--------------|----------------|-------------------------------|--------------------------|-----------------------------------|\n",
    "| Concrete     | 7.5             | 1,4                           | 960                      | 2300                              |\n",
    "                                               "
   ]
  },
  {
   "cell_type": "code",
   "execution_count": 1599,
   "id": "17c0c838-6d1d-488c-83a3-877d7b3e504e",
   "metadata": {
    "tags": []
   },
   "outputs": [],
   "source": [
    "concrete_intern_salon = {'Conductivity': 1.400,          # W/(m·K)\n",
    "            'Density': 2300.0,              # kg/m³\n",
    "            'Specific heat': 960,           # J/(kg⋅K)\n",
    "            'Width': 0.075,                   # m\n",
    "            'Surface': 5*3}            # m²"
   ]
  },
  {
   "cell_type": "code",
   "execution_count": 1600,
   "id": "aa5a8b88-02f1-40c8-bc9b-eedfbb700900",
   "metadata": {
    "tags": []
   },
   "outputs": [],
   "source": [
    "concrete_intern_bathroom = {'Conductivity': 1.400,          # W/(m·K)\n",
    "            'Density': 2300.0,              # kg/m³\n",
    "            'Specific heat': 960,           # J/(kg⋅K)\n",
    "            'Width': 0.075,                   # m\n",
    "            'Surface': 5*3}            # m²"
   ]
  },
  {
   "cell_type": "markdown",
   "id": "1b33d7de-7f52-497e-8653-f330875fed22",
   "metadata": {},
   "source": [
    "To simplify the model both the exterior and the interior doors have been modelled the same way."
   ]
  },
  {
   "cell_type": "markdown",
   "id": "48099cf7-b5ff-4a8f-8855-e16d0bdc137e",
   "metadata": {},
   "source": [
    "| Material     | Thickness [cm] | Thermal conductivity λ [W/mK] | Specific heat c [J/kgK] | Volumetric mass density ρ [kg/m³] |\n",
    "|--------------|----------------|-------------------------------|--------------------------|-----------------------------------|\n",
    "| Wood         | 5              | 0,17                          | 2000                     | 800                              |\n"
   ]
  },
  {
   "cell_type": "code",
   "execution_count": 1603,
   "id": "49c82152-544a-44eb-a1cf-fbcf05711cc9",
   "metadata": {
    "tags": []
   },
   "outputs": [],
   "source": [
    "door = {'Conductivity' : 0.17,\n",
    "        'Width' : 5,\n",
    "        'Surface' : 0.9*2.1,\n",
    "        'Specific heat' : 2000,\n",
    "        'Density' : 800 }"
   ]
  },
  {
   "cell_type": "markdown",
   "id": "bdc29d65-1015-49c3-95a6-f1bd4f01f59d",
   "metadata": {},
   "source": [
    "The windows are double glazed and have the following parameters \n",
    "| Material     | Thickness [cm] | Energy transmittance e | Specific heat c [J/kgK] | Volumetric mass density ρ [kg/m³] |\n",
    "|--------------|----------------|-------------------------------|--------------------------|-----------------------------------|\n",
    "| Window     | 2,4             | 0,75                          | 1210                      | 2500                              |\n"
   ]
  },
  {
   "cell_type": "code",
   "execution_count": 1605,
   "id": "71241343-df84-46b4-ab49-6dc93d2ad731",
   "metadata": {
    "tags": []
   },
   "outputs": [],
   "source": [
    "glass_salon = {'Conductivity': 1.4,               # W/(m·K)\n",
    "         'Density': 2500,                   # kg/m³\n",
    "         'Specific heat': 1210,             # J/(kg⋅K)\n",
    "         'Width': 0.024,                     # m\n",
    "         'Surface': 5*3}                   # m²"
   ]
  },
  {
   "cell_type": "code",
   "execution_count": 1606,
   "id": "39e8b80b-303c-4897-ac87-b53d420570a8",
   "metadata": {
    "tags": []
   },
   "outputs": [],
   "source": [
    "glass_bathroom = {'Conductivity': 1.4,               # W/(m·K)\n",
    "         'Density': 2500,                   # kg/m³\n",
    "         'Specific heat': 1210,             # J/(kg⋅K)\n",
    "         'Width': 0.024,                     # m\n",
    "         'Surface': 2*3}                   # m²"
   ]
  },
  {
   "cell_type": "markdown",
   "id": "5c5330d2-64f0-4878-bfa4-1fdccd032ec1",
   "metadata": {},
   "source": [
    "The apartment is also assumed to be part of an apartment complex, with apartments under and over. This assumption makes the heat transfer from the ceilings and floors neglectable."
   ]
  },
  {
   "cell_type": "code",
   "execution_count": 1608,
   "id": "3569e693-fd87-40b8-a9e4-44576fb187dd",
   "metadata": {
    "tags": []
   },
   "outputs": [],
   "source": [
    "ceiling_soil_bathroom = {                    # m\n",
    "         'Surface': 2*5*2}  \n",
    "\n",
    "ceiling_soil_salon = {                    # m\n",
    "         'Surface': 2*5*5} "
   ]
  },
  {
   "cell_type": "markdown",
   "id": "30aef21d-2be4-4952-b010-3ac0dfe30bca",
   "metadata": {},
   "source": [
    "The different rooms are assembled as follows:"
   ]
  },
  {
   "cell_type": "code",
   "execution_count": 1610,
   "id": "3be77300-3bd1-4679-9137-9698b931130c",
   "metadata": {
    "tags": []
   },
   "outputs": [
    {
     "data": {
      "text/html": [
       "<div>\n",
       "<style scoped>\n",
       "    .dataframe tbody tr th:only-of-type {\n",
       "        vertical-align: middle;\n",
       "    }\n",
       "\n",
       "    .dataframe tbody tr th {\n",
       "        vertical-align: top;\n",
       "    }\n",
       "\n",
       "    .dataframe thead th {\n",
       "        text-align: right;\n",
       "    }\n",
       "</style>\n",
       "<table border=\"1\" class=\"dataframe\">\n",
       "  <thead>\n",
       "    <tr style=\"text-align: right;\">\n",
       "      <th></th>\n",
       "      <th>Conductivity</th>\n",
       "      <th>Density</th>\n",
       "      <th>Specific heat</th>\n",
       "      <th>Width</th>\n",
       "      <th>Surface</th>\n",
       "    </tr>\n",
       "  </thead>\n",
       "  <tbody>\n",
       "    <tr>\n",
       "      <th>Layer_out</th>\n",
       "      <td>1.400</td>\n",
       "      <td>2300.0</td>\n",
       "      <td>960.0</td>\n",
       "      <td>0.200</td>\n",
       "      <td>30.00</td>\n",
       "    </tr>\n",
       "    <tr>\n",
       "      <th>Layer_out1</th>\n",
       "      <td>1.400</td>\n",
       "      <td>2300.0</td>\n",
       "      <td>960.0</td>\n",
       "      <td>0.075</td>\n",
       "      <td>15.00</td>\n",
       "    </tr>\n",
       "    <tr>\n",
       "      <th>Layer_in</th>\n",
       "      <td>0.027</td>\n",
       "      <td>50.0</td>\n",
       "      <td>840.0</td>\n",
       "      <td>0.100</td>\n",
       "      <td>30.00</td>\n",
       "    </tr>\n",
       "    <tr>\n",
       "      <th>Layer_in1</th>\n",
       "      <td>0.027</td>\n",
       "      <td>50.0</td>\n",
       "      <td>840.0</td>\n",
       "      <td>0.100</td>\n",
       "      <td>21.00</td>\n",
       "    </tr>\n",
       "    <tr>\n",
       "      <th>Glass</th>\n",
       "      <td>1.400</td>\n",
       "      <td>2500.0</td>\n",
       "      <td>1210.0</td>\n",
       "      <td>0.024</td>\n",
       "      <td>15.00</td>\n",
       "    </tr>\n",
       "    <tr>\n",
       "      <th>Glass1</th>\n",
       "      <td>1.400</td>\n",
       "      <td>2500.0</td>\n",
       "      <td>1210.0</td>\n",
       "      <td>0.024</td>\n",
       "      <td>6.00</td>\n",
       "    </tr>\n",
       "    <tr>\n",
       "      <th>Layer_out2</th>\n",
       "      <td>1.400</td>\n",
       "      <td>2300.0</td>\n",
       "      <td>960.0</td>\n",
       "      <td>0.200</td>\n",
       "      <td>21.00</td>\n",
       "    </tr>\n",
       "    <tr>\n",
       "      <th>door</th>\n",
       "      <td>0.170</td>\n",
       "      <td>800.0</td>\n",
       "      <td>2000.0</td>\n",
       "      <td>5.000</td>\n",
       "      <td>1.89</td>\n",
       "    </tr>\n",
       "    <tr>\n",
       "      <th>roof</th>\n",
       "      <td>NaN</td>\n",
       "      <td>NaN</td>\n",
       "      <td>NaN</td>\n",
       "      <td>NaN</td>\n",
       "      <td>20.00</td>\n",
       "    </tr>\n",
       "    <tr>\n",
       "      <th>roof1</th>\n",
       "      <td>NaN</td>\n",
       "      <td>NaN</td>\n",
       "      <td>NaN</td>\n",
       "      <td>NaN</td>\n",
       "      <td>50.00</td>\n",
       "    </tr>\n",
       "  </tbody>\n",
       "</table>\n",
       "</div>"
      ],
      "text/plain": [
       "            Conductivity  Density  Specific heat  Width  Surface\n",
       "Layer_out          1.400   2300.0          960.0  0.200    30.00\n",
       "Layer_out1         1.400   2300.0          960.0  0.075    15.00\n",
       "Layer_in           0.027     50.0          840.0  0.100    30.00\n",
       "Layer_in1          0.027     50.0          840.0  0.100    21.00\n",
       "Glass              1.400   2500.0         1210.0  0.024    15.00\n",
       "Glass1             1.400   2500.0         1210.0  0.024     6.00\n",
       "Layer_out2         1.400   2300.0          960.0  0.200    21.00\n",
       "door               0.170    800.0         2000.0  5.000     1.89\n",
       "roof                 NaN      NaN            NaN    NaN    20.00\n",
       "roof1                NaN      NaN            NaN    NaN    50.00"
      ]
     },
     "execution_count": 1610,
     "metadata": {},
     "output_type": "execute_result"
    }
   ],
   "source": [
    "wall_salon = pd.DataFrame.from_dict({'Layer_out': concrete_extern_salon,\n",
    "                                     'Layer_out1': concrete_intern_bathroom,\n",
    "                               'Layer_in': insulation_salon,\n",
    "                               'Layer_in1': insulation_bathroom,\n",
    "                               'Glass': glass_salon,\n",
    "                               'Glass1': glass_bathroom,\n",
    "                               'Layer_out2' : concrete_extern_bathroom,\n",
    "                               'roof' : ceiling_soil_bathroom,\n",
    "                               'roof1' : ceiling_soil_salon,\n",
    "                               'door' : door\n",
    "                               },\n",
    "                                orient='index')\n",
    "wall_salon\n",
    "\n",
    "wall_bathroom = pd.DataFrame.from_dict({'Layer_out': concrete_extern_salon,\n",
    "                                     'Layer_out1': concrete_intern_bathroom,\n",
    "                               'Layer_in': insulation_salon,\n",
    "                               'Layer_in1': insulation_bathroom,\n",
    "                               'Glass': glass_salon,\n",
    "                               'Glass1': glass_bathroom,\n",
    "                               'Layer_out2' : concrete_extern_bathroom,\n",
    "                               'roof' : ceiling_soil_bathroom,\n",
    "                               'roof1' : ceiling_soil_salon,\n",
    "                               'door' : door\n",
    "                               },\n",
    "                              orient='index')\n",
    "wall_bathroom\n",
    "\n"
   ]
  },
  {
   "cell_type": "markdown",
   "id": "a5d642ba-1bb1-4709-95c3-91016b2b2673",
   "metadata": {},
   "source": [
    "## Thermal model "
   ]
  },
  {
   "cell_type": "markdown",
   "id": "fc74de43-6297-4e69-a082-97fda8076732",
   "metadata": {},
   "source": [
    "The previously described building is depicted using nodes and flows by the following model."
   ]
  },
  {
   "cell_type": "markdown",
   "id": "7431ea7c-8bbe-40d8-8be9-eee8cf656311",
   "metadata": {},
   "source": [
    "![Thermal Model](thermal.png)"
   ]
  },
  {
   "cell_type": "markdown",
   "id": "b038f7ab-ea8f-4af7-b98c-6739355e9101",
   "metadata": {},
   "source": [
    "h is the convection coefficient for the walls. The surface resistance on the inside is 8 $W/(m^2K)$ and for the outside surface the value is 25 $ W/(m^2K) $  ."
   ]
  },
  {
   "cell_type": "code",
   "execution_count": 1615,
   "id": "f95ade18-4851-4059-befe-d7529020f903",
   "metadata": {
    "tags": []
   },
   "outputs": [
    {
     "data": {
      "text/html": [
       "<div>\n",
       "<style scoped>\n",
       "    .dataframe tbody tr th:only-of-type {\n",
       "        vertical-align: middle;\n",
       "    }\n",
       "\n",
       "    .dataframe tbody tr th {\n",
       "        vertical-align: top;\n",
       "    }\n",
       "\n",
       "    .dataframe thead th {\n",
       "        text-align: right;\n",
       "    }\n",
       "</style>\n",
       "<table border=\"1\" class=\"dataframe\">\n",
       "  <thead>\n",
       "    <tr style=\"text-align: right;\">\n",
       "      <th></th>\n",
       "      <th>in</th>\n",
       "      <th>out</th>\n",
       "    </tr>\n",
       "  </thead>\n",
       "  <tbody>\n",
       "    <tr>\n",
       "      <th>h</th>\n",
       "      <td>8.0</td>\n",
       "      <td>25</td>\n",
       "    </tr>\n",
       "  </tbody>\n",
       "</table>\n",
       "</div>"
      ],
      "text/plain": [
       "    in  out\n",
       "h  8.0   25"
      ]
     },
     "execution_count": 1615,
     "metadata": {},
     "output_type": "execute_result"
    }
   ],
   "source": [
    "σ = 5.67e-8     # W/(m²⋅K⁴) Stefan-Bolzmann constant\n",
    "\n",
    "h = pd.DataFrame([{'in': 8., 'out': 25}], index=['h'])  # W/(m²⋅K)\n",
    "h"
   ]
  },
  {
   "cell_type": "markdown",
   "id": "5df1d75e-8ffa-421b-9847-62ff14b458b9",
   "metadata": {},
   "source": [
    "\n",
    "The volumetric flow rate of the air, $ \\mathrm{m}^3/\\mathrm{s} $, with the following equation:\n"
   ]
  },
  {
   "cell_type": "markdown",
   "id": "a7238d62-09cc-4162-b73f-b06820d9523a",
   "metadata": {},
   "source": [
    "$ \\dot{V}_a = \\frac{\\mathrm{ACH}}{3600} V_a $"
   ]
  },
  {
   "cell_type": "markdown",
   "id": "63f105a6-72b5-4f86-9f0c-935c8bd4dfdd",
   "metadata": {},
   "source": [
    "Where ACH is the air changes per hours, 1/h"
   ]
  },
  {
   "cell_type": "markdown",
   "id": "435144f5-248d-4084-80d3-b247053ed7fe",
   "metadata": {},
   "source": [
    "$ V_a $ is the volume of the air, $ m^3 $ "
   ]
  },
  {
   "cell_type": "markdown",
   "id": "ba157f27-4707-4d4f-ae03-ca60312cc1b8",
   "metadata": {},
   "source": [
    "and 3600 is the number of seconds in one hour"
   ]
  },
  {
   "cell_type": "markdown",
   "id": "672f728c-a802-480f-a804-3d47a20a2133",
   "metadata": {},
   "source": [
    "The model utilizes a proportional heater, which is a simple representation of a controller. "
   ]
  },
  {
   "cell_type": "markdown",
   "id": "fdd7f2d3-0241-4bcc-a49c-144db2dbb51f",
   "metadata": {},
   "source": [
    "$$q_{HVAC} = K_p (T_{i, sp} - \\theta_i)$$"
   ]
  },
  {
   "cell_type": "markdown",
   "id": "df04047b-385e-4d58-a799-0b7424c36318",
   "metadata": {},
   "source": [
    "It works by changing the heat flow rate $q_{HVAC}$, in order to controll the indoor temperature $\\theta_i$ to its setpoint temperature $T_{i,sp}$. "
   ]
  },
  {
   "cell_type": "markdown",
   "id": "d742eaa0-6b1b-4446-9bf6-ad7b6dd698e1",
   "metadata": {},
   "source": [
    "The $ K_p $ value, the proportional gain of the controller, was chosen to 1000. This represents an almost perfect controller."
   ]
  },
  {
   "cell_type": "code",
   "execution_count": 1626,
   "id": "be209c18-d2ed-4f6c-9245-8149ddafe284",
   "metadata": {
    "tags": []
   },
   "outputs": [],
   "source": [
    "# ventilation flow rate\n",
    "Va_bathroom = 5*2*3                   # m³, volume of air\n",
    "Va_salon = 5*5*3                     # m³, volume of air\n",
    "ACH = 1                     # 1/h, air changes per hour\n",
    "Va_dot_bathroom = ACH / 3600 * Va_bathroom          # m³/s, air infiltration\n",
    "Va_dot_salon = ACH / 3600 * Va_salon         # m³/s, air infiltration\n",
    "Kp = 10000 # W/K"
   ]
  },
  {
   "cell_type": "markdown",
   "id": "7996a2a2-724b-4ea0-8695-76d6bf4f9807",
   "metadata": {},
   "source": [
    "The test was done three times with three different temperatures, 0°C 15°C and 30°C."
   ]
  },
  {
   "cell_type": "code",
   "execution_count": 1628,
   "id": "12239fd3-17f5-4877-916d-96be05f63edb",
   "metadata": {
    "tags": []
   },
   "outputs": [],
   "source": [
    "T0 = 15 #données météo\n",
    "Tisp = 19 # à définir\n",
    "air_bathroom = {'Conductivity': 1.4,               # W/(m·K)\n",
    "          'Density': 1.2,                      # kg/m³                  \n",
    "          'Specific heat': 1000,             # J/(kg⋅K)\n",
    "          'Volume': 30, }                    # m^3\n",
    "\n",
    "air_salon = {'Conductivity': 1.4,               # W/(m·K)\n",
    "          'Density': 1.2,                      # kg/m³                  \n",
    "          'Specific heat': 1000,             # J/(kg⋅K)\n",
    "          'Volume': 75, }                    # m^3"
   ]
  },
  {
   "cell_type": "markdown",
   "id": "5fdc5dfe-ae63-471e-a331-5949de4494d9",
   "metadata": {},
   "source": [
    "In the thermal model, each material is depicted using two resistances and a node. The nodes correspond to the temperatures in volumes, points or surfaces. In this case the temperatures in the air, materials in walls and windows and set point temperatures. The branches corresponds to the heat flow rate between the temperature nodes.\n",
    "\n",
    "The equation to solve is as follows:\n",
    "\n",
    "$$\n",
    "C \\dot{\\theta} = -(A^T GA) \\theta + A^T Gb + f\n",
    "$$\n",
    "\n",
    "To find the steady state solution,\n",
    "\n",
    "$$\n",
    "\\dot{\\theta} = 0\n",
    "$$"
   ]
  },
  {
   "cell_type": "markdown",
   "id": "4b3c9f09-9b5d-4d66-9e7e-591971135bbc",
   "metadata": {
    "tags": []
   },
   "source": [
    "## Steady state model"
   ]
  },
  {
   "cell_type": "markdown",
   "id": "e397f523-7d91-46ff-a919-e6b1c89030e4",
   "metadata": {},
   "source": [
    "Matrix A defines the direction of flows between nodes. The rows correspond to individual flows, while the columns represent each node. A value of 1 indicates that a node receives the flow, whereas -1 signifies that the flow is leaving the node."
   ]
  },
  {
   "cell_type": "code",
   "execution_count": 1632,
   "id": "3642a6f5-8365-4299-9dec-22fbc7e57fbc",
   "metadata": {
    "tags": []
   },
   "outputs": [],
   "source": [
    "nr = 27\n",
    "nc= 20\n",
    "\n",
    "A = np.zeros([nr, nc])\n",
    "\n",
    "A[0, 5] = 1\n",
    "A[1, 9] = 1\n",
    "A[2, 0] = 1\n",
    "\n",
    "j=0\n",
    "for i in range(3,13):\n",
    "    A[i,j], A[i,j+1] = -1, 1\n",
    "    j+=1\n",
    "    \n",
    "A[13, 10] = 1\n",
    "A[14, 14], A[14, 5] = -1, 1\n",
    "A[14, 14], A[14, 5] = -1, 1\n",
    "A[15, 5], A[15, 11] = -1, 1\n",
    "A[16, 11], A[16, 12] = -1, 1\n",
    "A[17, 12], A[17, 13] = -1, 1\n",
    "A[18, 13], A[18, 9] = -1, 1\n",
    "A[19, 15], A[19, 9] = -1, 1\n",
    "A[20, 14] = 1\n",
    " \n",
    "j=15\n",
    "for i in range(21,25):\n",
    "    A[i,j+1], A[i,j] = -1, 1\n",
    "    j+=1\n",
    "    \n",
    "A[25, 19] = 1\n",
    "A[26, 9] = 1"
   ]
  },
  {
   "cell_type": "markdown",
   "id": "3ac650b0-d560-48f1-bbaa-7991c87590ec",
   "metadata": {},
   "source": [
    "Matrix G is a square matrix where each row and column correspond to a specific flow. It is a diagonal matrix, with each diagonal element representing the conductance (G-value) of the respective flow. The following equations are used for this:\n",
    "\n",
    "$$\n",
    "G_{\\text{cond}} = S \\frac{\\lambda}{w}\n",
    "$$\n",
    "\n",
    "and\n",
    "\n",
    "$$\n",
    "G_{\\text{cv}} = hS\n",
    "$$"
   ]
  },
  {
   "cell_type": "markdown",
   "id": "672f6b17-34b2-402b-9b6b-856ca061a25d",
   "metadata": {},
   "source": [
    "For the ventilation, the conductance for ventilation/infiltration is calculated using the following equation "
   ]
  },
  {
   "cell_type": "markdown",
   "id": "00889ad9-bc32-4823-8325-f77d8fa4fd04",
   "metadata": {},
   "source": [
    "$$ G_v = \\rho_a c_a \\dot{V}_a $$\n",
    "with $\\rho_a$ being the density of the air, the volumetric flow rate of the air is $\\dot{V}_a$ and $c_a$ is the specific heat capacity of the air. "
   ]
  },
  {
   "cell_type": "code",
   "execution_count": 1636,
   "id": "ae0f3d99-8497-4db1-868b-5478410d3783",
   "metadata": {
    "tags": []
   },
   "outputs": [],
   "source": [
    "G = np.zeros((27,27))"
   ]
  },
  {
   "cell_type": "code",
   "execution_count": 1637,
   "id": "2e8ed89e-96f9-49c8-bc26-8cd404c28806",
   "metadata": {
    "tags": []
   },
   "outputs": [
    {
     "name": "stderr",
     "output_type": "stream",
     "text": [
      "/var/folders/5v/_8x8j38s51338qvkpqv6_klm0000gn/T/ipykernel_21790/1791804102.py:3: FutureWarning: Calling float on a single element Series is deprecated and will raise a TypeError in the future. Use float(ser.iloc[0]) instead\n",
      "  G[2,2] = h['out'] * (wall_bathroom['Surface'].iloc[6]-3*2)     # on enlève la partie du mur négligée\n",
      "/var/folders/5v/_8x8j38s51338qvkpqv6_klm0000gn/T/ipykernel_21790/1791804102.py:8: FutureWarning: Calling float on a single element Series is deprecated and will raise a TypeError in the future. Use float(ser.iloc[0]) instead\n",
      "  G[7,7]= h['in'] * (wall_bathroom['Surface'].iloc[3]-3*2)  # on enlève la partie du mur négligée\n",
      "/var/folders/5v/_8x8j38s51338qvkpqv6_klm0000gn/T/ipykernel_21790/1791804102.py:9: FutureWarning: Calling float on a single element Series is deprecated and will raise a TypeError in the future. Use float(ser.iloc[0]) instead\n",
      "  G[8,8] = h['in'] * wall_bathroom['Surface'].iloc[1]\n",
      "/var/folders/5v/_8x8j38s51338qvkpqv6_klm0000gn/T/ipykernel_21790/1791804102.py:12: FutureWarning: Calling float on a single element Series is deprecated and will raise a TypeError in the future. Use float(ser.iloc[0]) instead\n",
      "  G[11,11]= h['in'] * wall_salon['Surface'].iloc[1]\n",
      "/var/folders/5v/_8x8j38s51338qvkpqv6_klm0000gn/T/ipykernel_21790/1791804102.py:13: FutureWarning: Calling float on a single element Series is deprecated and will raise a TypeError in the future. Use float(ser.iloc[0]) instead\n",
      "  G[12,12]= h['in'] * wall_salon['Surface'].iloc[4]\n",
      "/var/folders/5v/_8x8j38s51338qvkpqv6_klm0000gn/T/ipykernel_21790/1791804102.py:14: FutureWarning: Calling float on a single element Series is deprecated and will raise a TypeError in the future. Use float(ser.iloc[0]) instead\n",
      "  G[13,13]= h['out'] * wall_salon['Surface'].iloc[4]\n",
      "/var/folders/5v/_8x8j38s51338qvkpqv6_klm0000gn/T/ipykernel_21790/1791804102.py:15: FutureWarning: Calling float on a single element Series is deprecated and will raise a TypeError in the future. Use float(ser.iloc[0]) instead\n",
      "  G[14,14]= h['in'] * wall_bathroom['Surface'].iloc[5]\n",
      "/var/folders/5v/_8x8j38s51338qvkpqv6_klm0000gn/T/ipykernel_21790/1791804102.py:16: FutureWarning: Calling float on a single element Series is deprecated and will raise a TypeError in the future. Use float(ser.iloc[0]) instead\n",
      "  G[15,15]= h['in'] * wall_bathroom['Surface'].iloc[9]\n",
      "/var/folders/5v/_8x8j38s51338qvkpqv6_klm0000gn/T/ipykernel_21790/1791804102.py:19: FutureWarning: Calling float on a single element Series is deprecated and will raise a TypeError in the future. Use float(ser.iloc[0]) instead\n",
      "  G[18,18]= h['in'] * wall_salon['Surface'].iloc[9]\n",
      "/var/folders/5v/_8x8j38s51338qvkpqv6_klm0000gn/T/ipykernel_21790/1791804102.py:20: FutureWarning: Calling float on a single element Series is deprecated and will raise a TypeError in the future. Use float(ser.iloc[0]) instead\n",
      "  G[19,19]= h['in'] * (wall_salon['Surface'].iloc[2]-5*3)\n",
      "/var/folders/5v/_8x8j38s51338qvkpqv6_klm0000gn/T/ipykernel_21790/1791804102.py:21: FutureWarning: Calling float on a single element Series is deprecated and will raise a TypeError in the future. Use float(ser.iloc[0]) instead\n",
      "  G[20,20]= h['out'] * wall_bathroom['Surface'].iloc[5]\n",
      "/var/folders/5v/_8x8j38s51338qvkpqv6_klm0000gn/T/ipykernel_21790/1791804102.py:26: FutureWarning: Calling float on a single element Series is deprecated and will raise a TypeError in the future. Use float(ser.iloc[0]) instead\n",
      "  G[25,25]=h['out'] * wall_salon['Surface'].iloc[0]\n"
     ]
    }
   ],
   "source": [
    "G[0,0] = air['Density'] * air['Specific heat'] * Va_dot_bathroom\n",
    "G[26,26] = air['Density'] * air['Specific heat'] * Va_dot_salon\n",
    "G[2,2] = h['out'] * (wall_bathroom['Surface'].iloc[6]-3*2)     # on enlève la partie du mur négligée\n",
    "G[3,3] = 2*(wall_bathroom['Surface'].iloc[6]-3*2)*wall_bathroom['Conductivity'].iloc[6]/wall_bathroom['Width'].iloc[6]    # on enlève la partie du mur négligée\n",
    "G[4,4] = G[3,3]\n",
    "G[5,5] = 2*(wall_bathroom['Surface'].iloc[3]-3*2)*wall_bathroom['Conductivity'].iloc[3]/wall_bathroom['Width'].iloc[3]     # on enlève la partie du mur négligée\n",
    "G[6,6] = G[5,5]\n",
    "G[7,7]= h['in'] * (wall_bathroom['Surface'].iloc[3]-3*2)  # on enlève la partie du mur négligée\n",
    "G[8,8] = h['in'] * wall_bathroom['Surface'].iloc[1]\n",
    "G[9,9] = 2*wall_bathroom['Surface'].iloc[1]*wall_bathroom['Conductivity'].iloc[1]/wall_bathroom['Width'].iloc[1]\n",
    "G[10,10] = 2*wall_bathroom['Surface'].iloc[1]*wall_bathroom['Conductivity'].iloc[1]/wall_bathroom['Width'].iloc[1]\n",
    "G[11,11]= h['in'] * wall_salon['Surface'].iloc[1]\n",
    "G[12,12]= h['in'] * wall_salon['Surface'].iloc[4]\n",
    "G[13,13]= h['out'] * wall_salon['Surface'].iloc[4]\n",
    "G[14,14]= h['in'] * wall_bathroom['Surface'].iloc[5]\n",
    "G[15,15]= h['in'] * wall_bathroom['Surface'].iloc[9]\n",
    "G[16,16]= 2*door['Surface']*door['Conductivity']/door['Width']\n",
    "G[17,17]=G[16,16]\n",
    "G[18,18]= h['in'] * wall_salon['Surface'].iloc[9]\n",
    "G[19,19]= h['in'] * (wall_salon['Surface'].iloc[2]-5*3)\n",
    "G[20,20]= h['out'] * wall_bathroom['Surface'].iloc[5]\n",
    "G[21,21]= 2*(wall_salon['Surface'].iloc[2]-5*3)*wall_bathroom['Conductivity'].iloc[2]/wall_bathroom['Width'].iloc[2]\n",
    "G[22,22]=G[21,21]\n",
    "G[23,23]=2*(wall_salon['Surface'].iloc[0]-5*3)*wall_bathroom['Conductivity'].iloc[0]/wall_bathroom['Width'].iloc[0]\n",
    "G[24,24]= G[23,23]\n",
    "G[25,25]=h['out'] * wall_salon['Surface'].iloc[0]"
   ]
  },
  {
   "cell_type": "code",
   "execution_count": 1638,
   "id": "504c7359-c782-4e18-aa36-eaec45984297",
   "metadata": {
    "tags": []
   },
   "outputs": [
    {
     "name": "stdout",
     "output_type": "stream",
     "text": [
      "[[1.0000e+01 0.0000e+00 0.0000e+00 0.0000e+00 0.0000e+00 0.0000e+00\n",
      "  0.0000e+00 0.0000e+00 0.0000e+00 0.0000e+00 0.0000e+00 0.0000e+00\n",
      "  0.0000e+00 0.0000e+00 0.0000e+00 0.0000e+00 0.0000e+00 0.0000e+00\n",
      "  0.0000e+00 0.0000e+00 0.0000e+00 0.0000e+00 0.0000e+00 0.0000e+00\n",
      "  0.0000e+00 0.0000e+00 0.0000e+00]\n",
      " [0.0000e+00 1.0000e+04 0.0000e+00 0.0000e+00 0.0000e+00 0.0000e+00\n",
      "  0.0000e+00 0.0000e+00 0.0000e+00 0.0000e+00 0.0000e+00 0.0000e+00\n",
      "  0.0000e+00 0.0000e+00 0.0000e+00 0.0000e+00 0.0000e+00 0.0000e+00\n",
      "  0.0000e+00 0.0000e+00 0.0000e+00 0.0000e+00 0.0000e+00 0.0000e+00\n",
      "  0.0000e+00 0.0000e+00 0.0000e+00]\n",
      " [0.0000e+00 0.0000e+00 3.7500e+02 0.0000e+00 0.0000e+00 0.0000e+00\n",
      "  0.0000e+00 0.0000e+00 0.0000e+00 0.0000e+00 0.0000e+00 0.0000e+00\n",
      "  0.0000e+00 0.0000e+00 0.0000e+00 0.0000e+00 0.0000e+00 0.0000e+00\n",
      "  0.0000e+00 0.0000e+00 0.0000e+00 0.0000e+00 0.0000e+00 0.0000e+00\n",
      "  0.0000e+00 0.0000e+00 0.0000e+00]\n",
      " [0.0000e+00 0.0000e+00 0.0000e+00 2.1000e+02 0.0000e+00 0.0000e+00\n",
      "  0.0000e+00 0.0000e+00 0.0000e+00 0.0000e+00 0.0000e+00 0.0000e+00\n",
      "  0.0000e+00 0.0000e+00 0.0000e+00 0.0000e+00 0.0000e+00 0.0000e+00\n",
      "  0.0000e+00 0.0000e+00 0.0000e+00 0.0000e+00 0.0000e+00 0.0000e+00\n",
      "  0.0000e+00 0.0000e+00 0.0000e+00]\n",
      " [0.0000e+00 0.0000e+00 0.0000e+00 0.0000e+00 2.1000e+02 0.0000e+00\n",
      "  0.0000e+00 0.0000e+00 0.0000e+00 0.0000e+00 0.0000e+00 0.0000e+00\n",
      "  0.0000e+00 0.0000e+00 0.0000e+00 0.0000e+00 0.0000e+00 0.0000e+00\n",
      "  0.0000e+00 0.0000e+00 0.0000e+00 0.0000e+00 0.0000e+00 0.0000e+00\n",
      "  0.0000e+00 0.0000e+00 0.0000e+00]\n",
      " [0.0000e+00 0.0000e+00 0.0000e+00 0.0000e+00 0.0000e+00 8.1000e+00\n",
      "  0.0000e+00 0.0000e+00 0.0000e+00 0.0000e+00 0.0000e+00 0.0000e+00\n",
      "  0.0000e+00 0.0000e+00 0.0000e+00 0.0000e+00 0.0000e+00 0.0000e+00\n",
      "  0.0000e+00 0.0000e+00 0.0000e+00 0.0000e+00 0.0000e+00 0.0000e+00\n",
      "  0.0000e+00 0.0000e+00 0.0000e+00]\n",
      " [0.0000e+00 0.0000e+00 0.0000e+00 0.0000e+00 0.0000e+00 0.0000e+00\n",
      "  8.1000e+00 0.0000e+00 0.0000e+00 0.0000e+00 0.0000e+00 0.0000e+00\n",
      "  0.0000e+00 0.0000e+00 0.0000e+00 0.0000e+00 0.0000e+00 0.0000e+00\n",
      "  0.0000e+00 0.0000e+00 0.0000e+00 0.0000e+00 0.0000e+00 0.0000e+00\n",
      "  0.0000e+00 0.0000e+00 0.0000e+00]\n",
      " [0.0000e+00 0.0000e+00 0.0000e+00 0.0000e+00 0.0000e+00 0.0000e+00\n",
      "  0.0000e+00 1.2000e+02 0.0000e+00 0.0000e+00 0.0000e+00 0.0000e+00\n",
      "  0.0000e+00 0.0000e+00 0.0000e+00 0.0000e+00 0.0000e+00 0.0000e+00\n",
      "  0.0000e+00 0.0000e+00 0.0000e+00 0.0000e+00 0.0000e+00 0.0000e+00\n",
      "  0.0000e+00 0.0000e+00 0.0000e+00]\n",
      " [0.0000e+00 0.0000e+00 0.0000e+00 0.0000e+00 0.0000e+00 0.0000e+00\n",
      "  0.0000e+00 0.0000e+00 1.2000e+02 0.0000e+00 0.0000e+00 0.0000e+00\n",
      "  0.0000e+00 0.0000e+00 0.0000e+00 0.0000e+00 0.0000e+00 0.0000e+00\n",
      "  0.0000e+00 0.0000e+00 0.0000e+00 0.0000e+00 0.0000e+00 0.0000e+00\n",
      "  0.0000e+00 0.0000e+00 0.0000e+00]\n",
      " [0.0000e+00 0.0000e+00 0.0000e+00 0.0000e+00 0.0000e+00 0.0000e+00\n",
      "  0.0000e+00 0.0000e+00 0.0000e+00 5.6000e+02 0.0000e+00 0.0000e+00\n",
      "  0.0000e+00 0.0000e+00 0.0000e+00 0.0000e+00 0.0000e+00 0.0000e+00\n",
      "  0.0000e+00 0.0000e+00 0.0000e+00 0.0000e+00 0.0000e+00 0.0000e+00\n",
      "  0.0000e+00 0.0000e+00 0.0000e+00]\n",
      " [0.0000e+00 0.0000e+00 0.0000e+00 0.0000e+00 0.0000e+00 0.0000e+00\n",
      "  0.0000e+00 0.0000e+00 0.0000e+00 0.0000e+00 5.6000e+02 0.0000e+00\n",
      "  0.0000e+00 0.0000e+00 0.0000e+00 0.0000e+00 0.0000e+00 0.0000e+00\n",
      "  0.0000e+00 0.0000e+00 0.0000e+00 0.0000e+00 0.0000e+00 0.0000e+00\n",
      "  0.0000e+00 0.0000e+00 0.0000e+00]\n",
      " [0.0000e+00 0.0000e+00 0.0000e+00 0.0000e+00 0.0000e+00 0.0000e+00\n",
      "  0.0000e+00 0.0000e+00 0.0000e+00 0.0000e+00 0.0000e+00 1.2000e+02\n",
      "  0.0000e+00 0.0000e+00 0.0000e+00 0.0000e+00 0.0000e+00 0.0000e+00\n",
      "  0.0000e+00 0.0000e+00 0.0000e+00 0.0000e+00 0.0000e+00 0.0000e+00\n",
      "  0.0000e+00 0.0000e+00 0.0000e+00]\n",
      " [0.0000e+00 0.0000e+00 0.0000e+00 0.0000e+00 0.0000e+00 0.0000e+00\n",
      "  0.0000e+00 0.0000e+00 0.0000e+00 0.0000e+00 0.0000e+00 0.0000e+00\n",
      "  1.2000e+02 0.0000e+00 0.0000e+00 0.0000e+00 0.0000e+00 0.0000e+00\n",
      "  0.0000e+00 0.0000e+00 0.0000e+00 0.0000e+00 0.0000e+00 0.0000e+00\n",
      "  0.0000e+00 0.0000e+00 0.0000e+00]\n",
      " [0.0000e+00 0.0000e+00 0.0000e+00 0.0000e+00 0.0000e+00 0.0000e+00\n",
      "  0.0000e+00 0.0000e+00 0.0000e+00 0.0000e+00 0.0000e+00 0.0000e+00\n",
      "  0.0000e+00 3.7500e+02 0.0000e+00 0.0000e+00 0.0000e+00 0.0000e+00\n",
      "  0.0000e+00 0.0000e+00 0.0000e+00 0.0000e+00 0.0000e+00 0.0000e+00\n",
      "  0.0000e+00 0.0000e+00 0.0000e+00]\n",
      " [0.0000e+00 0.0000e+00 0.0000e+00 0.0000e+00 0.0000e+00 0.0000e+00\n",
      "  0.0000e+00 0.0000e+00 0.0000e+00 0.0000e+00 0.0000e+00 0.0000e+00\n",
      "  0.0000e+00 0.0000e+00 4.8000e+01 0.0000e+00 0.0000e+00 0.0000e+00\n",
      "  0.0000e+00 0.0000e+00 0.0000e+00 0.0000e+00 0.0000e+00 0.0000e+00\n",
      "  0.0000e+00 0.0000e+00 0.0000e+00]\n",
      " [0.0000e+00 0.0000e+00 0.0000e+00 0.0000e+00 0.0000e+00 0.0000e+00\n",
      "  0.0000e+00 0.0000e+00 0.0000e+00 0.0000e+00 0.0000e+00 0.0000e+00\n",
      "  0.0000e+00 0.0000e+00 0.0000e+00 4.0000e+02 0.0000e+00 0.0000e+00\n",
      "  0.0000e+00 0.0000e+00 0.0000e+00 0.0000e+00 0.0000e+00 0.0000e+00\n",
      "  0.0000e+00 0.0000e+00 0.0000e+00]\n",
      " [0.0000e+00 0.0000e+00 0.0000e+00 0.0000e+00 0.0000e+00 0.0000e+00\n",
      "  0.0000e+00 0.0000e+00 0.0000e+00 0.0000e+00 0.0000e+00 0.0000e+00\n",
      "  0.0000e+00 0.0000e+00 0.0000e+00 0.0000e+00 1.2852e-01 0.0000e+00\n",
      "  0.0000e+00 0.0000e+00 0.0000e+00 0.0000e+00 0.0000e+00 0.0000e+00\n",
      "  0.0000e+00 0.0000e+00 0.0000e+00]\n",
      " [0.0000e+00 0.0000e+00 0.0000e+00 0.0000e+00 0.0000e+00 0.0000e+00\n",
      "  0.0000e+00 0.0000e+00 0.0000e+00 0.0000e+00 0.0000e+00 0.0000e+00\n",
      "  0.0000e+00 0.0000e+00 0.0000e+00 0.0000e+00 0.0000e+00 1.2852e-01\n",
      "  0.0000e+00 0.0000e+00 0.0000e+00 0.0000e+00 0.0000e+00 0.0000e+00\n",
      "  0.0000e+00 0.0000e+00 0.0000e+00]\n",
      " [0.0000e+00 0.0000e+00 0.0000e+00 0.0000e+00 0.0000e+00 0.0000e+00\n",
      "  0.0000e+00 0.0000e+00 0.0000e+00 0.0000e+00 0.0000e+00 0.0000e+00\n",
      "  0.0000e+00 0.0000e+00 0.0000e+00 0.0000e+00 0.0000e+00 0.0000e+00\n",
      "  4.0000e+02 0.0000e+00 0.0000e+00 0.0000e+00 0.0000e+00 0.0000e+00\n",
      "  0.0000e+00 0.0000e+00 0.0000e+00]\n",
      " [0.0000e+00 0.0000e+00 0.0000e+00 0.0000e+00 0.0000e+00 0.0000e+00\n",
      "  0.0000e+00 0.0000e+00 0.0000e+00 0.0000e+00 0.0000e+00 0.0000e+00\n",
      "  0.0000e+00 0.0000e+00 0.0000e+00 0.0000e+00 0.0000e+00 0.0000e+00\n",
      "  0.0000e+00 1.2000e+02 0.0000e+00 0.0000e+00 0.0000e+00 0.0000e+00\n",
      "  0.0000e+00 0.0000e+00 0.0000e+00]\n",
      " [0.0000e+00 0.0000e+00 0.0000e+00 0.0000e+00 0.0000e+00 0.0000e+00\n",
      "  0.0000e+00 0.0000e+00 0.0000e+00 0.0000e+00 0.0000e+00 0.0000e+00\n",
      "  0.0000e+00 0.0000e+00 0.0000e+00 0.0000e+00 0.0000e+00 0.0000e+00\n",
      "  0.0000e+00 0.0000e+00 1.5000e+02 0.0000e+00 0.0000e+00 0.0000e+00\n",
      "  0.0000e+00 0.0000e+00 0.0000e+00]\n",
      " [0.0000e+00 0.0000e+00 0.0000e+00 0.0000e+00 0.0000e+00 0.0000e+00\n",
      "  0.0000e+00 0.0000e+00 0.0000e+00 0.0000e+00 0.0000e+00 0.0000e+00\n",
      "  0.0000e+00 0.0000e+00 0.0000e+00 0.0000e+00 0.0000e+00 0.0000e+00\n",
      "  0.0000e+00 0.0000e+00 0.0000e+00 8.1000e+00 0.0000e+00 0.0000e+00\n",
      "  0.0000e+00 0.0000e+00 0.0000e+00]\n",
      " [0.0000e+00 0.0000e+00 0.0000e+00 0.0000e+00 0.0000e+00 0.0000e+00\n",
      "  0.0000e+00 0.0000e+00 0.0000e+00 0.0000e+00 0.0000e+00 0.0000e+00\n",
      "  0.0000e+00 0.0000e+00 0.0000e+00 0.0000e+00 0.0000e+00 0.0000e+00\n",
      "  0.0000e+00 0.0000e+00 0.0000e+00 0.0000e+00 8.1000e+00 0.0000e+00\n",
      "  0.0000e+00 0.0000e+00 0.0000e+00]\n",
      " [0.0000e+00 0.0000e+00 0.0000e+00 0.0000e+00 0.0000e+00 0.0000e+00\n",
      "  0.0000e+00 0.0000e+00 0.0000e+00 0.0000e+00 0.0000e+00 0.0000e+00\n",
      "  0.0000e+00 0.0000e+00 0.0000e+00 0.0000e+00 0.0000e+00 0.0000e+00\n",
      "  0.0000e+00 0.0000e+00 0.0000e+00 0.0000e+00 0.0000e+00 2.1000e+02\n",
      "  0.0000e+00 0.0000e+00 0.0000e+00]\n",
      " [0.0000e+00 0.0000e+00 0.0000e+00 0.0000e+00 0.0000e+00 0.0000e+00\n",
      "  0.0000e+00 0.0000e+00 0.0000e+00 0.0000e+00 0.0000e+00 0.0000e+00\n",
      "  0.0000e+00 0.0000e+00 0.0000e+00 0.0000e+00 0.0000e+00 0.0000e+00\n",
      "  0.0000e+00 0.0000e+00 0.0000e+00 0.0000e+00 0.0000e+00 0.0000e+00\n",
      "  2.1000e+02 0.0000e+00 0.0000e+00]\n",
      " [0.0000e+00 0.0000e+00 0.0000e+00 0.0000e+00 0.0000e+00 0.0000e+00\n",
      "  0.0000e+00 0.0000e+00 0.0000e+00 0.0000e+00 0.0000e+00 0.0000e+00\n",
      "  0.0000e+00 0.0000e+00 0.0000e+00 0.0000e+00 0.0000e+00 0.0000e+00\n",
      "  0.0000e+00 0.0000e+00 0.0000e+00 0.0000e+00 0.0000e+00 0.0000e+00\n",
      "  0.0000e+00 7.5000e+02 0.0000e+00]\n",
      " [0.0000e+00 0.0000e+00 0.0000e+00 0.0000e+00 0.0000e+00 0.0000e+00\n",
      "  0.0000e+00 0.0000e+00 0.0000e+00 0.0000e+00 0.0000e+00 0.0000e+00\n",
      "  0.0000e+00 0.0000e+00 0.0000e+00 0.0000e+00 0.0000e+00 0.0000e+00\n",
      "  0.0000e+00 0.0000e+00 0.0000e+00 0.0000e+00 0.0000e+00 0.0000e+00\n",
      "  0.0000e+00 0.0000e+00 2.5000e+01]]\n"
     ]
    }
   ],
   "source": [
    "G[1,1] = Kp\n",
    "print(G)"
   ]
  },
  {
   "cell_type": "markdown",
   "id": "9db80b67-a77f-4a8d-91ad-ac9861d0594a",
   "metadata": {},
   "source": [
    "Similarly, matrix C shares the same structure as matrix G, but instead of representing flows, its rows and columns correspond to nodes. The diagonal elements of C represent the capacity at each node:\n",
    "\n",
    "$$\n",
    "C = \\rho c w S\n",
    "$$\n",
    "\n",
    "Vector b is a column vector with as many rows as the number of flows. It represents the external temperature sources, which are the only temperature sources in the system. The values in b correspond to the external temperatures. If a flow is influenced by an external temperature source, the corresponding value in b will be the external temperature for that flow. \n",
    "\n",
    "The vector f consists of rows, each corresponding to a different node. It represents the external flows at each node. The value of each entry in the vector corresponds to the size of the external source at that node. If the node has no external source, the value is 0. "
   ]
  },
  {
   "cell_type": "code",
   "execution_count": 1640,
   "id": "bb335d06-2b31-4f43-85bf-7ef3db400a42",
   "metadata": {
    "tags": []
   },
   "outputs": [],
   "source": [
    "# ----- b and f vectors -----\n",
    "f = np.zeros(20)\n",
    "b = np.zeros(27)\n",
    "b[0]=b[2]=b[13]=b[20]=b[25]=T0\n",
    "b[1]=Tisp    \n",
    "\n",
    "Es = 307 #W/m²\n",
    "Ew = 391 #W/m²\n",
    "En = 150 #W/m²\n",
    "\n",
    "# radiative properties\n",
    "ε_wLW = 0.85    # long wave emmisivity: wall surface (concrete)\n",
    "ε_gLW = 0.90    # long wave emmisivity: glass pyrex\n",
    "α_wSW = 0.25    # short wave absortivity: white smooth surface\n",
    "α_gSW = 0.38    # short wave absortivity: reflective blue glass\n",
    "τ_gSW = 0.30    # short wave transmitance: reflective blue glass\n",
    "\n",
    "# view factor\n",
    "Fwall_ground = 0.5\n",
    "Fwall_sky = 0.5\n",
    "Fw_externgbathroom = (concrete_extern_bathroom['Surface']-3*2) / (glass_bathroom['Surface']+concrete_intern_bathroom['Surface']+ceiling_soil_bathroom['Surface'])\n",
    "Fw_interngbathroom = (concrete_intern_bathroom['Surface']) / (glass_bathroom['Surface']+concrete_extern_bathroom['Surface']+ceiling_soil_bathroom['Surface'])\n",
    "Fw_externgsalon = (concrete_extern_salon['Surface']-3*5) / (glass_salon['Surface']+concrete_intern_salon['Surface']+ceiling_soil_salon['Surface'])\n",
    "Fw_interngsalon = (concrete_intern_salon['Surface']) / (glass_salon['Surface']+concrete_extern_salon['Surface']+ceiling_soil_salon['Surface'])\n",
    "\n",
    "phi0 = Fwall_sky*En*(concrete_extern_bathroom['Surface']-2*3)\n",
    "phi14 = Fwall_sky*Ew*glass_bathroom['Surface']\n",
    "phi10 = Fwall_sky*Es*glass_salon['Surface']\n",
    "phi19 = Fwall_sky*Ew*concrete_extern_salon['Surface']/2\n",
    "phi4 = Fw_externgbathroom*phi14*τ_gSW*α_wSW\n",
    "phi6 = Fw_interngbathroom*phi14*τ_gSW*α_wSW\n",
    "phi8 = Fw_interngsalon*phi10*τ_gSW*α_wSW\n",
    "phi15 = Fw_externgsalon*phi10*τ_gSW*α_wSW\n",
    "Qa1 = 90 + 70 # one standing people and some machine in W\n",
    "Qa2 = 90 # one standing people in W\n",
    "\n",
    "f=[phi0, 0, 0, 0, phi4, Qa2, phi6, 0, phi8, Qa1, phi10, 0, 0, 0, phi14, phi15, 0, 0, 0, phi19 ]"
   ]
  },
  {
   "cell_type": "markdown",
   "id": "f1433b3a-6112-4d9f-a8f8-127ed7c41619",
   "metadata": {},
   "source": [
    "The auxiliary heat gains, $  Q_{ai}  $, are added to each of the zones and represent the heat flow from the inhabitants and also heat gain from cooking and electronics. The heat gain from the inhabitants was estimated at 90 W."
   ]
  },
  {
   "cell_type": "markdown",
   "id": "5a24b92c-a6f3-4232-9f2f-1025d079533e",
   "metadata": {},
   "source": [
    "![Sensible Heat Gain and Latent Heat Gain in respect of human activities](table1.png)"
   ]
  },
  {
   "cell_type": "markdown",
   "id": "db1056f2-cca8-472a-823a-99289a41e802",
   "metadata": {},
   "source": [
    "*Source: [Scientific Figure - Computer-Aided Load Estimation of Air-conditioning Systems for Non-residential and Residential Buildings](https://www.researchgate.net/figure/Sensible-Heat-Gain-SHG-and-Latent-Heat-Gain-LHG-in-respect-of-human-activities_tbl1_327228047 )*"
   ]
  },
  {
   "cell_type": "markdown",
   "id": "9e452f16-4a28-49b9-8413-23486fa2c443",
   "metadata": {},
   "source": [
    "Heat gain from cooking and electronics was estimated to 70 W. \n",
    "With these matrices implemented it is possible to perform the stead state calculations."
   ]
  },
  {
   "cell_type": "markdown",
   "id": "aa61ae6e-5083-4bc9-bf60-34638747a6ff",
   "metadata": {},
   "source": [
    "### Radiation"
   ]
  },
  {
   "cell_type": "markdown",
   "id": "f441a157-c147-4be3-8b70-23328a4d825a",
   "metadata": {},
   "source": [
    "The long-wave radiation was calculated using the following:"
   ]
  },
  {
   "cell_type": "markdown",
   "id": "627331b6-ac63-4043-9827-3e05619a8f30",
   "metadata": {},
   "source": [
    "$$ G = \\sigma T^3 \\epsilon \\approx 0.135 $$"
   ]
  },
  {
   "cell_type": "markdown",
   "id": "d3e25c26-5aa0-4c33-a2fc-2e75dca145d3",
   "metadata": {},
   "source": [
    "When comparing this value with the convection "
   ]
  },
  {
   "cell_type": "markdown",
   "id": "009ded55-235d-486c-9dbe-8252be9bc965",
   "metadata": {},
   "source": [
    "$$\n",
    "G_{\\text{cv}} = hS \\approx 60\n",
    "$$"
   ]
  },
  {
   "cell_type": "markdown",
   "id": "4f1bbeb0-e0fa-4bd1-8482-3ba2048044cb",
   "metadata": {},
   "source": [
    "and with the value for the conduction "
   ]
  },
  {
   "cell_type": "markdown",
   "id": "2ff67409-305e-4feb-a602-06c18444f7e4",
   "metadata": {},
   "source": [
    "$$\n",
    "G_{\\text{cond}} = S \\frac{\\lambda}{w} \\approx 200\n",
    "$$"
   ]
  },
  {
   "cell_type": "markdown",
   "id": "c3bd6a0f-1c41-43a6-b7da-a828e1de9c65",
   "metadata": {},
   "source": [
    "it is noticeable that the value of the long-wave radiation is neglectable. "
   ]
  },
  {
   "cell_type": "markdown",
   "id": "bdceaece-817f-4a5b-b966-079974b000e4",
   "metadata": {},
   "source": [
    "### Results of steady state"
   ]
  },
  {
   "cell_type": "code",
   "execution_count": 1654,
   "id": "7aee9da4-b583-4827-b4bc-137469bdcc7c",
   "metadata": {
    "tags": []
   },
   "outputs": [
    {
     "name": "stdout",
     "output_type": "stream",
     "text": [
      "θ = [18.  18.1 18.2 19.9 21.6 21.5 20.7 20.5 20.2 19.  20.6 21.5 20.2 19.\n",
      " 22.5 19.3 19.1 18.9 18.9 18.9] °C\n",
      "Bathroom = 21.5 °C\n",
      "Living room = 19.0 °C\n"
     ]
    }
   ],
   "source": [
    "# temperature nodes\n",
    "nθ = 20      # number of temperature nodes\n",
    "θ = [f'θ{i}' for i in range(nθ)]\n",
    "\n",
    "# flow-rate branches\n",
    "nq = 27     # number of flow branches\n",
    "q = [f'q{i}' for i in range(nq)]\n",
    "\n",
    "\n",
    "θ = np.linalg.inv(A.T @ G @ A ) @ (A.T @ G @ b + f)\n",
    "print(f'θ = {np.around(θ, 1)} °C')\n",
    "\n",
    "print(f'Bathroom = {np.around(θ[5], 1)} °C')\n",
    "print(f'Living room = {np.around(θ[9], 1)} °C')"
   ]
  },
  {
   "cell_type": "markdown",
   "id": "f4b331d6-cd9c-4110-9e19-2c1d66bfa79c",
   "metadata": {},
   "source": [
    "### Discussion"
   ]
  },
  {
   "cell_type": "markdown",
   "id": "8610121d-ef33-46b2-baef-3c801c31d44f",
   "metadata": {},
   "source": [
    "The simulation results are considered realistic given the assumption that a temperature controller is only placed in the living room. This design choice leads to significant temperature differences between rooms. If an additional controller had been placed in the bathroom, these differences would likely have been reduced. Moreover, the decision to model the interior door as opaque further contributes to the temperature disparity, as the door is assumed not to allow any heat transfer, effectively acting as a solid barrier.\n",
    "\n",
    "In the current model, the primary factor influencing the indoor temperature is the outdoor temperature. Additionally, the large glazed area contributes to increased indoor temperatures due to solar heat gain.\n",
    "\n",
    "It is also important to note that the controller is modeled with a proportional gain (Kp) value of 1000, which assumes an almost ideal response. In real-life applications, such high performance is rarely achieved, and controller behavior tends to be less precise."
   ]
  },
  {
   "cell_type": "markdown",
   "id": "25f07d68-a5fc-4eae-9a6e-2adf0b48cd6a",
   "metadata": {},
   "source": [
    "### Conclusion"
   ]
  },
  {
   "cell_type": "markdown",
   "id": "d45f1ba8-f637-450a-ac19-08437259404f",
   "metadata": {},
   "source": [
    "One of the main issues identified in the building model is the temperature in the bathroom. As discussed earlier, this is primarily due to the absence of a temperature controller in that space, combined with the fact that the interior door is modeled as opaque, preventing heat transfer between rooms.\n",
    "\n",
    "Another important aspect is the performance of the controller itself. In the current model, the controller is assumed to operate with near-perfect precision due to a high proportional gain value. To enhance the realism of the simulation, this value should be further examined and adjusted to better reflect actual control system performance.\n",
    "\n",
    "Additionally, the model could be improved by modifying the window design. The current windows are large and modeled with only double glazing, which contributes significantly to heat gain and loss. Improving the window properties by lowering the U-value and/or reducing the window size would result in a more energy-efficient building model. However, it is important to note that reducing the glazed area would also decrease the availability of natural light, introducing a separate set of considerations related to daylight access and occupant comfort."
   ]
  },
  {
   "cell_type": "markdown",
   "id": "110f9898-37eb-42ed-951d-bef80269f827",
   "metadata": {},
   "source": [
    "# DYNAMIC MODEL"
   ]
  },
  {
   "cell_type": "markdown",
   "id": "fbdd0099-0f62-46c0-b6c5-626356606473",
   "metadata": {},
   "source": [
    "The dynamic model uses a weather file to simulate the energy consumption and the temperature over time.\n",
    "\n",
    "To better understand how the HVAC system affects the chosen building, three different simulations have been performed. The first one was done with the HVAC system with setting the proportional gain Kp = 100, the following code were used to plot the diffrent temperatures. \n"
   ]
  },
  {
   "cell_type": "code",
   "execution_count": 16,
   "id": "3302ac61-7d7d-434a-bdcb-6a4a7e1ad11a",
   "metadata": {
    "tags": []
   },
   "outputs": [],
   "source": [
    "import numpy as np\n",
    "import pandas as pd\n",
    "import matplotlib.pyplot as plt\n",
    "#import control as ctrl\n",
    "import time\n",
    "\n",
    "import dm4bem\n",
    "from dm4bem import read_epw, sol_rad_tilt_surf"
   ]
  },
  {
   "cell_type": "code",
   "execution_count": 17,
   "id": "f85b2fb3-fc58-4662-a9aa-9e119b95c26b",
   "metadata": {
    "tags": []
   },
   "outputs": [],
   "source": [
    "controller = True\n",
    "Kp = 1000  # W/°C, controller gain\n",
    "\n",
    "neglect_air_capacity = False\n",
    "neglect_glass_capacity = False\n",
    "\n",
    "explicit_Euler = True\n",
    "\n",
    "imposed_time_step = False\n",
    "Δt = 3600    # s, imposed time step "
   ]
  },
  {
   "cell_type": "markdown",
   "id": "da24bc4e-9adc-480b-b4a8-421a52a74164",
   "metadata": {
    "tags": []
   },
   "source": [
    "## State-space representation"
   ]
  },
  {
   "cell_type": "code",
   "execution_count": 18,
   "id": "dc4488a6-0d90-4acb-9c38-c4d4ebebb438",
   "metadata": {
    "tags": []
   },
   "outputs": [
    {
     "name": "stdout",
     "output_type": "stream",
     "text": [
      "A:\n",
      "      θ0   θ1   θ2   θ3   θ4   θ5   θ6   θ7   θ8   θ9  θ10  θ11  θ12  θ13  \\\n",
      "q0   0.0  0.0  0.0  0.0  0.0  1.0  0.0  0.0  0.0  0.0  0.0  0.0  0.0  0.0   \n",
      "q1   0.0  0.0  0.0  0.0  0.0  0.0  0.0  0.0  0.0  1.0  0.0  0.0  0.0  0.0   \n",
      "q2   1.0  0.0  0.0  0.0  0.0  0.0  0.0  0.0  0.0  0.0  0.0  0.0  0.0  0.0   \n",
      "q3  -1.0  1.0  0.0  0.0  0.0  0.0  0.0  0.0  0.0  0.0  0.0  0.0  0.0  0.0   \n",
      "q4   0.0 -1.0  1.0  0.0  0.0  0.0  0.0  0.0  0.0  0.0  0.0  0.0  0.0  0.0   \n",
      "q5   0.0  0.0 -1.0  1.0  0.0  0.0  0.0  0.0  0.0  0.0  0.0  0.0  0.0  0.0   \n",
      "q6   0.0  0.0  0.0 -1.0  1.0  0.0  0.0  0.0  0.0  0.0  0.0  0.0  0.0  0.0   \n",
      "q7   0.0  0.0  0.0  0.0 -1.0  1.0  0.0  0.0  0.0  0.0  0.0  0.0  0.0  0.0   \n",
      "q8   0.0  0.0  0.0  0.0  0.0 -1.0  1.0  0.0  0.0  0.0  0.0  0.0  0.0  0.0   \n",
      "q9   0.0  0.0  0.0  0.0  0.0  0.0 -1.0  1.0  0.0  0.0  0.0  0.0  0.0  0.0   \n",
      "q10  0.0  0.0  0.0  0.0  0.0  0.0  0.0 -1.0  1.0  0.0  0.0  0.0  0.0  0.0   \n",
      "q11  0.0  0.0  0.0  0.0  0.0  0.0  0.0  0.0 -1.0  1.0  0.0  0.0  0.0  0.0   \n",
      "q12  0.0  0.0  0.0  0.0  0.0  0.0  0.0  0.0  0.0 -1.0  1.0  0.0  0.0  0.0   \n",
      "q13  0.0  0.0  0.0  0.0  0.0  0.0  0.0  0.0  0.0  0.0  1.0  0.0  0.0  0.0   \n",
      "q14  0.0  0.0  0.0  0.0  0.0  1.0  0.0  0.0  0.0  0.0  0.0  0.0  0.0  0.0   \n",
      "q15  0.0  0.0  0.0  0.0  0.0 -1.0  0.0  0.0  0.0  0.0  0.0  1.0  0.0  0.0   \n",
      "q16  0.0  0.0  0.0  0.0  0.0  0.0  0.0  0.0  0.0  0.0  0.0 -1.0  1.0  0.0   \n",
      "q17  0.0  0.0  0.0  0.0  0.0  0.0  0.0  0.0  0.0  0.0  0.0  0.0 -1.0  1.0   \n",
      "q18  0.0  0.0  0.0  0.0  0.0  0.0  0.0  0.0  0.0  1.0  0.0  0.0  0.0 -1.0   \n",
      "q19  0.0  0.0  0.0  0.0  0.0  0.0  0.0  0.0  0.0  1.0  0.0  0.0  0.0  0.0   \n",
      "q20  0.0  0.0  0.0  0.0  0.0  0.0  0.0  0.0  0.0  0.0  0.0  0.0  0.0  0.0   \n",
      "q21  0.0  0.0  0.0  0.0  0.0  0.0  0.0  0.0  0.0  0.0  0.0  0.0  0.0  0.0   \n",
      "q22  0.0  0.0  0.0  0.0  0.0  0.0  0.0  0.0  0.0  0.0  0.0  0.0  0.0  0.0   \n",
      "q23  0.0  0.0  0.0  0.0  0.0  0.0  0.0  0.0  0.0  0.0  0.0  0.0  0.0  0.0   \n",
      "q24  0.0  0.0  0.0  0.0  0.0  0.0  0.0  0.0  0.0  0.0  0.0  0.0  0.0  0.0   \n",
      "q25  0.0  0.0  0.0  0.0  0.0  0.0  0.0  0.0  0.0  0.0  0.0  0.0  0.0  0.0   \n",
      "q26  0.0  0.0  0.0  0.0  0.0  0.0  0.0  0.0  0.0  1.0  0.0  0.0  0.0  0.0   \n",
      "\n",
      "     θ14  θ15  θ16  θ17  θ18  θ19  \n",
      "q0   0.0  0.0  0.0  0.0  0.0  0.0  \n",
      "q1   0.0  0.0  0.0  0.0  0.0  0.0  \n",
      "q2   0.0  0.0  0.0  0.0  0.0  0.0  \n",
      "q3   0.0  0.0  0.0  0.0  0.0  0.0  \n",
      "q4   0.0  0.0  0.0  0.0  0.0  0.0  \n",
      "q5   0.0  0.0  0.0  0.0  0.0  0.0  \n",
      "q6   0.0  0.0  0.0  0.0  0.0  0.0  \n",
      "q7   0.0  0.0  0.0  0.0  0.0  0.0  \n",
      "q8   0.0  0.0  0.0  0.0  0.0  0.0  \n",
      "q9   0.0  0.0  0.0  0.0  0.0  0.0  \n",
      "q10  0.0  0.0  0.0  0.0  0.0  0.0  \n",
      "q11  0.0  0.0  0.0  0.0  0.0  0.0  \n",
      "q12  0.0  0.0  0.0  0.0  0.0  0.0  \n",
      "q13  0.0  0.0  0.0  0.0  0.0  0.0  \n",
      "q14 -1.0  0.0  0.0  0.0  0.0  0.0  \n",
      "q15  0.0  0.0  0.0  0.0  0.0  0.0  \n",
      "q16  0.0  0.0  0.0  0.0  0.0  0.0  \n",
      "q17  0.0  0.0  0.0  0.0  0.0  0.0  \n",
      "q18  0.0  0.0  0.0  0.0  0.0  0.0  \n",
      "q19  0.0 -1.0  0.0  0.0  0.0  0.0  \n",
      "q20  1.0  0.0  0.0  0.0  0.0  0.0  \n",
      "q21  0.0  1.0 -1.0  0.0  0.0  0.0  \n",
      "q22  0.0  0.0  1.0 -1.0  0.0  0.0  \n",
      "q23  0.0  0.0  0.0  1.0 -1.0  0.0  \n",
      "q24  0.0  0.0  0.0  0.0  1.0 -1.0  \n",
      "q25  0.0  0.0  0.0  0.0  0.0  1.0  \n",
      "q26  0.0  0.0  0.0  0.0  0.0  0.0   \n",
      "\n",
      "G:\n",
      "q0       10.00000\n",
      "q1     1000.00000\n",
      "q2      375.00000\n",
      "q3      210.00000\n",
      "q4      210.00000\n",
      "q5        8.10000\n",
      "q6        8.10000\n",
      "q7      120.00000\n",
      "q8      120.00000\n",
      "q9      560.00000\n",
      "q10     560.00000\n",
      "q11     120.00000\n",
      "q12     120.00000\n",
      "q13     375.00000\n",
      "q14      48.00000\n",
      "q15     400.00000\n",
      "q16       0.12852\n",
      "q17       0.12852\n",
      "q18     400.00000\n",
      "q19     120.00000\n",
      "q20     150.00000\n",
      "q21       8.10000\n",
      "q22       8.10000\n",
      "q23     210.00000\n",
      "q24     210.00000\n",
      "q25     750.00000\n",
      "q26      25.00000\n",
      "Name: G, dtype: float64 \n",
      "\n",
      "C:\n",
      "θ0            0.0\n",
      "θ1      9273600.0\n",
      "θ2            0.0\n",
      "θ3        88200.0\n",
      "θ4            0.0\n",
      "θ5        36000.0\n",
      "θ6            0.0\n",
      "θ7      2484000.0\n",
      "θ8            0.0\n",
      "θ9        90000.0\n",
      "θ10     1089000.0\n",
      "θ11           0.0\n",
      "θ12           0.0\n",
      "θ13           0.0\n",
      "θ14      435600.0\n",
      "θ15           0.0\n",
      "θ16      126000.0\n",
      "θ17           0.0\n",
      "θ18    13248000.0\n",
      "θ19           0.0\n",
      "Name: C, dtype: float64 \n",
      "\n",
      "b:\n",
      "q0       To\n",
      "q1     Tisp\n",
      "q2       To\n",
      "q3        0\n",
      "q4        0\n",
      "q5        0\n",
      "q6        0\n",
      "q7        0\n",
      "q8        0\n",
      "q9        0\n",
      "q10       0\n",
      "q11       0\n",
      "q12       0\n",
      "q13      To\n",
      "q14       0\n",
      "q15       0\n",
      "q16       0\n",
      "q17       0\n",
      "q18       0\n",
      "q19       0\n",
      "q20      To\n",
      "q21       0\n",
      "q22       0\n",
      "q23       0\n",
      "q24       0\n",
      "q25      To\n",
      "q26       0\n",
      "Name: b, dtype: object \n",
      "\n",
      "f:\n",
      "θ0      Φo\n",
      "θ1     0.0\n",
      "θ2     0.0\n",
      "θ3     0.0\n",
      "θ4      Φi\n",
      "θ5      Qa\n",
      "θ6      Φi\n",
      "θ7     0.0\n",
      "θ8      Φi\n",
      "θ9      Qa\n",
      "θ10     Φa\n",
      "θ11    0.0\n",
      "θ12    0.0\n",
      "θ13    0.0\n",
      "θ14     Φa\n",
      "θ15     Φi\n",
      "θ16    0.0\n",
      "θ17    0.0\n",
      "θ18    0.0\n",
      "θ19     Φo\n",
      "Name: f, dtype: object \n",
      "\n",
      "y:\n",
      "θ0     0.0\n",
      "θ1     0.0\n",
      "θ2     0.0\n",
      "θ3     0.0\n",
      "θ4     0.0\n",
      "θ5     1.0\n",
      "θ6     0.0\n",
      "θ7     0.0\n",
      "θ8     0.0\n",
      "θ9     1.0\n",
      "θ10    0.0\n",
      "θ11    0.0\n",
      "θ12    0.0\n",
      "θ13    0.0\n",
      "θ14    0.0\n",
      "θ15    0.0\n",
      "θ16    0.0\n",
      "θ17    0.0\n",
      "θ18    0.0\n",
      "θ19    0.0\n",
      "Name: y, dtype: float64 \n",
      "\n"
     ]
    }
   ],
   "source": [
    "# MODEL\n",
    "# =====\n",
    "# Thermal circuits\n",
    "TC = dm4bem.file2TC('toy_model.csv', name='', auto_number=False)\n",
    "\n",
    "# by default TC['G']['q11'] = 0 # Kp -> 0, no controller (free-floating\n",
    "if controller:\n",
    "    TC['G']['q1'] = Kp     # G11 = Kp, conductance of edge q11\n",
    "                            # Kp -> ∞, almost perfect controller\n",
    "if neglect_air_capacity:\n",
    "    TC['C']['θ5'] = 0       # C6, capacity of vertex θ6 (air)\n",
    "if neglect_glass_capacity:\n",
    "    TC['C']['θ9'] = 0       # C7, capacity of vertex θ7 (glass) \n",
    "\n",
    "# State-space\n",
    "[As, Bs, Cs, Ds, us] = dm4bem.tc2ss(TC)\n",
    "dm4bem.print_TC(TC)"
   ]
  },
  {
   "cell_type": "markdown",
   "id": "05d780c2-87f8-4242-b7db-7074ee4c6b30",
   "metadata": {},
   "source": [
    "The condition for numerical stability of Euler explicit integration"
   ]
  },
  {
   "cell_type": "code",
   "execution_count": 19,
   "id": "b4d0a840-58a7-4d0d-bd4c-aa9730ff8632",
   "metadata": {
    "tags": []
   },
   "outputs": [
    {
     "name": "stdout",
     "output_type": "stream",
     "text": [
      "dt = 120 s = 2.0 min\n"
     ]
    }
   ],
   "source": [
    "λ = np.linalg.eig(As)[0]    # eigenvalues of matrix As\n",
    "dtmax = 2 * min(-1. / λ)    # max time step for Euler explicit stability\n",
    "dt = dm4bem.round_time(dtmax)\n",
    "\n",
    "if imposed_time_step:\n",
    "    dt = Δt\n",
    "\n",
    "dm4bem.print_rounded_time('dt', dt)"
   ]
  },
  {
   "cell_type": "markdown",
   "id": "424e64a5-7d46-4d68-8021-f02939b1c3a6",
   "metadata": {},
   "source": [
    "## Input data set"
   ]
  },
  {
   "cell_type": "markdown",
   "id": "c0b1950d-c97e-4e84-9676-17660adf8bfa",
   "metadata": {},
   "source": [
    "### One-hour time step"
   ]
  },
  {
   "cell_type": "code",
   "execution_count": 20,
   "id": "b91a7682-073c-4c2c-bf97-466f472e4f57",
   "metadata": {
    "tags": []
   },
   "outputs": [
    {
     "name": "stdout",
     "output_type": "stream",
     "text": [
      "2000-02-01 12:00:00 \tstart date\n",
      "2000-02-07 18:00:00 \tend date\n"
     ]
    }
   ],
   "source": [
    "start_date = '02-01 12:00:00'\n",
    "end_date = '02-07 18:00:00'\n",
    "\n",
    "start_date = '2000-' + start_date\n",
    "end_date = '2000-' + end_date\n",
    "print(f'{start_date} \\tstart date')\n",
    "print(f'{end_date} \\tend date')\n",
    "\n",
    "filename = 'FRA_AR_Lyon-Bron.AP.074800_TMYx.2004-2018.epw'\n",
    "[data, meta] = dm4bem.read_epw(filename, coerce_year=None)\n",
    "weather = data[[\"temp_air\", \"dir_n_rad\", \"dif_h_rad\"]]\n",
    "del data\n",
    "\n",
    "weather.index = weather.index.map(lambda t: t.replace(year=2000))\n",
    "weather = weather.loc[start_date:end_date]"
   ]
  },
  {
   "cell_type": "markdown",
   "id": "78628467-2761-4bb8-b55c-4029287979d0",
   "metadata": {},
   "source": [
    "## Input data set"
   ]
  },
  {
   "cell_type": "code",
   "execution_count": 21,
   "id": "1e74c3d0-35bb-48e8-8e8d-7ba33d22e364",
   "metadata": {
    "tags": []
   },
   "outputs": [
    {
     "data": {
      "image/png": "[encoded data removed]",
      "text/plain": [
       "<Figure size 432x288 with 1 Axes>"
      ]
     },
     "metadata": {
      "needs_background": "light"
     },
     "output_type": "display_data"
    },
    {
     "data": {
      "image/png": "[encoded data removed]",
      "text/plain": [
       "<Figure size 432x288 with 1 Axes>"
      ]
     },
     "metadata": {
      "needs_background": "light"
     },
     "output_type": "display_data"
    }
   ],
   "source": [
    "# Temperature sources\n",
    "To = weather['temp_air']\n",
    "\n",
    "To.plot()\n",
    "plt.xlabel(\"Time\")\n",
    "plt.ylabel(\"Dry-bulb air temperature, θ / °C\")\n",
    "plt.legend([])\n",
    "plt.show()\n",
    "\n",
    "weather[['dir_n_rad', 'dif_h_rad']].plot()\n",
    "plt.xlabel(\"Time\")\n",
    "plt.ylabel(\"Solar radiation, Φ / (W·m⁻²)\")\n",
    "plt.legend(['$Φ_{direct}$', '$Φ_{diffuse}$'])\n",
    "plt.show()"
   ]
  },
  {
   "cell_type": "code",
   "execution_count": 25,
   "id": "5605b4e3-843b-4e0b-a329-090f1de1e0f3",
   "metadata": {
    "tags": []
   },
   "outputs": [
    {
     "name": "stdout",
     "output_type": "stream",
     "text": [
      "   ID  type  Area   β  γ  albedo  T0  Q0  Q1  h0  h1    α0   α1    ε0   ε1  \\\n",
      "0  w0     0    51  90  0    0.45  To  Φo  Φi  25   8  0.25  0.3  0.85  0.7   \n",
      "\n",
      "      y  \n",
      "0  [-1]  \n"
     ]
    }
   ],
   "source": [
    "# total solar irradiance\n",
    "wall_out = pd.read_csv('walls_out.csv', sep=',')\n",
    "w0 = wall_out[wall_out['ID'] == 'w0']\n",
    "\n",
    "surface_orientation = {'slope': w0['β'].values[0],\n",
    "                       'azimuth': w0['γ'].values[0],\n",
    "                       'latitude': 45}\n",
    "\n",
    "rad_surf = dm4bem.sol_rad_tilt_surf(\n",
    "    weather, surface_orientation, w0['albedo'].values[0])\n",
    "print(wall_out)"
   ]
  },
  {
   "cell_type": "code",
   "execution_count": 26,
   "id": "298a01cb-7a23-4041-8a8f-e8082d6457ac",
   "metadata": {
    "tags": []
   },
   "outputs": [
    {
     "name": "stdout",
     "output_type": "stream",
     "text": [
      "40 W/m²\n",
      "Mean. direct irradiation: 8 W/m²\n",
      "Max. direct irradiation:  308 W/m²\n",
      "Direct solar irradiance is maximum on 2000-02-04 14:00:00+01:00\n"
     ]
    }
   ],
   "source": [
    "print(f\"{rad_surf.loc['2000-02-02 12:00']['direct']:.0f} W/m²\")\n",
    "print(f\"Mean. direct irradiation: {rad_surf['direct'].mean():.0f} W/m²\")\n",
    "print(f\"Max. direct irradiation:  {rad_surf['direct'].max():.0f} W/m²\")\n",
    "print(f\"Direct solar irradiance is maximum on {rad_surf['direct'].idxmax()}\")"
   ]
  },
  {
   "cell_type": "markdown",
   "id": "a5bf407c-f0aa-42bc-b32d-8e7d50625e08",
   "metadata": {
    "tags": []
   },
   "source": [
    "The total solar [irradiance](https://en.m.wikipedia.org/wiki/Solar_irradiance) on the wall  $E_{tot}$, in W/m², is the sum of direct, diffuse, and reflected components.  "
   ]
  },
  {
   "cell_type": "code",
   "execution_count": 27,
   "id": "05d124c1-2163-422d-8d77-de84f221441b",
   "metadata": {
    "tags": []
   },
   "outputs": [],
   "source": [
    "Etot = rad_surf.sum(axis=1)"
   ]
  },
  {
   "cell_type": "markdown",
   "id": "2e277e25-fcc3-48f3-af24-da339cf9750b",
   "metadata": {},
   "source": [
    "##### Flow rate sources\n",
    "\n",
    "The radiation absorbed by the outdoor surface of the wall is:\n",
    "\n",
    "$$\\Phi_o = \\alpha_{w,SW} S_w E_{tot}$$\n",
    "\n",
    "where:\n",
    "- $\\alpha_{w,SW}$ is the [absorptance](https://en.m.wikipedia.org/wiki/Absorptance) of the outdoor surface of the wall in short wave, $0 \\leqslant \\alpha_{w,SW} \\leqslant 1$;\n",
    "- $S_w$ - surface area of the wall, m²;\n",
    "- $E_{tot}$ - total [solar irradiance](https://en.m.wikipedia.org/wiki/Solar_irradiance) on the wall, W/m²."
   ]
  },
  {
   "cell_type": "code",
   "execution_count": 28,
   "id": "e608aa34-ae61-4a71-8bce-51ea61597e34",
   "metadata": {
    "tags": []
   },
   "outputs": [
    {
     "name": "stdout",
     "output_type": "stream",
     "text": [
      "2000-02-01 12:00:00+01:00    1933.155000\n",
      "2000-02-01 13:00:00+01:00    3512.661828\n",
      "2000-02-01 14:00:00+01:00    2782.969174\n",
      "2000-02-01 15:00:00+01:00    1901.569813\n",
      "2000-02-01 16:00:00+01:00    1248.585456\n",
      "                                ...     \n",
      "2000-02-07 14:00:00+01:00    1773.270000\n",
      "2000-02-07 15:00:00+01:00    1279.080000\n",
      "2000-02-07 16:00:00+01:00     639.540000\n",
      "2000-02-07 17:00:00+01:00     159.885000\n",
      "2000-02-07 18:00:00+01:00       0.000000\n",
      "Length: 151, dtype: float64\n"
     ]
    }
   ],
   "source": [
    "# solar radiation absorbed by the outdoor surface of the wall\n",
    "Φo = w0['α1'].values[0] * w0['Area'].values[0] * Etot\n",
    "print(Φo)"
   ]
  },
  {
   "cell_type": "markdown",
   "id": "687feffb-3642-4bed-8d9c-06874bb6f24e",
   "metadata": {
    "tags": []
   },
   "source": [
    "The short wave (i.e. solar) radiation, in W, absorbed by the indoor surfaces of the wall is:\n",
    "\n",
    "$$\\Phi_i = \\tau_{g,SW}  \\alpha_{w,SW} S_g E_{tot}$$\n",
    "\n",
    "where:\n",
    "- $\\tau_{g,SW}$ is the transmission coefficient of the window glass, $0 \\leqslant \\tau_{g,SW} \\leqslant 1$;\n",
    "- $\\alpha_{w,SW}$ - absortion coefficient of the indoor surface of the wall in short wave, $0 \\leqslant \\alpha_{w,SW} \\leqslant 1$;\n",
    "- $S_g$ - surface area of the window glass, m²;\n",
    "- $E_{tot}$ - total solar radiation intensity on the wall, W/m²"
   ]
  },
  {
   "cell_type": "code",
   "execution_count": 29,
   "id": "f0b1ed5d-abb2-4fcc-8628-46c554cc1eb8",
   "metadata": {
    "tags": []
   },
   "outputs": [
    {
     "name": "stdout",
     "output_type": "stream",
     "text": [
      "2000-02-01 12:00:00+01:00    199.001250\n",
      "2000-02-01 13:00:00+01:00    361.597541\n",
      "2000-02-01 14:00:00+01:00    286.482121\n",
      "2000-02-01 15:00:00+01:00    195.749834\n",
      "2000-02-01 16:00:00+01:00    128.530856\n",
      "                                ...    \n",
      "2000-02-07 14:00:00+01:00    182.542500\n",
      "2000-02-07 15:00:00+01:00    131.670000\n",
      "2000-02-07 16:00:00+01:00     65.835000\n",
      "2000-02-07 17:00:00+01:00     16.458750\n",
      "2000-02-07 18:00:00+01:00      0.000000\n",
      "Length: 151, dtype: float64\n"
     ]
    }
   ],
   "source": [
    "# window glass properties\n",
    "α_gSW = 0.38    # short wave absortivity: reflective blue glass\n",
    "τ_gSW = 0.30    # short wave transmitance: reflective blue glass\n",
    "S_g  = 7*3\n",
    "\n",
    "# solar radiation absorbed by the indoor surface of the wall\n",
    "Φi = τ_gSW * w0['α0'].values[0] * S_g * Etot\n",
    "print(Φi)"
   ]
  },
  {
   "cell_type": "code",
   "execution_count": 30,
   "id": "7783162b-39b6-4d2c-a99c-54b7bc084d2e",
   "metadata": {
    "tags": []
   },
   "outputs": [],
   "source": [
    "# solar radiation absorbed by the glass\n",
    "Φa = α_gSW * S_g * Etot"
   ]
  },
  {
   "cell_type": "markdown",
   "id": "71c9aeae-cfed-416a-ab6a-43b79733eb1d",
   "metadata": {},
   "source": [
    "### Schedules\n",
    "#### Indoor air temperature set-point\n",
    "\n",
    "$$T_{i, sp} = [T_{{i, sp}(0)}, T_{{i, sp}(1)}, ..., T_{{i, sp}(n-1)}]$$\n",
    "\n",
    "is the [time series](https://en.m.wikipedia.org/wiki/Time_series) of the setpoint indoor temperature at [discrete time](https://en.m.wikipedia.org/wiki/Discrete_time_and_continuous_time#Discrete_time) $t = [t_0, t_1, ... , t_{n-1}]$. Let's consider the indoor temperature set-point constant, $T_{i, sp} = 20 \\, \\mathrm{°C}$."
   ]
  },
  {
   "cell_type": "code",
   "execution_count": 31,
   "id": "c61bdc5d-4182-4f6e-bafe-6c41fdbfc093",
   "metadata": {
    "tags": []
   },
   "outputs": [],
   "source": [
    "Ti_day, Ti_night = 20, 16\n",
    "\n",
    "Tisp = pd.Series(\n",
    "    [Ti_day if 6 <= hour <= 22 else Ti_night for hour in To.index.hour],\n",
    "    index=To.index)"
   ]
  },
  {
   "cell_type": "code",
   "execution_count": 32,
   "id": "f2a0ed00-281a-433e-b275-c0e33b96122d",
   "metadata": {
    "tags": []
   },
   "outputs": [],
   "source": [
    "Qa = 120 "
   ]
  },
  {
   "cell_type": "markdown",
   "id": "c2cf6be1-b7c0-4746-ab8b-628b32f6ca9d",
   "metadata": {},
   "source": [
    "### Input data set"
   ]
  },
  {
   "cell_type": "code",
   "execution_count": 34,
   "id": "c294efef-18d7-41e9-80fd-2a3fa1288d24",
   "metadata": {
    "tags": []
   },
   "outputs": [],
   "source": [
    "# Input data set\n",
    "input_data_set = pd.DataFrame({'To': To, 'Tisp': Tisp,\n",
    "                               'Φo': Φo, 'Φi': Φi, 'Qa': Qa,  'Φa': Φa,\n",
    "                               'Etot': Etot})"
   ]
  },
  {
   "cell_type": "code",
   "execution_count": 35,
   "id": "2467ee7b-b4c1-4a3e-8984-4ecf54b92abd",
   "metadata": {
    "tags": []
   },
   "outputs": [
    {
     "data": {
      "text/html": [
       "<div>\n",
       "<style scoped>\n",
       "    .dataframe tbody tr th:only-of-type {\n",
       "        vertical-align: middle;\n",
       "    }\n",
       "\n",
       "    .dataframe tbody tr th {\n",
       "        vertical-align: top;\n",
       "    }\n",
       "\n",
       "    .dataframe thead th {\n",
       "        text-align: right;\n",
       "    }\n",
       "</style>\n",
       "<table border=\"1\" class=\"dataframe\">\n",
       "  <thead>\n",
       "    <tr style=\"text-align: right;\">\n",
       "      <th></th>\n",
       "      <th>To</th>\n",
       "      <th>Tisp</th>\n",
       "      <th>Φo</th>\n",
       "      <th>Φi</th>\n",
       "      <th>Qa</th>\n",
       "      <th>Φa</th>\n",
       "      <th>Etot</th>\n",
       "    </tr>\n",
       "  </thead>\n",
       "  <tbody>\n",
       "    <tr>\n",
       "      <th>2000-02-01 12:00:00+01:00</th>\n",
       "      <td>4.6</td>\n",
       "      <td>20</td>\n",
       "      <td>1933.155000</td>\n",
       "      <td>199.001250</td>\n",
       "      <td>120</td>\n",
       "      <td>1008.273000</td>\n",
       "      <td>126.350000</td>\n",
       "    </tr>\n",
       "    <tr>\n",
       "      <th>2000-02-01 13:00:00+01:00</th>\n",
       "      <td>4.9</td>\n",
       "      <td>20</td>\n",
       "      <td>3512.661828</td>\n",
       "      <td>361.597541</td>\n",
       "      <td>120</td>\n",
       "      <td>1832.094208</td>\n",
       "      <td>229.585740</td>\n",
       "    </tr>\n",
       "    <tr>\n",
       "      <th>2000-02-01 14:00:00+01:00</th>\n",
       "      <td>5.4</td>\n",
       "      <td>20</td>\n",
       "      <td>2782.969174</td>\n",
       "      <td>286.482121</td>\n",
       "      <td>120</td>\n",
       "      <td>1451.509412</td>\n",
       "      <td>181.893410</td>\n",
       "    </tr>\n",
       "    <tr>\n",
       "      <th>2000-02-01 15:00:00+01:00</th>\n",
       "      <td>5.9</td>\n",
       "      <td>20</td>\n",
       "      <td>1901.569813</td>\n",
       "      <td>195.749834</td>\n",
       "      <td>120</td>\n",
       "      <td>991.799158</td>\n",
       "      <td>124.285609</td>\n",
       "    </tr>\n",
       "    <tr>\n",
       "      <th>2000-02-01 16:00:00+01:00</th>\n",
       "      <td>5.6</td>\n",
       "      <td>20</td>\n",
       "      <td>1248.585456</td>\n",
       "      <td>128.530856</td>\n",
       "      <td>120</td>\n",
       "      <td>651.223003</td>\n",
       "      <td>81.606893</td>\n",
       "    </tr>\n",
       "    <tr>\n",
       "      <th>...</th>\n",
       "      <td>...</td>\n",
       "      <td>...</td>\n",
       "      <td>...</td>\n",
       "      <td>...</td>\n",
       "      <td>...</td>\n",
       "      <td>...</td>\n",
       "      <td>...</td>\n",
       "    </tr>\n",
       "    <tr>\n",
       "      <th>2000-02-07 14:00:00+01:00</th>\n",
       "      <td>4.0</td>\n",
       "      <td>20</td>\n",
       "      <td>1773.270000</td>\n",
       "      <td>182.542500</td>\n",
       "      <td>120</td>\n",
       "      <td>924.882000</td>\n",
       "      <td>115.900000</td>\n",
       "    </tr>\n",
       "    <tr>\n",
       "      <th>2000-02-07 15:00:00+01:00</th>\n",
       "      <td>3.9</td>\n",
       "      <td>20</td>\n",
       "      <td>1279.080000</td>\n",
       "      <td>131.670000</td>\n",
       "      <td>120</td>\n",
       "      <td>667.128000</td>\n",
       "      <td>83.600000</td>\n",
       "    </tr>\n",
       "    <tr>\n",
       "      <th>2000-02-07 16:00:00+01:00</th>\n",
       "      <td>2.9</td>\n",
       "      <td>20</td>\n",
       "      <td>639.540000</td>\n",
       "      <td>65.835000</td>\n",
       "      <td>120</td>\n",
       "      <td>333.564000</td>\n",
       "      <td>41.800000</td>\n",
       "    </tr>\n",
       "    <tr>\n",
       "      <th>2000-02-07 17:00:00+01:00</th>\n",
       "      <td>2.2</td>\n",
       "      <td>20</td>\n",
       "      <td>159.885000</td>\n",
       "      <td>16.458750</td>\n",
       "      <td>120</td>\n",
       "      <td>83.391000</td>\n",
       "      <td>10.450000</td>\n",
       "    </tr>\n",
       "    <tr>\n",
       "      <th>2000-02-07 18:00:00+01:00</th>\n",
       "      <td>1.8</td>\n",
       "      <td>20</td>\n",
       "      <td>0.000000</td>\n",
       "      <td>0.000000</td>\n",
       "      <td>120</td>\n",
       "      <td>0.000000</td>\n",
       "      <td>0.000000</td>\n",
       "    </tr>\n",
       "  </tbody>\n",
       "</table>\n",
       "<p>151 rows × 7 columns</p>\n",
       "</div>"
      ],
      "text/plain": [
       "                            To  Tisp           Φo          Φi   Qa  \\\n",
       "2000-02-01 12:00:00+01:00  4.6    20  1933.155000  199.001250  120   \n",
       "2000-02-01 13:00:00+01:00  4.9    20  3512.661828  361.597541  120   \n",
       "2000-02-01 14:00:00+01:00  5.4    20  2782.969174  286.482121  120   \n",
       "2000-02-01 15:00:00+01:00  5.9    20  1901.569813  195.749834  120   \n",
       "2000-02-01 16:00:00+01:00  5.6    20  1248.585456  128.530856  120   \n",
       "...                        ...   ...          ...         ...  ...   \n",
       "2000-02-07 14:00:00+01:00  4.0    20  1773.270000  182.542500  120   \n",
       "2000-02-07 15:00:00+01:00  3.9    20  1279.080000  131.670000  120   \n",
       "2000-02-07 16:00:00+01:00  2.9    20   639.540000   65.835000  120   \n",
       "2000-02-07 17:00:00+01:00  2.2    20   159.885000   16.458750  120   \n",
       "2000-02-07 18:00:00+01:00  1.8    20     0.000000    0.000000  120   \n",
       "\n",
       "                                    Φa        Etot  \n",
       "2000-02-01 12:00:00+01:00  1008.273000  126.350000  \n",
       "2000-02-01 13:00:00+01:00  1832.094208  229.585740  \n",
       "2000-02-01 14:00:00+01:00  1451.509412  181.893410  \n",
       "2000-02-01 15:00:00+01:00   991.799158  124.285609  \n",
       "2000-02-01 16:00:00+01:00   651.223003   81.606893  \n",
       "...                                ...         ...  \n",
       "2000-02-07 14:00:00+01:00   924.882000  115.900000  \n",
       "2000-02-07 15:00:00+01:00   667.128000   83.600000  \n",
       "2000-02-07 16:00:00+01:00   333.564000   41.800000  \n",
       "2000-02-07 17:00:00+01:00    83.391000   10.450000  \n",
       "2000-02-07 18:00:00+01:00     0.000000    0.000000  \n",
       "\n",
       "[151 rows x 7 columns]"
      ]
     },
     "execution_count": 35,
     "metadata": {},
     "output_type": "execute_result"
    }
   ],
   "source": [
    "input_data_set.to_csv('input_data_set.csv')\n",
    "input_data_set"
   ]
  },
  {
   "cell_type": "markdown",
   "id": "a8338546-d275-4230-a9b4-e5da8f428c68",
   "metadata": {
    "tags": []
   },
   "source": [
    "### Resample input data set\n",
    "\n",
    "The weather data and the scheduled sources are at the time-step of 1 h. The data needs to be resampled at time step `dt` used for numerical integration."
   ]
  },
  {
   "cell_type": "code",
   "execution_count": 38,
   "id": "06594f6a-8396-4bd7-a4d0-3c3bc1af1759",
   "metadata": {
    "tags": []
   },
   "outputs": [
    {
     "data": {
      "text/html": [
       "<div>\n",
       "<style scoped>\n",
       "    .dataframe tbody tr th:only-of-type {\n",
       "        vertical-align: middle;\n",
       "    }\n",
       "\n",
       "    .dataframe tbody tr th {\n",
       "        vertical-align: top;\n",
       "    }\n",
       "\n",
       "    .dataframe thead th {\n",
       "        text-align: right;\n",
       "    }\n",
       "</style>\n",
       "<table border=\"1\" class=\"dataframe\">\n",
       "  <thead>\n",
       "    <tr style=\"text-align: right;\">\n",
       "      <th></th>\n",
       "      <th>To</th>\n",
       "      <th>Tisp</th>\n",
       "      <th>Φo</th>\n",
       "      <th>Φi</th>\n",
       "      <th>Qa</th>\n",
       "      <th>Φa</th>\n",
       "      <th>Etot</th>\n",
       "    </tr>\n",
       "  </thead>\n",
       "  <tbody>\n",
       "    <tr>\n",
       "      <th>2000-02-01 12:00:00+01:00</th>\n",
       "      <td>4.60</td>\n",
       "      <td>20.0</td>\n",
       "      <td>1933.155000</td>\n",
       "      <td>199.001250</td>\n",
       "      <td>120.0</td>\n",
       "      <td>1008.273000</td>\n",
       "      <td>126.350000</td>\n",
       "    </tr>\n",
       "    <tr>\n",
       "      <th>2000-02-01 12:02:00+01:00</th>\n",
       "      <td>4.61</td>\n",
       "      <td>20.0</td>\n",
       "      <td>1985.805228</td>\n",
       "      <td>204.421126</td>\n",
       "      <td>120.0</td>\n",
       "      <td>1035.733707</td>\n",
       "      <td>129.791191</td>\n",
       "    </tr>\n",
       "    <tr>\n",
       "      <th>2000-02-01 12:04:00+01:00</th>\n",
       "      <td>4.62</td>\n",
       "      <td>20.0</td>\n",
       "      <td>2038.455455</td>\n",
       "      <td>209.841003</td>\n",
       "      <td>120.0</td>\n",
       "      <td>1063.194414</td>\n",
       "      <td>133.232383</td>\n",
       "    </tr>\n",
       "    <tr>\n",
       "      <th>2000-02-01 12:06:00+01:00</th>\n",
       "      <td>4.63</td>\n",
       "      <td>20.0</td>\n",
       "      <td>2091.105683</td>\n",
       "      <td>215.260879</td>\n",
       "      <td>120.0</td>\n",
       "      <td>1090.655121</td>\n",
       "      <td>136.673574</td>\n",
       "    </tr>\n",
       "    <tr>\n",
       "      <th>2000-02-01 12:08:00+01:00</th>\n",
       "      <td>4.64</td>\n",
       "      <td>20.0</td>\n",
       "      <td>2143.755910</td>\n",
       "      <td>220.680755</td>\n",
       "      <td>120.0</td>\n",
       "      <td>1118.115828</td>\n",
       "      <td>140.114765</td>\n",
       "    </tr>\n",
       "  </tbody>\n",
       "</table>\n",
       "</div>"
      ],
      "text/plain": [
       "                             To  Tisp           Φo          Φi     Qa  \\\n",
       "2000-02-01 12:00:00+01:00  4.60  20.0  1933.155000  199.001250  120.0   \n",
       "2000-02-01 12:02:00+01:00  4.61  20.0  1985.805228  204.421126  120.0   \n",
       "2000-02-01 12:04:00+01:00  4.62  20.0  2038.455455  209.841003  120.0   \n",
       "2000-02-01 12:06:00+01:00  4.63  20.0  2091.105683  215.260879  120.0   \n",
       "2000-02-01 12:08:00+01:00  4.64  20.0  2143.755910  220.680755  120.0   \n",
       "\n",
       "                                    Φa        Etot  \n",
       "2000-02-01 12:00:00+01:00  1008.273000  126.350000  \n",
       "2000-02-01 12:02:00+01:00  1035.733707  129.791191  \n",
       "2000-02-01 12:04:00+01:00  1063.194414  133.232383  \n",
       "2000-02-01 12:06:00+01:00  1090.655121  136.673574  \n",
       "2000-02-01 12:08:00+01:00  1118.115828  140.114765  "
      ]
     },
     "execution_count": 38,
     "metadata": {},
     "output_type": "execute_result"
    }
   ],
   "source": [
    "input_data_set = input_data_set.resample(\n",
    "    str(dt) + 'S').interpolate(method='linear')\n",
    "input_data_set.head()"
   ]
  },
  {
   "cell_type": "markdown",
   "id": "171b6c3e-3121-483d-adff-f4179d857491",
   "metadata": {},
   "source": [
    "## Input vector in time\n",
    "\n",
    "In the _input data set_ an input, e.g. $T_o$, appears only once. However, the _i nput vector_ may contain the same time series multiple time; for example, in the model presented in \n",
    "Figure 1, there are three inputs $T_o$ corresponding to branches $q_0$, $q_8$, and $q_{10}$). Therefore, we need to obtain the _input vector_ from the _input data set_.\n",
    "\n",
    "The input in time is formed by the vectors of time series of temperature sources $\\left [ T_o, T_o ,T_o, T_{i,sp} \\right ]^T$ and vectors of time series of the heat flow sources $\\left [ \\Phi_o, \\Phi_i, \\dot{Q_a}, \\Phi_a \\right ]^T$:\n",
    "\n",
    "$$u = \n",
    "\\begin{bmatrix}\n",
    "T_o\\\\ \n",
    "T_o\\\\ \n",
    "T_o\\\\ \n",
    "T_{i,sp}\\\\ \n",
    "\\Phi_o\\\\ \n",
    "\\Phi_i\\\\ \n",
    "\\dot{Q}_a\\\\ \n",
    "\\Phi_a\n",
    "\\end{bmatrix}\n",
    "= \\begin{bmatrix}\n",
    "T_{o(0)} & T_{o(1)}& ... & T_{o(n-1)}\\\\ \n",
    "T_{o(0)} & T_{o(1)}& ... & T_{o(n-1)}\\ \\\\ \n",
    "T_{o(0)} & T_{o(1)}& ... & T_{o(n-1)}\\ \\\\ \n",
    " T_{i,sp(0)} & T_{i,sp(1)}& ... & T_{i,sp(n-1)}\\ \\\\ \n",
    "\\Phi_{o,(0)} & \\Phi_{o,(1)} & ... & \\Phi_{o,(n-1)}\\\\\n",
    "\\Phi_{i,(0)} & \\Phi_{i,(1)} & ... & \\Phi_{i,(n-1)}\\\\ \n",
    " \\dot{Q}_{a(0)} & \\dot{Q}_{a(1)} & ... & \\dot{Q}_{a(n-1)}\\\\ \n",
    "\\Phi_{a,(0)} & \\Phi_{a,(1)} & ... & \\Phi_{a,(n-1)}\n",
    "\\end{bmatrix}$$\n",
    "\n",
    "where the input data set is:\n",
    "\n",
    "$T_o$: the time series vector of outdoor temperatures (from weather data), °C.\n",
    "\n",
    "$T_{i,sp}$: time series vector of indoor setpoint temperatures, °C.\n",
    "\n",
    "$\\Phi_o$: time series vector of solar (i.e. short wave) radiation absorbed by the outdoor surface of the wall, W;\n",
    "\n",
    "$\\Phi_i$: time series vector of short wave (i.e. solar) radiation absorbed by the indoor surfaces of the wall, W;\n",
    "\n",
    "$\\dot{Q}_a$: time vector of auxiliary heat flows (from occupants, electrical devices, etc.), W.\n",
    "\n",
    "$\\Phi_a$: time series vector of short wave (i.e. solar) radiation absorbed by the window glass, W.\n",
    "\n",
    "The *input vector* `u` is obtained from the *input data set*, $T_o, T_{i,sp}, \\Phi_o, \\Phi_i, \\dot Q_a, \\Phi_a$, by using the order of the sources given in the state-space model, `us`: `q0` = $T_o$, `q2` = $T_o$,`q13` = $T_o$, `q20` = $T_o$, `q25` = $T_o$, `q26` = $T_o$, `q1` = $T_{i,sp}$, `θ0` = $\\Phi_o$, `θ19` = $\\Phi_o$, `θ4` = $\\Phi_i$, `θ6` = $\\Phi_i$, `θ8` = $\\Phi_i$, `θ15` = $\\Phi_i$, `θ5` = $\\dot Q_a$, and `θ9` = $\\dot Q_a$."
   ]
  },
  {
   "cell_type": "code",
   "execution_count": 39,
   "id": "59b46e0b-bf75-4f5e-bbbb-145bd86c1669",
   "metadata": {
    "tags": []
   },
   "outputs": [],
   "source": [
    "#print(us)\n",
    "#print(us.index)\n",
    "#print(input_data_set.columns)    "
   ]
  },
  {
   "cell_type": "code",
   "execution_count": 40,
   "id": "b2f20b3a-4cdd-4995-81c2-6d2e86250a8f",
   "metadata": {
    "tags": []
   },
   "outputs": [
    {
     "data": {
      "text/html": [
       "<div>\n",
       "<style scoped>\n",
       "    .dataframe tbody tr th:only-of-type {\n",
       "        vertical-align: middle;\n",
       "    }\n",
       "\n",
       "    .dataframe tbody tr th {\n",
       "        vertical-align: top;\n",
       "    }\n",
       "\n",
       "    .dataframe thead th {\n",
       "        text-align: right;\n",
       "    }\n",
       "</style>\n",
       "<table border=\"1\" class=\"dataframe\">\n",
       "  <thead>\n",
       "    <tr style=\"text-align: right;\">\n",
       "      <th></th>\n",
       "      <th>q0</th>\n",
       "      <th>q1</th>\n",
       "      <th>q2</th>\n",
       "      <th>q13</th>\n",
       "      <th>q20</th>\n",
       "      <th>q25</th>\n",
       "      <th>θ0</th>\n",
       "      <th>θ4</th>\n",
       "      <th>θ5</th>\n",
       "      <th>θ6</th>\n",
       "      <th>θ8</th>\n",
       "      <th>θ9</th>\n",
       "      <th>θ10</th>\n",
       "      <th>θ14</th>\n",
       "      <th>θ15</th>\n",
       "      <th>θ19</th>\n",
       "    </tr>\n",
       "  </thead>\n",
       "  <tbody>\n",
       "    <tr>\n",
       "      <th>2000-02-01 12:00:00+01:00</th>\n",
       "      <td>4.60</td>\n",
       "      <td>20.0</td>\n",
       "      <td>4.60</td>\n",
       "      <td>4.60</td>\n",
       "      <td>4.60</td>\n",
       "      <td>4.60</td>\n",
       "      <td>1933.155000</td>\n",
       "      <td>199.001250</td>\n",
       "      <td>120.0</td>\n",
       "      <td>199.001250</td>\n",
       "      <td>199.001250</td>\n",
       "      <td>120.0</td>\n",
       "      <td>1008.273000</td>\n",
       "      <td>1008.273000</td>\n",
       "      <td>199.001250</td>\n",
       "      <td>1933.155000</td>\n",
       "    </tr>\n",
       "    <tr>\n",
       "      <th>2000-02-01 12:02:00+01:00</th>\n",
       "      <td>4.61</td>\n",
       "      <td>20.0</td>\n",
       "      <td>4.61</td>\n",
       "      <td>4.61</td>\n",
       "      <td>4.61</td>\n",
       "      <td>4.61</td>\n",
       "      <td>1985.805228</td>\n",
       "      <td>204.421126</td>\n",
       "      <td>120.0</td>\n",
       "      <td>204.421126</td>\n",
       "      <td>204.421126</td>\n",
       "      <td>120.0</td>\n",
       "      <td>1035.733707</td>\n",
       "      <td>1035.733707</td>\n",
       "      <td>204.421126</td>\n",
       "      <td>1985.805228</td>\n",
       "    </tr>\n",
       "    <tr>\n",
       "      <th>2000-02-01 12:04:00+01:00</th>\n",
       "      <td>4.62</td>\n",
       "      <td>20.0</td>\n",
       "      <td>4.62</td>\n",
       "      <td>4.62</td>\n",
       "      <td>4.62</td>\n",
       "      <td>4.62</td>\n",
       "      <td>2038.455455</td>\n",
       "      <td>209.841003</td>\n",
       "      <td>120.0</td>\n",
       "      <td>209.841003</td>\n",
       "      <td>209.841003</td>\n",
       "      <td>120.0</td>\n",
       "      <td>1063.194414</td>\n",
       "      <td>1063.194414</td>\n",
       "      <td>209.841003</td>\n",
       "      <td>2038.455455</td>\n",
       "    </tr>\n",
       "    <tr>\n",
       "      <th>2000-02-01 12:06:00+01:00</th>\n",
       "      <td>4.63</td>\n",
       "      <td>20.0</td>\n",
       "      <td>4.63</td>\n",
       "      <td>4.63</td>\n",
       "      <td>4.63</td>\n",
       "      <td>4.63</td>\n",
       "      <td>2091.105683</td>\n",
       "      <td>215.260879</td>\n",
       "      <td>120.0</td>\n",
       "      <td>215.260879</td>\n",
       "      <td>215.260879</td>\n",
       "      <td>120.0</td>\n",
       "      <td>1090.655121</td>\n",
       "      <td>1090.655121</td>\n",
       "      <td>215.260879</td>\n",
       "      <td>2091.105683</td>\n",
       "    </tr>\n",
       "    <tr>\n",
       "      <th>2000-02-01 12:08:00+01:00</th>\n",
       "      <td>4.64</td>\n",
       "      <td>20.0</td>\n",
       "      <td>4.64</td>\n",
       "      <td>4.64</td>\n",
       "      <td>4.64</td>\n",
       "      <td>4.64</td>\n",
       "      <td>2143.755910</td>\n",
       "      <td>220.680755</td>\n",
       "      <td>120.0</td>\n",
       "      <td>220.680755</td>\n",
       "      <td>220.680755</td>\n",
       "      <td>120.0</td>\n",
       "      <td>1118.115828</td>\n",
       "      <td>1118.115828</td>\n",
       "      <td>220.680755</td>\n",
       "      <td>2143.755910</td>\n",
       "    </tr>\n",
       "  </tbody>\n",
       "</table>\n",
       "</div>"
      ],
      "text/plain": [
       "                             q0    q1    q2   q13   q20   q25           θ0  \\\n",
       "2000-02-01 12:00:00+01:00  4.60  20.0  4.60  4.60  4.60  4.60  1933.155000   \n",
       "2000-02-01 12:02:00+01:00  4.61  20.0  4.61  4.61  4.61  4.61  1985.805228   \n",
       "2000-02-01 12:04:00+01:00  4.62  20.0  4.62  4.62  4.62  4.62  2038.455455   \n",
       "2000-02-01 12:06:00+01:00  4.63  20.0  4.63  4.63  4.63  4.63  2091.105683   \n",
       "2000-02-01 12:08:00+01:00  4.64  20.0  4.64  4.64  4.64  4.64  2143.755910   \n",
       "\n",
       "                                   θ4     θ5          θ6          θ8     θ9  \\\n",
       "2000-02-01 12:00:00+01:00  199.001250  120.0  199.001250  199.001250  120.0   \n",
       "2000-02-01 12:02:00+01:00  204.421126  120.0  204.421126  204.421126  120.0   \n",
       "2000-02-01 12:04:00+01:00  209.841003  120.0  209.841003  209.841003  120.0   \n",
       "2000-02-01 12:06:00+01:00  215.260879  120.0  215.260879  215.260879  120.0   \n",
       "2000-02-01 12:08:00+01:00  220.680755  120.0  220.680755  220.680755  120.0   \n",
       "\n",
       "                                   θ10          θ14         θ15          θ19  \n",
       "2000-02-01 12:00:00+01:00  1008.273000  1008.273000  199.001250  1933.155000  \n",
       "2000-02-01 12:02:00+01:00  1035.733707  1035.733707  204.421126  1985.805228  \n",
       "2000-02-01 12:04:00+01:00  1063.194414  1063.194414  209.841003  2038.455455  \n",
       "2000-02-01 12:06:00+01:00  1090.655121  1090.655121  215.260879  2091.105683  \n",
       "2000-02-01 12:08:00+01:00  1118.115828  1118.115828  220.680755  2143.755910  "
      ]
     },
     "execution_count": 40,
     "metadata": {},
     "output_type": "execute_result"
    }
   ],
   "source": [
    "# Input vector in time from input_data_set\n",
    "u = dm4bem.inputs_in_time(us, input_data_set)\n",
    "u.head()"
   ]
  },
  {
   "cell_type": "markdown",
   "id": "e0d2794e-0258-48d5-92b0-cfc38fc2ddb1",
   "metadata": {},
   "source": [
    "## Initial conditions\n",
    "The initial value of the state-vector can be zero or different from zero."
   ]
  },
  {
   "cell_type": "code",
   "execution_count": 41,
   "id": "625a41a2-984e-4546-b4af-0c89fec22f6b",
   "metadata": {
    "tags": []
   },
   "outputs": [],
   "source": [
    "# Initial conditions\n",
    "θ0 = 20.0                   # °C, initial temperatures\n",
    "θ = pd.DataFrame(index=u.index)\n",
    "θ[As.columns] = θ0          # fill θ with initial valeus θ0"
   ]
  },
  {
   "cell_type": "markdown",
   "id": "f9cee594-929d-434e-b4d7-e3b3f0ec5f1e",
   "metadata": {},
   "source": [
    "## Time integration\n",
    "The state-space model\n",
    "\n",
    "$$\\left\\{\\begin{array}{rr}\n",
    "\\dot{\\theta}_C=A_s \\theta_C + B_s u\\\\ \n",
    "y = C_s \\theta_C + D_s u\n",
    "\\end{array}\\right.$$\n",
    "\n",
    "is integrated in time by using [Euler forward (or explicit) method](https://en.m.wikipedia.org/wiki/Numerical_methods_for_ordinary_differential_equations#Euler_method) for numerical integration:\n",
    "\n",
    "$$ \\theta_{s,k+1} = (I + \\Delta t A) \\theta_{s,k} + \\Delta t B u_k $$\n",
    "\n",
    "or [Euler backward (or implicit) method](https://en.m.wikipedia.org/wiki/Numerical_methods_for_ordinary_differential_equations#Backward_Euler_method) for numerical integration:\n",
    "\n",
    "$$\\theta_{s,k+1} = (I - \\Delta t A)^{-1} ( \\theta_{s,k} + \\Delta t B u_k )$$\n",
    "\n",
    "\n",
    "where $k = 0, ... , n - 1$."
   ]
  },
  {
   "cell_type": "code",
   "execution_count": 42,
   "id": "5ea5ed40-1dfe-4858-862f-1acb8bc1ab53",
   "metadata": {
    "tags": []
   },
   "outputs": [],
   "source": [
    "I = np.eye(As.shape[0])     # identity matrix\n",
    "\n",
    "if explicit_Euler:\n",
    "    for k in range(u.shape[0] - 1):\n",
    "        θ.iloc[k + 1] = (I + dt * As) @ θ.iloc[k] + dt * Bs @ u.iloc[k]\n",
    "else:\n",
    "    for k in range(u.shape[0] - 1):\n",
    "        θ.iloc[k + 1] = np.linalg.inv(\n",
    "            I - dt * As) @ (θ.iloc[k] + dt * Bs @ u.iloc[k])"
   ]
  },
  {
   "cell_type": "markdown",
   "id": "61e150db-8a96-440f-91b0-1bc1705a36ea",
   "metadata": {},
   "source": [
    "## Outputs\n",
    "\n",
    "From the time variation of state variable $\\theta_s$ we obtain the time variation of the output $y$ (i.e., indoor temperature):\n",
    "\n",
    "$$y = C_s \\theta_s + D_s u$$"
   ]
  },
  {
   "cell_type": "code",
   "execution_count": 43,
   "id": "f181f342-5055-4257-a46a-353aec9e32e8",
   "metadata": {},
   "outputs": [],
   "source": [
    "# outputs\n",
    "y = (Cs @ θ.T + Ds @  u.T).T"
   ]
  },
  {
   "cell_type": "markdown",
   "id": "362b9956-fb76-47e5-b8fb-0345dd564ed1",
   "metadata": {},
   "source": [
    "and the variation in time of the heat flow of the HVAC system:\n",
    "\n",
    "$$q_{HVAC} = K_p (T_{i,sp} - \\theta_i) = K_p (T_{i,sp} - y)$$\n",
    "\n",
    "where $K_p$ is the gain of the P-controller and $T_{i,sp}$ is the HVAC-setpoint for the indoor temperature."
   ]
  },
  {
   "cell_type": "code",
   "execution_count": 44,
   "id": "8490635f-2904-430e-89f0-8ef457f76591",
   "metadata": {},
   "outputs": [
    {
     "data": {
      "text/plain": [
       "2000-02-01 12:00:00+01:00    20.000000\n",
       "2000-02-01 12:02:00+01:00    19.788715\n",
       "2000-02-01 12:04:00+01:00    19.856252\n",
       "2000-02-01 12:06:00+01:00    19.742296\n",
       "2000-02-01 12:08:00+01:00    19.754940\n",
       "                               ...    \n",
       "2000-02-07 17:52:00+01:00    18.128240\n",
       "2000-02-07 17:54:00+01:00    18.124425\n",
       "2000-02-07 17:56:00+01:00    18.120634\n",
       "2000-02-07 17:58:00+01:00    18.116864\n",
       "2000-02-07 18:00:00+01:00    18.113115\n",
       "Freq: 120S, Name: θ9, Length: 4501, dtype: float64"
      ]
     },
     "execution_count": 44,
     "metadata": {},
     "output_type": "execute_result"
    }
   ],
   "source": [
    "Kp = TC['G']['q1']     # controller gain\n",
    "S = 25                   # m², surface area of the living room\n",
    "q_HVAC = Kp * (u['q1'] - y['θ9']) / S  # W/m²\n",
    "y['θ9']"
   ]
  },
  {
   "cell_type": "markdown",
   "id": "c7b62b90-e915-4223-933b-bb57699f64f4",
   "metadata": {},
   "source": [
    "## Plots\n",
    "\n",
    "We select the data to plot:\n",
    "\n",
    "- $T_o$, outdoor temperature, °C;\n",
    "- $\\theta_i$, indoor temperature, °C;\n",
    "- $E_{tot}$, total solar irradiance, W/m²;\n",
    "- $q_{HVAC}$, thermal load, i.e., the power that the HVAC system needs to deliver in order to maintain the indoor air temperature at its set-point, W."
   ]
  },
  {
   "cell_type": "markdown",
   "id": "7eb27945-498b-4c42-acb9-867634bc81ae",
   "metadata": {},
   "source": [
    "The following values were extracted from the model have numerical to comparesion between the diifrent simualtions that were going to be done:\n",
    "\n",
    "-Maxiumum temp for bathroom\n",
    "-Minumum temperature for the bathroom\n",
    "-Maxiumum temp for livingroom\n",
    "-Minumum temperature for the livingroom\n",
    "-Total energy for the Hvac-system\n",
    "\n",
    "They were mostly used in the optimization of the building walls tho compare the energy use when chaning dimensions of the diffrent layers but still used to . "
   ]
  },
  {
   "cell_type": "code",
   "execution_count": 45,
   "id": "164d4a37-03cc-40ba-ad5e-a1a502ea98f2",
   "metadata": {},
   "outputs": [
    {
     "name": "stdout",
     "output_type": "stream",
     "text": [
      "                                 To        θlr         θb        Etot  \\\n",
      "2000-02-01 12:00:00+01:00  4.600000  20.000000  20.000000  126.350000   \n",
      "2000-02-01 12:02:00+01:00  4.610000  19.788715  20.625120  129.791191   \n",
      "2000-02-01 12:04:00+01:00  4.620000  19.856252  20.876189  133.232383   \n",
      "2000-02-01 12:06:00+01:00  4.630000  19.742296  20.964974  136.673574   \n",
      "2000-02-01 12:08:00+01:00  4.640000  19.754940  20.985681  140.114765   \n",
      "...                             ...        ...        ...         ...   \n",
      "2000-02-07 17:52:00+01:00  1.853333  18.128240  13.478794    1.393333   \n",
      "2000-02-07 17:54:00+01:00  1.840000  18.124425  13.451983    1.045000   \n",
      "2000-02-07 17:56:00+01:00  1.826667  18.120634  13.425324    0.696667   \n",
      "2000-02-07 17:58:00+01:00  1.813333  18.116864  13.398809    0.348333   \n",
      "2000-02-07 18:00:00+01:00  1.800000  18.113115  13.372429    0.000000   \n",
      "\n",
      "                              q_HVAC  \n",
      "2000-02-01 12:00:00+01:00   0.000000  \n",
      "2000-02-01 12:02:00+01:00   8.451419  \n",
      "2000-02-01 12:04:00+01:00   5.749931  \n",
      "2000-02-01 12:06:00+01:00  10.308170  \n",
      "2000-02-01 12:08:00+01:00   9.802411  \n",
      "...                              ...  \n",
      "2000-02-07 17:52:00+01:00  74.870415  \n",
      "2000-02-07 17:54:00+01:00  75.022987  \n",
      "2000-02-07 17:56:00+01:00  75.174637  \n",
      "2000-02-07 17:58:00+01:00  75.325422  \n",
      "2000-02-07 18:00:00+01:00  75.475389  \n",
      "\n",
      "[4501 rows x 5 columns]\n",
      "Total energi från q_HVAC: 233458.00627943865\n",
      "Max temperature for θlr: 20.621175742991028\n",
      "Min temperature for θlr: 14.437704702788878\n",
      "Max temperature for θb: 30.802926275577136\n",
      "Min temperature for θb: 10.17728006834265\n"
     ]
    }
   ],
   "source": [
    "data = pd.DataFrame({'To': input_data_set['To'],\n",
    "                     'θlr': y['θ9'],\n",
    "                     'θb': y['θ5'],\n",
    "                     'Etot': input_data_set['Etot'],\n",
    "                     'q_HVAC': q_HVAC})\n",
    "print(data)\n",
    "total_energy = data['q_HVAC'].sum()\n",
    "\n",
    "print(f\"Total energi från q_HVAC: {total_energy}\")\n",
    "max_temp_lr = data['θlr'].max()  # Max temperature for θlr (olr)\n",
    "min_temp_lr = data['θlr'].min()  # Min temperature for θlr (olr)\n",
    "\n",
    "max_temp_b = data['θb'].max()    # Max temperature for θb (ob)\n",
    "min_temp_b = data['θb'].min()    # Min temperature for θb (ob)\n",
    "\n",
    "# Print results\n",
    "print(f\"Max temperature for θlr: {max_temp_lr}\")\n",
    "print(f\"Min temperature for θlr: {min_temp_lr}\")\n",
    "print(f\"Max temperature for θb: {max_temp_b}\")\n",
    "print(f\"Min temperature for θb: {min_temp_b}\")\n"
   ]
  },
  {
   "cell_type": "markdown",
   "id": "08d86b04-fbfa-497d-a440-e8a4df246b10",
   "metadata": {},
   "source": [
    "### Plots using Pandas\n",
    "\n",
    "The plots mays be done by using `plot` method for DataFrame."
   ]
  },
  {
   "cell_type": "code",
   "execution_count": 46,
   "id": "59b95541-0a88-4cbe-8df6-0655e89ef4e9",
   "metadata": {},
   "outputs": [
    {
     "data": {
      "image/png": "[encoded data removed]",
      "text/plain": [
       "<Figure size 432x288 with 3 Axes>"
      ]
     },
     "metadata": {
      "needs_background": "light"
     },
     "output_type": "display_data"
    }
   ],
   "source": [
    "fig, axs = plt.subplots(3, 1)\n",
    "\n",
    "data[['To', 'θb']].plot(ax=axs[0],\n",
    "                        xticks=[],\n",
    "                        ylabel='Temperature, $θ$ / °C')\n",
    "\n",
    "axs[0].legend(['$θ_{outdoor}$', '$θ_{bathroom}$'],\n",
    "              loc='upper right')\n",
    "\n",
    "\n",
    "data[['To', 'θlr']].plot(ax=axs[1],\n",
    "                        xticks=[],\n",
    "                        ylabel='Temperature, $θ$ / °C')\n",
    "\n",
    "axs[1].legend(['$θ_{outdoor}$', '$θ_{living room}$'],\n",
    "              loc='upper right')\n",
    "\n",
    "\n",
    "data[['Etot', 'q_HVAC']].plot(ax=axs[2],\n",
    "                              ylabel='Heat rate, $q$ / (W·m⁻²)')\n",
    "axs[2].set(xlabel='Time')\n",
    "axs[2].legend(['$E_{total}$', '$q_{HVAC}$'],\n",
    "              loc='upper right')\n",
    "\n",
    "plt.show();"
   ]
  },
  {
   "cell_type": "markdown",
   "id": "9c3146db-6fc3-424f-b6d5-fee621466191",
   "metadata": {},
   "source": [
    "> Figures. Simulation in free-running with weather data using Euler explicit method of integration. a) Bathroom and outdoor temperatures. b) Living room and outdoor temperatures.c) Solar and HVAC heat flow rates."
   ]
  },
  {
   "cell_type": "markdown",
   "id": "9712b7fb-1200-4faf-9089-faffc45bc7cb",
   "metadata": {},
   "source": [
    "Firstly, Kp was set to 1000 and the following graph was obtained. \n",
    "\n",
    "As mentioned earlier the building only has a controller in the living room. Which makes this the room experiencing the biggest changes when changing the values of Kp. When set to Kp=1000 the room still experiences big differences in temperature, indicating that the value should preferably be higher.  "
   ]
  }
 ],
 "metadata": {
  "kernelspec": {
   "display_name": "Python 3 (ipykernel)",
   "language": "python",
   "name": "python3"
  },
  "language_info": {
   "codemirror_mode": {
    "name": "ipython",
    "version": 3
   },
   "file_extension": ".py",
   "mimetype": "text/x-python",
   "name": "python",
   "nbconvert_exporter": "python",
   "pygments_lexer": "ipython3",
   "version": "3.9.7"
  }
 },
 "nbformat": 4,
 "nbformat_minor": 5
}
