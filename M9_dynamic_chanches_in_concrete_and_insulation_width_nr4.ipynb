{
 "cells": [
  {
   "cell_type": "markdown",
   "id": "d876cdc6-4a9b-4d04-a475-061cd470940f",
   "metadata": {},
   "source": [
    "# Project 2 M9 "
   ]
  },
  {
   "cell_type": "markdown",
   "id": "ded8e054-62f7-4be6-afb3-b7ea57cbd194",
   "metadata": {},
   "source": [
    "## Introduction"
   ]
  },
  {
   "cell_type": "markdown",
   "id": "89333e58-ea46-4c6e-9865-c2fb564cebb7",
   "metadata": {},
   "source": [
    "The goal of the raport is to make a model of a simple building and examine its thermal properties and behaviour. "
   ]
  },
  {
   "cell_type": "markdown",
   "id": "c76cb8c4-8602-40cf-bc50-4e76a9f12dfd",
   "metadata": {},
   "source": [
    "## Description of building "
   ]
  },
  {
   "cell_type": "markdown",
   "id": "88db8f56-2690-4a0a-b25f-0668c30c655d",
   "metadata": {},
   "source": [
    "The chosen building is a studio apartment with one main living room and a bathroom. The building is located in France with the glazed wall facing south."
   ]
  },
  {
   "cell_type": "markdown",
   "id": "930a3225-3a26-4cb2-bc66-b76c80751a24",
   "metadata": {},
   "source": [
    "![Floor scetch of building](front.jpg)"
   ]
  },
  {
   "cell_type": "markdown",
   "id": "6d246530-4020-4f0f-b867-5019202e47a7",
   "metadata": {},
   "source": [
    "Furthermore the entire building has been divided into two zones. As seen in the following table, the first zone is the living room/kitchen area whilst the other zone is a bathroom. The total area of the apartment is 35 $m^2$.\n",
    "| Area                                | Surface [m²] |\n",
    "|-------------------------------------|--------------|\n",
    "| Zone 1 (Living room/kitchen)       | 25           |\n",
    "| Zone 2 (Bathroom)                  | 10           |"
   ]
  },
  {
   "cell_type": "markdown",
   "id": "3339f6e2-340d-4dba-9d1b-70e57356f14e",
   "metadata": {},
   "source": [
    "skriv något om air och dess egenskaper"
   ]
  },
  {
   "cell_type": "code",
   "execution_count": 9,
   "id": "800f07e9-a925-4415-82a9-313b5a1916b1",
   "metadata": {
    "tags": []
   },
   "outputs": [
    {
     "data": {
      "text/html": [
       "<div>\n",
       "<style scoped>\n",
       "    .dataframe tbody tr th:only-of-type {\n",
       "        vertical-align: middle;\n",
       "    }\n",
       "\n",
       "    .dataframe tbody tr th {\n",
       "        vertical-align: top;\n",
       "    }\n",
       "\n",
       "    .dataframe thead th {\n",
       "        text-align: right;\n",
       "    }\n",
       "</style>\n",
       "<table border=\"1\" class=\"dataframe\">\n",
       "  <thead>\n",
       "    <tr style=\"text-align: right;\">\n",
       "      <th></th>\n",
       "      <th>Density</th>\n",
       "      <th>Specific heat</th>\n",
       "    </tr>\n",
       "  </thead>\n",
       "  <tbody>\n",
       "    <tr>\n",
       "      <th>Air</th>\n",
       "      <td>1.2</td>\n",
       "      <td>1000</td>\n",
       "    </tr>\n",
       "  </tbody>\n",
       "</table>\n",
       "</div>"
      ],
      "text/plain": [
       "     Density  Specific heat\n",
       "Air      1.2           1000"
      ]
     },
     "execution_count": 9,
     "metadata": {},
     "output_type": "execute_result"
    }
   ],
   "source": [
    "import numpy as np\n",
    "import pandas as pd\n",
    "air = {'Density': 1.2,                      # kg/m³\n",
    "       'Specific heat': 1000}               # J/(kg·K)\n",
    "pd.DataFrame(air, index=['Air'])"
   ]
  },
  {
   "cell_type": "markdown",
   "id": "c1984f50-c1c2-4972-8258-31084dea9931",
   "metadata": {},
   "source": [
    "The exterior walls are compossed with a layer of concrete followed by a layer of insulation with the following parameters:\n",
    "| Material     | Thickness [cm] | Thermal conductivity λ [W/mK] | Specific heat c [J/kgK] | Volumetric mass density ρ [kg/m³] |\n",
    "|--------------|----------------|-------------------------------|--------------------------|-----------------------------------|\n",
    "| Concrete     | 20             | 1,4                           | 960                      | 2300                              |\n",
    "| Insulation   | 10             | 0,027                         | 840                      | 50                                |\n"
   ]
  },
  {
   "cell_type": "code",
   "execution_count": 11,
   "id": "920ba537-7f0a-4572-bf3b-d472b9b6975b",
   "metadata": {
    "tags": []
   },
   "outputs": [],
   "source": [
    "concrete_extern_salon = {'Conductivity': 1.400,          # W/(m·K)\n",
    "            'Density': 2300.0,              # kg/m³\n",
    "            'Specific heat': 960,           # J/(kg⋅K)\n",
    "            'Width': 0.2,                   # m\n",
    "            'Surface': 5*3*2}            # m²"
   ]
  },
  {
   "cell_type": "code",
   "execution_count": 12,
   "id": "989d385c-5841-411d-89b2-cbde67cfd0dd",
   "metadata": {
    "tags": []
   },
   "outputs": [],
   "source": [
    "insulation_salon = {'Conductivity': 0.027,        # W/(m·K)\n",
    "              'Density': 50.0,              # kg/m³\n",
    "              'Specific heat': 840,        # J/(kg⋅K)\n",
    "              'Width': 0.1,                # m\n",
    "              'Surface': 5*2*3}          # m²"
   ]
  },
  {
   "cell_type": "code",
   "execution_count": 13,
   "id": "625f412b-cc72-429c-9359-8c380709466b",
   "metadata": {
    "tags": []
   },
   "outputs": [],
   "source": [
    "concrete_extern_bathroom = {'Conductivity': 1.400,          # W/(m·K)\n",
    "            'Density': 2300.0,              # kg/m³\n",
    "            'Specific heat': 960,           # J/(kg⋅K)\n",
    "            'Width': 0.2,                   # m\n",
    "            'Surface': 5*3+2*3}            # m²\n",
    "\n",
    "insulation_bathroom = {'Conductivity': 0.027,        # W/(m·K)\n",
    "              'Density': 50.0,              # kg/m³\n",
    "              'Specific heat': 840,        # J/(kg⋅K)\n",
    "              'Width': 0.1,                # m\n",
    "              'Surface': 5*3+2*3}          # m²"
   ]
  },
  {
   "cell_type": "markdown",
   "id": "3fb21829-2882-4220-beb6-7dde0589c7fb",
   "metadata": {},
   "source": [
    "*Source: [Engineering Toolbox - Specific Heat of Solids](https://www.engineeringtoolbox.com/specific-heat-solids-d_154.html)*"
   ]
  },
  {
   "cell_type": "markdown",
   "id": "98b06156-004a-428b-b884-bd6a55f6b03c",
   "metadata": {},
   "source": [
    "The interior walls are as follows:"
   ]
  },
  {
   "cell_type": "markdown",
   "id": "ad35549f-b41a-465c-81a8-dbe1773a3de6",
   "metadata": {},
   "source": [
    "| Material     | Thickness [cm] | Thermal conductivity λ [W/mK] | Specific heat c [J/kgK] | Volumetric mass density ρ [kg/m³] |\n",
    "|--------------|----------------|-------------------------------|--------------------------|-----------------------------------|\n",
    "| Concrete     | 7.5             | 1,4                           | 960                      | 2300                              |\n",
    "                                               "
   ]
  },
  {
   "cell_type": "code",
   "execution_count": 17,
   "id": "17c0c838-6d1d-488c-83a3-877d7b3e504e",
   "metadata": {
    "tags": []
   },
   "outputs": [],
   "source": [
    "concrete_intern_salon = {'Conductivity': 1.400,          # W/(m·K)\n",
    "            'Density': 2300.0,              # kg/m³\n",
    "            'Specific heat': 960,           # J/(kg⋅K)\n",
    "            'Width': 0.075,                   # m\n",
    "            'Surface': 5*3}            # m²"
   ]
  },
  {
   "cell_type": "code",
   "execution_count": 18,
   "id": "aa5a8b88-02f1-40c8-bc9b-eedfbb700900",
   "metadata": {
    "tags": []
   },
   "outputs": [],
   "source": [
    "concrete_intern_bathroom = {'Conductivity': 1.400,          # W/(m·K)\n",
    "            'Density': 2300.0,              # kg/m³\n",
    "            'Specific heat': 960,           # J/(kg⋅K)\n",
    "            'Width': 0.075,                   # m\n",
    "            'Surface': 5*3}            # m²"
   ]
  },
  {
   "cell_type": "markdown",
   "id": "1b33d7de-7f52-497e-8653-f330875fed22",
   "metadata": {},
   "source": [
    "To simplify the model both the exterior and the interior doors have been modelled the same way."
   ]
  },
  {
   "cell_type": "markdown",
   "id": "48099cf7-b5ff-4a8f-8855-e16d0bdc137e",
   "metadata": {},
   "source": [
    "| Material     | Thickness [cm] | Thermal conductivity λ [W/mK] | Specific heat c [J/kgK] | Volumetric mass density ρ [kg/m³] |\n",
    "|--------------|----------------|-------------------------------|--------------------------|-----------------------------------|\n",
    "| Wood         | 5              | 0,17                          | 2000                     | 800                              |\n"
   ]
  },
  {
   "cell_type": "code",
   "execution_count": 21,
   "id": "49c82152-544a-44eb-a1cf-fbcf05711cc9",
   "metadata": {
    "tags": []
   },
   "outputs": [],
   "source": [
    "door = {'Conductivity' : 0.17,\n",
    "        'Width' : 5,\n",
    "        'Surface' : 0.9*2.1,\n",
    "        'Specific heat' : 2000,\n",
    "        'Density' : 800 }"
   ]
  },
  {
   "cell_type": "markdown",
   "id": "bdc29d65-1015-49c3-95a6-f1bd4f01f59d",
   "metadata": {},
   "source": [
    "The windows are double glazed and have the following parameters \n",
    "| Material     | Thickness [cm] | Energy transmittance e | Specific heat c [J/kgK] | Volumetric mass density ρ [kg/m³] |\n",
    "|--------------|----------------|-------------------------------|--------------------------|-----------------------------------|\n",
    "| Window     | 2,4             | 0,75                          | 1210                      | 2500                              |\n"
   ]
  },
  {
   "cell_type": "code",
   "execution_count": 23,
   "id": "71241343-df84-46b4-ab49-6dc93d2ad731",
   "metadata": {
    "tags": []
   },
   "outputs": [],
   "source": [
    "glass_salon = {'Conductivity': 1.4,               # W/(m·K)\n",
    "         'Density': 2500,                   # kg/m³\n",
    "         'Specific heat': 1210,             # J/(kg⋅K)\n",
    "         'Width': 0.024,                     # m\n",
    "         'Surface': 5*3}                   # m²"
   ]
  },
  {
   "cell_type": "code",
   "execution_count": 24,
   "id": "39e8b80b-303c-4897-ac87-b53d420570a8",
   "metadata": {
    "tags": []
   },
   "outputs": [],
   "source": [
    "glass_bathroom = {'Conductivity': 1.4,               # W/(m·K)\n",
    "         'Density': 2500,                   # kg/m³\n",
    "         'Specific heat': 1210,             # J/(kg⋅K)\n",
    "         'Width': 0.024,                     # m\n",
    "         'Surface': 2*3}                   # m²"
   ]
  },
  {
   "cell_type": "markdown",
   "id": "5c5330d2-64f0-4878-bfa4-1fdccd032ec1",
   "metadata": {},
   "source": [
    "The apartment is also assumed to be part of an apartment complex, with apartments under and over. This assumption makes the heat transfer from the ceilings and floors neglectable."
   ]
  },
  {
   "cell_type": "code",
   "execution_count": 26,
   "id": "3569e693-fd87-40b8-a9e4-44576fb187dd",
   "metadata": {
    "tags": []
   },
   "outputs": [],
   "source": [
    "ceiling_soil_bathroom = {                    # m\n",
    "         'Surface': 2*5*2}  \n",
    "\n",
    "ceiling_soil_salon = {                    # m\n",
    "         'Surface': 2*5*5} "
   ]
  },
  {
   "cell_type": "markdown",
   "id": "30aef21d-2be4-4952-b010-3ac0dfe30bca",
   "metadata": {},
   "source": [
    "The different rooms are assembled as follows:"
   ]
  },
  {
   "cell_type": "code",
   "execution_count": 28,
   "id": "3be77300-3bd1-4679-9137-9698b931130c",
   "metadata": {
    "tags": []
   },
   "outputs": [
    {
     "data": {
      "text/html": [
       "<div>\n",
       "<style scoped>\n",
       "    .dataframe tbody tr th:only-of-type {\n",
       "        vertical-align: middle;\n",
       "    }\n",
       "\n",
       "    .dataframe tbody tr th {\n",
       "        vertical-align: top;\n",
       "    }\n",
       "\n",
       "    .dataframe thead th {\n",
       "        text-align: right;\n",
       "    }\n",
       "</style>\n",
       "<table border=\"1\" class=\"dataframe\">\n",
       "  <thead>\n",
       "    <tr style=\"text-align: right;\">\n",
       "      <th></th>\n",
       "      <th>Conductivity</th>\n",
       "      <th>Density</th>\n",
       "      <th>Specific heat</th>\n",
       "      <th>Width</th>\n",
       "      <th>Surface</th>\n",
       "    </tr>\n",
       "  </thead>\n",
       "  <tbody>\n",
       "    <tr>\n",
       "      <th>Layer_out</th>\n",
       "      <td>1.400</td>\n",
       "      <td>2300.0</td>\n",
       "      <td>960.0</td>\n",
       "      <td>0.200</td>\n",
       "      <td>30.00</td>\n",
       "    </tr>\n",
       "    <tr>\n",
       "      <th>Layer_out1</th>\n",
       "      <td>1.400</td>\n",
       "      <td>2300.0</td>\n",
       "      <td>960.0</td>\n",
       "      <td>0.075</td>\n",
       "      <td>15.00</td>\n",
       "    </tr>\n",
       "    <tr>\n",
       "      <th>Layer_in</th>\n",
       "      <td>0.027</td>\n",
       "      <td>50.0</td>\n",
       "      <td>840.0</td>\n",
       "      <td>0.100</td>\n",
       "      <td>30.00</td>\n",
       "    </tr>\n",
       "    <tr>\n",
       "      <th>Layer_in1</th>\n",
       "      <td>0.027</td>\n",
       "      <td>50.0</td>\n",
       "      <td>840.0</td>\n",
       "      <td>0.100</td>\n",
       "      <td>21.00</td>\n",
       "    </tr>\n",
       "    <tr>\n",
       "      <th>Glass</th>\n",
       "      <td>1.400</td>\n",
       "      <td>2500.0</td>\n",
       "      <td>1210.0</td>\n",
       "      <td>0.024</td>\n",
       "      <td>15.00</td>\n",
       "    </tr>\n",
       "    <tr>\n",
       "      <th>Glass1</th>\n",
       "      <td>1.400</td>\n",
       "      <td>2500.0</td>\n",
       "      <td>1210.0</td>\n",
       "      <td>0.024</td>\n",
       "      <td>6.00</td>\n",
       "    </tr>\n",
       "    <tr>\n",
       "      <th>Layer_out2</th>\n",
       "      <td>1.400</td>\n",
       "      <td>2300.0</td>\n",
       "      <td>960.0</td>\n",
       "      <td>0.200</td>\n",
       "      <td>21.00</td>\n",
       "    </tr>\n",
       "    <tr>\n",
       "      <th>door</th>\n",
       "      <td>0.170</td>\n",
       "      <td>800.0</td>\n",
       "      <td>2000.0</td>\n",
       "      <td>5.000</td>\n",
       "      <td>1.89</td>\n",
       "    </tr>\n",
       "    <tr>\n",
       "      <th>roof</th>\n",
       "      <td>NaN</td>\n",
       "      <td>NaN</td>\n",
       "      <td>NaN</td>\n",
       "      <td>NaN</td>\n",
       "      <td>20.00</td>\n",
       "    </tr>\n",
       "    <tr>\n",
       "      <th>roof1</th>\n",
       "      <td>NaN</td>\n",
       "      <td>NaN</td>\n",
       "      <td>NaN</td>\n",
       "      <td>NaN</td>\n",
       "      <td>50.00</td>\n",
       "    </tr>\n",
       "  </tbody>\n",
       "</table>\n",
       "</div>"
      ],
      "text/plain": [
       "            Conductivity  Density  Specific heat  Width  Surface\n",
       "Layer_out          1.400   2300.0          960.0  0.200    30.00\n",
       "Layer_out1         1.400   2300.0          960.0  0.075    15.00\n",
       "Layer_in           0.027     50.0          840.0  0.100    30.00\n",
       "Layer_in1          0.027     50.0          840.0  0.100    21.00\n",
       "Glass              1.400   2500.0         1210.0  0.024    15.00\n",
       "Glass1             1.400   2500.0         1210.0  0.024     6.00\n",
       "Layer_out2         1.400   2300.0          960.0  0.200    21.00\n",
       "door               0.170    800.0         2000.0  5.000     1.89\n",
       "roof                 NaN      NaN            NaN    NaN    20.00\n",
       "roof1                NaN      NaN            NaN    NaN    50.00"
      ]
     },
     "execution_count": 28,
     "metadata": {},
     "output_type": "execute_result"
    }
   ],
   "source": [
    "wall_salon = pd.DataFrame.from_dict({'Layer_out': concrete_extern_salon,\n",
    "                                     'Layer_out1': concrete_intern_bathroom,\n",
    "                               'Layer_in': insulation_salon,\n",
    "                               'Layer_in1': insulation_bathroom,\n",
    "                               'Glass': glass_salon,\n",
    "                               'Glass1': glass_bathroom,\n",
    "                               'Layer_out2' : concrete_extern_bathroom,\n",
    "                               'roof' : ceiling_soil_bathroom,\n",
    "                               'roof1' : ceiling_soil_salon,\n",
    "                               'door' : door\n",
    "                               },\n",
    "                                orient='index')\n",
    "wall_salon\n",
    "\n",
    "wall_bathroom = pd.DataFrame.from_dict({'Layer_out': concrete_extern_salon,\n",
    "                                     'Layer_out1': concrete_intern_bathroom,\n",
    "                               'Layer_in': insulation_salon,\n",
    "                               'Layer_in1': insulation_bathroom,\n",
    "                               'Glass': glass_salon,\n",
    "                               'Glass1': glass_bathroom,\n",
    "                               'Layer_out2' : concrete_extern_bathroom,\n",
    "                               'roof' : ceiling_soil_bathroom,\n",
    "                               'roof1' : ceiling_soil_salon,\n",
    "                               'door' : door\n",
    "                               },\n",
    "                              orient='index')\n",
    "wall_bathroom\n",
    "\n"
   ]
  },
  {
   "cell_type": "markdown",
   "id": "a5d642ba-1bb1-4709-95c3-91016b2b2673",
   "metadata": {},
   "source": [
    "## Thermal model "
   ]
  },
  {
   "cell_type": "markdown",
   "id": "fc74de43-6297-4e69-a082-97fda8076732",
   "metadata": {},
   "source": [
    "The previously described building is depicted using nodes and flows by the following model."
   ]
  },
  {
   "cell_type": "markdown",
   "id": "7431ea7c-8bbe-40d8-8be9-eee8cf656311",
   "metadata": {},
   "source": [
    "![Thermal Model](thermal.png)"
   ]
  },
  {
   "cell_type": "markdown",
   "id": "b038f7ab-ea8f-4af7-b98c-6739355e9101",
   "metadata": {},
   "source": [
    "h is the convection coefficient for the walls. The surface resistance on the inside is 8 $W/(m^2K)$ and for the outside surface the value is 25 $ W/(m^2K) $  ."
   ]
  },
  {
   "cell_type": "code",
   "execution_count": 33,
   "id": "f95ade18-4851-4059-befe-d7529020f903",
   "metadata": {
    "tags": []
   },
   "outputs": [
    {
     "data": {
      "text/html": [
       "<div>\n",
       "<style scoped>\n",
       "    .dataframe tbody tr th:only-of-type {\n",
       "        vertical-align: middle;\n",
       "    }\n",
       "\n",
       "    .dataframe tbody tr th {\n",
       "        vertical-align: top;\n",
       "    }\n",
       "\n",
       "    .dataframe thead th {\n",
       "        text-align: right;\n",
       "    }\n",
       "</style>\n",
       "<table border=\"1\" class=\"dataframe\">\n",
       "  <thead>\n",
       "    <tr style=\"text-align: right;\">\n",
       "      <th></th>\n",
       "      <th>in</th>\n",
       "      <th>out</th>\n",
       "    </tr>\n",
       "  </thead>\n",
       "  <tbody>\n",
       "    <tr>\n",
       "      <th>h</th>\n",
       "      <td>8.0</td>\n",
       "      <td>25</td>\n",
       "    </tr>\n",
       "  </tbody>\n",
       "</table>\n",
       "</div>"
      ],
      "text/plain": [
       "    in  out\n",
       "h  8.0   25"
      ]
     },
     "execution_count": 33,
     "metadata": {},
     "output_type": "execute_result"
    }
   ],
   "source": [
    "σ = 5.67e-8     # W/(m²⋅K⁴) Stefan-Bolzmann constant\n",
    "\n",
    "h = pd.DataFrame([{'in': 8., 'out': 25}], index=['h'])  # W/(m²⋅K)\n",
    "h"
   ]
  },
  {
   "cell_type": "markdown",
   "id": "5df1d75e-8ffa-421b-9847-62ff14b458b9",
   "metadata": {},
   "source": [
    "\n",
    "The volumetric flow rate of the air, $ \\mathrm{m}^3/\\mathrm{s} $, with the following equation:\n"
   ]
  },
  {
   "cell_type": "markdown",
   "id": "a7238d62-09cc-4162-b73f-b06820d9523a",
   "metadata": {},
   "source": [
    "$ \\dot{V}_a = \\frac{\\mathrm{ACH}}{3600} V_a $"
   ]
  },
  {
   "cell_type": "markdown",
   "id": "63f105a6-72b5-4f86-9f0c-935c8bd4dfdd",
   "metadata": {},
   "source": [
    "Where ACH is the air changes per hours, 1/h"
   ]
  },
  {
   "cell_type": "markdown",
   "id": "435144f5-248d-4084-80d3-b247053ed7fe",
   "metadata": {},
   "source": [
    "$ V_a $ is the volume of the air, $ m^3 $ "
   ]
  },
  {
   "cell_type": "markdown",
   "id": "ba157f27-4707-4d4f-ae03-ca60312cc1b8",
   "metadata": {},
   "source": [
    "and 3600 is the number of seconds in one hour"
   ]
  },
  {
   "cell_type": "markdown",
   "id": "a41ccc18-5cfd-4e1e-8728-778750abdd0a",
   "metadata": {},
   "source": [
    "# Controller "
   ]
  },
  {
   "cell_type": "markdown",
   "id": "672f728c-a802-480f-a804-3d47a20a2133",
   "metadata": {},
   "source": [
    "The model utilizes a proportional heater, which is a simple representation of a controller. "
   ]
  },
  {
   "cell_type": "markdown",
   "id": "fdd7f2d3-0241-4bcc-a49c-144db2dbb51f",
   "metadata": {},
   "source": [
    "$$q_{HVAC} = K_p (T_{i, sp} - \\theta_i)$$"
   ]
  },
  {
   "cell_type": "markdown",
   "id": "df04047b-385e-4d58-a799-0b7424c36318",
   "metadata": {},
   "source": [
    "It works by changing the heat flow rate $q_{HVAC}$, in order to controll the indoor temperature $\\theta_i$ to its setpoint temperature $T_{i,sp}$. "
   ]
  },
  {
   "cell_type": "markdown",
   "id": "d742eaa0-6b1b-4446-9bf6-ad7b6dd698e1",
   "metadata": {},
   "source": [
    "The $ K_p $ value, the proportional gain of the controller, was chosen to 1000. This represents an almost perfect controller."
   ]
  },
  {
   "cell_type": "code",
   "execution_count": 44,
   "id": "be209c18-d2ed-4f6c-9245-8149ddafe284",
   "metadata": {
    "tags": []
   },
   "outputs": [],
   "source": [
    "# ventilation flow rate\n",
    "Va_bathroom = 5*2*3                   # m³, volume of air\n",
    "Va_salon = 5*5*3                     # m³, volume of air\n",
    "ACH = 1                     # 1/h, air changes per hour\n",
    "Va_dot_bathroom = ACH / 3600 * Va_bathroom          # m³/s, air infiltration\n",
    "Va_dot_salon = ACH / 3600 * Va_salon         # m³/s, air infiltration\n",
    "Kp = 10000 # W/K"
   ]
  },
  {
   "cell_type": "markdown",
   "id": "7996a2a2-724b-4ea0-8695-76d6bf4f9807",
   "metadata": {},
   "source": [
    "The test was done three times with three different temperatures, 0°C 15°C and 30°C."
   ]
  },
  {
   "cell_type": "code",
   "execution_count": 46,
   "id": "12239fd3-17f5-4877-916d-96be05f63edb",
   "metadata": {
    "tags": []
   },
   "outputs": [],
   "source": [
    "T0 = 15 #données météo\n",
    "Tisp = 19 # à définir\n",
    "air_bathroom = {'Conductivity': 1.4,               # W/(m·K)\n",
    "          'Density': 1.2,                      # kg/m³                  \n",
    "          'Specific heat': 1000,             # J/(kg⋅K)\n",
    "          'Volume': 30, }                    # m^3\n",
    "\n",
    "air_salon = {'Conductivity': 1.4,               # W/(m·K)\n",
    "          'Density': 1.2,                      # kg/m³                  \n",
    "          'Specific heat': 1000,             # J/(kg⋅K)\n",
    "          'Volume': 75, }                    # m^3"
   ]
  },
  {
   "cell_type": "markdown",
   "id": "5fdc5dfe-ae63-471e-a331-5949de4494d9",
   "metadata": {},
   "source": [
    "In the thermal model, each material is depicted using two resistances and a node. The nodes correspond to the temperatures in volumes, points or surfaces. In this case the temperatures in the air, materials in walls and windows and set point temperatures. The branches corresponds to the heat flow rate between the temperature nodes.\n",
    "\n",
    "The equation to solve is as follows:\n",
    "\n",
    "$$\n",
    "C \\dot{\\theta} = -(A^T GA) \\theta + A^T Gb + f\n",
    "$$\n",
    "\n",
    "To find the steady state solution,\n",
    "\n",
    "$$\n",
    "\\dot{\\theta} = 0\n",
    "$$"
   ]
  },
  {
   "cell_type": "markdown",
   "id": "4b3c9f09-9b5d-4d66-9e7e-591971135bbc",
   "metadata": {
    "tags": []
   },
   "source": [
    "## Steady state model"
   ]
  },
  {
   "cell_type": "markdown",
   "id": "e397f523-7d91-46ff-a919-e6b1c89030e4",
   "metadata": {},
   "source": [
    "Matrix A defines the direction of flows between nodes. The rows correspond to individual flows, while the columns represent each node. A value of 1 indicates that a node receives the flow, whereas -1 signifies that the flow is leaving the node."
   ]
  },
  {
   "cell_type": "code",
   "execution_count": 50,
   "id": "3642a6f5-8365-4299-9dec-22fbc7e57fbc",
   "metadata": {
    "tags": []
   },
   "outputs": [],
   "source": [
    "nr = 27\n",
    "nc= 20\n",
    "\n",
    "A = np.zeros([nr, nc])\n",
    "\n",
    "A[0, 5] = 1\n",
    "A[1, 9] = 1\n",
    "A[2, 0] = 1\n",
    "\n",
    "j=0\n",
    "for i in range(3,13):\n",
    "    A[i,j], A[i,j+1] = -1, 1\n",
    "    j+=1\n",
    "    \n",
    "A[13, 10] = 1\n",
    "A[14, 14], A[14, 5] = -1, 1\n",
    "A[14, 14], A[14, 5] = -1, 1\n",
    "A[15, 5], A[15, 11] = -1, 1\n",
    "A[16, 11], A[16, 12] = -1, 1\n",
    "A[17, 12], A[17, 13] = -1, 1\n",
    "A[18, 13], A[18, 9] = -1, 1\n",
    "A[19, 15], A[19, 9] = -1, 1\n",
    "A[20, 14] = 1\n",
    " \n",
    "j=15\n",
    "for i in range(21,25):\n",
    "    A[i,j+1], A[i,j] = -1, 1\n",
    "    j+=1\n",
    "    \n",
    "A[25, 19] = 1\n",
    "A[26, 9] = 1"
   ]
  },
  {
   "cell_type": "markdown",
   "id": "3ac650b0-d560-48f1-bbaa-7991c87590ec",
   "metadata": {},
   "source": [
    "Matrix G is a square matrix where each row and column correspond to a specific flow. It is a diagonal matrix, with each diagonal element representing the conductance (G-value) of the respective flow. The following equations are used for this:\n",
    "\n",
    "$$\n",
    "G_{\\text{cond}} = S \\frac{\\lambda}{w}\n",
    "$$\n",
    "\n",
    "and\n",
    "\n",
    "$$\n",
    "G_{\\text{cv}} = hS\n",
    "$$"
   ]
  },
  {
   "cell_type": "markdown",
   "id": "672f6b17-34b2-402b-9b6b-856ca061a25d",
   "metadata": {},
   "source": [
    "For the ventilation, the conductance for ventilation/infiltration is calculated using the following equation "
   ]
  },
  {
   "cell_type": "markdown",
   "id": "00889ad9-bc32-4823-8325-f77d8fa4fd04",
   "metadata": {},
   "source": [
    "$$ G_v = \\rho_a c_a \\dot{V}_a $$\n",
    "with $\\rho_a$ being the density of the air, the volumetric flow rate of the air is $\\dot{V}_a$ and $c_a$ is the specific heat capacity of the air. "
   ]
  },
  {
   "cell_type": "code",
   "execution_count": 54,
   "id": "ae0f3d99-8497-4db1-868b-5478410d3783",
   "metadata": {
    "tags": []
   },
   "outputs": [],
   "source": [
    "G = np.zeros((27,27))"
   ]
  },
  {
   "cell_type": "code",
   "execution_count": 55,
   "id": "2e8ed89e-96f9-49c8-bc26-8cd404c28806",
   "metadata": {
    "tags": []
   },
   "outputs": [
    {
     "name": "stderr",
     "output_type": "stream",
     "text": [
      "/var/folders/5v/_8x8j38s51338qvkpqv6_klm0000gn/T/ipykernel_63521/1791804102.py:3: FutureWarning: Calling float on a single element Series is deprecated and will raise a TypeError in the future. Use float(ser.iloc[0]) instead\n",
      "  G[2,2] = h['out'] * (wall_bathroom['Surface'].iloc[6]-3*2)     # on enlève la partie du mur négligée\n",
      "/var/folders/5v/_8x8j38s51338qvkpqv6_klm0000gn/T/ipykernel_63521/1791804102.py:8: FutureWarning: Calling float on a single element Series is deprecated and will raise a TypeError in the future. Use float(ser.iloc[0]) instead\n",
      "  G[7,7]= h['in'] * (wall_bathroom['Surface'].iloc[3]-3*2)  # on enlève la partie du mur négligée\n",
      "/var/folders/5v/_8x8j38s51338qvkpqv6_klm0000gn/T/ipykernel_63521/1791804102.py:9: FutureWarning: Calling float on a single element Series is deprecated and will raise a TypeError in the future. Use float(ser.iloc[0]) instead\n",
      "  G[8,8] = h['in'] * wall_bathroom['Surface'].iloc[1]\n",
      "/var/folders/5v/_8x8j38s51338qvkpqv6_klm0000gn/T/ipykernel_63521/1791804102.py:12: FutureWarning: Calling float on a single element Series is deprecated and will raise a TypeError in the future. Use float(ser.iloc[0]) instead\n",
      "  G[11,11]= h['in'] * wall_salon['Surface'].iloc[1]\n",
      "/var/folders/5v/_8x8j38s51338qvkpqv6_klm0000gn/T/ipykernel_63521/1791804102.py:13: FutureWarning: Calling float on a single element Series is deprecated and will raise a TypeError in the future. Use float(ser.iloc[0]) instead\n",
      "  G[12,12]= h['in'] * wall_salon['Surface'].iloc[4]\n",
      "/var/folders/5v/_8x8j38s51338qvkpqv6_klm0000gn/T/ipykernel_63521/1791804102.py:14: FutureWarning: Calling float on a single element Series is deprecated and will raise a TypeError in the future. Use float(ser.iloc[0]) instead\n",
      "  G[13,13]= h['out'] * wall_salon['Surface'].iloc[4]\n",
      "/var/folders/5v/_8x8j38s51338qvkpqv6_klm0000gn/T/ipykernel_63521/1791804102.py:15: FutureWarning: Calling float on a single element Series is deprecated and will raise a TypeError in the future. Use float(ser.iloc[0]) instead\n",
      "  G[14,14]= h['in'] * wall_bathroom['Surface'].iloc[5]\n",
      "/var/folders/5v/_8x8j38s51338qvkpqv6_klm0000gn/T/ipykernel_63521/1791804102.py:16: FutureWarning: Calling float on a single element Series is deprecated and will raise a TypeError in the future. Use float(ser.iloc[0]) instead\n",
      "  G[15,15]= h['in'] * wall_bathroom['Surface'].iloc[9]\n",
      "/var/folders/5v/_8x8j38s51338qvkpqv6_klm0000gn/T/ipykernel_63521/1791804102.py:19: FutureWarning: Calling float on a single element Series is deprecated and will raise a TypeError in the future. Use float(ser.iloc[0]) instead\n",
      "  G[18,18]= h['in'] * wall_salon['Surface'].iloc[9]\n",
      "/var/folders/5v/_8x8j38s51338qvkpqv6_klm0000gn/T/ipykernel_63521/1791804102.py:20: FutureWarning: Calling float on a single element Series is deprecated and will raise a TypeError in the future. Use float(ser.iloc[0]) instead\n",
      "  G[19,19]= h['in'] * (wall_salon['Surface'].iloc[2]-5*3)\n",
      "/var/folders/5v/_8x8j38s51338qvkpqv6_klm0000gn/T/ipykernel_63521/1791804102.py:21: FutureWarning: Calling float on a single element Series is deprecated and will raise a TypeError in the future. Use float(ser.iloc[0]) instead\n",
      "  G[20,20]= h['out'] * wall_bathroom['Surface'].iloc[5]\n",
      "/var/folders/5v/_8x8j38s51338qvkpqv6_klm0000gn/T/ipykernel_63521/1791804102.py:26: FutureWarning: Calling float on a single element Series is deprecated and will raise a TypeError in the future. Use float(ser.iloc[0]) instead\n",
      "  G[25,25]=h['out'] * wall_salon['Surface'].iloc[0]\n"
     ]
    }
   ],
   "source": [
    "G[0,0] = air['Density'] * air['Specific heat'] * Va_dot_bathroom\n",
    "G[26,26] = air['Density'] * air['Specific heat'] * Va_dot_salon\n",
    "G[2,2] = h['out'] * (wall_bathroom['Surface'].iloc[6]-3*2)     # on enlève la partie du mur négligée\n",
    "G[3,3] = 2*(wall_bathroom['Surface'].iloc[6]-3*2)*wall_bathroom['Conductivity'].iloc[6]/wall_bathroom['Width'].iloc[6]    # on enlève la partie du mur négligée\n",
    "G[4,4] = G[3,3]\n",
    "G[5,5] = 2*(wall_bathroom['Surface'].iloc[3]-3*2)*wall_bathroom['Conductivity'].iloc[3]/wall_bathroom['Width'].iloc[3]     # on enlève la partie du mur négligée\n",
    "G[6,6] = G[5,5]\n",
    "G[7,7]= h['in'] * (wall_bathroom['Surface'].iloc[3]-3*2)  # on enlève la partie du mur négligée\n",
    "G[8,8] = h['in'] * wall_bathroom['Surface'].iloc[1]\n",
    "G[9,9] = 2*wall_bathroom['Surface'].iloc[1]*wall_bathroom['Conductivity'].iloc[1]/wall_bathroom['Width'].iloc[1]\n",
    "G[10,10] = 2*wall_bathroom['Surface'].iloc[1]*wall_bathroom['Conductivity'].iloc[1]/wall_bathroom['Width'].iloc[1]\n",
    "G[11,11]= h['in'] * wall_salon['Surface'].iloc[1]\n",
    "G[12,12]= h['in'] * wall_salon['Surface'].iloc[4]\n",
    "G[13,13]= h['out'] * wall_salon['Surface'].iloc[4]\n",
    "G[14,14]= h['in'] * wall_bathroom['Surface'].iloc[5]\n",
    "G[15,15]= h['in'] * wall_bathroom['Surface'].iloc[9]\n",
    "G[16,16]= 2*door['Surface']*door['Conductivity']/door['Width']\n",
    "G[17,17]=G[16,16]\n",
    "G[18,18]= h['in'] * wall_salon['Surface'].iloc[9]\n",
    "G[19,19]= h['in'] * (wall_salon['Surface'].iloc[2]-5*3)\n",
    "G[20,20]= h['out'] * wall_bathroom['Surface'].iloc[5]\n",
    "G[21,21]= 2*(wall_salon['Surface'].iloc[2]-5*3)*wall_bathroom['Conductivity'].iloc[2]/wall_bathroom['Width'].iloc[2]\n",
    "G[22,22]=G[21,21]\n",
    "G[23,23]=2*(wall_salon['Surface'].iloc[0]-5*3)*wall_bathroom['Conductivity'].iloc[0]/wall_bathroom['Width'].iloc[0]\n",
    "G[24,24]= G[23,23]\n",
    "G[25,25]=h['out'] * wall_salon['Surface'].iloc[0]"
   ]
  },
  {
   "cell_type": "code",
   "execution_count": 56,
   "id": "504c7359-c782-4e18-aa36-eaec45984297",
   "metadata": {
    "tags": []
   },
   "outputs": [
    {
     "name": "stdout",
     "output_type": "stream",
     "text": [
      "[[1.0000e+01 0.0000e+00 0.0000e+00 0.0000e+00 0.0000e+00 0.0000e+00\n",
      "  0.0000e+00 0.0000e+00 0.0000e+00 0.0000e+00 0.0000e+00 0.0000e+00\n",
      "  0.0000e+00 0.0000e+00 0.0000e+00 0.0000e+00 0.0000e+00 0.0000e+00\n",
      "  0.0000e+00 0.0000e+00 0.0000e+00 0.0000e+00 0.0000e+00 0.0000e+00\n",
      "  0.0000e+00 0.0000e+00 0.0000e+00]\n",
      " [0.0000e+00 1.0000e+04 0.0000e+00 0.0000e+00 0.0000e+00 0.0000e+00\n",
      "  0.0000e+00 0.0000e+00 0.0000e+00 0.0000e+00 0.0000e+00 0.0000e+00\n",
      "  0.0000e+00 0.0000e+00 0.0000e+00 0.0000e+00 0.0000e+00 0.0000e+00\n",
      "  0.0000e+00 0.0000e+00 0.0000e+00 0.0000e+00 0.0000e+00 0.0000e+00\n",
      "  0.0000e+00 0.0000e+00 0.0000e+00]\n",
      " [0.0000e+00 0.0000e+00 3.7500e+02 0.0000e+00 0.0000e+00 0.0000e+00\n",
      "  0.0000e+00 0.0000e+00 0.0000e+00 0.0000e+00 0.0000e+00 0.0000e+00\n",
      "  0.0000e+00 0.0000e+00 0.0000e+00 0.0000e+00 0.0000e+00 0.0000e+00\n",
      "  0.0000e+00 0.0000e+00 0.0000e+00 0.0000e+00 0.0000e+00 0.0000e+00\n",
      "  0.0000e+00 0.0000e+00 0.0000e+00]\n",
      " [0.0000e+00 0.0000e+00 0.0000e+00 2.1000e+02 0.0000e+00 0.0000e+00\n",
      "  0.0000e+00 0.0000e+00 0.0000e+00 0.0000e+00 0.0000e+00 0.0000e+00\n",
      "  0.0000e+00 0.0000e+00 0.0000e+00 0.0000e+00 0.0000e+00 0.0000e+00\n",
      "  0.0000e+00 0.0000e+00 0.0000e+00 0.0000e+00 0.0000e+00 0.0000e+00\n",
      "  0.0000e+00 0.0000e+00 0.0000e+00]\n",
      " [0.0000e+00 0.0000e+00 0.0000e+00 0.0000e+00 2.1000e+02 0.0000e+00\n",
      "  0.0000e+00 0.0000e+00 0.0000e+00 0.0000e+00 0.0000e+00 0.0000e+00\n",
      "  0.0000e+00 0.0000e+00 0.0000e+00 0.0000e+00 0.0000e+00 0.0000e+00\n",
      "  0.0000e+00 0.0000e+00 0.0000e+00 0.0000e+00 0.0000e+00 0.0000e+00\n",
      "  0.0000e+00 0.0000e+00 0.0000e+00]\n",
      " [0.0000e+00 0.0000e+00 0.0000e+00 0.0000e+00 0.0000e+00 8.1000e+00\n",
      "  0.0000e+00 0.0000e+00 0.0000e+00 0.0000e+00 0.0000e+00 0.0000e+00\n",
      "  0.0000e+00 0.0000e+00 0.0000e+00 0.0000e+00 0.0000e+00 0.0000e+00\n",
      "  0.0000e+00 0.0000e+00 0.0000e+00 0.0000e+00 0.0000e+00 0.0000e+00\n",
      "  0.0000e+00 0.0000e+00 0.0000e+00]\n",
      " [0.0000e+00 0.0000e+00 0.0000e+00 0.0000e+00 0.0000e+00 0.0000e+00\n",
      "  8.1000e+00 0.0000e+00 0.0000e+00 0.0000e+00 0.0000e+00 0.0000e+00\n",
      "  0.0000e+00 0.0000e+00 0.0000e+00 0.0000e+00 0.0000e+00 0.0000e+00\n",
      "  0.0000e+00 0.0000e+00 0.0000e+00 0.0000e+00 0.0000e+00 0.0000e+00\n",
      "  0.0000e+00 0.0000e+00 0.0000e+00]\n",
      " [0.0000e+00 0.0000e+00 0.0000e+00 0.0000e+00 0.0000e+00 0.0000e+00\n",
      "  0.0000e+00 1.2000e+02 0.0000e+00 0.0000e+00 0.0000e+00 0.0000e+00\n",
      "  0.0000e+00 0.0000e+00 0.0000e+00 0.0000e+00 0.0000e+00 0.0000e+00\n",
      "  0.0000e+00 0.0000e+00 0.0000e+00 0.0000e+00 0.0000e+00 0.0000e+00\n",
      "  0.0000e+00 0.0000e+00 0.0000e+00]\n",
      " [0.0000e+00 0.0000e+00 0.0000e+00 0.0000e+00 0.0000e+00 0.0000e+00\n",
      "  0.0000e+00 0.0000e+00 1.2000e+02 0.0000e+00 0.0000e+00 0.0000e+00\n",
      "  0.0000e+00 0.0000e+00 0.0000e+00 0.0000e+00 0.0000e+00 0.0000e+00\n",
      "  0.0000e+00 0.0000e+00 0.0000e+00 0.0000e+00 0.0000e+00 0.0000e+00\n",
      "  0.0000e+00 0.0000e+00 0.0000e+00]\n",
      " [0.0000e+00 0.0000e+00 0.0000e+00 0.0000e+00 0.0000e+00 0.0000e+00\n",
      "  0.0000e+00 0.0000e+00 0.0000e+00 5.6000e+02 0.0000e+00 0.0000e+00\n",
      "  0.0000e+00 0.0000e+00 0.0000e+00 0.0000e+00 0.0000e+00 0.0000e+00\n",
      "  0.0000e+00 0.0000e+00 0.0000e+00 0.0000e+00 0.0000e+00 0.0000e+00\n",
      "  0.0000e+00 0.0000e+00 0.0000e+00]\n",
      " [0.0000e+00 0.0000e+00 0.0000e+00 0.0000e+00 0.0000e+00 0.0000e+00\n",
      "  0.0000e+00 0.0000e+00 0.0000e+00 0.0000e+00 5.6000e+02 0.0000e+00\n",
      "  0.0000e+00 0.0000e+00 0.0000e+00 0.0000e+00 0.0000e+00 0.0000e+00\n",
      "  0.0000e+00 0.0000e+00 0.0000e+00 0.0000e+00 0.0000e+00 0.0000e+00\n",
      "  0.0000e+00 0.0000e+00 0.0000e+00]\n",
      " [0.0000e+00 0.0000e+00 0.0000e+00 0.0000e+00 0.0000e+00 0.0000e+00\n",
      "  0.0000e+00 0.0000e+00 0.0000e+00 0.0000e+00 0.0000e+00 1.2000e+02\n",
      "  0.0000e+00 0.0000e+00 0.0000e+00 0.0000e+00 0.0000e+00 0.0000e+00\n",
      "  0.0000e+00 0.0000e+00 0.0000e+00 0.0000e+00 0.0000e+00 0.0000e+00\n",
      "  0.0000e+00 0.0000e+00 0.0000e+00]\n",
      " [0.0000e+00 0.0000e+00 0.0000e+00 0.0000e+00 0.0000e+00 0.0000e+00\n",
      "  0.0000e+00 0.0000e+00 0.0000e+00 0.0000e+00 0.0000e+00 0.0000e+00\n",
      "  1.2000e+02 0.0000e+00 0.0000e+00 0.0000e+00 0.0000e+00 0.0000e+00\n",
      "  0.0000e+00 0.0000e+00 0.0000e+00 0.0000e+00 0.0000e+00 0.0000e+00\n",
      "  0.0000e+00 0.0000e+00 0.0000e+00]\n",
      " [0.0000e+00 0.0000e+00 0.0000e+00 0.0000e+00 0.0000e+00 0.0000e+00\n",
      "  0.0000e+00 0.0000e+00 0.0000e+00 0.0000e+00 0.0000e+00 0.0000e+00\n",
      "  0.0000e+00 3.7500e+02 0.0000e+00 0.0000e+00 0.0000e+00 0.0000e+00\n",
      "  0.0000e+00 0.0000e+00 0.0000e+00 0.0000e+00 0.0000e+00 0.0000e+00\n",
      "  0.0000e+00 0.0000e+00 0.0000e+00]\n",
      " [0.0000e+00 0.0000e+00 0.0000e+00 0.0000e+00 0.0000e+00 0.0000e+00\n",
      "  0.0000e+00 0.0000e+00 0.0000e+00 0.0000e+00 0.0000e+00 0.0000e+00\n",
      "  0.0000e+00 0.0000e+00 4.8000e+01 0.0000e+00 0.0000e+00 0.0000e+00\n",
      "  0.0000e+00 0.0000e+00 0.0000e+00 0.0000e+00 0.0000e+00 0.0000e+00\n",
      "  0.0000e+00 0.0000e+00 0.0000e+00]\n",
      " [0.0000e+00 0.0000e+00 0.0000e+00 0.0000e+00 0.0000e+00 0.0000e+00\n",
      "  0.0000e+00 0.0000e+00 0.0000e+00 0.0000e+00 0.0000e+00 0.0000e+00\n",
      "  0.0000e+00 0.0000e+00 0.0000e+00 4.0000e+02 0.0000e+00 0.0000e+00\n",
      "  0.0000e+00 0.0000e+00 0.0000e+00 0.0000e+00 0.0000e+00 0.0000e+00\n",
      "  0.0000e+00 0.0000e+00 0.0000e+00]\n",
      " [0.0000e+00 0.0000e+00 0.0000e+00 0.0000e+00 0.0000e+00 0.0000e+00\n",
      "  0.0000e+00 0.0000e+00 0.0000e+00 0.0000e+00 0.0000e+00 0.0000e+00\n",
      "  0.0000e+00 0.0000e+00 0.0000e+00 0.0000e+00 1.2852e-01 0.0000e+00\n",
      "  0.0000e+00 0.0000e+00 0.0000e+00 0.0000e+00 0.0000e+00 0.0000e+00\n",
      "  0.0000e+00 0.0000e+00 0.0000e+00]\n",
      " [0.0000e+00 0.0000e+00 0.0000e+00 0.0000e+00 0.0000e+00 0.0000e+00\n",
      "  0.0000e+00 0.0000e+00 0.0000e+00 0.0000e+00 0.0000e+00 0.0000e+00\n",
      "  0.0000e+00 0.0000e+00 0.0000e+00 0.0000e+00 0.0000e+00 1.2852e-01\n",
      "  0.0000e+00 0.0000e+00 0.0000e+00 0.0000e+00 0.0000e+00 0.0000e+00\n",
      "  0.0000e+00 0.0000e+00 0.0000e+00]\n",
      " [0.0000e+00 0.0000e+00 0.0000e+00 0.0000e+00 0.0000e+00 0.0000e+00\n",
      "  0.0000e+00 0.0000e+00 0.0000e+00 0.0000e+00 0.0000e+00 0.0000e+00\n",
      "  0.0000e+00 0.0000e+00 0.0000e+00 0.0000e+00 0.0000e+00 0.0000e+00\n",
      "  4.0000e+02 0.0000e+00 0.0000e+00 0.0000e+00 0.0000e+00 0.0000e+00\n",
      "  0.0000e+00 0.0000e+00 0.0000e+00]\n",
      " [0.0000e+00 0.0000e+00 0.0000e+00 0.0000e+00 0.0000e+00 0.0000e+00\n",
      "  0.0000e+00 0.0000e+00 0.0000e+00 0.0000e+00 0.0000e+00 0.0000e+00\n",
      "  0.0000e+00 0.0000e+00 0.0000e+00 0.0000e+00 0.0000e+00 0.0000e+00\n",
      "  0.0000e+00 1.2000e+02 0.0000e+00 0.0000e+00 0.0000e+00 0.0000e+00\n",
      "  0.0000e+00 0.0000e+00 0.0000e+00]\n",
      " [0.0000e+00 0.0000e+00 0.0000e+00 0.0000e+00 0.0000e+00 0.0000e+00\n",
      "  0.0000e+00 0.0000e+00 0.0000e+00 0.0000e+00 0.0000e+00 0.0000e+00\n",
      "  0.0000e+00 0.0000e+00 0.0000e+00 0.0000e+00 0.0000e+00 0.0000e+00\n",
      "  0.0000e+00 0.0000e+00 1.5000e+02 0.0000e+00 0.0000e+00 0.0000e+00\n",
      "  0.0000e+00 0.0000e+00 0.0000e+00]\n",
      " [0.0000e+00 0.0000e+00 0.0000e+00 0.0000e+00 0.0000e+00 0.0000e+00\n",
      "  0.0000e+00 0.0000e+00 0.0000e+00 0.0000e+00 0.0000e+00 0.0000e+00\n",
      "  0.0000e+00 0.0000e+00 0.0000e+00 0.0000e+00 0.0000e+00 0.0000e+00\n",
      "  0.0000e+00 0.0000e+00 0.0000e+00 8.1000e+00 0.0000e+00 0.0000e+00\n",
      "  0.0000e+00 0.0000e+00 0.0000e+00]\n",
      " [0.0000e+00 0.0000e+00 0.0000e+00 0.0000e+00 0.0000e+00 0.0000e+00\n",
      "  0.0000e+00 0.0000e+00 0.0000e+00 0.0000e+00 0.0000e+00 0.0000e+00\n",
      "  0.0000e+00 0.0000e+00 0.0000e+00 0.0000e+00 0.0000e+00 0.0000e+00\n",
      "  0.0000e+00 0.0000e+00 0.0000e+00 0.0000e+00 8.1000e+00 0.0000e+00\n",
      "  0.0000e+00 0.0000e+00 0.0000e+00]\n",
      " [0.0000e+00 0.0000e+00 0.0000e+00 0.0000e+00 0.0000e+00 0.0000e+00\n",
      "  0.0000e+00 0.0000e+00 0.0000e+00 0.0000e+00 0.0000e+00 0.0000e+00\n",
      "  0.0000e+00 0.0000e+00 0.0000e+00 0.0000e+00 0.0000e+00 0.0000e+00\n",
      "  0.0000e+00 0.0000e+00 0.0000e+00 0.0000e+00 0.0000e+00 2.1000e+02\n",
      "  0.0000e+00 0.0000e+00 0.0000e+00]\n",
      " [0.0000e+00 0.0000e+00 0.0000e+00 0.0000e+00 0.0000e+00 0.0000e+00\n",
      "  0.0000e+00 0.0000e+00 0.0000e+00 0.0000e+00 0.0000e+00 0.0000e+00\n",
      "  0.0000e+00 0.0000e+00 0.0000e+00 0.0000e+00 0.0000e+00 0.0000e+00\n",
      "  0.0000e+00 0.0000e+00 0.0000e+00 0.0000e+00 0.0000e+00 0.0000e+00\n",
      "  2.1000e+02 0.0000e+00 0.0000e+00]\n",
      " [0.0000e+00 0.0000e+00 0.0000e+00 0.0000e+00 0.0000e+00 0.0000e+00\n",
      "  0.0000e+00 0.0000e+00 0.0000e+00 0.0000e+00 0.0000e+00 0.0000e+00\n",
      "  0.0000e+00 0.0000e+00 0.0000e+00 0.0000e+00 0.0000e+00 0.0000e+00\n",
      "  0.0000e+00 0.0000e+00 0.0000e+00 0.0000e+00 0.0000e+00 0.0000e+00\n",
      "  0.0000e+00 7.5000e+02 0.0000e+00]\n",
      " [0.0000e+00 0.0000e+00 0.0000e+00 0.0000e+00 0.0000e+00 0.0000e+00\n",
      "  0.0000e+00 0.0000e+00 0.0000e+00 0.0000e+00 0.0000e+00 0.0000e+00\n",
      "  0.0000e+00 0.0000e+00 0.0000e+00 0.0000e+00 0.0000e+00 0.0000e+00\n",
      "  0.0000e+00 0.0000e+00 0.0000e+00 0.0000e+00 0.0000e+00 0.0000e+00\n",
      "  0.0000e+00 0.0000e+00 2.5000e+01]]\n"
     ]
    }
   ],
   "source": [
    "G[1,1] = Kp\n",
    "print(G)"
   ]
  },
  {
   "cell_type": "markdown",
   "id": "9db80b67-a77f-4a8d-91ad-ac9861d0594a",
   "metadata": {},
   "source": [
    "Similarly, matrix C shares the same structure as matrix G, but instead of representing flows, its rows and columns correspond to nodes. The diagonal elements of C represent the capacity at each node:\n",
    "\n",
    "$$\n",
    "C = \\rho c w S\n",
    "$$\n",
    "\n",
    "Vector b is a column vector with as many rows as the number of flows. It represents the external temperature sources, which are the only temperature sources in the system. The values in b correspond to the external temperatures. If a flow is influenced by an external temperature source, the corresponding value in b will be the external temperature for that flow. \n",
    "\n",
    "The vector f consists of rows, each corresponding to a different node. It represents the external flows at each node. The value of each entry in the vector corresponds to the size of the external source at that node. If the node has no external source, the value is 0. "
   ]
  },
  {
   "cell_type": "code",
   "execution_count": 58,
   "id": "bb335d06-2b31-4f43-85bf-7ef3db400a42",
   "metadata": {
    "tags": []
   },
   "outputs": [],
   "source": [
    "# ----- b and f vectors -----\n",
    "f = np.zeros(20)\n",
    "b = np.zeros(27)\n",
    "b[0]=b[2]=b[13]=b[20]=b[25]=T0\n",
    "b[1]=Tisp    \n",
    "\n",
    "Es = 307 #W/m²\n",
    "Ew = 391 #W/m²\n",
    "En = 150 #W/m²\n",
    "\n",
    "# radiative properties\n",
    "ε_wLW = 0.85    # long wave emmisivity: wall surface (concrete)\n",
    "ε_gLW = 0.90    # long wave emmisivity: glass pyrex\n",
    "α_wSW = 0.25    # short wave absortivity: white smooth surface\n",
    "α_gSW = 0.38    # short wave absortivity: reflective blue glass\n",
    "τ_gSW = 0.30    # short wave transmitance: reflective blue glass\n",
    "\n",
    "# view factor\n",
    "Fwall_ground = 0.5\n",
    "Fwall_sky = 0.5\n",
    "Fw_externgbathroom = (concrete_extern_bathroom['Surface']-3*2) / (glass_bathroom['Surface']+concrete_intern_bathroom['Surface']+ceiling_soil_bathroom['Surface'])\n",
    "Fw_interngbathroom = (concrete_intern_bathroom['Surface']) / (glass_bathroom['Surface']+concrete_extern_bathroom['Surface']+ceiling_soil_bathroom['Surface'])\n",
    "Fw_externgsalon = (concrete_extern_salon['Surface']-3*5) / (glass_salon['Surface']+concrete_intern_salon['Surface']+ceiling_soil_salon['Surface'])\n",
    "Fw_interngsalon = (concrete_intern_salon['Surface']) / (glass_salon['Surface']+concrete_extern_salon['Surface']+ceiling_soil_salon['Surface'])\n",
    "\n",
    "phi0 = Fwall_sky*En*(concrete_extern_bathroom['Surface']-2*3)\n",
    "phi14 = Fwall_sky*Ew*glass_bathroom['Surface']\n",
    "phi10 = Fwall_sky*Es*glass_salon['Surface']\n",
    "phi19 = Fwall_sky*Ew*concrete_extern_salon['Surface']/2\n",
    "phi4 = Fw_externgbathroom*phi14*τ_gSW*α_wSW\n",
    "phi6 = Fw_interngbathroom*phi14*τ_gSW*α_wSW\n",
    "phi8 = Fw_interngsalon*phi10*τ_gSW*α_wSW\n",
    "phi15 = Fw_externgsalon*phi10*τ_gSW*α_wSW\n",
    "Qa1 = 90 + 70 # one standing people and some machine in W\n",
    "Qa2 = 90 # one standing people in W\n",
    "\n",
    "f=[phi0, 0, 0, 0, phi4, Qa2, phi6, 0, phi8, Qa1, phi10, 0, 0, 0, phi14, phi15, 0, 0, 0, phi19 ]"
   ]
  },
  {
   "cell_type": "markdown",
   "id": "f1433b3a-6112-4d9f-a8f8-127ed7c41619",
   "metadata": {},
   "source": [
    "The auxiliary heat gains, $  Q_{ai}  $, are added to each of the zones and represent the heat flow from the inhabitants and also heat gain from cooking and electronics. The heat gain from the inhabitants was estimated at 90 W."
   ]
  },
  {
   "cell_type": "markdown",
   "id": "5a24b92c-a6f3-4232-9f2f-1025d079533e",
   "metadata": {},
   "source": [
    "![Sensible Heat Gain and Latent Heat Gain in respect of human activities](table1.png)"
   ]
  },
  {
   "cell_type": "markdown",
   "id": "db1056f2-cca8-472a-823a-99289a41e802",
   "metadata": {},
   "source": [
    "*Source: [Scientific Figure - Computer-Aided Load Estimation of Air-conditioning Systems for Non-residential and Residential Buildings](https://www.researchgate.net/figure/Sensible-Heat-Gain-SHG-and-Latent-Heat-Gain-LHG-in-respect-of-human-activities_tbl1_327228047 )*"
   ]
  },
  {
   "cell_type": "markdown",
   "id": "9e452f16-4a28-49b9-8413-23486fa2c443",
   "metadata": {},
   "source": [
    "Heat gain from cooking and electronics was estimated to 70 W. \n",
    "With these matrices implemented it is possible to perform the stead state calculations."
   ]
  },
  {
   "cell_type": "markdown",
   "id": "aa61ae6e-5083-4bc9-bf60-34638747a6ff",
   "metadata": {},
   "source": [
    "### Radiation"
   ]
  },
  {
   "cell_type": "markdown",
   "id": "f441a157-c147-4be3-8b70-23328a4d825a",
   "metadata": {},
   "source": [
    "The long-wave radiation was calculated using the following:"
   ]
  },
  {
   "cell_type": "markdown",
   "id": "627331b6-ac63-4043-9827-3e05619a8f30",
   "metadata": {},
   "source": [
    "$$ G = \\sigma T^3 \\epsilon \\approx 0.135 $$"
   ]
  },
  {
   "cell_type": "markdown",
   "id": "d3e25c26-5aa0-4c33-a2fc-2e75dca145d3",
   "metadata": {},
   "source": [
    "When comparing this value with the convection "
   ]
  },
  {
   "cell_type": "markdown",
   "id": "009ded55-235d-486c-9dbe-8252be9bc965",
   "metadata": {},
   "source": [
    "$$\n",
    "G_{\\text{cv}} = hS \\approx 60\n",
    "$$"
   ]
  },
  {
   "cell_type": "markdown",
   "id": "4f1bbeb0-e0fa-4bd1-8482-3ba2048044cb",
   "metadata": {},
   "source": [
    "and with the value for the conduction "
   ]
  },
  {
   "cell_type": "markdown",
   "id": "2ff67409-305e-4feb-a602-06c18444f7e4",
   "metadata": {},
   "source": [
    "$$\n",
    "G_{\\text{cond}} = S \\frac{\\lambda}{w} \\approx 200\n",
    "$$"
   ]
  },
  {
   "cell_type": "markdown",
   "id": "c3bd6a0f-1c41-43a6-b7da-a828e1de9c65",
   "metadata": {},
   "source": [
    "it is noticeable that the value of the long-wave radiation is neglectable. "
   ]
  },
  {
   "cell_type": "markdown",
   "id": "bdceaece-817f-4a5b-b966-079974b000e4",
   "metadata": {},
   "source": [
    "### Results of steady state"
   ]
  },
  {
   "cell_type": "code",
   "execution_count": 72,
   "id": "7aee9da4-b583-4827-b4bc-137469bdcc7c",
   "metadata": {
    "tags": []
   },
   "outputs": [
    {
     "name": "stdout",
     "output_type": "stream",
     "text": [
      "θ = [18.  18.1 18.2 19.9 21.6 21.5 20.7 20.5 20.2 19.  20.6 21.5 20.2 19.\n",
      " 22.5 19.3 19.1 18.9 18.9 18.9] °C\n",
      "Bathroom = 21.5 °C\n",
      "Living room = 19.0 °C\n"
     ]
    }
   ],
   "source": [
    "# temperature nodes\n",
    "nθ = 20      # number of temperature nodes\n",
    "θ = [f'θ{i}' for i in range(nθ)]\n",
    "\n",
    "# flow-rate branches\n",
    "nq = 27     # number of flow branches\n",
    "q = [f'q{i}' for i in range(nq)]\n",
    "\n",
    "\n",
    "θ = np.linalg.inv(A.T @ G @ A ) @ (A.T @ G @ b + f)\n",
    "print(f'θ = {np.around(θ, 1)} °C')\n",
    "\n",
    "print(f'Bathroom = {np.around(θ[5], 1)} °C')\n",
    "print(f'Living room = {np.around(θ[9], 1)} °C')"
   ]
  },
  {
   "cell_type": "markdown",
   "id": "f4b331d6-cd9c-4110-9e19-2c1d66bfa79c",
   "metadata": {},
   "source": [
    "### Discussion"
   ]
  },
  {
   "cell_type": "markdown",
   "id": "8610121d-ef33-46b2-baef-3c801c31d44f",
   "metadata": {},
   "source": [
    "The simulation results are considered realistic given the assumption that a temperature controller is only placed in the living room. This design choice leads to significant temperature differences between rooms. If an additional controller had been placed in the bathroom, these differences would likely have been reduced. Moreover, the decision to model the interior door as opaque further contributes to the temperature disparity, as the door is assumed not to allow any heat transfer, effectively acting as a solid barrier.\n",
    "\n",
    "In the current model, the primary factor influencing the indoor temperature is the outdoor temperature. Additionally, the large glazed area contributes to increased indoor temperatures due to solar heat gain.\n",
    "\n",
    "It is also important to note that the controller is modeled with a proportional gain (Kp) value of 1000, which assumes an almost ideal response. In real-life applications, such high performance is rarely achieved, and controller behavior tends to be less precise."
   ]
  },
  {
   "cell_type": "markdown",
   "id": "25f07d68-a5fc-4eae-9a6e-2adf0b48cd6a",
   "metadata": {},
   "source": [
    "### Conclusion"
   ]
  },
  {
   "cell_type": "markdown",
   "id": "d45f1ba8-f637-450a-ac19-08437259404f",
   "metadata": {},
   "source": [
    "One of the main issues identified in the building model is the temperature in the bathroom. As discussed earlier, this is primarily due to the absence of a temperature controller in that space, combined with the fact that the interior door is modeled as opaque, preventing heat transfer between rooms.\n",
    "\n",
    "Another important aspect is the performance of the controller itself. In the current model, the controller is assumed to operate with near-perfect precision due to a high proportional gain value. To enhance the realism of the simulation, this value should be further examined and adjusted to better reflect actual control system performance.\n",
    "\n",
    "Additionally, the model could be improved by modifying the window design. The current windows are large and modeled with only double glazing, which contributes significantly to heat gain and loss. Improving the window properties by lowering the U-value and/or reducing the window size would result in a more energy-efficient building model. However, it is important to note that reducing the glazed area would also decrease the availability of natural light, introducing a separate set of considerations related to daylight access and occupant comfort."
   ]
  },
  {
   "cell_type": "markdown",
   "id": "110f9898-37eb-42ed-951d-bef80269f827",
   "metadata": {},
   "source": [
    "# DYNAMIC MODEL"
   ]
  },
  {
   "cell_type": "markdown",
   "id": "51d85484-bae8-42bf-b06e-0b391dbf877a",
   "metadata": {},
   "source": [
    "The following changes has been made in order to better analyze different improvements of the current model: \n",
    "\n",
    "* Doubling the amount of concrete in the external walls \n",
    "\n",
    "* Doubling the amount of insulation \n",
    "\n",
    "To make the diifrent simulations two new csv-files were used with the changes as mentioned earlier. The use of kp=500 were decided due to the more stable tempersture distribution from the previous comparisons with diffrent kp. In this section the value of q_hvac were the value that were compared for the diffrent setups. The simulation were both runned during summer and winter to copmare the diffrence in cooling and heating. "
   ]
  },
  {
   "cell_type": "code",
   "execution_count": 4,
   "id": "3302ac61-7d7d-434a-bdcb-6a4a7e1ad11a",
   "metadata": {
    "tags": []
   },
   "outputs": [
    {
     "ename": "ModuleNotFoundError",
     "evalue": "No module named 'dm4bem'",
     "output_type": "error",
     "traceback": [
      "\u001b[0;31m---------------------------------------------------------------------------\u001b[0m",
      "\u001b[0;31mModuleNotFoundError\u001b[0m                       Traceback (most recent call last)",
      "Cell \u001b[0;32mIn[4], line 7\u001b[0m\n\u001b[1;32m      4\u001b[0m \u001b[38;5;66;03m#import control as ctrl\u001b[39;00m\n\u001b[1;32m      5\u001b[0m \u001b[38;5;28;01mimport\u001b[39;00m \u001b[38;5;21;01mtime\u001b[39;00m\n\u001b[0;32m----> 7\u001b[0m \u001b[38;5;28;01mimport\u001b[39;00m \u001b[38;5;21;01mdm4bem\u001b[39;00m\n\u001b[1;32m      8\u001b[0m \u001b[38;5;28;01mfrom\u001b[39;00m \u001b[38;5;21;01mdm4bem\u001b[39;00m \u001b[38;5;28;01mimport\u001b[39;00m read_epw, sol_rad_tilt_surf\n",
      "\u001b[0;31mModuleNotFoundError\u001b[0m: No module named 'dm4bem'"
     ]
    }
   ],
   "source": [
    "import numpy as np\n",
    "import pandas as pd\n",
    "import matplotlib.pyplot as plt\n",
    "#import control as ctrl\n",
    "import time\n",
    "\n",
    "import dm4bem\n",
    "from dm4bem import read_epw, sol_rad_tilt_surf"
   ]
  },
  {
   "cell_type": "code",
   "execution_count": null,
   "id": "f85b2fb3-fc58-4662-a9aa-9e119b95c26b",
   "metadata": {
    "tags": []
   },
   "outputs": [],
   "source": [
    "controller = True\n",
    "Kp = 500  # W/°C, controller gain\n",
    "\n",
    "neglect_air_capacity = False\n",
    "neglect_glass_capacity = False\n",
    "\n",
    "explicit_Euler = True\n",
    "\n",
    "imposed_time_step = False\n",
    "Δt = 3600    # s, imposed time step "
   ]
  },
  {
   "cell_type": "markdown",
   "id": "da24bc4e-9adc-480b-b4a8-421a52a74164",
   "metadata": {
    "tags": []
   },
   "source": [
    "## State-space representation"
   ]
  },
  {
   "cell_type": "code",
   "execution_count": null,
   "id": "dc4488a6-0d90-4acb-9c38-c4d4ebebb438",
   "metadata": {
    "tags": []
   },
   "outputs": [],
   "source": [
    "# MODEL\n",
    "# =====\n",
    "# Thermal circuits\n",
    "TC = dm4bem.file2TC('toy_modelDubbelConcrete.csv', name='', auto_number=False)\n",
    "#TC = dm4bem.file2TC('toy_modelDubbelinsulation.csv', name='', auto_number=False)\n",
    "\n",
    "# by default TC['G']['q11'] = 0 # Kp -> 0, no controller (free-floating\n",
    "if controller:\n",
    "    TC['G']['q1'] = Kp     # G11 = Kp, conductance of edge q11\n",
    "                            # Kp -> ∞, almost perfect controller\n",
    "if neglect_air_capacity:\n",
    "    TC['C']['θ5'] = 0       # C6, capacity of vertex θ6 (air)\n",
    "if neglect_glass_capacity:\n",
    "    TC['C']['θ9'] = 0       # C7, capacity of vertex θ7 (glass) \n",
    "\n",
    "# State-space\n",
    "[As, Bs, Cs, Ds, us] = dm4bem.tc2ss(TC)\n",
    "dm4bem.print_TC(TC)"
   ]
  },
  {
   "cell_type": "markdown",
   "id": "05d780c2-87f8-4242-b7db-7074ee4c6b30",
   "metadata": {},
   "source": [
    "The condition for numerical stability of Euler explicit integration"
   ]
  },
  {
   "cell_type": "code",
   "execution_count": null,
   "id": "b4d0a840-58a7-4d0d-bd4c-aa9730ff8632",
   "metadata": {
    "tags": []
   },
   "outputs": [],
   "source": [
    "λ = np.linalg.eig(As)[0]    # eigenvalues of matrix As\n",
    "dtmax = 2 * min(-1. / λ)    # max time step for Euler explicit stability\n",
    "dt = dm4bem.round_time(dtmax)\n",
    "\n",
    "if imposed_time_step:\n",
    "    dt = Δt\n",
    "\n",
    "dm4bem.print_rounded_time('dt', dt)"
   ]
  },
  {
   "cell_type": "markdown",
   "id": "424e64a5-7d46-4d68-8021-f02939b1c3a6",
   "metadata": {},
   "source": [
    "## Input data set"
   ]
  },
  {
   "cell_type": "markdown",
   "id": "c0b1950d-c97e-4e84-9676-17660adf8bfa",
   "metadata": {},
   "source": [
    "### One-hour time step"
   ]
  },
  {
   "cell_type": "code",
   "execution_count": 11,
   "id": "b91a7682-073c-4c2c-bf97-466f472e4f57",
   "metadata": {
    "tags": []
   },
   "outputs": [
    {
     "name": "stdout",
     "output_type": "stream",
     "text": [
      "2000-02-01 12:00:00 \tstart date\n",
      "2000-02-07 18:00:00 \tend date\n"
     ]
    },
    {
     "ename": "NameError",
     "evalue": "name 'dm4bem' is not defined",
     "output_type": "error",
     "traceback": [
      "\u001b[0;31m---------------------------------------------------------------------------\u001b[0m",
      "\u001b[0;31mNameError\u001b[0m                                 Traceback (most recent call last)",
      "Cell \u001b[0;32mIn[11], line 13\u001b[0m\n\u001b[1;32m     10\u001b[0m \u001b[38;5;28mprint\u001b[39m(\u001b[38;5;124mf\u001b[39m\u001b[38;5;124m'\u001b[39m\u001b[38;5;132;01m{\u001b[39;00mend_date\u001b[38;5;132;01m}\u001b[39;00m\u001b[38;5;124m \u001b[39m\u001b[38;5;130;01m\\t\u001b[39;00m\u001b[38;5;124mend date\u001b[39m\u001b[38;5;124m'\u001b[39m)\n\u001b[1;32m     12\u001b[0m filename \u001b[38;5;241m=\u001b[39m \u001b[38;5;124m'\u001b[39m\u001b[38;5;124mFRA_AR_Lyon-Bron.AP.074800_TMYx.2004-2018.epw\u001b[39m\u001b[38;5;124m'\u001b[39m\n\u001b[0;32m---> 13\u001b[0m [data, meta] \u001b[38;5;241m=\u001b[39m dm4bem\u001b[38;5;241m.\u001b[39mread_epw(filename, coerce_year\u001b[38;5;241m=\u001b[39m\u001b[38;5;28;01mNone\u001b[39;00m)\n\u001b[1;32m     14\u001b[0m weather \u001b[38;5;241m=\u001b[39m data[[\u001b[38;5;124m\"\u001b[39m\u001b[38;5;124mtemp_air\u001b[39m\u001b[38;5;124m\"\u001b[39m, \u001b[38;5;124m\"\u001b[39m\u001b[38;5;124mdir_n_rad\u001b[39m\u001b[38;5;124m\"\u001b[39m, \u001b[38;5;124m\"\u001b[39m\u001b[38;5;124mdif_h_rad\u001b[39m\u001b[38;5;124m\"\u001b[39m]]\n\u001b[1;32m     15\u001b[0m \u001b[38;5;28;01mdel\u001b[39;00m data\n",
      "\u001b[0;31mNameError\u001b[0m: name 'dm4bem' is not defined"
     ]
    }
   ],
   "source": [
    "start_date = '02-01 12:00:00'\n",
    "end_date = '02-07 18:00:00'\n",
    "#start_date = '07-01 12:00:00'\n",
    "#end_date = '07-07 18:00:00'\n",
    "\n",
    "\n",
    "start_date = '2000-' + start_date\n",
    "end_date = '2000-' + end_date\n",
    "print(f'{start_date} \\tstart date')\n",
    "print(f'{end_date} \\tend date')\n",
    "\n",
    "filename = 'FRA_AR_Lyon-Bron.AP.074800_TMYx.2004-2018.epw'\n",
    "[data, meta] = dm4bem.read_epw(filename, coerce_year=None)\n",
    "weather = data[[\"temp_air\", \"dir_n_rad\", \"dif_h_rad\"]]\n",
    "del data\n",
    "\n",
    "weather.index = weather.index.map(lambda t: t.replace(year=2000))\n",
    "weather = weather.loc[start_date:end_date]"
   ]
  },
  {
   "cell_type": "markdown",
   "id": "78628467-2761-4bb8-b55c-4029287979d0",
   "metadata": {},
   "source": [
    "## Input data set"
   ]
  },
  {
   "cell_type": "code",
   "execution_count": 14,
   "id": "1e74c3d0-35bb-48e8-8e8d-7ba33d22e364",
   "metadata": {
    "tags": []
   },
   "outputs": [
    {
     "ename": "NameError",
     "evalue": "name 'weather' is not defined",
     "output_type": "error",
     "traceback": [
      "\u001b[0;31m---------------------------------------------------------------------------\u001b[0m",
      "\u001b[0;31mNameError\u001b[0m                                 Traceback (most recent call last)",
      "Cell \u001b[0;32mIn[14], line 2\u001b[0m\n\u001b[1;32m      1\u001b[0m \u001b[38;5;66;03m# Temperature sources\u001b[39;00m\n\u001b[0;32m----> 2\u001b[0m To \u001b[38;5;241m=\u001b[39m weather[\u001b[38;5;124m'\u001b[39m\u001b[38;5;124mtemp_air\u001b[39m\u001b[38;5;124m'\u001b[39m]\n\u001b[1;32m      4\u001b[0m To\u001b[38;5;241m.\u001b[39mplot()\n\u001b[1;32m      5\u001b[0m plt\u001b[38;5;241m.\u001b[39mxlabel(\u001b[38;5;124m\"\u001b[39m\u001b[38;5;124mTime\u001b[39m\u001b[38;5;124m\"\u001b[39m)\n",
      "\u001b[0;31mNameError\u001b[0m: name 'weather' is not defined"
     ]
    }
   ],
   "source": [
    "# Temperature sources\n",
    "To = weather['temp_air']\n",
    "\n",
    "To.plot()\n",
    "plt.xlabel(\"Time\")\n",
    "plt.ylabel(\"Dry-bulb air temperature, θ / °C\")\n",
    "plt.legend([])\n",
    "plt.show()\n",
    "\n",
    "weather[['dir_n_rad', 'dif_h_rad']].plot()\n",
    "plt.xlabel(\"Time\")\n",
    "plt.ylabel(\"Solar radiation, Φ / (W·m⁻²)\")\n",
    "plt.legend(['$Φ_{direct}$', '$Φ_{diffuse}$'])\n",
    "plt.show()"
   ]
  },
  {
   "cell_type": "code",
   "execution_count": 16,
   "id": "5605b4e3-843b-4e0b-a329-090f1de1e0f3",
   "metadata": {
    "tags": []
   },
   "outputs": [
    {
     "ename": "FileNotFoundError",
     "evalue": "[Errno 2] No such file or directory: 'walls_out.csv'",
     "output_type": "error",
     "traceback": [
      "\u001b[0;31m---------------------------------------------------------------------------\u001b[0m",
      "\u001b[0;31mFileNotFoundError\u001b[0m                         Traceback (most recent call last)",
      "Cell \u001b[0;32mIn[16], line 2\u001b[0m\n\u001b[1;32m      1\u001b[0m \u001b[38;5;66;03m# total solar irradiance\u001b[39;00m\n\u001b[0;32m----> 2\u001b[0m wall_out \u001b[38;5;241m=\u001b[39m pd\u001b[38;5;241m.\u001b[39mread_csv(\u001b[38;5;124m'\u001b[39m\u001b[38;5;124mwalls_out.csv\u001b[39m\u001b[38;5;124m'\u001b[39m, sep\u001b[38;5;241m=\u001b[39m\u001b[38;5;124m'\u001b[39m\u001b[38;5;124m;\u001b[39m\u001b[38;5;124m'\u001b[39m)\n\u001b[1;32m      3\u001b[0m w0 \u001b[38;5;241m=\u001b[39m wall_out[wall_out[\u001b[38;5;124m'\u001b[39m\u001b[38;5;124mID\u001b[39m\u001b[38;5;124m'\u001b[39m] \u001b[38;5;241m==\u001b[39m \u001b[38;5;124m'\u001b[39m\u001b[38;5;124mw0\u001b[39m\u001b[38;5;124m'\u001b[39m]\n\u001b[1;32m      5\u001b[0m surface_orientation \u001b[38;5;241m=\u001b[39m {\u001b[38;5;124m'\u001b[39m\u001b[38;5;124mslope\u001b[39m\u001b[38;5;124m'\u001b[39m: w0[\u001b[38;5;124m'\u001b[39m\u001b[38;5;124mβ\u001b[39m\u001b[38;5;124m'\u001b[39m]\u001b[38;5;241m.\u001b[39mvalues[\u001b[38;5;241m0\u001b[39m],\n\u001b[1;32m      6\u001b[0m                        \u001b[38;5;124m'\u001b[39m\u001b[38;5;124mazimuth\u001b[39m\u001b[38;5;124m'\u001b[39m: w0[\u001b[38;5;124m'\u001b[39m\u001b[38;5;124mγ\u001b[39m\u001b[38;5;124m'\u001b[39m]\u001b[38;5;241m.\u001b[39mvalues[\u001b[38;5;241m0\u001b[39m],\n\u001b[1;32m      7\u001b[0m                        \u001b[38;5;124m'\u001b[39m\u001b[38;5;124mlatitude\u001b[39m\u001b[38;5;124m'\u001b[39m: \u001b[38;5;241m45\u001b[39m}\n",
      "File \u001b[0;32m/opt/anaconda3/lib/python3.12/site-packages/pandas/io/parsers/readers.py:1026\u001b[0m, in \u001b[0;36mread_csv\u001b[0;34m(filepath_or_buffer, sep, delimiter, header, names, index_col, usecols, dtype, engine, converters, true_values, false_values, skipinitialspace, skiprows, skipfooter, nrows, na_values, keep_default_na, na_filter, verbose, skip_blank_lines, parse_dates, infer_datetime_format, keep_date_col, date_parser, date_format, dayfirst, cache_dates, iterator, chunksize, compression, thousands, decimal, lineterminator, quotechar, quoting, doublequote, escapechar, comment, encoding, encoding_errors, dialect, on_bad_lines, delim_whitespace, low_memory, memory_map, float_precision, storage_options, dtype_backend)\u001b[0m\n\u001b[1;32m   1013\u001b[0m kwds_defaults \u001b[38;5;241m=\u001b[39m _refine_defaults_read(\n\u001b[1;32m   1014\u001b[0m     dialect,\n\u001b[1;32m   1015\u001b[0m     delimiter,\n\u001b[0;32m   (...)\u001b[0m\n\u001b[1;32m   1022\u001b[0m     dtype_backend\u001b[38;5;241m=\u001b[39mdtype_backend,\n\u001b[1;32m   1023\u001b[0m )\n\u001b[1;32m   1024\u001b[0m kwds\u001b[38;5;241m.\u001b[39mupdate(kwds_defaults)\n\u001b[0;32m-> 1026\u001b[0m \u001b[38;5;28;01mreturn\u001b[39;00m _read(filepath_or_buffer, kwds)\n",
      "File \u001b[0;32m/opt/anaconda3/lib/python3.12/site-packages/pandas/io/parsers/readers.py:620\u001b[0m, in \u001b[0;36m_read\u001b[0;34m(filepath_or_buffer, kwds)\u001b[0m\n\u001b[1;32m    617\u001b[0m _validate_names(kwds\u001b[38;5;241m.\u001b[39mget(\u001b[38;5;124m\"\u001b[39m\u001b[38;5;124mnames\u001b[39m\u001b[38;5;124m\"\u001b[39m, \u001b[38;5;28;01mNone\u001b[39;00m))\n\u001b[1;32m    619\u001b[0m \u001b[38;5;66;03m# Create the parser.\u001b[39;00m\n\u001b[0;32m--> 620\u001b[0m parser \u001b[38;5;241m=\u001b[39m TextFileReader(filepath_or_buffer, \u001b[38;5;241m*\u001b[39m\u001b[38;5;241m*\u001b[39mkwds)\n\u001b[1;32m    622\u001b[0m \u001b[38;5;28;01mif\u001b[39;00m chunksize \u001b[38;5;129;01mor\u001b[39;00m iterator:\n\u001b[1;32m    623\u001b[0m     \u001b[38;5;28;01mreturn\u001b[39;00m parser\n",
      "File \u001b[0;32m/opt/anaconda3/lib/python3.12/site-packages/pandas/io/parsers/readers.py:1620\u001b[0m, in \u001b[0;36mTextFileReader.__init__\u001b[0;34m(self, f, engine, **kwds)\u001b[0m\n\u001b[1;32m   1617\u001b[0m     \u001b[38;5;28mself\u001b[39m\u001b[38;5;241m.\u001b[39moptions[\u001b[38;5;124m\"\u001b[39m\u001b[38;5;124mhas_index_names\u001b[39m\u001b[38;5;124m\"\u001b[39m] \u001b[38;5;241m=\u001b[39m kwds[\u001b[38;5;124m\"\u001b[39m\u001b[38;5;124mhas_index_names\u001b[39m\u001b[38;5;124m\"\u001b[39m]\n\u001b[1;32m   1619\u001b[0m \u001b[38;5;28mself\u001b[39m\u001b[38;5;241m.\u001b[39mhandles: IOHandles \u001b[38;5;241m|\u001b[39m \u001b[38;5;28;01mNone\u001b[39;00m \u001b[38;5;241m=\u001b[39m \u001b[38;5;28;01mNone\u001b[39;00m\n\u001b[0;32m-> 1620\u001b[0m \u001b[38;5;28mself\u001b[39m\u001b[38;5;241m.\u001b[39m_engine \u001b[38;5;241m=\u001b[39m \u001b[38;5;28mself\u001b[39m\u001b[38;5;241m.\u001b[39m_make_engine(f, \u001b[38;5;28mself\u001b[39m\u001b[38;5;241m.\u001b[39mengine)\n",
      "File \u001b[0;32m/opt/anaconda3/lib/python3.12/site-packages/pandas/io/parsers/readers.py:1880\u001b[0m, in \u001b[0;36mTextFileReader._make_engine\u001b[0;34m(self, f, engine)\u001b[0m\n\u001b[1;32m   1878\u001b[0m     \u001b[38;5;28;01mif\u001b[39;00m \u001b[38;5;124m\"\u001b[39m\u001b[38;5;124mb\u001b[39m\u001b[38;5;124m\"\u001b[39m \u001b[38;5;129;01mnot\u001b[39;00m \u001b[38;5;129;01min\u001b[39;00m mode:\n\u001b[1;32m   1879\u001b[0m         mode \u001b[38;5;241m+\u001b[39m\u001b[38;5;241m=\u001b[39m \u001b[38;5;124m\"\u001b[39m\u001b[38;5;124mb\u001b[39m\u001b[38;5;124m\"\u001b[39m\n\u001b[0;32m-> 1880\u001b[0m \u001b[38;5;28mself\u001b[39m\u001b[38;5;241m.\u001b[39mhandles \u001b[38;5;241m=\u001b[39m get_handle(\n\u001b[1;32m   1881\u001b[0m     f,\n\u001b[1;32m   1882\u001b[0m     mode,\n\u001b[1;32m   1883\u001b[0m     encoding\u001b[38;5;241m=\u001b[39m\u001b[38;5;28mself\u001b[39m\u001b[38;5;241m.\u001b[39moptions\u001b[38;5;241m.\u001b[39mget(\u001b[38;5;124m\"\u001b[39m\u001b[38;5;124mencoding\u001b[39m\u001b[38;5;124m\"\u001b[39m, \u001b[38;5;28;01mNone\u001b[39;00m),\n\u001b[1;32m   1884\u001b[0m     compression\u001b[38;5;241m=\u001b[39m\u001b[38;5;28mself\u001b[39m\u001b[38;5;241m.\u001b[39moptions\u001b[38;5;241m.\u001b[39mget(\u001b[38;5;124m\"\u001b[39m\u001b[38;5;124mcompression\u001b[39m\u001b[38;5;124m\"\u001b[39m, \u001b[38;5;28;01mNone\u001b[39;00m),\n\u001b[1;32m   1885\u001b[0m     memory_map\u001b[38;5;241m=\u001b[39m\u001b[38;5;28mself\u001b[39m\u001b[38;5;241m.\u001b[39moptions\u001b[38;5;241m.\u001b[39mget(\u001b[38;5;124m\"\u001b[39m\u001b[38;5;124mmemory_map\u001b[39m\u001b[38;5;124m\"\u001b[39m, \u001b[38;5;28;01mFalse\u001b[39;00m),\n\u001b[1;32m   1886\u001b[0m     is_text\u001b[38;5;241m=\u001b[39mis_text,\n\u001b[1;32m   1887\u001b[0m     errors\u001b[38;5;241m=\u001b[39m\u001b[38;5;28mself\u001b[39m\u001b[38;5;241m.\u001b[39moptions\u001b[38;5;241m.\u001b[39mget(\u001b[38;5;124m\"\u001b[39m\u001b[38;5;124mencoding_errors\u001b[39m\u001b[38;5;124m\"\u001b[39m, \u001b[38;5;124m\"\u001b[39m\u001b[38;5;124mstrict\u001b[39m\u001b[38;5;124m\"\u001b[39m),\n\u001b[1;32m   1888\u001b[0m     storage_options\u001b[38;5;241m=\u001b[39m\u001b[38;5;28mself\u001b[39m\u001b[38;5;241m.\u001b[39moptions\u001b[38;5;241m.\u001b[39mget(\u001b[38;5;124m\"\u001b[39m\u001b[38;5;124mstorage_options\u001b[39m\u001b[38;5;124m\"\u001b[39m, \u001b[38;5;28;01mNone\u001b[39;00m),\n\u001b[1;32m   1889\u001b[0m )\n\u001b[1;32m   1890\u001b[0m \u001b[38;5;28;01massert\u001b[39;00m \u001b[38;5;28mself\u001b[39m\u001b[38;5;241m.\u001b[39mhandles \u001b[38;5;129;01mis\u001b[39;00m \u001b[38;5;129;01mnot\u001b[39;00m \u001b[38;5;28;01mNone\u001b[39;00m\n\u001b[1;32m   1891\u001b[0m f \u001b[38;5;241m=\u001b[39m \u001b[38;5;28mself\u001b[39m\u001b[38;5;241m.\u001b[39mhandles\u001b[38;5;241m.\u001b[39mhandle\n",
      "File \u001b[0;32m/opt/anaconda3/lib/python3.12/site-packages/pandas/io/common.py:873\u001b[0m, in \u001b[0;36mget_handle\u001b[0;34m(path_or_buf, mode, encoding, compression, memory_map, is_text, errors, storage_options)\u001b[0m\n\u001b[1;32m    868\u001b[0m \u001b[38;5;28;01melif\u001b[39;00m \u001b[38;5;28misinstance\u001b[39m(handle, \u001b[38;5;28mstr\u001b[39m):\n\u001b[1;32m    869\u001b[0m     \u001b[38;5;66;03m# Check whether the filename is to be opened in binary mode.\u001b[39;00m\n\u001b[1;32m    870\u001b[0m     \u001b[38;5;66;03m# Binary mode does not support 'encoding' and 'newline'.\u001b[39;00m\n\u001b[1;32m    871\u001b[0m     \u001b[38;5;28;01mif\u001b[39;00m ioargs\u001b[38;5;241m.\u001b[39mencoding \u001b[38;5;129;01mand\u001b[39;00m \u001b[38;5;124m\"\u001b[39m\u001b[38;5;124mb\u001b[39m\u001b[38;5;124m\"\u001b[39m \u001b[38;5;129;01mnot\u001b[39;00m \u001b[38;5;129;01min\u001b[39;00m ioargs\u001b[38;5;241m.\u001b[39mmode:\n\u001b[1;32m    872\u001b[0m         \u001b[38;5;66;03m# Encoding\u001b[39;00m\n\u001b[0;32m--> 873\u001b[0m         handle \u001b[38;5;241m=\u001b[39m \u001b[38;5;28mopen\u001b[39m(\n\u001b[1;32m    874\u001b[0m             handle,\n\u001b[1;32m    875\u001b[0m             ioargs\u001b[38;5;241m.\u001b[39mmode,\n\u001b[1;32m    876\u001b[0m             encoding\u001b[38;5;241m=\u001b[39mioargs\u001b[38;5;241m.\u001b[39mencoding,\n\u001b[1;32m    877\u001b[0m             errors\u001b[38;5;241m=\u001b[39merrors,\n\u001b[1;32m    878\u001b[0m             newline\u001b[38;5;241m=\u001b[39m\u001b[38;5;124m\"\u001b[39m\u001b[38;5;124m\"\u001b[39m,\n\u001b[1;32m    879\u001b[0m         )\n\u001b[1;32m    880\u001b[0m     \u001b[38;5;28;01melse\u001b[39;00m:\n\u001b[1;32m    881\u001b[0m         \u001b[38;5;66;03m# Binary mode\u001b[39;00m\n\u001b[1;32m    882\u001b[0m         handle \u001b[38;5;241m=\u001b[39m \u001b[38;5;28mopen\u001b[39m(handle, ioargs\u001b[38;5;241m.\u001b[39mmode)\n",
      "\u001b[0;31mFileNotFoundError\u001b[0m: [Errno 2] No such file or directory: 'walls_out.csv'"
     ]
    }
   ],
   "source": [
    "# total solar irradiance\n",
    "wall_out = pd.read_csv('walls_out.csv', sep=';')\n",
    "w0 = wall_out[wall_out['ID'] == 'w0']\n",
    "\n",
    "surface_orientation = {'slope': w0['β'].values[0],\n",
    "                       'azimuth': w0['γ'].values[0],\n",
    "                       'latitude': 45}\n",
    "\n",
    "rad_surf = dm4bem.sol_rad_tilt_surf(\n",
    "    weather, surface_orientation, w0['albedo'].values[0])\n",
    "print(wall_out)"
   ]
  },
  {
   "cell_type": "code",
   "execution_count": null,
   "id": "298a01cb-7a23-4041-8a8f-e8082d6457ac",
   "metadata": {
    "tags": []
   },
   "outputs": [],
   "source": [
    "print(f\"{rad_surf.loc['2000-02-02 12:00']['direct']:.0f} W/m²\")\n",
    "#print(f\"{rad_surf.loc['2000-07-02 12:00']['direct']:.0f} W/m²\")\n",
    "print(f\"Mean. direct irradiation: {rad_surf['direct'].mean():.0f} W/m²\")\n",
    "print(f\"Max. direct irradiation:  {rad_surf['direct'].max():.0f} W/m²\")\n",
    "print(f\"Direct solar irradiance is maximum on {rad_surf['direct'].idxmax()}\")"
   ]
  },
  {
   "cell_type": "markdown",
   "id": "a5bf407c-f0aa-42bc-b32d-8e7d50625e08",
   "metadata": {
    "tags": []
   },
   "source": [
    "The total solar [irradiance](https://en.m.wikipedia.org/wiki/Solar_irradiance) on the wall  $E_{tot}$, in W/m², is the sum of direct, diffuse, and reflected components.  "
   ]
  },
  {
   "cell_type": "code",
   "execution_count": 92,
   "id": "05d124c1-2163-422d-8d77-de84f221441b",
   "metadata": {
    "tags": []
   },
   "outputs": [],
   "source": [
    "Etot = rad_surf.sum(axis=1)"
   ]
  },
  {
   "cell_type": "markdown",
   "id": "2e277e25-fcc3-48f3-af24-da339cf9750b",
   "metadata": {},
   "source": [
    "##### Flow rate sources\n",
    "\n",
    "The radiation absorbed by the outdoor surface of the wall is:\n",
    "\n",
    "$$\\Phi_o = \\alpha_{w,SW} S_w E_{tot}$$\n",
    "\n",
    "where:\n",
    "- $\\alpha_{w,SW}$ is the [absorptance](https://en.m.wikipedia.org/wiki/Absorptance) of the outdoor surface of the wall in short wave, $0 \\leqslant \\alpha_{w,SW} \\leqslant 1$;\n",
    "- $S_w$ - surface area of the wall, m²;\n",
    "- $E_{tot}$ - total [solar irradiance](https://en.m.wikipedia.org/wiki/Solar_irradiance) on the wall, W/m²."
   ]
  },
  {
   "cell_type": "code",
   "execution_count": 94,
   "id": "e608aa34-ae61-4a71-8bce-51ea61597e34",
   "metadata": {
    "tags": []
   },
   "outputs": [
    {
     "name": "stdout",
     "output_type": "stream",
     "text": [
      "2000-02-01 12:00:00+01:00    1933.155000\n",
      "2000-02-01 13:00:00+01:00    3512.661828\n",
      "2000-02-01 14:00:00+01:00    2782.969174\n",
      "2000-02-01 15:00:00+01:00    1901.569813\n",
      "2000-02-01 16:00:00+01:00    1248.585456\n",
      "                                ...     \n",
      "2000-02-07 14:00:00+01:00    1773.270000\n",
      "2000-02-07 15:00:00+01:00    1279.080000\n",
      "2000-02-07 16:00:00+01:00     639.540000\n",
      "2000-02-07 17:00:00+01:00     159.885000\n",
      "2000-02-07 18:00:00+01:00       0.000000\n",
      "Length: 151, dtype: float64\n"
     ]
    }
   ],
   "source": [
    "# solar radiation absorbed by the outdoor surface of the wall\n",
    "Φo = w0['α1'].values[0] * w0['Area'].values[0] * Etot\n",
    "print(Φo)"
   ]
  },
  {
   "cell_type": "markdown",
   "id": "687feffb-3642-4bed-8d9c-06874bb6f24e",
   "metadata": {
    "tags": []
   },
   "source": [
    "The short wave (i.e. solar) radiation, in W, absorbed by the indoor surfaces of the wall is:\n",
    "\n",
    "$$\\Phi_i = \\tau_{g,SW}  \\alpha_{w,SW} S_g E_{tot}$$\n",
    "\n",
    "where:\n",
    "- $\\tau_{g,SW}$ is the transmission coefficient of the window glass, $0 \\leqslant \\tau_{g,SW} \\leqslant 1$;\n",
    "- $\\alpha_{w,SW}$ - absortion coefficient of the indoor surface of the wall in short wave, $0 \\leqslant \\alpha_{w,SW} \\leqslant 1$;\n",
    "- $S_g$ - surface area of the window glass, m²;\n",
    "- $E_{tot}$ - total solar radiation intensity on the wall, W/m²"
   ]
  },
  {
   "cell_type": "code",
   "execution_count": 96,
   "id": "f0b1ed5d-abb2-4fcc-8628-46c554cc1eb8",
   "metadata": {
    "tags": []
   },
   "outputs": [
    {
     "name": "stdout",
     "output_type": "stream",
     "text": [
      "2000-02-01 12:00:00+01:00    199.001250\n",
      "2000-02-01 13:00:00+01:00    361.597541\n",
      "2000-02-01 14:00:00+01:00    286.482121\n",
      "2000-02-01 15:00:00+01:00    195.749834\n",
      "2000-02-01 16:00:00+01:00    128.530856\n",
      "                                ...    \n",
      "2000-02-07 14:00:00+01:00    182.542500\n",
      "2000-02-07 15:00:00+01:00    131.670000\n",
      "2000-02-07 16:00:00+01:00     65.835000\n",
      "2000-02-07 17:00:00+01:00     16.458750\n",
      "2000-02-07 18:00:00+01:00      0.000000\n",
      "Length: 151, dtype: float64\n"
     ]
    }
   ],
   "source": [
    "# window glass properties\n",
    "α_gSW = 0.38    # short wave absortivity: reflective blue glass\n",
    "τ_gSW = 0.30    # short wave transmitance: reflective blue glass\n",
    "S_g  = 7*3\n",
    "\n",
    "# solar radiation absorbed by the indoor surface of the wall\n",
    "Φi = τ_gSW * w0['α0'].values[0] * S_g * Etot\n",
    "print(Φi)"
   ]
  },
  {
   "cell_type": "code",
   "execution_count": 97,
   "id": "7783162b-39b6-4d2c-a99c-54b7bc084d2e",
   "metadata": {
    "tags": []
   },
   "outputs": [],
   "source": [
    "# solar radiation absorbed by the glass\n",
    "Φa = α_gSW * S_g * Etot"
   ]
  },
  {
   "cell_type": "markdown",
   "id": "71c9aeae-cfed-416a-ab6a-43b79733eb1d",
   "metadata": {},
   "source": [
    "### Schedules\n",
    "#### Indoor air temperature set-point\n",
    "\n",
    "$$T_{i, sp} = [T_{{i, sp}(0)}, T_{{i, sp}(1)}, ..., T_{{i, sp}(n-1)}]$$\n",
    "\n",
    "is the [time series](https://en.m.wikipedia.org/wiki/Time_series) of the setpoint indoor temperature at [discrete time](https://en.m.wikipedia.org/wiki/Discrete_time_and_continuous_time#Discrete_time) $t = [t_0, t_1, ... , t_{n-1}]$. Let's consider the indoor temperature set-point constant, $T_{i, sp} = 20 \\, \\mathrm{°C}$."
   ]
  },
  {
   "cell_type": "code",
   "execution_count": 99,
   "id": "c61bdc5d-4182-4f6e-bafe-6c41fdbfc093",
   "metadata": {
    "tags": []
   },
   "outputs": [],
   "source": [
    "Ti_day, Ti_night = 20, 16\n",
    "\n",
    "Tisp = pd.Series(\n",
    "    [Ti_day if 6 <= hour <= 22 else Ti_night for hour in To.index.hour],\n",
    "    index=To.index)"
   ]
  },
  {
   "cell_type": "code",
   "execution_count": 100,
   "id": "f2a0ed00-281a-433e-b275-c0e33b96122d",
   "metadata": {
    "tags": []
   },
   "outputs": [],
   "source": [
    "Qa = 120 "
   ]
  },
  {
   "cell_type": "markdown",
   "id": "c2cf6be1-b7c0-4746-ab8b-628b32f6ca9d",
   "metadata": {},
   "source": [
    "### Input data set"
   ]
  },
  {
   "cell_type": "code",
   "execution_count": 102,
   "id": "c294efef-18d7-41e9-80fd-2a3fa1288d24",
   "metadata": {
    "tags": []
   },
   "outputs": [],
   "source": [
    "# Input data set\n",
    "input_data_set = pd.DataFrame({'To': To, 'Tisp': Tisp,\n",
    "                               'Φo': Φo, 'Φi': Φi, 'Qa': Qa,  'Φa': Φa,\n",
    "                               'Etot': Etot})"
   ]
  },
  {
   "cell_type": "code",
   "execution_count": 103,
   "id": "2467ee7b-b4c1-4a3e-8984-4ecf54b92abd",
   "metadata": {
    "tags": []
   },
   "outputs": [
    {
     "data": {
      "text/html": [
       "<div>\n",
       "<style scoped>\n",
       "    .dataframe tbody tr th:only-of-type {\n",
       "        vertical-align: middle;\n",
       "    }\n",
       "\n",
       "    .dataframe tbody tr th {\n",
       "        vertical-align: top;\n",
       "    }\n",
       "\n",
       "    .dataframe thead th {\n",
       "        text-align: right;\n",
       "    }\n",
       "</style>\n",
       "<table border=\"1\" class=\"dataframe\">\n",
       "  <thead>\n",
       "    <tr style=\"text-align: right;\">\n",
       "      <th></th>\n",
       "      <th>To</th>\n",
       "      <th>Tisp</th>\n",
       "      <th>Φo</th>\n",
       "      <th>Φi</th>\n",
       "      <th>Qa</th>\n",
       "      <th>Φa</th>\n",
       "      <th>Etot</th>\n",
       "    </tr>\n",
       "  </thead>\n",
       "  <tbody>\n",
       "    <tr>\n",
       "      <th>2000-02-01 12:00:00+01:00</th>\n",
       "      <td>4.6</td>\n",
       "      <td>20</td>\n",
       "      <td>1933.155000</td>\n",
       "      <td>199.001250</td>\n",
       "      <td>120</td>\n",
       "      <td>1008.273000</td>\n",
       "      <td>126.350000</td>\n",
       "    </tr>\n",
       "    <tr>\n",
       "      <th>2000-02-01 13:00:00+01:00</th>\n",
       "      <td>4.9</td>\n",
       "      <td>20</td>\n",
       "      <td>3512.661828</td>\n",
       "      <td>361.597541</td>\n",
       "      <td>120</td>\n",
       "      <td>1832.094208</td>\n",
       "      <td>229.585740</td>\n",
       "    </tr>\n",
       "    <tr>\n",
       "      <th>2000-02-01 14:00:00+01:00</th>\n",
       "      <td>5.4</td>\n",
       "      <td>20</td>\n",
       "      <td>2782.969174</td>\n",
       "      <td>286.482121</td>\n",
       "      <td>120</td>\n",
       "      <td>1451.509412</td>\n",
       "      <td>181.893410</td>\n",
       "    </tr>\n",
       "    <tr>\n",
       "      <th>2000-02-01 15:00:00+01:00</th>\n",
       "      <td>5.9</td>\n",
       "      <td>20</td>\n",
       "      <td>1901.569813</td>\n",
       "      <td>195.749834</td>\n",
       "      <td>120</td>\n",
       "      <td>991.799158</td>\n",
       "      <td>124.285609</td>\n",
       "    </tr>\n",
       "    <tr>\n",
       "      <th>2000-02-01 16:00:00+01:00</th>\n",
       "      <td>5.6</td>\n",
       "      <td>20</td>\n",
       "      <td>1248.585456</td>\n",
       "      <td>128.530856</td>\n",
       "      <td>120</td>\n",
       "      <td>651.223003</td>\n",
       "      <td>81.606893</td>\n",
       "    </tr>\n",
       "    <tr>\n",
       "      <th>...</th>\n",
       "      <td>...</td>\n",
       "      <td>...</td>\n",
       "      <td>...</td>\n",
       "      <td>...</td>\n",
       "      <td>...</td>\n",
       "      <td>...</td>\n",
       "      <td>...</td>\n",
       "    </tr>\n",
       "    <tr>\n",
       "      <th>2000-02-07 14:00:00+01:00</th>\n",
       "      <td>4.0</td>\n",
       "      <td>20</td>\n",
       "      <td>1773.270000</td>\n",
       "      <td>182.542500</td>\n",
       "      <td>120</td>\n",
       "      <td>924.882000</td>\n",
       "      <td>115.900000</td>\n",
       "    </tr>\n",
       "    <tr>\n",
       "      <th>2000-02-07 15:00:00+01:00</th>\n",
       "      <td>3.9</td>\n",
       "      <td>20</td>\n",
       "      <td>1279.080000</td>\n",
       "      <td>131.670000</td>\n",
       "      <td>120</td>\n",
       "      <td>667.128000</td>\n",
       "      <td>83.600000</td>\n",
       "    </tr>\n",
       "    <tr>\n",
       "      <th>2000-02-07 16:00:00+01:00</th>\n",
       "      <td>2.9</td>\n",
       "      <td>20</td>\n",
       "      <td>639.540000</td>\n",
       "      <td>65.835000</td>\n",
       "      <td>120</td>\n",
       "      <td>333.564000</td>\n",
       "      <td>41.800000</td>\n",
       "    </tr>\n",
       "    <tr>\n",
       "      <th>2000-02-07 17:00:00+01:00</th>\n",
       "      <td>2.2</td>\n",
       "      <td>20</td>\n",
       "      <td>159.885000</td>\n",
       "      <td>16.458750</td>\n",
       "      <td>120</td>\n",
       "      <td>83.391000</td>\n",
       "      <td>10.450000</td>\n",
       "    </tr>\n",
       "    <tr>\n",
       "      <th>2000-02-07 18:00:00+01:00</th>\n",
       "      <td>1.8</td>\n",
       "      <td>20</td>\n",
       "      <td>0.000000</td>\n",
       "      <td>0.000000</td>\n",
       "      <td>120</td>\n",
       "      <td>0.000000</td>\n",
       "      <td>0.000000</td>\n",
       "    </tr>\n",
       "  </tbody>\n",
       "</table>\n",
       "<p>151 rows × 7 columns</p>\n",
       "</div>"
      ],
      "text/plain": [
       "                            To  Tisp           Φo          Φi   Qa  \\\n",
       "2000-02-01 12:00:00+01:00  4.6    20  1933.155000  199.001250  120   \n",
       "2000-02-01 13:00:00+01:00  4.9    20  3512.661828  361.597541  120   \n",
       "2000-02-01 14:00:00+01:00  5.4    20  2782.969174  286.482121  120   \n",
       "2000-02-01 15:00:00+01:00  5.9    20  1901.569813  195.749834  120   \n",
       "2000-02-01 16:00:00+01:00  5.6    20  1248.585456  128.530856  120   \n",
       "...                        ...   ...          ...         ...  ...   \n",
       "2000-02-07 14:00:00+01:00  4.0    20  1773.270000  182.542500  120   \n",
       "2000-02-07 15:00:00+01:00  3.9    20  1279.080000  131.670000  120   \n",
       "2000-02-07 16:00:00+01:00  2.9    20   639.540000   65.835000  120   \n",
       "2000-02-07 17:00:00+01:00  2.2    20   159.885000   16.458750  120   \n",
       "2000-02-07 18:00:00+01:00  1.8    20     0.000000    0.000000  120   \n",
       "\n",
       "                                    Φa        Etot  \n",
       "2000-02-01 12:00:00+01:00  1008.273000  126.350000  \n",
       "2000-02-01 13:00:00+01:00  1832.094208  229.585740  \n",
       "2000-02-01 14:00:00+01:00  1451.509412  181.893410  \n",
       "2000-02-01 15:00:00+01:00   991.799158  124.285609  \n",
       "2000-02-01 16:00:00+01:00   651.223003   81.606893  \n",
       "...                                ...         ...  \n",
       "2000-02-07 14:00:00+01:00   924.882000  115.900000  \n",
       "2000-02-07 15:00:00+01:00   667.128000   83.600000  \n",
       "2000-02-07 16:00:00+01:00   333.564000   41.800000  \n",
       "2000-02-07 17:00:00+01:00    83.391000   10.450000  \n",
       "2000-02-07 18:00:00+01:00     0.000000    0.000000  \n",
       "\n",
       "[151 rows x 7 columns]"
      ]
     },
     "execution_count": 103,
     "metadata": {},
     "output_type": "execute_result"
    }
   ],
   "source": [
    "input_data_set.to_csv('input_data_set.csv')\n",
    "input_data_set"
   ]
  },
  {
   "cell_type": "markdown",
   "id": "a8338546-d275-4230-a9b4-e5da8f428c68",
   "metadata": {
    "tags": []
   },
   "source": [
    "### Resample input data set\n",
    "\n",
    "The weather data and the scheduled sources are at the time-step of 1 h. The data needs to be resampled at time step `dt` used for numerical integration."
   ]
  },
  {
   "cell_type": "code",
   "execution_count": 105,
   "id": "06594f6a-8396-4bd7-a4d0-3c3bc1af1759",
   "metadata": {
    "tags": []
   },
   "outputs": [
    {
     "data": {
      "text/html": [
       "<div>\n",
       "<style scoped>\n",
       "    .dataframe tbody tr th:only-of-type {\n",
       "        vertical-align: middle;\n",
       "    }\n",
       "\n",
       "    .dataframe tbody tr th {\n",
       "        vertical-align: top;\n",
       "    }\n",
       "\n",
       "    .dataframe thead th {\n",
       "        text-align: right;\n",
       "    }\n",
       "</style>\n",
       "<table border=\"1\" class=\"dataframe\">\n",
       "  <thead>\n",
       "    <tr style=\"text-align: right;\">\n",
       "      <th></th>\n",
       "      <th>To</th>\n",
       "      <th>Tisp</th>\n",
       "      <th>Φo</th>\n",
       "      <th>Φi</th>\n",
       "      <th>Qa</th>\n",
       "      <th>Φa</th>\n",
       "      <th>Etot</th>\n",
       "    </tr>\n",
       "  </thead>\n",
       "  <tbody>\n",
       "    <tr>\n",
       "      <th>2000-02-01 12:00:00+01:00</th>\n",
       "      <td>4.600</td>\n",
       "      <td>20.0</td>\n",
       "      <td>1933.155000</td>\n",
       "      <td>199.001250</td>\n",
       "      <td>120.0</td>\n",
       "      <td>1008.273000</td>\n",
       "      <td>126.350000</td>\n",
       "    </tr>\n",
       "    <tr>\n",
       "      <th>2000-02-01 12:03:00+01:00</th>\n",
       "      <td>4.615</td>\n",
       "      <td>20.0</td>\n",
       "      <td>2012.130341</td>\n",
       "      <td>207.131065</td>\n",
       "      <td>120.0</td>\n",
       "      <td>1049.464060</td>\n",
       "      <td>131.511787</td>\n",
       "    </tr>\n",
       "    <tr>\n",
       "      <th>2000-02-01 12:06:00+01:00</th>\n",
       "      <td>4.630</td>\n",
       "      <td>20.0</td>\n",
       "      <td>2091.105683</td>\n",
       "      <td>215.260879</td>\n",
       "      <td>120.0</td>\n",
       "      <td>1090.655121</td>\n",
       "      <td>136.673574</td>\n",
       "    </tr>\n",
       "    <tr>\n",
       "      <th>2000-02-01 12:09:00+01:00</th>\n",
       "      <td>4.645</td>\n",
       "      <td>20.0</td>\n",
       "      <td>2170.081024</td>\n",
       "      <td>223.390694</td>\n",
       "      <td>120.0</td>\n",
       "      <td>1131.846181</td>\n",
       "      <td>141.835361</td>\n",
       "    </tr>\n",
       "    <tr>\n",
       "      <th>2000-02-01 12:12:00+01:00</th>\n",
       "      <td>4.660</td>\n",
       "      <td>20.0</td>\n",
       "      <td>2249.056366</td>\n",
       "      <td>231.520508</td>\n",
       "      <td>120.0</td>\n",
       "      <td>1173.037242</td>\n",
       "      <td>146.997148</td>\n",
       "    </tr>\n",
       "  </tbody>\n",
       "</table>\n",
       "</div>"
      ],
      "text/plain": [
       "                              To  Tisp           Φo          Φi     Qa  \\\n",
       "2000-02-01 12:00:00+01:00  4.600  20.0  1933.155000  199.001250  120.0   \n",
       "2000-02-01 12:03:00+01:00  4.615  20.0  2012.130341  207.131065  120.0   \n",
       "2000-02-01 12:06:00+01:00  4.630  20.0  2091.105683  215.260879  120.0   \n",
       "2000-02-01 12:09:00+01:00  4.645  20.0  2170.081024  223.390694  120.0   \n",
       "2000-02-01 12:12:00+01:00  4.660  20.0  2249.056366  231.520508  120.0   \n",
       "\n",
       "                                    Φa        Etot  \n",
       "2000-02-01 12:00:00+01:00  1008.273000  126.350000  \n",
       "2000-02-01 12:03:00+01:00  1049.464060  131.511787  \n",
       "2000-02-01 12:06:00+01:00  1090.655121  136.673574  \n",
       "2000-02-01 12:09:00+01:00  1131.846181  141.835361  \n",
       "2000-02-01 12:12:00+01:00  1173.037242  146.997148  "
      ]
     },
     "execution_count": 105,
     "metadata": {},
     "output_type": "execute_result"
    }
   ],
   "source": [
    "input_data_set = input_data_set.resample(\n",
    "    str(dt) + 's').interpolate(method='linear')\n",
    "input_data_set.head()"
   ]
  },
  {
   "cell_type": "markdown",
   "id": "171b6c3e-3121-483d-adff-f4179d857491",
   "metadata": {},
   "source": [
    "## Input vector in time\n",
    "\n",
    "In the _input data set_ an input, e.g. $T_o$, appears only once. However, the _i nput vector_ may contain the same time series multiple time; for example, in the model presented in \n",
    "Figure 1, there are three inputs $T_o$ corresponding to branches $q_0$, $q_8$, and $q_{10}$). Therefore, we need to obtain the _input vector_ from the _input data set_.\n",
    "\n",
    "The input in time is formed by the vectors of time series of temperature sources $\\left [ T_o, T_o ,T_o, T_{i,sp} \\right ]^T$ and vectors of time series of the heat flow sources $\\left [ \\Phi_o, \\Phi_i, \\dot{Q_a}, \\Phi_a \\right ]^T$:\n",
    "\n",
    "$$u = \n",
    "\\begin{bmatrix}\n",
    "T_o\\\\ \n",
    "T_o\\\\ \n",
    "T_o\\\\ \n",
    "T_{i,sp}\\\\ \n",
    "\\Phi_o\\\\ \n",
    "\\Phi_i\\\\ \n",
    "\\dot{Q}_a\\\\ \n",
    "\\Phi_a\n",
    "\\end{bmatrix}\n",
    "= \\begin{bmatrix}\n",
    "T_{o(0)} & T_{o(1)}& ... & T_{o(n-1)}\\\\ \n",
    "T_{o(0)} & T_{o(1)}& ... & T_{o(n-1)}\\ \\\\ \n",
    "T_{o(0)} & T_{o(1)}& ... & T_{o(n-1)}\\ \\\\ \n",
    " T_{i,sp(0)} & T_{i,sp(1)}& ... & T_{i,sp(n-1)}\\ \\\\ \n",
    "\\Phi_{o,(0)} & \\Phi_{o,(1)} & ... & \\Phi_{o,(n-1)}\\\\\n",
    "\\Phi_{i,(0)} & \\Phi_{i,(1)} & ... & \\Phi_{i,(n-1)}\\\\ \n",
    " \\dot{Q}_{a(0)} & \\dot{Q}_{a(1)} & ... & \\dot{Q}_{a(n-1)}\\\\ \n",
    "\\Phi_{a,(0)} & \\Phi_{a,(1)} & ... & \\Phi_{a,(n-1)}\n",
    "\\end{bmatrix}$$\n",
    "\n",
    "where the input data set is:\n",
    "\n",
    "$T_o$: the time series vector of outdoor temperatures (from weather data), °C.\n",
    "\n",
    "$T_{i,sp}$: time series vector of indoor setpoint temperatures, °C.\n",
    "\n",
    "$\\Phi_o$: time series vector of solar (i.e. short wave) radiation absorbed by the outdoor surface of the wall, W;\n",
    "\n",
    "$\\Phi_i$: time series vector of short wave (i.e. solar) radiation absorbed by the indoor surfaces of the wall, W;\n",
    "\n",
    "$\\dot{Q}_a$: time vector of auxiliary heat flows (from occupants, electrical devices, etc.), W.\n",
    "\n",
    "$\\Phi_a$: time series vector of short wave (i.e. solar) radiation absorbed by the window glass, W.\n",
    "\n",
    "The *input vector* `u` is obtained from the *input data set*, $T_o, T_{i,sp}, \\Phi_o, \\Phi_i, \\dot Q_a, \\Phi_a$, by using the order of the sources given in the state-space model, `us`: `q0` = $T_o$, `q2` = $T_o$,`q13` = $T_o$, `q20` = $T_o$, `q25` = $T_o$, `q26` = $T_o$, `q1` = $T_{i,sp}$, `θ0` = $\\Phi_o$, `θ19` = $\\Phi_o$, `θ4` = $\\Phi_i$, `θ6` = $\\Phi_i$, `θ8` = $\\Phi_i$, `θ15` = $\\Phi_i$, `θ5` = $\\dot Q_a$, and `θ9` = $\\dot Q_a$."
   ]
  },
  {
   "cell_type": "code",
   "execution_count": 107,
   "id": "59b46e0b-bf75-4f5e-bbbb-145bd86c1669",
   "metadata": {
    "tags": []
   },
   "outputs": [],
   "source": [
    "#print(us)\n",
    "#print(us.index)\n",
    "#print(input_data_set.columns)    "
   ]
  },
  {
   "cell_type": "code",
   "execution_count": 108,
   "id": "b2f20b3a-4cdd-4995-81c2-6d2e86250a8f",
   "metadata": {
    "tags": []
   },
   "outputs": [
    {
     "data": {
      "text/html": [
       "<div>\n",
       "<style scoped>\n",
       "    .dataframe tbody tr th:only-of-type {\n",
       "        vertical-align: middle;\n",
       "    }\n",
       "\n",
       "    .dataframe tbody tr th {\n",
       "        vertical-align: top;\n",
       "    }\n",
       "\n",
       "    .dataframe thead th {\n",
       "        text-align: right;\n",
       "    }\n",
       "</style>\n",
       "<table border=\"1\" class=\"dataframe\">\n",
       "  <thead>\n",
       "    <tr style=\"text-align: right;\">\n",
       "      <th></th>\n",
       "      <th>q0</th>\n",
       "      <th>q1</th>\n",
       "      <th>q2</th>\n",
       "      <th>q13</th>\n",
       "      <th>q20</th>\n",
       "      <th>q25</th>\n",
       "      <th>θ0</th>\n",
       "      <th>θ4</th>\n",
       "      <th>θ5</th>\n",
       "      <th>θ6</th>\n",
       "      <th>θ8</th>\n",
       "      <th>θ9</th>\n",
       "      <th>θ10</th>\n",
       "      <th>θ14</th>\n",
       "      <th>θ15</th>\n",
       "      <th>θ19</th>\n",
       "    </tr>\n",
       "  </thead>\n",
       "  <tbody>\n",
       "    <tr>\n",
       "      <th>2000-02-01 12:00:00+01:00</th>\n",
       "      <td>4.600</td>\n",
       "      <td>20.0</td>\n",
       "      <td>4.600</td>\n",
       "      <td>4.600</td>\n",
       "      <td>4.600</td>\n",
       "      <td>4.600</td>\n",
       "      <td>1933.155000</td>\n",
       "      <td>199.001250</td>\n",
       "      <td>120.0</td>\n",
       "      <td>199.001250</td>\n",
       "      <td>199.001250</td>\n",
       "      <td>120.0</td>\n",
       "      <td>1008.273000</td>\n",
       "      <td>1008.273000</td>\n",
       "      <td>199.001250</td>\n",
       "      <td>1933.155000</td>\n",
       "    </tr>\n",
       "    <tr>\n",
       "      <th>2000-02-01 12:03:00+01:00</th>\n",
       "      <td>4.615</td>\n",
       "      <td>20.0</td>\n",
       "      <td>4.615</td>\n",
       "      <td>4.615</td>\n",
       "      <td>4.615</td>\n",
       "      <td>4.615</td>\n",
       "      <td>2012.130341</td>\n",
       "      <td>207.131065</td>\n",
       "      <td>120.0</td>\n",
       "      <td>207.131065</td>\n",
       "      <td>207.131065</td>\n",
       "      <td>120.0</td>\n",
       "      <td>1049.464060</td>\n",
       "      <td>1049.464060</td>\n",
       "      <td>207.131065</td>\n",
       "      <td>2012.130341</td>\n",
       "    </tr>\n",
       "    <tr>\n",
       "      <th>2000-02-01 12:06:00+01:00</th>\n",
       "      <td>4.630</td>\n",
       "      <td>20.0</td>\n",
       "      <td>4.630</td>\n",
       "      <td>4.630</td>\n",
       "      <td>4.630</td>\n",
       "      <td>4.630</td>\n",
       "      <td>2091.105683</td>\n",
       "      <td>215.260879</td>\n",
       "      <td>120.0</td>\n",
       "      <td>215.260879</td>\n",
       "      <td>215.260879</td>\n",
       "      <td>120.0</td>\n",
       "      <td>1090.655121</td>\n",
       "      <td>1090.655121</td>\n",
       "      <td>215.260879</td>\n",
       "      <td>2091.105683</td>\n",
       "    </tr>\n",
       "    <tr>\n",
       "      <th>2000-02-01 12:09:00+01:00</th>\n",
       "      <td>4.645</td>\n",
       "      <td>20.0</td>\n",
       "      <td>4.645</td>\n",
       "      <td>4.645</td>\n",
       "      <td>4.645</td>\n",
       "      <td>4.645</td>\n",
       "      <td>2170.081024</td>\n",
       "      <td>223.390694</td>\n",
       "      <td>120.0</td>\n",
       "      <td>223.390694</td>\n",
       "      <td>223.390694</td>\n",
       "      <td>120.0</td>\n",
       "      <td>1131.846181</td>\n",
       "      <td>1131.846181</td>\n",
       "      <td>223.390694</td>\n",
       "      <td>2170.081024</td>\n",
       "    </tr>\n",
       "    <tr>\n",
       "      <th>2000-02-01 12:12:00+01:00</th>\n",
       "      <td>4.660</td>\n",
       "      <td>20.0</td>\n",
       "      <td>4.660</td>\n",
       "      <td>4.660</td>\n",
       "      <td>4.660</td>\n",
       "      <td>4.660</td>\n",
       "      <td>2249.056366</td>\n",
       "      <td>231.520508</td>\n",
       "      <td>120.0</td>\n",
       "      <td>231.520508</td>\n",
       "      <td>231.520508</td>\n",
       "      <td>120.0</td>\n",
       "      <td>1173.037242</td>\n",
       "      <td>1173.037242</td>\n",
       "      <td>231.520508</td>\n",
       "      <td>2249.056366</td>\n",
       "    </tr>\n",
       "  </tbody>\n",
       "</table>\n",
       "</div>"
      ],
      "text/plain": [
       "                              q0    q1     q2    q13    q20    q25  \\\n",
       "2000-02-01 12:00:00+01:00  4.600  20.0  4.600  4.600  4.600  4.600   \n",
       "2000-02-01 12:03:00+01:00  4.615  20.0  4.615  4.615  4.615  4.615   \n",
       "2000-02-01 12:06:00+01:00  4.630  20.0  4.630  4.630  4.630  4.630   \n",
       "2000-02-01 12:09:00+01:00  4.645  20.0  4.645  4.645  4.645  4.645   \n",
       "2000-02-01 12:12:00+01:00  4.660  20.0  4.660  4.660  4.660  4.660   \n",
       "\n",
       "                                    θ0          θ4     θ5          θ6  \\\n",
       "2000-02-01 12:00:00+01:00  1933.155000  199.001250  120.0  199.001250   \n",
       "2000-02-01 12:03:00+01:00  2012.130341  207.131065  120.0  207.131065   \n",
       "2000-02-01 12:06:00+01:00  2091.105683  215.260879  120.0  215.260879   \n",
       "2000-02-01 12:09:00+01:00  2170.081024  223.390694  120.0  223.390694   \n",
       "2000-02-01 12:12:00+01:00  2249.056366  231.520508  120.0  231.520508   \n",
       "\n",
       "                                   θ8     θ9          θ10          θ14  \\\n",
       "2000-02-01 12:00:00+01:00  199.001250  120.0  1008.273000  1008.273000   \n",
       "2000-02-01 12:03:00+01:00  207.131065  120.0  1049.464060  1049.464060   \n",
       "2000-02-01 12:06:00+01:00  215.260879  120.0  1090.655121  1090.655121   \n",
       "2000-02-01 12:09:00+01:00  223.390694  120.0  1131.846181  1131.846181   \n",
       "2000-02-01 12:12:00+01:00  231.520508  120.0  1173.037242  1173.037242   \n",
       "\n",
       "                                  θ15          θ19  \n",
       "2000-02-01 12:00:00+01:00  199.001250  1933.155000  \n",
       "2000-02-01 12:03:00+01:00  207.131065  2012.130341  \n",
       "2000-02-01 12:06:00+01:00  215.260879  2091.105683  \n",
       "2000-02-01 12:09:00+01:00  223.390694  2170.081024  \n",
       "2000-02-01 12:12:00+01:00  231.520508  2249.056366  "
      ]
     },
     "execution_count": 108,
     "metadata": {},
     "output_type": "execute_result"
    }
   ],
   "source": [
    "# Input vector in time from input_data_set\n",
    "u = dm4bem.inputs_in_time(us, input_data_set)\n",
    "u.head()"
   ]
  },
  {
   "cell_type": "markdown",
   "id": "e0d2794e-0258-48d5-92b0-cfc38fc2ddb1",
   "metadata": {},
   "source": [
    "## Initial conditions\n",
    "The initial value of the state-vector can be zero or different from zero."
   ]
  },
  {
   "cell_type": "code",
   "execution_count": 110,
   "id": "625a41a2-984e-4546-b4af-0c89fec22f6b",
   "metadata": {
    "tags": []
   },
   "outputs": [],
   "source": [
    "# Initial conditions\n",
    "θ0 = 20.0                   # °C, initial temperatures\n",
    "θ = pd.DataFrame(index=u.index)\n",
    "θ[As.columns] = θ0          # fill θ with initial valeus θ0"
   ]
  },
  {
   "cell_type": "markdown",
   "id": "f9cee594-929d-434e-b4d7-e3b3f0ec5f1e",
   "metadata": {},
   "source": [
    "## Time integration\n",
    "The state-space model\n",
    "\n",
    "$$\\left\\{\\begin{array}{rr}\n",
    "\\dot{\\theta}_C=A_s \\theta_C + B_s u\\\\ \n",
    "y = C_s \\theta_C + D_s u\n",
    "\\end{array}\\right.$$\n",
    "\n",
    "is integrated in time by using [Euler forward (or explicit) method](https://en.m.wikipedia.org/wiki/Numerical_methods_for_ordinary_differential_equations#Euler_method) for numerical integration:\n",
    "\n",
    "$$ \\theta_{s,k+1} = (I + \\Delta t A) \\theta_{s,k} + \\Delta t B u_k $$\n",
    "\n",
    "or [Euler backward (or implicit) method](https://en.m.wikipedia.org/wiki/Numerical_methods_for_ordinary_differential_equations#Backward_Euler_method) for numerical integration:\n",
    "\n",
    "$$\\theta_{s,k+1} = (I - \\Delta t A)^{-1} ( \\theta_{s,k} + \\Delta t B u_k )$$\n",
    "\n",
    "\n",
    "where $k = 0, ... , n - 1$."
   ]
  },
  {
   "cell_type": "code",
   "execution_count": 112,
   "id": "5ea5ed40-1dfe-4858-862f-1acb8bc1ab53",
   "metadata": {
    "tags": []
   },
   "outputs": [],
   "source": [
    "I = np.eye(As.shape[0])     # identity matrix\n",
    "\n",
    "if explicit_Euler:\n",
    "    for k in range(u.shape[0] - 1):\n",
    "        θ.iloc[k + 1] = (I + dt * As) @ θ.iloc[k] + dt * Bs @ u.iloc[k]\n",
    "else:\n",
    "    for k in range(u.shape[0] - 1):\n",
    "        θ.iloc[k + 1] = np.linalg.inv(\n",
    "            I - dt * As) @ (θ.iloc[k] + dt * Bs @ u.iloc[k])"
   ]
  },
  {
   "cell_type": "markdown",
   "id": "61e150db-8a96-440f-91b0-1bc1705a36ea",
   "metadata": {},
   "source": [
    "## Outputs\n",
    "\n",
    "From the time variation of state variable $\\theta_s$ we obtain the time variation of the output $y$ (i.e., indoor temperature):\n",
    "\n",
    "$$y = C_s \\theta_s + D_s u$$"
   ]
  },
  {
   "cell_type": "code",
   "execution_count": 114,
   "id": "f181f342-5055-4257-a46a-353aec9e32e8",
   "metadata": {},
   "outputs": [],
   "source": [
    "# outputs\n",
    "y = (Cs @ θ.T + Ds @  u.T).T"
   ]
  },
  {
   "cell_type": "markdown",
   "id": "362b9956-fb76-47e5-b8fb-0345dd564ed1",
   "metadata": {},
   "source": [
    "and the variation in time of the heat flow of the HVAC system:\n",
    "\n",
    "$$q_{HVAC} = K_p (T_{i,sp} - \\theta_i) = K_p (T_{i,sp} - y)$$\n",
    "\n",
    "where $K_p$ is the gain of the P-controller and $T_{i,sp}$ is the HVAC-setpoint for the indoor temperature."
   ]
  },
  {
   "cell_type": "code",
   "execution_count": 116,
   "id": "8490635f-2904-430e-89f0-8ef457f76591",
   "metadata": {},
   "outputs": [
    {
     "data": {
      "text/plain": [
       "2000-02-01 12:00:00+01:00    20.000000\n",
       "2000-02-01 12:03:00+01:00    19.683072\n",
       "2000-02-01 12:06:00+01:00    19.676566\n",
       "2000-02-01 12:09:00+01:00    19.530600\n",
       "2000-02-01 12:12:00+01:00    19.471003\n",
       "                               ...    \n",
       "2000-02-07 17:48:00+01:00    16.743380\n",
       "2000-02-07 17:51:00+01:00    16.733342\n",
       "2000-02-07 17:54:00+01:00    16.723401\n",
       "2000-02-07 17:57:00+01:00    16.713549\n",
       "2000-02-07 18:00:00+01:00    16.703779\n",
       "Freq: 180s, Name: θ9, Length: 3001, dtype: float64"
      ]
     },
     "execution_count": 116,
     "metadata": {},
     "output_type": "execute_result"
    }
   ],
   "source": [
    "Kp = TC['G']['q1']     # controller gain\n",
    "S = 25                   # m², surface area of the living room\n",
    "q_HVAC = Kp * (u['q1'] - y['θ9']) / S  # W/m²\n",
    "y['θ9']"
   ]
  },
  {
   "cell_type": "markdown",
   "id": "c7b62b90-e915-4223-933b-bb57699f64f4",
   "metadata": {},
   "source": [
    "## Plots\n",
    "\n",
    "We select the data to plot:\n",
    "\n",
    "- $T_o$, outdoor temperature, °C;\n",
    "- $\\theta_i$, indoor temperature, °C;\n",
    "- $E_{tot}$, total solar irradiance, W/m²;\n",
    "- $q_{HVAC}$, thermal load, i.e., the power that the HVAC system needs to deliver in order to maintain the indoor air temperature at its set-point, W."
   ]
  },
  {
   "cell_type": "code",
   "execution_count": 118,
   "id": "164d4a37-03cc-40ba-ad5e-a1a502ea98f2",
   "metadata": {},
   "outputs": [
    {
     "name": "stdout",
     "output_type": "stream",
     "text": [
      "                              To        θlr         θb        Etot     q_HVAC\n",
      "2000-02-01 12:00:00+01:00  4.600  20.000000  20.000000  126.350000   0.000000\n",
      "2000-02-01 12:03:00+01:00  4.615  19.683072  20.937680  131.511787   6.338564\n",
      "2000-02-01 12:06:00+01:00  4.630  19.676566  21.033746  136.673574   6.468672\n",
      "2000-02-01 12:09:00+01:00  4.645  19.530600  21.002821  141.835361   9.387999\n",
      "2000-02-01 12:12:00+01:00  4.660  19.471003  20.963677  146.997148  10.579932\n",
      "...                          ...        ...        ...         ...        ...\n",
      "2000-02-07 17:48:00+01:00  1.880  16.743380  13.024575    2.090000  65.132390\n",
      "2000-02-07 17:51:00+01:00  1.860  16.733342  12.983169    1.567500  65.333168\n",
      "2000-02-07 17:54:00+01:00  1.840  16.723401  12.942127    1.045000  65.531989\n",
      "2000-02-07 17:57:00+01:00  1.820  16.713549  12.901421    0.522500  65.729022\n",
      "2000-02-07 18:00:00+01:00  1.800  16.703779  12.861022    0.000000  65.924418\n",
      "\n",
      "[3001 rows x 5 columns]\n",
      "Total energi från q_HVAC: 135946.743053825\n",
      "Max temperature for θlr: 21.008695327216103\n",
      "Min temperature for θlr: 13.279480627813559\n",
      "Max temperature for θb: 30.5857460948829\n",
      "Min temperature for θb: 9.799005882046403\n"
     ]
    }
   ],
   "source": [
    "data = pd.DataFrame({'To': input_data_set['To'],\n",
    "                     'θlr': y['θ9'],\n",
    "                     'θb': y['θ5'],\n",
    "                     'Etot': input_data_set['Etot'],\n",
    "                     'q_HVAC': q_HVAC})\n",
    "print(data)\n",
    "total_energy = data['q_HVAC'].sum()\n",
    "\n",
    "print(f\"Total energi från q_HVAC: {total_energy}\")\n",
    "max_temp_lr = data['θlr'].max()  # Max temperature for θlr (olr)\n",
    "min_temp_lr = data['θlr'].min()  # Min temperature for θlr (olr)\n",
    "\n",
    "max_temp_b = data['θb'].max()    # Max temperature for θb (ob)\n",
    "min_temp_b = data['θb'].min()    # Min temperature for θb (ob)\n",
    "\n",
    "# Print results\n",
    "print(f\"Max temperature for θlr: {max_temp_lr}\")\n",
    "print(f\"Min temperature for θlr: {min_temp_lr}\")\n",
    "print(f\"Max temperature for θb: {max_temp_b}\")\n",
    "print(f\"Min temperature for θb: {min_temp_b}\")\n"
   ]
  },
  {
   "cell_type": "markdown",
   "id": "08d86b04-fbfa-497d-a440-e8a4df246b10",
   "metadata": {},
   "source": [
    "### Plots using Pandas\n",
    "\n",
    "The plots mays be done by using `plot` method for DataFrame."
   ]
  },
  {
   "cell_type": "code",
   "execution_count": 120,
   "id": "59b95541-0a88-4cbe-8df6-0655e89ef4e9",
   "metadata": {},
   "outputs": [
    {
     "data": {
      "image/png": "[encoded data removed]",
      "text/plain": [
       "<Figure size 640x480 with 3 Axes>"
      ]
     },
     "metadata": {},
     "output_type": "display_data"
    }
   ],
   "source": [
    "fig, axs = plt.subplots(3, 1)\n",
    "\n",
    "data[['To', 'θb']].plot(ax=axs[0],\n",
    "                        xticks=[],\n",
    "                        ylabel='Temperature, $θ$ / °C')\n",
    "\n",
    "axs[0].legend(['$θ_{outdoor}$', '$θ_{bathroom}$'],\n",
    "              loc='upper right')\n",
    "\n",
    "\n",
    "data[['To', 'θlr']].plot(ax=axs[1],\n",
    "                        xticks=[],\n",
    "                        ylabel='Temperature, $θ$ / °C')\n",
    "\n",
    "axs[1].legend(['$θ_{outdoor}$', '$θ_{living room}$'],\n",
    "              loc='upper right')\n",
    "\n",
    "\n",
    "data[['Etot', 'q_HVAC']].plot(ax=axs[2],\n",
    "                              ylabel='Heat rate, $q$ / (W·m⁻²)')\n",
    "axs[2].set(xlabel='Time')\n",
    "axs[2].legend(['$E_{total}$', '$q_{HVAC}$'],\n",
    "              loc='upper right')\n",
    "\n",
    "plt.show();"
   ]
  },
  {
   "cell_type": "markdown",
   "id": "9c3146db-6fc3-424f-b6d5-fee621466191",
   "metadata": {},
   "source": [
    "> Figures. Simulation in free-running with weather data using Euler explicit method of integration. a) Bathroom and outdoor temperatures. b) Living room and outdoor temperatures.c) Solar and HVAC heat flow rates."
   ]
  },
  {
   "cell_type": "markdown",
   "id": "9712b7fb-1200-4faf-9089-faffc45bc7cb",
   "metadata": {},
   "source": [
    "The different modifications were made for both a period during winter and one during summer. In this optimization the focus was on the energy consumption of the building. The results of all the simulations have been summarized and displayed in the following table.  \n",
    "| Variation                         | Time of Year | Simulation Period | Heating Energy Consumption | Cooling Energy Consumption |\n",
    "|----------------------------------|--------------|--------------------|-----------------------------|-----------------------------|\n",
    "| Original                         | Winter       | 7 days             | 137.85 kW                  | -                           |\n",
    "|                                  | Summer       | 7 days             | -                          | 153.240 kW                  |\n",
    "| Double thickness concrete wall   | Winter       | 7 days             | 135.95 kW                  | -                           |\n",
    "|                                  | Summer       | 7 days             | -                          | 152.272 kW                  |\n",
    "| Double thickness insulation      | Winter       | 7 days             | 101.830 W                  | -                           |\n",
    "|                                  | Summer       | 7 days             | -                          | 115.166 W                  |\n",
    "\n",
    "\n",
    "\n",
    "By looking at these results, it can be seen that energy consumption decreases slightly when increasing the amount of concrete, by at most 1.38%. This indicates that doubling the wall thickness is likely not a preferred solution, as the small energy savings are unlikely to justify the higher cost of materials and construction. From a sustainability perspective, the increased use of concrete would also most likely outweigh the benefits of reduced energy demand. \n",
    "\n",
    "In contrast, doubling the thickness of the insulation led to a 26.13% reduction in heating energy consumption and a 24.84% reduction in cooling energy consumption. To determine whether this improvement is cost-effective, it would be necessary to compare the investment in insulation with potential savings on electricity. Additionally, the climate impact of producing and installing more insulation should be considered to evaluate how long it would take for the energy savings to offset the initial environmental footprint. "
   ]
  },
  {
   "cell_type": "code",
   "execution_count": null,
   "id": "5e40cead-46ac-497c-8b80-f01ec91b3576",
   "metadata": {},
   "outputs": [],
   "source": []
  }
 ],
 "metadata": {
  "kernelspec": {
   "display_name": "Python [conda env:base] *",
   "language": "python",
   "name": "conda-base-py"
  },
  "language_info": {
   "codemirror_mode": {
    "name": "ipython",
    "version": 3
   },
   "file_extension": ".py",
   "mimetype": "text/x-python",
   "name": "python",
   "nbconvert_exporter": "python",
   "pygments_lexer": "ipython3",
   "version": "3.12.7"
  }
 },
 "nbformat": 4,
 "nbformat_minor": 5
}
