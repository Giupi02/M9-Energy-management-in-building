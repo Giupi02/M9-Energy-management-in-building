{
  "metadata": {
    "kernelspec": {
      "name": "python",
      "display_name": "Python (Pyodide)",
      "language": "python"
    },
    "language_info": {
      "codemirror_mode": {
        "name": "python",
        "version": 3
      },
      "file_extension": ".py",
      "mimetype": "text/x-python",
      "name": "python",
      "nbconvert_exporter": "python",
      "pygments_lexer": "ipython3",
      "version": "3.8"
    }
  },
  "nbformat_minor": 5,
  "nbformat": 4,
  "cells": [
    {
      "id": "d876cdc6-4a9b-4d04-a475-061cd470940f",
      "cell_type": "markdown",
      "source": "# Project 2 M9 ",
      "metadata": {}
    },
    {
      "id": "ded8e054-62f7-4be6-afb3-b7ea57cbd194",
      "cell_type": "markdown",
      "source": "## Introduction",
      "metadata": {}
    },
    {
      "id": "89333e58-ea46-4c6e-9865-c2fb564cebb7",
      "cell_type": "markdown",
      "source": "The goal of the raport is to make a model of a simple building and examine its thermal properties and behaviour. ",
      "metadata": {}
    },
    {
      "id": "c76cb8c4-8602-40cf-bc50-4e76a9f12dfd",
      "cell_type": "markdown",
      "source": "## Description of building ",
      "metadata": {}
    },
    {
      "id": "88db8f56-2690-4a0a-b25f-0668c30c655d",
      "cell_type": "markdown",
      "source": "The chosen building is a studio apartment with one main living room and a bathroom. The building is located in France with the glazed wall facing south.",
      "metadata": {}
    },
    {
      "id": "930a3225-3a26-4cb2-bc66-b76c80751a24",
      "cell_type": "markdown",
      "source": "![Floor scetch of building](front.jpg)",
      "metadata": {}
    },
    {
      "id": "6d246530-4020-4f0f-b867-5019202e47a7",
      "cell_type": "markdown",
      "source": "Furthermore the entire building has been divided into two zones. As seen in the following table, the first zone is the living room/kitchen area whilst the other zone is a bathroom. The total area of the apartment is 35 $m^2$.\n| Area                                | Surface [m²] |\n|-------------------------------------|--------------|\n| Zone 1 (Living room/kitchen)       | 25           |\n| Zone 2 (Bathroom)                  | 10           |",
      "metadata": {}
    },
    {
      "id": "800f07e9-a925-4415-82a9-313b5a1916b1",
      "cell_type": "code",
      "source": "import numpy as np\nimport pandas as pd\n\nair = {'Density': 1.2,                      # kg/m³\n       'Specific heat': 1000}               # J/(kg·K)\npd.DataFrame(air, index=['Air'])",
      "metadata": {},
      "outputs": [
        {
          "data": {
            "text/html": [
              "<div>\n",
              "<style scoped>\n",
              "    .dataframe tbody tr th:only-of-type {\n",
              "        vertical-align: middle;\n",
              "    }\n",
              "\n",
              "    .dataframe tbody tr th {\n",
              "        vertical-align: top;\n",
              "    }\n",
              "\n",
              "    .dataframe thead th {\n",
              "        text-align: right;\n",
              "    }\n",
              "</style>\n",
              "<table border=\"1\" class=\"dataframe\">\n",
              "  <thead>\n",
              "    <tr style=\"text-align: right;\">\n",
              "      <th></th>\n",
              "      <th>Density</th>\n",
              "      <th>Specific heat</th>\n",
              "    </tr>\n",
              "  </thead>\n",
              "  <tbody>\n",
              "    <tr>\n",
              "      <th>Air</th>\n",
              "      <td>1.2</td>\n",
              "      <td>1000</td>\n",
              "    </tr>\n",
              "  </tbody>\n",
              "</table>\n",
              "</div>"
            ],
            "text/plain": [
              "     Density  Specific heat\n",
              "Air      1.2           1000"
            ]
          },
          "execution_count": 1,
          "metadata": {},
          "output_type": "execute_result"
        }
      ],
      "execution_count": 1
    },
    {
      "id": "c1984f50-c1c2-4972-8258-31084dea9931",
      "cell_type": "markdown",
      "source": "The exterior walls are compossed with a layer of concrete followed by a layer of insulation with the following parameters:\n| Material     | Thickness [cm] | Thermal conductivity λ [W/mK] | Specific heat c [J/kgK] | Volumetric mass density ρ [kg/m³] |\n|--------------|----------------|-------------------------------|--------------------------|-----------------------------------|\n| Concrete     | 20             | 1,4                           | 960                      | 2300                              |\n| Insulation   | 10             | 0,027                         | 840                      | 50                                |\n",
      "metadata": {}
    },
    {
      "id": "920ba537-7f0a-4572-bf3b-d472b9b6975b",
      "cell_type": "code",
      "source": "concrete_extern_salon = {'Conductivity': 1.400,          # W/(m·K)\n            'Density': 2300.0,              # kg/m³\n            'Specific heat': 960,           # J/(kg⋅K)\n            'Width': 0.2,                   # m\n            'Surface': 5*3*2}            # m²\n",
      "metadata": {},
      "outputs": [],
      "execution_count": 2
    },
    {
      "id": "989d385c-5841-411d-89b2-cbde67cfd0dd",
      "cell_type": "code",
      "source": "insulation_salon = {'Conductivity': 0.027,        # W/(m·K)\n              'Density': 50.0,              # kg/m³\n              'Specific heat': 840,        # J/(kg⋅K)\n              'Width': 0.1,                # m\n              'Surface': 5*2*3}          # m²",
      "metadata": {},
      "outputs": [],
      "execution_count": 3
    },
    {
      "id": "625f412b-cc72-429c-9359-8c380709466b",
      "cell_type": "code",
      "source": "concrete_extern_bathroom = {'Conductivity': 1.400,          # W/(m·K)\n            'Density': 2300.0,              # kg/m³\n            'Specific heat': 960,           # J/(kg⋅K)\n            'Width': 0.2,                   # m\n            'Surface': 5*3+2*3}            # m²\n\ninsulation_bathroom = {'Conductivity': 0.027,        # W/(m·K)\n              'Density': 50.0,              # kg/m³\n              'Specific heat': 840,        # J/(kg⋅K)\n              'Width': 0.1,                # m\n              'Surface': 5*3+2*3}          # m²",
      "metadata": {},
      "outputs": [],
      "execution_count": 4
    },
    {
      "id": "3fb21829-2882-4220-beb6-7dde0589c7fb",
      "cell_type": "markdown",
      "source": "*Source: [Engineering Toolbox - Specific Heat of Solids](https://www.engineeringtoolbox.com/specific-heat-solids-d_154.html)*",
      "metadata": {}
    },
    {
      "id": "98b06156-004a-428b-b884-bd6a55f6b03c",
      "cell_type": "markdown",
      "source": "The interior walls are as follows:",
      "metadata": {}
    },
    {
      "id": "ad35549f-b41a-465c-81a8-dbe1773a3de6",
      "cell_type": "markdown",
      "source": "| Material     | Thickness [cm] | Thermal conductivity λ [W/mK] | Specific heat c [J/kgK] | Volumetric mass density ρ [kg/m³] |\n|--------------|----------------|-------------------------------|--------------------------|-----------------------------------|\n| Concrete     | 7.5             | 1,4                           | 960                      | 2300                              |\n                                               ",
      "metadata": {}
    },
    {
      "id": "17c0c838-6d1d-488c-83a3-877d7b3e504e",
      "cell_type": "code",
      "source": "concrete_intern_salon = {'Conductivity': 1.400,          # W/(m·K)\n            'Density': 2300.0,              # kg/m³\n            'Specific heat': 960,           # J/(kg⋅K)\n            'Width': 0.075,                   # m\n            'Surface': 5*3}            # m²",
      "metadata": {},
      "outputs": [],
      "execution_count": 5
    },
    {
      "id": "aa5a8b88-02f1-40c8-bc9b-eedfbb700900",
      "cell_type": "code",
      "source": "concrete_intern_bathroom = {'Conductivity': 1.400,          # W/(m·K)\n            'Density': 2300.0,              # kg/m³\n            'Specific heat': 960,           # J/(kg⋅K)\n            'Width': 0.075,                   # m\n            'Surface': 5*3}            # m²",
      "metadata": {},
      "outputs": [],
      "execution_count": 6
    },
    {
      "id": "1b33d7de-7f52-497e-8653-f330875fed22",
      "cell_type": "markdown",
      "source": "To simplify the model both the exterior and the interior doors have been modelled the same way.",
      "metadata": {}
    },
    {
      "id": "48099cf7-b5ff-4a8f-8855-e16d0bdc137e",
      "cell_type": "markdown",
      "source": "| Material     | Thickness [cm] | Thermal conductivity λ [W/mK] | Specific heat c [J/kgK] | Volumetric mass density ρ [kg/m³] |\n|--------------|----------------|-------------------------------|--------------------------|-----------------------------------|\n| Wood         | 5              | 0,17                          | 2000                     | 800                              |\n",
      "metadata": {}
    },
    {
      "id": "49c82152-544a-44eb-a1cf-fbcf05711cc9",
      "cell_type": "code",
      "source": "door = {'Conductivity' : 0.17,\n        'Width' : 5,\n        'Surface' : 0.9*2.1,\n        'Specific heat' : 2000,\n        'Density' : 800 }",
      "metadata": {},
      "outputs": [],
      "execution_count": 7
    },
    {
      "id": "bdc29d65-1015-49c3-95a6-f1bd4f01f59d",
      "cell_type": "markdown",
      "source": "The windows are double glazed and have the following parameters \n| Material     | Thickness [cm] | Energy transmittance e | Specific heat c [J/kgK] | Volumetric mass density ρ [kg/m³] |\n|--------------|----------------|-------------------------------|--------------------------|-----------------------------------|\n| Window     | 2,4             | 0,75                          | 1210                      | 2500                              |\n",
      "metadata": {}
    },
    {
      "id": "71241343-df84-46b4-ab49-6dc93d2ad731",
      "cell_type": "code",
      "source": "glass_salon = {'Conductivity': 1.4,               # W/(m·K)\n         'Density': 2500,                   # kg/m³\n         'Specific heat': 1210,             # J/(kg⋅K)\n         'Width': 0.024,                     # m\n         'Surface': 5*3}                   # m²",
      "metadata": {},
      "outputs": [],
      "execution_count": 8
    },
    {
      "id": "39e8b80b-303c-4897-ac87-b53d420570a8",
      "cell_type": "code",
      "source": "glass_bathroom = {'Conductivity': 1.4,               # W/(m·K)\n         'Density': 2500,                   # kg/m³\n         'Specific heat': 1210,             # J/(kg⋅K)\n         'Width': 0.024,                     # m\n         'Surface': 2*3}                   # m²",
      "metadata": {},
      "outputs": [],
      "execution_count": 9
    },
    {
      "id": "5c5330d2-64f0-4878-bfa4-1fdccd032ec1",
      "cell_type": "markdown",
      "source": "The apartment is also assumed to be part of an apartment complex, with apartments under and over. This assumption makes the heat transfer from the ceilings and floors neglectable.",
      "metadata": {}
    },
    {
      "id": "3569e693-fd87-40b8-a9e4-44576fb187dd",
      "cell_type": "code",
      "source": "ceiling_soil_bathroom = {                    # m\n         'Surface': 2*5*2}  \n\nceiling_soil_salon = {                    # m\n         'Surface': 2*5*5}  ",
      "metadata": {},
      "outputs": [],
      "execution_count": 10
    },
    {
      "id": "30aef21d-2be4-4952-b010-3ac0dfe30bca",
      "cell_type": "markdown",
      "source": "The different rooms are assembled as follows:",
      "metadata": {}
    },
    {
      "id": "3be77300-3bd1-4679-9137-9698b931130c",
      "cell_type": "code",
      "source": "wall_salon = pd.DataFrame.from_dict({'Layer_out': concrete_extern_salon,\n                                     'Layer_out1': concrete_intern_bathroom,\n                               'Layer_in': insulation_salon,\n                               'Layer_in1': insulation_bathroom,\n                               'Glass': glass_salon,\n                               'Glass1': glass_bathroom,\n                               'Layer_out2' : concrete_extern_bathroom,\n                               'roof' : ceiling_soil_bathroom,\n                               'roof1' : ceiling_soil_salon,\n                               'door' : door\n                               },\n                              orient='index')\nwall_salon\n\nwall_bathroom = pd.DataFrame.from_dict({'Layer_out': concrete_extern_salon,\n                                     'Layer_out1': concrete_intern_bathroom,\n                               'Layer_in': insulation_salon,\n                               'Layer_in1': insulation_bathroom,\n                               'Glass': glass_salon,\n                               'Glass1': glass_bathroom,\n                               'Layer_out2' : concrete_extern_bathroom,\n                               'roof' : ceiling_soil_bathroom,\n                               'roof1' : ceiling_soil_salon,\n                               'door' : door\n                               },\n                              orient='index')\nwall_bathroom\n",
      "metadata": {},
      "outputs": [
        {
          "data": {
            "text/html": [
              "<div>\n",
              "<style scoped>\n",
              "    .dataframe tbody tr th:only-of-type {\n",
              "        vertical-align: middle;\n",
              "    }\n",
              "\n",
              "    .dataframe tbody tr th {\n",
              "        vertical-align: top;\n",
              "    }\n",
              "\n",
              "    .dataframe thead th {\n",
              "        text-align: right;\n",
              "    }\n",
              "</style>\n",
              "<table border=\"1\" class=\"dataframe\">\n",
              "  <thead>\n",
              "    <tr style=\"text-align: right;\">\n",
              "      <th></th>\n",
              "      <th>Conductivity</th>\n",
              "      <th>Density</th>\n",
              "      <th>Specific heat</th>\n",
              "      <th>Width</th>\n",
              "      <th>Surface</th>\n",
              "    </tr>\n",
              "  </thead>\n",
              "  <tbody>\n",
              "    <tr>\n",
              "      <th>Layer_out</th>\n",
              "      <td>1.400</td>\n",
              "      <td>2300.0</td>\n",
              "      <td>960.0</td>\n",
              "      <td>0.200</td>\n",
              "      <td>30.00</td>\n",
              "    </tr>\n",
              "    <tr>\n",
              "      <th>Layer_out1</th>\n",
              "      <td>1.400</td>\n",
              "      <td>2300.0</td>\n",
              "      <td>960.0</td>\n",
              "      <td>0.075</td>\n",
              "      <td>15.00</td>\n",
              "    </tr>\n",
              "    <tr>\n",
              "      <th>Layer_in</th>\n",
              "      <td>0.027</td>\n",
              "      <td>50.0</td>\n",
              "      <td>840.0</td>\n",
              "      <td>0.100</td>\n",
              "      <td>30.00</td>\n",
              "    </tr>\n",
              "    <tr>\n",
              "      <th>Layer_in1</th>\n",
              "      <td>0.027</td>\n",
              "      <td>50.0</td>\n",
              "      <td>840.0</td>\n",
              "      <td>0.100</td>\n",
              "      <td>21.00</td>\n",
              "    </tr>\n",
              "    <tr>\n",
              "      <th>Glass</th>\n",
              "      <td>1.400</td>\n",
              "      <td>2500.0</td>\n",
              "      <td>1210.0</td>\n",
              "      <td>0.024</td>\n",
              "      <td>15.00</td>\n",
              "    </tr>\n",
              "    <tr>\n",
              "      <th>Glass1</th>\n",
              "      <td>1.400</td>\n",
              "      <td>2500.0</td>\n",
              "      <td>1210.0</td>\n",
              "      <td>0.024</td>\n",
              "      <td>6.00</td>\n",
              "    </tr>\n",
              "    <tr>\n",
              "      <th>Layer_out2</th>\n",
              "      <td>1.400</td>\n",
              "      <td>2300.0</td>\n",
              "      <td>960.0</td>\n",
              "      <td>0.200</td>\n",
              "      <td>21.00</td>\n",
              "    </tr>\n",
              "    <tr>\n",
              "      <th>door</th>\n",
              "      <td>0.170</td>\n",
              "      <td>800.0</td>\n",
              "      <td>2000.0</td>\n",
              "      <td>5.000</td>\n",
              "      <td>1.89</td>\n",
              "    </tr>\n",
              "    <tr>\n",
              "      <th>roof</th>\n",
              "      <td>NaN</td>\n",
              "      <td>NaN</td>\n",
              "      <td>NaN</td>\n",
              "      <td>NaN</td>\n",
              "      <td>20.00</td>\n",
              "    </tr>\n",
              "    <tr>\n",
              "      <th>roof1</th>\n",
              "      <td>NaN</td>\n",
              "      <td>NaN</td>\n",
              "      <td>NaN</td>\n",
              "      <td>NaN</td>\n",
              "      <td>50.00</td>\n",
              "    </tr>\n",
              "  </tbody>\n",
              "</table>\n",
              "</div>"
            ],
            "text/plain": [
              "            Conductivity  Density  Specific heat  Width  Surface\n",
              "Layer_out          1.400   2300.0          960.0  0.200    30.00\n",
              "Layer_out1         1.400   2300.0          960.0  0.075    15.00\n",
              "Layer_in           0.027     50.0          840.0  0.100    30.00\n",
              "Layer_in1          0.027     50.0          840.0  0.100    21.00\n",
              "Glass              1.400   2500.0         1210.0  0.024    15.00\n",
              "Glass1             1.400   2500.0         1210.0  0.024     6.00\n",
              "Layer_out2         1.400   2300.0          960.0  0.200    21.00\n",
              "door               0.170    800.0         2000.0  5.000     1.89\n",
              "roof                 NaN      NaN            NaN    NaN    20.00\n",
              "roof1                NaN      NaN            NaN    NaN    50.00"
            ]
          },
          "execution_count": 11,
          "metadata": {},
          "output_type": "execute_result"
        }
      ],
      "execution_count": 11
    },
    {
      "id": "c28aed05-82ea-4994-80f0-5c985dd50edc",
      "cell_type": "markdown",
      "source": "## Hypothesis   ",
      "metadata": {}
    },
    {
      "id": "4e03c1c5-2a9a-47bb-8782-18d50d157fbd",
      "cell_type": "markdown",
      "source": "In this study, several simplifying assumptions were made to facilitate the thermal modeling of the apartment:\n- The apartment is also assumed to be part of an apartment complex, with apartments under and over. This assumption makes the heat transfer from the ceilings and floors neglectable.\n- The building is located in France with the glazed wall facing south.\n- Neglect long wave radiation because $$\nG_{LW} = \\sigma T^3 \\varepsilon \\approx 0.135 \\ \\text{W·K}^{-1} \\ll G_{\\text{conduction}} \\approx 200 \\ \\text{W·K}^{-1} \\quad \\text{and} \\quad G_{\\text{convection}} \\approx 60 \\ \\text{W·K}^{-1}\n$$\n- We assume no heat transfer through the east wall, as the corridor has a similar and stable temperature.\n-We consider the door between the two rooms to be opaque to radiation, meaning no radiative heat transfer occurs through it. \n",
      "metadata": {},
      "attachments": {}
    },
    {
      "id": "a5d642ba-1bb1-4709-95c3-91016b2b2673",
      "cell_type": "markdown",
      "source": "## Thermal model ",
      "metadata": {}
    },
    {
      "id": "fc74de43-6297-4e69-a082-97fda8076732",
      "cell_type": "markdown",
      "source": "The previously described building is depicted using nodes and flows by the following model.",
      "metadata": {}
    },
    {
      "id": "7431ea7c-8bbe-40d8-8be9-eee8cf656311",
      "cell_type": "markdown",
      "source": "![Thermal Model](thermal.png)",
      "metadata": {}
    },
    {
      "id": "b038f7ab-ea8f-4af7-b98c-6739355e9101",
      "cell_type": "markdown",
      "source": "h is the convection coefficient for the walls. The surface resistance on the inside is 8 $W/(m^2K)$ and for the outside surface the value is 25 $ W/(m^2K) $  .",
      "metadata": {}
    },
    {
      "id": "f95ade18-4851-4059-befe-d7529020f903",
      "cell_type": "code",
      "source": "σ = 5.67e-8     # W/(m²⋅K⁴) Stefan-Bolzmann constant\n\nh = pd.DataFrame([{'in': 8., 'out': 25}], index=['h'])  # W/(m²⋅K)\nh",
      "metadata": {},
      "outputs": [
        {
          "data": {
            "text/html": [
              "<div>\n",
              "<style scoped>\n",
              "    .dataframe tbody tr th:only-of-type {\n",
              "        vertical-align: middle;\n",
              "    }\n",
              "\n",
              "    .dataframe tbody tr th {\n",
              "        vertical-align: top;\n",
              "    }\n",
              "\n",
              "    .dataframe thead th {\n",
              "        text-align: right;\n",
              "    }\n",
              "</style>\n",
              "<table border=\"1\" class=\"dataframe\">\n",
              "  <thead>\n",
              "    <tr style=\"text-align: right;\">\n",
              "      <th></th>\n",
              "      <th>in</th>\n",
              "      <th>out</th>\n",
              "    </tr>\n",
              "  </thead>\n",
              "  <tbody>\n",
              "    <tr>\n",
              "      <th>h</th>\n",
              "      <td>8.0</td>\n",
              "      <td>25</td>\n",
              "    </tr>\n",
              "  </tbody>\n",
              "</table>\n",
              "</div>"
            ],
            "text/plain": [
              "    in  out\n",
              "h  8.0   25"
            ]
          },
          "execution_count": 12,
          "metadata": {},
          "output_type": "execute_result"
        }
      ],
      "execution_count": 12
    },
    {
      "id": "5df1d75e-8ffa-421b-9847-62ff14b458b9",
      "cell_type": "markdown",
      "source": "\nThe volumetric flow rate of the air, $ \\mathrm{m}^3/\\mathrm{s} $, with the following equation:\n",
      "metadata": {}
    },
    {
      "id": "a7238d62-09cc-4162-b73f-b06820d9523a",
      "cell_type": "markdown",
      "source": "$ \\dot{V}_a = \\frac{\\mathrm{ACH}}{3600} V_a $",
      "metadata": {}
    },
    {
      "id": "63f105a6-72b5-4f86-9f0c-935c8bd4dfdd",
      "cell_type": "markdown",
      "source": "Where ACH is the air changes per hours, 1/h",
      "metadata": {}
    },
    {
      "id": "435144f5-248d-4084-80d3-b247053ed7fe",
      "cell_type": "markdown",
      "source": "$ V_a $ is the volume of the air, $ m^3 $ ",
      "metadata": {}
    },
    {
      "id": "ba157f27-4707-4d4f-ae03-ca60312cc1b8",
      "cell_type": "markdown",
      "source": "and 3600 is the number of seconds in one hour",
      "metadata": {}
    },
    {
      "id": "a41ccc18-5cfd-4e1e-8728-778750abdd0a",
      "cell_type": "markdown",
      "source": "# Controller ",
      "metadata": {}
    },
    {
      "id": "672f728c-a802-480f-a804-3d47a20a2133",
      "cell_type": "markdown",
      "source": "The model utilizes a proportional heater, which is a simple representation of a controller. ",
      "metadata": {}
    },
    {
      "id": "fdd7f2d3-0241-4bcc-a49c-144db2dbb51f",
      "cell_type": "markdown",
      "source": "$$q_{HVAC} = K_p (T_{i, sp} - \\theta_i)$$",
      "metadata": {}
    },
    {
      "id": "df04047b-385e-4d58-a799-0b7424c36318",
      "cell_type": "markdown",
      "source": "It works by changing the heat flow rate $q_{HVAC}$, in order to controll the indoor temperature $\\theta_i$ to its setpoint temperature $T_{i,sp}$. ",
      "metadata": {}
    },
    {
      "id": "d742eaa0-6b1b-4446-9bf6-ad7b6dd698e1",
      "cell_type": "markdown",
      "source": "The $ K_p $ value, the proportional gain of the controller, was chosen to 1000. This represents an almost perfect controller.",
      "metadata": {}
    },
    {
      "id": "be209c18-d2ed-4f6c-9245-8149ddafe284",
      "cell_type": "code",
      "source": "# ventilation flow rate\nVa_bathroom = 5*2*3                 # m³, volume of air\nVa_salon = 5*5*3                 # m³, volume of air\nACH = 1                     # 1/h, air changes per hour\nVa_dot_bathroom = ACH / 3600 * Va_bathroom  # m³/s, air infiltration\nVa_dot_salon = ACH / 3600 * Va_salon  # m³/s, air infiltration\nKp = 1000 # W/K",
      "metadata": {},
      "outputs": [],
      "execution_count": 13
    },
    {
      "id": "7996a2a2-724b-4ea0-8695-76d6bf4f9807",
      "cell_type": "markdown",
      "source": "The test was done three times with three different temperatures, 0°C 15°C and 30°C.",
      "metadata": {}
    },
    {
      "id": "12239fd3-17f5-4877-916d-96be05f63edb",
      "cell_type": "code",
      "source": "T0=30 #données météo\nTisp=19 # à déinir\nair_bathroom = {'Conductivity': 1.4,               # W/(m·K)\n          'Density': 1.2,                      # kg/m³                  \n          'Specific heat': 1000,             # J/(kg⋅K)\n          'Volume': 30, }                    # m^3\n\nair_salon = {'Conductivity': 1.4,               # W/(m·K)\n          'Density': 1.2,                      # kg/m³                  \n          'Specific heat': 1000,             # J/(kg⋅K)\n          'Volume': 75, }                    # m^3\n                  ",
      "metadata": {},
      "outputs": [],
      "execution_count": 14
    },
    {
      "id": "5fdc5dfe-ae63-471e-a331-5949de4494d9",
      "cell_type": "markdown",
      "source": "In the thermal model, each material is depicted using two resistances and a node. The nodes correspond to the temperatures in volumes, points or surfaces. In this case the temperatures in the air, materials in walls and windows and set point temperatures. The branches corresponds to the heat flow rate between the temperature nodes.\n\nThe equation to solve is as follows:\n\n$$\nC \\dot{\\theta} = -(A^T GA) \\theta + A^T Gb + f\n$$\n\nTo find the steady state solution,\n\n$$\n\\dot{\\theta} = 0\n$$",
      "metadata": {}
    },
    {
      "id": "4b3c9f09-9b5d-4d66-9e7e-591971135bbc",
      "cell_type": "markdown",
      "source": "## Steady state model",
      "metadata": {}
    },
    {
      "id": "e397f523-7d91-46ff-a919-e6b1c89030e4",
      "cell_type": "markdown",
      "source": "Matrix A defines the direction of flows between nodes. The rows correspond to individual flows, while the columns represent each node. A value of 1 indicates that a node receives the flow, whereas -1 signifies that the flow is leaving the node.",
      "metadata": {}
    },
    {
      "id": "3642a6f5-8365-4299-9dec-22fbc7e57fbc",
      "cell_type": "code",
      "source": "nr = 27\nnc= 20\n\nA = np.zeros([nr, nc])\n\n\n\nA[0, 5] = 1\nA[1, 9] = 1\nA[2, 0] = 1\n\nj=0\nfor i in range(3,13):\n    A[i,j], A[i,j+1] = -1, 1\n    j+=1\n    \nA[13, 10] = 1\nA[14, 14], A[14, 5] = -1, 1\nA[14, 14], A[14, 5] = -1, 1\nA[15, 5], A[15, 11] = -1, 1\nA[16, 11], A[16, 12] = -1, 1\nA[17, 12], A[17, 13] = -1, 1\nA[18, 13], A[18, 9] = -1, 1\nA[19, 15], A[19, 9] = -1, 1\nA[20, 14] = 1\n \nj=15\nfor i in range(21,25):\n    A[i,j+1], A[i,j] = -1, 1\n    j+=1\n    \nA[25, 19] = 1\nA[26, 9] = 1",
      "metadata": {},
      "outputs": [],
      "execution_count": 15
    },
    {
      "id": "3ac650b0-d560-48f1-bbaa-7991c87590ec",
      "cell_type": "markdown",
      "source": "Matrix G is a square matrix where each row and column correspond to a specific flow. It is a diagonal matrix, with each diagonal element representing the conductance (G-value) of the respective flow. The following equations are used for this:\n\n$$\nG_{\\text{cond}} = S \\frac{\\lambda}{w}\n$$\n\nand\n\n$$\nG_{\\text{cv}} = hS\n$$",
      "metadata": {}
    },
    {
      "id": "672f6b17-34b2-402b-9b6b-856ca061a25d",
      "cell_type": "markdown",
      "source": "For the ventilation, the conductance for ventilation/infiltration is calculated using the following equation ",
      "metadata": {}
    },
    {
      "id": "00889ad9-bc32-4823-8325-f77d8fa4fd04",
      "cell_type": "markdown",
      "source": "$$ G_v = \\rho_a c_a \\dot{V}_a $$\nwith $\\rho_a$ being the density of the air, the volumetric flow rate of the air is $\\dot{V}_a$ and $c_a$ is the specific heat capacity of the air. ",
      "metadata": {}
    },
    {
      "id": "ae0f3d99-8497-4db1-868b-5478410d3783",
      "cell_type": "code",
      "source": "G = np.zeros((27,27))",
      "metadata": {},
      "outputs": [],
      "execution_count": 16
    },
    {
      "id": "2e8ed89e-96f9-49c8-bc26-8cd404c28806",
      "cell_type": "code",
      "source": "# ventilation & advection\nG[0,0]= air['Density'] * air['Specific heat'] * Va_dot_bathroom\nG[26,26] = air['Density'] * air['Specific heat'] * Va_dot_salon\nG[1,1]=Kp\nG[2,2] = h['out'] * (wall_bathroom['Surface'].iloc[6]-3*2)     # on enlève la partie du mur négligée\nG[3,3] = 2*(wall_bathroom['Surface'].iloc[6]-3*2)*wall_bathroom['Conductivity'].iloc[6]/wall_bathroom['Width'].iloc[6]    # on enlève la partie du mur négligée\nG[4,4] = G[3,3]\nG[5,5]= 2*(wall_bathroom['Surface'].iloc[3]-3*2)*wall_bathroom['Conductivity'].iloc[3]/wall_bathroom['Width'].iloc[3]     # on enlève la partie du mur négligée\nG[6,6] = G[5,5]\nG[7,7]= h['in'] * (wall_bathroom['Surface'].iloc[3]-3*2)  # on enlève la partie du mur négligée\nG[8,8]=h['in'] * wall_bathroom['Surface'].iloc[1]\nG[9,9]=2*wall_bathroom['Surface'].iloc[1]*wall_bathroom['Conductivity'].iloc[1]/wall_bathroom['Width'].iloc[1]\nG[10,10]=2*wall_bathroom['Surface'].iloc[1]*wall_bathroom['Conductivity'].iloc[1]/wall_bathroom['Width'].iloc[1]\nG[11,11]= h['in'] * wall_salon['Surface'].iloc[1]\nG[12,12]= h['in'] * wall_salon['Surface'].iloc[4]\nG[13,13]= h['out'] * wall_salon['Surface'].iloc[4]\nG[14,14]= h['in'] * wall_bathroom['Surface'].iloc[5]\nG[15,15]= h['in'] * wall_bathroom['Surface'].iloc[9]\nG[16,16]= 2*door['Surface']*door['Conductivity']/door['Width']\nG[17,17]=G[16,16]\nG[18,18]= h['in'] * wall_salon['Surface'].iloc[9]\nG[19,19]= h['in'] * (wall_salon['Surface'].iloc[2]-5*3)\nG[20,20]= h['out'] * wall_bathroom['Surface'].iloc[5]\nG[21,21]= 2*(wall_salon['Surface'].iloc[2]-5*3)*wall_bathroom['Conductivity'].iloc[2]/wall_bathroom['Width'].iloc[2]\nG[22,22]=G[21,21]\nG[23,23]=2*(wall_salon['Surface'].iloc[0]-5*3)*wall_bathroom['Conductivity'].iloc[0]/wall_bathroom['Width'].iloc[0]\nG[24,24]= G[23,23]\nG[25,25]=h['out'] * wall_salon['Surface'].iloc[0]",
      "metadata": {},
      "outputs": [],
      "execution_count": 17
    },
    {
      "id": "504c7359-c782-4e18-aa36-eaec45984297",
      "cell_type": "code",
      "source": "G[1,1] = Kp",
      "metadata": {},
      "outputs": [],
      "execution_count": 18
    },
    {
      "id": "9db80b67-a77f-4a8d-91ad-ac9861d0594a",
      "cell_type": "markdown",
      "source": "Similarly, matrix C shares the same structure as matrix G, but instead of representing flows, its rows and columns correspond to nodes. The diagonal elements of C represent the capacity at each node:\n\n$$\nC = \\rho c w S\n$$\n\nVector b is a column vector with as many rows as the number of flows. It represents the external temperature sources, which are the only temperature sources in the system. The values in b correspond to the external temperatures. If a flow is influenced by an external temperature source, the corresponding value in b will be the external temperature for that flow. \n\nThe vector f consists of rows, each corresponding to a different node. It represents the external flows at each node. The value of each entry in the vector corresponds to the size of the external source at that node. If the node has no external source, the value is 0. ",
      "metadata": {}
    },
    {
      "id": "bb335d06-2b31-4f43-85bf-7ef3db400a42",
      "cell_type": "code",
      "source": "# ----- b and f vectors -----\nf = np.zeros(20)\nb = np.zeros(27)\nb[0]=b[2]=b[13]=b[20]=b[25]=T0\nb[1]=Tisp    \n\nEs = 307 #W/m²\nEw = 391 #W/m²\nEn = 150 #W/m²\n\n# radiative properties\nε_wLW = 0.85    # long wave emmisivity: wall surface (concrete)\nε_gLW = 0.90    # long wave emmisivity: glass pyrex\nα_wSW = 0.25    # short wave absortivity: white smooth surface\nα_gSW = 0.38    # short wave absortivity: reflective blue glass\nτ_gSW = 0.30    # short wave transmitance: reflective blue glass\n\n# view factor\nFwall_ground = 0.5\nFwall_sky = 0.5\nFw_externgbathroom = (concrete_extern_bathroom['Surface']-3*2) / (glass_bathroom['Surface']+concrete_intern_bathroom['Surface']+ceiling_soil_bathroom['Surface'])\nFw_interngbathroom = (concrete_intern_bathroom['Surface']) / (glass_bathroom['Surface']+concrete_extern_bathroom['Surface']+ceiling_soil_bathroom['Surface'])\nFw_externgsalon = (concrete_extern_salon['Surface']-3*5) / (glass_salon['Surface']+concrete_intern_salon['Surface']+ceiling_soil_salon['Surface'])\nFw_interngsalon = (concrete_intern_salon['Surface']) / (glass_salon['Surface']+concrete_extern_salon['Surface']+ceiling_soil_salon['Surface'])\n\nphi0 = Fwall_sky*En*(concrete_extern_bathroom['Surface']-2*3)*α_wSW\nphi14 = Fwall_sky*Ew*glass_bathroom['Surface']*α_gSW\nphi10 = Fwall_sky*Es*glass_salon['Surface']*α_gSW\nphi19 = Fwall_sky*Ew*concrete_extern_salon['Surface']*α_wSW/2\nphi4 = Fw_externgbathroom*phi14*τ_gSW*α_wSW\nphi6 = Fw_interngbathroom*phi14*τ_gSW*α_wSW\nphi8 = Fw_interngsalon*phi10*τ_gSW*α_wSW\nphi15 = Fw_externgsalon*phi10*τ_gSW*α_wSW\nQa1 = 90+70 # one standing people and some machine in W\nQa2 = 90 # one standing people in W\n\nf=[phi0, 0, 0, 0, phi4, Qa2, phi6, 0, phi8, Qa1, phi10, 0, 0, 0, phi14, phi15, 0, 0, 0, phi19 ]\n",
      "metadata": {},
      "outputs": [],
      "execution_count": 19
    },
    {
      "id": "f1433b3a-6112-4d9f-a8f8-127ed7c41619",
      "cell_type": "markdown",
      "source": "The auxiliary heat gains, $  Q_{ai}  $, are added to each of the zones and represent the heat flow from the inhabitants and also heat gain from cooking and electronics. The heat gain from the inhabitants was estimated at 90 W.",
      "metadata": {}
    },
    {
      "id": "5a24b92c-a6f3-4232-9f2f-1025d079533e",
      "cell_type": "markdown",
      "source": "![Sensible Heat Gain and Latent Heat Gain in respect of human activities](table1.png)",
      "metadata": {}
    },
    {
      "id": "db1056f2-cca8-472a-823a-99289a41e802",
      "cell_type": "markdown",
      "source": "*Source: [Scientific Figure - Computer-Aided Load Estimation of Air-conditioning Systems for Non-residential and Residential Buildings](https://www.researchgate.net/figure/Sensible-Heat-Gain-SHG-and-Latent-Heat-Gain-LHG-in-respect-of-human-activities_tbl1_327228047 )*",
      "metadata": {}
    },
    {
      "id": "9e452f16-4a28-49b9-8413-23486fa2c443",
      "cell_type": "markdown",
      "source": "Heat gain from cooking and electronics was estimated to 70 W. \nWith these matrices implemented it is possible to perform the stead state calculations.",
      "metadata": {}
    },
    {
      "id": "aa61ae6e-5083-4bc9-bf60-34638747a6ff",
      "cell_type": "markdown",
      "source": "# Radiation",
      "metadata": {}
    },
    {
      "id": "f441a157-c147-4be3-8b70-23328a4d825a",
      "cell_type": "markdown",
      "source": "The long-wave radiation was calculated using the following:",
      "metadata": {}
    },
    {
      "id": "627331b6-ac63-4043-9827-3e05619a8f30",
      "cell_type": "markdown",
      "source": "$$ G = \\sigma T^3 \\epsilon \\approx 0.135 $$",
      "metadata": {}
    },
    {
      "id": "d3e25c26-5aa0-4c33-a2fc-2e75dca145d3",
      "cell_type": "markdown",
      "source": "When comparing this value with the convection ",
      "metadata": {}
    },
    {
      "id": "009ded55-235d-486c-9dbe-8252be9bc965",
      "cell_type": "markdown",
      "source": "$$\nG_{\\text{cv}} = hS \\approx 60\n$$",
      "metadata": {}
    },
    {
      "id": "4f1bbeb0-e0fa-4bd1-8482-3ba2048044cb",
      "cell_type": "markdown",
      "source": "and with the value for the conduction ",
      "metadata": {}
    },
    {
      "id": "2ff67409-305e-4feb-a602-06c18444f7e4",
      "cell_type": "markdown",
      "source": "$$\nG_{\\text{cond}} = S \\frac{\\lambda}{w} \\approx 200\n$$",
      "metadata": {}
    },
    {
      "id": "c3bd6a0f-1c41-43a6-b7da-a828e1de9c65",
      "cell_type": "markdown",
      "source": "it is noticeable that the value of the long-wave radiation is neglectable. ",
      "metadata": {}
    },
    {
      "id": "bdceaece-817f-4a5b-b966-079974b000e4",
      "cell_type": "markdown",
      "source": "## Results of steady state",
      "metadata": {}
    },
    {
      "id": "7aee9da4-b583-4827-b4bc-137469bdcc7c",
      "cell_type": "code",
      "source": "# temperature nodes\nnθ = 20      # number of temperature nodes\nθ = [f'θ{i}' for i in range(nθ)]\n\n# flow-rate branches\nnq = 27     # number of flow branches\nq = [f'q{i}' for i in range(nq)]\n\n\nθ = np.linalg.inv(A.T @ G @ A ) @ (A.T @ G @ b + f)\nprint(f'θ = {np.around(θ, 1)} °C')\n\na=wall_bathroom['Width'].iloc[3]\nprint(a , 'test')\n\nprint(f'Bathroom = {np.around(θ[5], 1)} °C')\nprint(f'Living room = {np.around(θ[9], 1)} °C')",
      "metadata": {},
      "outputs": [
        {
          "name": "stdout",
          "output_type": "stream",
          "text": "θ = [30.7 30.7 30.6 29.1 27.6 27.4 24.5 23.9 23.2 20.2 29.4 27.4 23.8 20.2\n, 31.6 20.6 25.6 30.5 30.7 30.9] °C\n,0.1 test\n,Bathroom = 27.4 °C\n,Living room = 20.2 °C\n"
        }
      ],
      "execution_count": 20
    },
    {
      "id": "f4b331d6-cd9c-4110-9e19-2c1d66bfa79c",
      "cell_type": "markdown",
      "source": "# Discussion",
      "metadata": {}
    },
    {
      "id": "8610121d-ef33-46b2-baef-3c801c31d44f",
      "cell_type": "markdown",
      "source": "The simulation results are considered realistic given the assumption that a temperature controller is only placed in the living room. This design choice leads to significant temperature differences between rooms. If an additional controller had been placed in the bathroom, these differences would likely have been reduced. Moreover, the decision to model the interior door as opaque further contributes to the temperature disparity, as the door is assumed not to allow any heat transfer, effectively acting as a solid barrier.\n\nIn the current model, the primary factor influencing the indoor temperature is the outdoor temperature. Additionally, the large glazed area contributes to increased indoor temperatures due to solar heat gain.\n\nIt is also important to note that the controller is modeled with a proportional gain (Kp) value of 1000, which assumes an almost ideal response. In real-life applications, such high performance is rarely achieved, and controller behavior tends to be less precise.",
      "metadata": {}
    },
    {
      "id": "e357cf22-a7cd-45f6-873a-8151c8d05ab8",
      "cell_type": "markdown",
      "source": "This section of the code is designed to calculate the energy consumption of the house resulting from the action of the controller. Since we have defined various values for both the setpoint temperature (Tisp) and the controller gain (Kp), we can use the previous simulation results to determine the corresponding indoor temperature in the living room (the value of Theta_in 1,2 and 3 are computed with the previous code).\n\nFrom this, we can compute the power consumption, denoted as q, and subsequently the total energy consumption E over a month, assuming the system operates for 11 hours per day.\n\nTo visualize this, we first chose to plot the variation of energy consumption E as a function of the setpoint temperature Tisp. Each curve on the graph represents a different controller gain value: 100, 1,000, or 10,000 W/K.",
      "metadata": {}
    },
    {
      "id": "55631d30-b809-4ee2-9e6b-d8cad50ab1b4",
      "cell_type": "code",
      "source": "import numpy as np\nimport matplotlib.pyplot as plt\n\n## T0=30°C\n\nTisp=[17,17.5,18,18.5,19,19.5,20,20.5,21,21.5,22,22.5,23]\nTheta_in1=[23.7,23.9,24.1,24.3,24.5,24.7,24.9,25.1,25.3,25.5,25.7,25.9,26.2]\nTheta_in2=[18.4,18.9,19.3,19.7,20.2,20.6,21.1,21.5,21.9,22.4,22.8,23.2,23.7]\nTheta_in3=[17.2,17.7,18.1,18.6,19.1,19.6,20.1,20.6,21.1,21.6,22.1,22.6,23.1]\nKp_1=100\nKp_2=1000\nKp_3=10000\nq1=np.zeros(len(Tisp))\nq2=np.zeros(len(Tisp))\nq3=np.zeros(len(Tisp))\nE1=np.zeros(len(Tisp))\nE2=np.zeros(len(Tisp))\nE3=np.zeros(len(Tisp))\ndt=30*11 #consommation sur 1 mois d'été avec une utilisation de la clim 11h/jour\nfor i in range(len(Tisp)):\n    q1[i]=abs(Kp_1*(Tisp[i]-Theta_in1[i]))\n    q2[i]=abs(Kp_2*(Tisp[i]-Theta_in2[i]))\n    q3[i]=abs(Kp_3*(Tisp[i]-Theta_in3[i]))\n    E1[i]=(dt*q1[i])/1000\n    E2[i]=(dt*q2[i])/1000\n    E3[i]=(dt*q3[i])/1000\n\n\n# Tracé des courbes\nplt.figure(figsize=(10, 6))\nplt.plot(Tisp, E1, label='Kp = 100', marker='o')\nplt.plot(Tisp, E2, label='Kp = 1000', marker='s')\nplt.plot(Tisp, E3, label='Kp = 10000', marker='^')\n\n# Ajout des éléments du graphique\nplt.title('Consommation énergétique en fonction de la température de consigne Tisp durant un mois d été')\nplt.xlabel('Tisp (°C)')\nplt.ylabel('E (kWh)')\nplt.legend()\nplt.grid(True)\nplt.tight_layout()\n\n# Affichage\nplt.show()",
      "metadata": {},
      "outputs": [
        {
          "data": {
            "image/png": "[encoded data removed]",
            "text/plain": [
              "<Figure size 720x432 with 1 Axes>"
            ]
          },
          "metadata": {
            "needs_background": "light"
          },
          "output_type": "display_data"
        }
      ],
      "execution_count": 21
    },
    {
      "id": "0d274858-3844-4a32-9626-6f6fd1367038",
      "cell_type": "markdown",
      "source": "As previously explained, the graph shows how energy consumption (E) evolves with respect to the setpoint temperature (Tisp) for three different values of the controller gain Kp, under summer conditions (with an outdoor temperature T0 = 30°C).\n\nWe observe that for lower values of Tisp, higher values of Kp lead to increased energy consumption. However, the graph reveals different types of behavior depending on the value of Kp. Specifically, the curves corresponding to Kp = 100 and 1,000 exhibit a linear or nearly linear trend: as the setpoint temperature increases, the energy consumption decreases. This result is expected and quite intuitive in summer, setting a lower indoor temperature (i.e. a lower setpoint) requires more energy to maintain, while setting it higher reduces the cooling demand and thus energy usage.\n\nIn contrast, the curve for Kp = 10,000 shows a markedly different behavior. Initially, between 17°C and 17.5°C, energy consumption remains relatively stable. Beyond this point, there is a sharp drop in consumption, which reaches approximately 325 kWh. From 18°C up to 23°C, the energy consumption plateaus and remains constant at this lower level.\n\nThis indicates that with a high controller gain of 10,000, it is possible to achieve significantly better thermal comfort (i.e., lower indoor temperatures) without increasing energy consumption beyond a certain point. However, it's important to note that overall, this setup still consumes more energy than systems with lower gains (Kp = 100 or 1,000).",
      "metadata": {}
    },
    {
      "id": "03299e21-7617-47c2-a75e-3338bd230505",
      "cell_type": "markdown",
      "source": "We then repeat the same process for winter conditions, assuming an outdoor temperature of T0 = 0°C. In this case, we calculate the total energy consumption E over the course of a month, with the heating system operating for 20 hours per day (the value of Theta_in 1,2 and 3 are computed with the previous code).",
      "metadata": {}
    },
    {
      "id": "0386421a-d892-45e8-a9d2-6880cf1aa33f",
      "cell_type": "code",
      "source": "import numpy as np\nimport matplotlib.pyplot as plt\n\n## T0=0°C\n\nTisp=[17,17.5,18,18.5,19,19.5,20,20.5,21,21.5,22,22.5,23]\nTheta_in1=[9,9.2,9.4,9.6,9.9,10.1,10.3,10.5,10.7,10.9,11.1,11.3,11.5]\nTheta_in2=[15.3,15.7,16.2,16.6,17,17.5,17.9,18.4,18.8,19.2,19.7,20.1,20.5]\nTheta_in3=[16.8,17.3,17.8,18.3,18.8,19.3,19.8,20.3,20.8,21.2,21.7,22.2,22.7]\nKp_1=100\nKp_2=1000\nKp_3=10000\nq1=np.zeros(len(Tisp))\nq2=np.zeros(len(Tisp))\nq3=np.zeros(len(Tisp))\nE1=np.zeros(len(Tisp))\nE2=np.zeros(len(Tisp))\nE3=np.zeros(len(Tisp))\ndt=30*20 #consommation sur 1 mois d'été avec une utilisation du chauffage 20h/jour\nfor i in range(len(Tisp)):\n    q1[i]=abs(Kp_1*(Tisp[i]-Theta_in1[i]))\n    q2[i]=abs(Kp_2*(Tisp[i]-Theta_in2[i]))\n    q3[i]=abs(Kp_3*(Tisp[i]-Theta_in3[i]))\n    E1[i]=(dt*q1[i])/1000\n    E2[i]=(dt*q2[i])/1000\n    E3[i]=(dt*q3[i])/1000\n\n\n# Tracé des courbes\nplt.figure(figsize=(10, 6))\nplt.plot(Tisp, E1, label='Kp = 100', marker='o')\nplt.plot(Tisp, E2, label='Kp = 1000', marker='s')\nplt.plot(Tisp, E3, label='Kp = 10000', marker='^')\n\n# Ajout des éléments du graphique\nplt.title('Consommation énergétique en fonction de la température de consigne Tisp durant un mois d été')\nplt.xlabel('Tisp (°C)')\nplt.ylabel('E (kWh)')\nplt.legend()\nplt.grid(True)\nplt.tight_layout()\n\n# Affichage\nplt.show()",
      "metadata": {},
      "outputs": [
        {
          "data": {
            "image/png": "[encoded data removed]",
            "text/plain": [
              "<Figure size 720x432 with 1 Axes>"
            ]
          },
          "metadata": {
            "needs_background": "light"
          },
          "output_type": "display_data"
        }
      ],
      "execution_count": 22
    },
    {
      "id": "bd2394a7-7eb2-4660-ab6a-f9ea3bc74d67",
      "cell_type": "markdown",
      "source": "As previously explained, the graph shows how energy consumption (E) evolves with respect to the setpoint temperature (Tisp) for three different values of the controller gain Kp, under winter conditions (with an outdoor temperature T0 = 0°C).\n\nWe observe that for higher values of Tisp, higher values of Kp lead to increased energy consumption. However, the graph reveals different types of behavior depending on the value of Kp. Specifically, the curves corresponding to Kp = 100 and 1,000 exhibit a linear or nearly linear trend: as the setpoint temperature increases, the energy consumption increase. This result is expected and quite intuitive in winter, setting a higher indoor temperature (i.e. a higher setpoint) requires more energy to maintain, while setting it lower reduces the heating demand and thus energy usage.\n\nIn contrast, the curve for Kp = 10,000 shows a markedly different behavior. Initially, between 17°C and 21°C, energy consumption remains relatively stable. Beyond this point, there is a sharp increase in consumption, which reaches approximately 1000 kWh. From 21,5°C up to 23°C, the energy consumption plateaus and remains constant at this higher level.\n\nThis indicates that with a high controller gain of 10,000, it is possible to achieve better thermal comfort (i.e., higher indoor temperatures) without increasing energy consumption beyond a certain point. However, it's important to note that overall, this setup still consumes more energy than systems with lower gains (Kp = 100 or 1,000).",
      "metadata": {}
    },
    {
      "id": "2dcf65c2-471b-4af8-9fc4-b624048d2d69",
      "cell_type": "code",
      "source": "x=G[5,5]\nG[3,3]=G[5,5]\nG[6,6]=G[5,5]\nG[3,3]=G[4,4] = x\ny=G[21,21]\nG[24,24]=G[21,21]\nG[22,22]=G[21,21]\nG[24,24]=G[23,23] = y\nprint(f'θ = {np.around(θ, 1)} °C')\n\nprint(f'Bathroom = {np.around(θ[5], 1)} °C')\nprint(f'Living room = {np.around(θ[9], 1)} °C')",
      "metadata": {
        "tags": []
      },
      "outputs": [],
      "execution_count": null
    },
    {
      "id": "846cd2e1-ad1f-4241-aff8-c7aaff8def32",
      "cell_type": "markdown",
      "source": "This part of the code shows that switching from internal to external insulation does not change the results. This outcome is somewhat unexpected, as we would normally anticipate differences in the thermal behavior. There are a couple of possible explanations for this.\n\nFirst, we do not differentiate between the absorption coefficients of the insulation material and the concrete wall, which could significantly influence the internal temperature.\nSecond, the variations in temperature or energy consumption might be too small to be detected by the model due to its resolution or level of simplification.",
      "metadata": {}
    },
    {
      "id": "ec4e52dd-6bde-4a4b-aa63-dfdc9d0c3052",
      "cell_type": "markdown",
      "source": "Note: If you intend to run the next section of the code, make sure to convert the code above into a Markdown cell to avoid execution errors.",
      "metadata": {}
    },
    {
      "id": "49c04324-13a7-4502-888a-cfbf9ee73475",
      "cell_type": "markdown",
      "source": "Next, in an effort to reduce the internal temperature of the house, one potential strategy could be to decrease the glazed surface area by half and replace it with a larger surface area of concrete wall.\n\nThe rationale behind this approach is that glass typically has a lower thermal mass and allows more solar radiation to enter, leading to higher internal temperatures. By increasing the proportion of concrete, which has a higher thermal mass and lower solar transmittance, the building can absorb and store more heat, helping to moderate temperature fluctuations and lower indoor temperatures.",
      "metadata": {}
    },
    {
      "id": "deaab6a9-7487-4b8f-8fc3-b4a736326511",
      "cell_type": "code",
      "source": "import numpy as np\nimport pandas as pd\ninsulation_bathroom = {'Conductivity': 0.027,        # W/(m·K)\n              'Density': 50.0,              # kg/m³\n              'Specific heat': 840,        # J/(kg⋅K)\n              'Width': 0.1,                # m\n              'Surface': 5*3+2*3+1*3}          # m²\ninsulation_salon = {'Conductivity': 0.027,        # W/(m·K)\n              'Density': 50.0,              # kg/m³\n              'Specific heat': 840,        # J/(kg⋅K)\n              'Width': 0.1,                # m\n              'Surface': 5*3*2+2.5*3}          # m²\nglass_salon = {'Conductivity': 1.4,               # W/(m·K)\n         'Density': 2500,                   # kg/m³\n         'Specific heat': 1210,             # J/(kg⋅K)\n         'Width': 0.024,                     # m\n         'Surface': 2.5*3}                   # m²\nglass_bathroom = {'Conductivity': 1.4,               # W/(m·K)\n         'Density': 2500,                   # kg/m³\n         'Specific heat': 1210,             # J/(kg⋅K)\n         'Width': 0.024,                     # m\n         'Surface': 1*3}                   # m²\nconcrete_extern_bathroom = {'Conductivity': 1.400,          # W/(m·K)\n            'Density': 2300.0,              # kg/m³\n            'Specific heat': 960,           # J/(kg⋅K)\n            'Width': 0.2,                   # m\n            'Surface': 5*3+2*3+1*3}            # m²\nconcrete_extern_salon = {'Conductivity': 1.400,          # W/(m·K)\n            'Density': 2300.0,              # kg/m³\n            'Specific heat': 960,           # J/(kg⋅K)\n            'Width': 0.2,                   # m\n            'Surface': 5*3+2*3+2.5*3}            # m²\n\nair = {'Density': 1.2,                      # kg/m³\n       'Specific heat': 1000}               # J/(kg·K)\npd.DataFrame(air, index=['Air'])\n\nconcrete_intern_salon = {'Conductivity': 1.400,          # W/(m·K)\n            'Density': 2300.0,              # kg/m³\n            'Specific heat': 960,           # J/(kg⋅K)\n            'Width': 0.075,                   # m\n            'Surface': 5*3}            # m²\n\nconcrete_intern_bathroom = {'Conductivity': 1.400,          # W/(m·K)\n            'Density': 2300.0,              # kg/m³\n            'Specific heat': 960,           # J/(kg⋅K)\n            'Width': 0.075,                   # m\n            'Surface': 5*3}            # m²\n\nceiling_soil_bathroom = {                    # m\n         'Surface': 2*5*2}  \n\nceiling_soil_salon = {                    # m\n         'Surface': 2*5*5}  \ndoor = {'Conductivity' : 0.17,\n        'Width' : 5,\n        'Surface' : 0.9*2.1,\n        'Specific heat' : 2000,\n        'Density' : 800 }\n\nwall_salon = pd.DataFrame.from_dict({'Layer_out': concrete_extern_salon,\n                                     'Layer_out1': concrete_intern_bathroom,\n                               'Layer_in': insulation_salon,\n                               'Layer_in1': insulation_bathroom,\n                               'Glass': glass_salon,\n                               'Glass1': glass_bathroom,\n                               'Layer_out2' : concrete_extern_bathroom,\n                               'roof' : ceiling_soil_bathroom,\n                               'roof1' : ceiling_soil_salon,\n                               'door' : door\n                               },\n                              orient='index')\nwall_salon\n\nwall_bathroom = pd.DataFrame.from_dict({'Layer_out': concrete_extern_salon,\n                                     'Layer_out1': concrete_intern_bathroom,\n                               'Layer_in': insulation_salon,\n                               'Layer_in1': insulation_bathroom,\n                               'Glass': glass_salon,\n                               'Glass1': glass_bathroom,\n                               'Layer_out2' : concrete_extern_bathroom,\n                               'roof' : ceiling_soil_bathroom,\n                               'roof1' : ceiling_soil_salon,\n                               'door' : door\n                               },\n                              orient='index')\nwall_bathroom\n\n\nσ = 5.67e-8     # W/(m²⋅K⁴) Stefan-Bolzmann constant\n\nh = pd.DataFrame([{'in': 8., 'out': 25}], index=['h'])  # W/(m²⋅K)\nh\n\nG = np.zeros((27,27))\n\n# ventilation flow rate\nVa_bathroom = 5*2*3                 # m³, volume of air\nVa_salon = 5*5*3                 # m³, volume of air\nACH = 1                     # 1/h, air changes per hour\nVa_dot_bathroom = ACH / 3600 * Va_bathroom  # m³/s, air infiltration\nVa_dot_salon = ACH / 3600 * Va_salon  # m³/s, air infiltration\nKp = 1000 # W/K\n\n# ventilation & advection\nG[0,0]= air['Density'] * air['Specific heat'] * Va_dot_bathroom\nG[26,26] = air['Density'] * air['Specific heat'] * Va_dot_salon\nG[1,1]=Kp\nG[2,2] = h['out'] * (wall_bathroom['Surface'].iloc[6]-3*2)     # on enlève la partie du mur négligée\nG[3,3] = 2*(wall_bathroom['Surface'].iloc[6]-3*2)*wall_bathroom['Conductivity'].iloc[6]/wall_bathroom['Width'].iloc[6]    # on enlève la partie du mur négligée\nG[4,4] = G[3,3]\nG[5,5]= 2*(wall_bathroom['Surface'].iloc[3]-3*2)*wall_bathroom['Conductivity'].iloc[3]/wall_bathroom['Width'].iloc[3]     # on enlève la partie du mur négligée\nG[6,6] = G[5,5]\nG[7,7]= h['in'] * (wall_bathroom['Surface'].iloc[3]-3*2)  # on enlève la partie du mur négligée\nG[8,8]=h['in'] * wall_bathroom['Surface'].iloc[1]\nG[9,9]=2*wall_bathroom['Surface'].iloc[1]*wall_bathroom['Conductivity'].iloc[1]/wall_bathroom['Width'].iloc[1]\nG[10,10]=2*wall_bathroom['Surface'].iloc[1]*wall_bathroom['Conductivity'].iloc[1]/wall_bathroom['Width'].iloc[1]\nG[11,11]= h['in'] * wall_salon['Surface'].iloc[1]\nG[12,12]= h['in'] * wall_salon['Surface'].iloc[4]\nG[13,13]= h['out'] * wall_salon['Surface'].iloc[4]\nG[14,14]= h['in'] * wall_bathroom['Surface'].iloc[5]\nG[15,15]= h['in'] * wall_bathroom['Surface'].iloc[9]\nG[16,16]= 2*door['Surface']*door['Conductivity']/door['Width']\nG[17,17]=G[16,16]\nG[18,18]= h['in'] * wall_salon['Surface'].iloc[9]\nG[19,19]= h['in'] * (wall_salon['Surface'].iloc[2]-5*3)\nG[20,20]= h['out'] * wall_bathroom['Surface'].iloc[5]\nG[21,21]= 2*(wall_salon['Surface'].iloc[2]-5*3)*wall_bathroom['Conductivity'].iloc[2]/wall_bathroom['Width'].iloc[2]\nG[22,22]=G[21,21]\nG[23,23]=2*(wall_salon['Surface'].iloc[0]-5*3)*wall_bathroom['Conductivity'].iloc[0]/wall_bathroom['Width'].iloc[0]\nG[24,24]= G[23,23]\nG[25,25]=h['out'] * wall_salon['Surface'].iloc[0]\n    \nnr = 27\nnc= 20\n\nA = np.zeros([nr, nc])\n\n\n\nA[0, 5] = 1\nA[1, 9] = 1\nA[2, 0] = 1\n\nj=0\nfor i in range(3,13):\n    A[i,j], A[i,j+1] = -1, 1\n    j+=1\n    \nA[13, 10] = 1\nA[14, 14], A[14, 5] = -1, 1\nA[14, 14], A[14, 5] = -1, 1\nA[15, 5], A[15, 11] = -1, 1\nA[16, 11], A[16, 12] = -1, 1\nA[17, 12], A[17, 13] = -1, 1\nA[18, 13], A[18, 9] = -1, 1\nA[19, 15], A[19, 9] = -1, 1\nA[20, 14] = 1\n \nj=15\nfor i in range(21,25):\n    A[i,j+1], A[i,j] = -1, 1\n    j+=1\n    \nA[25, 19] = 1\nA[26, 9] = 1\n\nf = np.zeros(20)  \n\n# flow-rate sources f for steady state\n\n# ----- C matrix -----\n\nT0=30 #données météo\nTisp=19 # à déinir\nair_bathroom = {'Conductivity': 1.4,               # W/(m·K)\n          'Density': 1.2,                      # kg/m³                  \n          'Specific heat': 1000,             # J/(kg⋅K)\n          'Volume': 30, }                    # m^3\n\nair_salon = {'Conductivity': 1.4,               # W/(m·K)\n          'Density': 1.2,                      # kg/m³                  \n          'Specific heat': 1000,             # J/(kg⋅K)\n          'Volume': 75, }                    # m^3\n                  \n\n# ----- b and f vectors -----\n\nb = np.zeros(27)\nb[0]=b[2]=b[13]=b[20]=b[25]=T0\nb[1]=Tisp    \n\nEs = 307 #W/m²\nEw = 391 #W/m²\nEn = 150 #W/m²\n\n# radiative properties\nε_wLW = 0.85    # long wave emmisivity: wall surface (concrete)\nε_gLW = 0.90    # long wave emmisivity: glass pyrex\nα_wSW = 0.25    # short wave absortivity: white smooth surface\nα_gSW = 0.38    # short wave absortivity: reflective blue glass\nτ_gSW = 0.30    # short wave transmitance: reflective blue glass\n\n# view factor\nFwall_ground = 0.5\nFwall_sky = 0.5\nFw_externgbathroom = (concrete_extern_bathroom['Surface']-3*2) / (glass_bathroom['Surface']+concrete_intern_bathroom['Surface']+ceiling_soil_bathroom['Surface'])\nFw_interngbathroom = (concrete_intern_bathroom['Surface']) / (glass_bathroom['Surface']+concrete_extern_bathroom['Surface']+ceiling_soil_bathroom['Surface'])\nFw_externgsalon = (concrete_extern_salon['Surface']-3*5) / (glass_salon['Surface']+concrete_intern_salon['Surface']+ceiling_soil_salon['Surface'])\nFw_interngsalon = (concrete_intern_salon['Surface']) / (glass_salon['Surface']+concrete_extern_salon['Surface']+ceiling_soil_salon['Surface'])\n\nphi0 = Fwall_sky*En*(concrete_extern_bathroom['Surface']-2*3)*α_wSW\nphi14 = Fwall_sky*Ew*glass_bathroom['Surface']*α_gSW\nphi10 = Fwall_sky*Es*glass_salon['Surface']*α_gSW\nphi19 = Fwall_sky*Ew*concrete_extern_salon['Surface']*α_wSW/2\nphi4 = Fw_externgbathroom*phi14*τ_gSW*α_wSW\nphi6 = Fw_interngbathroom*phi14*τ_gSW*α_wSW\nphi8 = Fw_interngsalon*phi10*τ_gSW*α_wSW\nphi15 = Fw_externgsalon*phi10*τ_gSW*α_wSW\nQa1 = 90+70 # one standing people and some machine in W\nQa2 = 90 # one standing people in W\n\nf=[phi0, 0, 0, 0, phi4, Qa2, phi6, 0, phi8, Qa1, phi10, 0, 0, 0, phi14, phi15, 0, 0, 0, phi19 ]\n\n\n# temperature nodes\nnθ = 20      # number of temperature nodes\nθ = [f'θ{i}' for i in range(nθ)]\n\n# flow-rate branches\nnq = 27     # number of flow branches\nq = [f'q{i}' for i in range(nq)]\n\n\nθ = np.linalg.inv(A.T @ G @ A ) @ (A.T @ G @ b + f)\nprint(f'θ = {np.around(θ, 1)} °C')\n\na=wall_bathroom['Width'].iloc[3]\nprint(a , 'test')\n\nprint(f'Bathroom = {np.around(θ[5], 1)} °C')\nprint(f'Living room = {np.around(θ[9], 1)} °C')\n\nprint(f'θ = {np.around(θ, 1)} °C')\nprint(f'Bathroom = {np.around(θ[5], 1)} °C')\nprint(f'Living room = {np.around(θ[9], 1)} °C')",
      "metadata": {},
      "outputs": [
        {
          "name": "stdout",
          "output_type": "stream",
          "text": "θ = [30.7 30.6 30.5 28.2 25.9 25.7 23.2 22.7 22.2 19.6 29.3 25.7 22.7 19.6\n, 31.2 20.  25.1 30.2 30.6 30.9] °C\n,0.1 test\n,Bathroom = 25.7 °C\n,Living room = 19.6 °C\n,θ = [30.7 30.6 30.5 28.2 25.9 25.7 23.2 22.7 22.2 19.6 29.3 25.7 22.7 19.6\n, 31.2 20.  25.1 30.2 30.6 30.9] °C\n,Bathroom = 25.7 °C\n,Living room = 19.6 °C\n"
        }
      ],
      "execution_count": 24
    },
    {
      "id": "b280d250-a68d-452e-ad26-50014e627a03",
      "cell_type": "markdown",
      "source": "The results above correspond to the summer period (with an outdoor temperature of 30°C), and they clearly demonstrate that reducing the window surface significantly improves the thermal comfort of the house.\nIn the bathroom, for instance, the temperature with the standard window configuration was 27.4°C. After reducing the window size, the temperature dropped to 25.7°C a notable decrease of 1.7°C. This is a substantial improvement.\nSimilarly, in the living room, we observe a temperature reduction from 20.2°C to 19.6°C, a decrease of 0.6°C.\n\nThese results strongly highlight the importance of limiting window surface area during the summer months, as it can significantly reduce indoor temperatures and enhance comfort.",
      "metadata": {}
    },
    {
      "id": "e57e75db-e382-4e2d-847c-8f3c47dba942",
      "cell_type": "code",
      "source": "import numpy as np\nimport pandas as pd\ninsulation_bathroom = {'Conductivity': 0.027,        # W/(m·K)\n              'Density': 50.0,              # kg/m³\n              'Specific heat': 840,        # J/(kg⋅K)\n              'Width': 0.1,                # m\n              'Surface': 5*3+2*3}          # m²\ninsulation_salon = {'Conductivity': 0.027,        # W/(m·K)\n              'Density': 50.0,              # kg/m³\n              'Specific heat': 840,        # J/(kg⋅K)\n              'Width': 0.1,                # m\n              'Surface': 5*3*2}          # m²\nglass_salon = {'Conductivity': 1.4,               # W/(m·K)\n         'Density': 2500,                   # kg/m³\n         'Specific heat': 1210,             # J/(kg⋅K)\n         'Width': 0.024,                     # m\n         'Surface': 5*3}                   # m²\nglass_bathroom = {'Conductivity': 1.4,               # W/(m·K)\n         'Density': 2500,                   # kg/m³\n         'Specific heat': 1210,             # J/(kg⋅K)\n         'Width': 0.024,                     # m\n         'Surface': 2*3}                   # m²\nconcrete_extern_bathroom = {'Conductivity': 1.400,          # W/(m·K)\n            'Density': 2300.0,              # kg/m³\n            'Specific heat': 960,           # J/(kg⋅K)\n            'Width': 0.2,                   # m\n            'Surface': 5*3+2*3}            # m²\nconcrete_extern_salon = {'Conductivity': 1.400,          # W/(m·K)\n            'Density': 2300.0,              # kg/m³\n            'Specific heat': 960,           # J/(kg⋅K)\n            'Width': 0.2,                   # m\n            'Surface': 5*3+2*3}            # m²\n\nair = {'Density': 1.2,                      # kg/m³\n       'Specific heat': 1000}               # J/(kg·K)\npd.DataFrame(air, index=['Air'])\n\nconcrete_intern_salon = {'Conductivity': 1.400,          # W/(m·K)\n            'Density': 2300.0,              # kg/m³\n            'Specific heat': 960,           # J/(kg⋅K)\n            'Width': 0.075,                   # m\n            'Surface': 5*3}            # m²\n\nconcrete_intern_bathroom = {'Conductivity': 1.400,          # W/(m·K)\n            'Density': 2300.0,              # kg/m³\n            'Specific heat': 960,           # J/(kg⋅K)\n            'Width': 0.075,                   # m\n            'Surface': 5*3}            # m²\n\nceiling_soil_bathroom = {                    # m\n         'Surface': 2*5*2}  \n\nceiling_soil_salon = {                    # m\n         'Surface': 2*5*5}  \ndoor = {'Conductivity' : 0.17,\n        'Width' : 5,\n        'Surface' : 0.9*2.1,\n        'Specific heat' : 2000,\n        'Density' : 800 }\n\nwall_salon = pd.DataFrame.from_dict({'Layer_out': concrete_extern_salon,\n                                     'Layer_out1': concrete_intern_bathroom,\n                               'Layer_in': insulation_salon,\n                               'Layer_in1': insulation_bathroom,\n                               'Glass': glass_salon,\n                               'Glass1': glass_bathroom,\n                               'Layer_out2' : concrete_extern_bathroom,\n                               'roof' : ceiling_soil_bathroom,\n                               'roof1' : ceiling_soil_salon,\n                               'door' : door\n                               },\n                              orient='index')\nwall_salon\n\nwall_bathroom = pd.DataFrame.from_dict({'Layer_out': concrete_extern_salon,\n                                     'Layer_out1': concrete_intern_bathroom,\n                               'Layer_in': insulation_salon,\n                               'Layer_in1': insulation_bathroom,\n                               'Glass': glass_salon,\n                               'Glass1': glass_bathroom,\n                               'Layer_out2' : concrete_extern_bathroom,\n                               'roof' : ceiling_soil_bathroom,\n                               'roof1' : ceiling_soil_salon,\n                               'door' : door\n                               },\n                              orient='index')\nwall_bathroom\n\n\nσ = 5.67e-8     # W/(m²⋅K⁴) Stefan-Bolzmann constant\n\nh = pd.DataFrame([{'in': 8., 'out': 25}], index=['h'])  # W/(m²⋅K)\nh\n\nG = np.zeros((27,27))\n\n# ventilation flow rate\nVa_bathroom = 5*2*3                 # m³, volume of air\nVa_salon = 5*5*3                 # m³, volume of air\nACH = 1                     # 1/h, air changes per hour\nVa_dot_bathroom = ACH / 3600 * Va_bathroom  # m³/s, air infiltration\nVa_dot_salon = ACH / 3600 * Va_salon  # m³/s, air infiltration\nKp = 1000 # W/K\n\n# ventilation & advection\nG[0,0]= air['Density'] * air['Specific heat'] * Va_dot_bathroom\nG[26,26] = air['Density'] * air['Specific heat'] * Va_dot_salon\nG[1,1]=Kp\nG[2,2] = h['out'] * (wall_bathroom['Surface'].iloc[6]-3*2)     # on enlève la partie du mur négligée\nG[3,3] = 2*(wall_bathroom['Surface'].iloc[6]-3*2)*wall_bathroom['Conductivity'].iloc[6]/wall_bathroom['Width'].iloc[6]    # on enlève la partie du mur négligée\nG[4,4] = G[3,3]\nG[5,5]= 2*(wall_bathroom['Surface'].iloc[3]-3*2)*wall_bathroom['Conductivity'].iloc[3]/wall_bathroom['Width'].iloc[3]     # on enlève la partie du mur négligée\nG[6,6] = G[5,5]\nG[7,7]= h['in'] * (wall_bathroom['Surface'].iloc[3]-3*2)  # on enlève la partie du mur négligée\nG[8,8]=h['in'] * wall_bathroom['Surface'].iloc[1]\nG[9,9]=2*wall_bathroom['Surface'].iloc[1]*wall_bathroom['Conductivity'].iloc[1]/wall_bathroom['Width'].iloc[1]\nG[10,10]=2*wall_bathroom['Surface'].iloc[1]*wall_bathroom['Conductivity'].iloc[1]/wall_bathroom['Width'].iloc[1]\nG[11,11]= h['in'] * wall_salon['Surface'].iloc[1]\nG[12,12]= h['in'] * wall_salon['Surface'].iloc[4]\nG[13,13]= h['out'] * wall_salon['Surface'].iloc[4]\nG[14,14]= h['in'] * wall_bathroom['Surface'].iloc[5]\nG[15,15]= h['in'] * wall_bathroom['Surface'].iloc[9]\nG[16,16]= 2*door['Surface']*door['Conductivity']/door['Width']\nG[17,17]=G[16,16]\nG[18,18]= h['in'] * wall_salon['Surface'].iloc[9]\nG[19,19]= h['in'] * (wall_salon['Surface'].iloc[2]-5*3)\nG[20,20]= h['out'] * wall_bathroom['Surface'].iloc[5]\nG[21,21]= 2*(wall_salon['Surface'].iloc[2]-5*3)*wall_bathroom['Conductivity'].iloc[2]/wall_bathroom['Width'].iloc[2]\nG[22,22]=G[21,21]\nG[23,23]=2*(wall_salon['Surface'].iloc[0]-5*3)*wall_bathroom['Conductivity'].iloc[0]/wall_bathroom['Width'].iloc[0]\nG[24,24]= G[23,23]\nG[25,25]=h['out'] * wall_salon['Surface'].iloc[0]\n    \nnr = 27\nnc= 20\n\nA = np.zeros([nr, nc])\n\n\n\nA[0, 5] = 1\nA[1, 9] = 1\nA[2, 0] = 1\n\nj=0\nfor i in range(3,13):\n    A[i,j], A[i,j+1] = -1, 1\n    j+=1\n    \nA[13, 10] = 1\nA[14, 14], A[14, 5] = -1, 1\nA[14, 14], A[14, 5] = -1, 1\nA[15, 5], A[15, 11] = -1, 1\nA[16, 11], A[16, 12] = -1, 1\nA[17, 12], A[17, 13] = -1, 1\nA[18, 13], A[18, 9] = -1, 1\nA[19, 15], A[19, 9] = -1, 1\nA[20, 14] = 1\n \nj=15\nfor i in range(21,25):\n    A[i,j+1], A[i,j] = -1, 1\n    j+=1\n    \nA[25, 19] = 1\nA[26, 9] = 1\n\nf = np.zeros(20)  \n\n# flow-rate sources f for steady state\n\n# ----- C matrix -----\n\nT0=0 #données météo\nTisp=19 # à déinir\nair_bathroom = {'Conductivity': 1.4,               # W/(m·K)\n          'Density': 1.2,                      # kg/m³                  \n          'Specific heat': 1000,             # J/(kg⋅K)\n          'Volume': 30, }                    # m^3\n\nair_salon = {'Conductivity': 1.4,               # W/(m·K)\n          'Density': 1.2,                      # kg/m³                  \n          'Specific heat': 1000,             # J/(kg⋅K)\n          'Volume': 75, }                    # m^3\n                  \n\n# ----- b and f vectors -----\n\nb = np.zeros(27)\nb[0]=b[2]=b[13]=b[20]=b[25]=T0\nb[1]=Tisp    \n\nEs = 307 #W/m²\nEw = 391 #W/m²\nEn = 150 #W/m²\n\n# radiative properties\nε_wLW = 0.85    # long wave emmisivity: wall surface (concrete)\nε_gLW = 0.90    # long wave emmisivity: glass pyrex\nα_wSW = 0.25    # short wave absortivity: white smooth surface\nα_gSW = 0.38    # short wave absortivity: reflective blue glass\nτ_gSW = 0.30    # short wave transmitance: reflective blue glass\n\n# view factor\nFwall_ground = 0.5\nFwall_sky = 0.5\nFw_externgbathroom = (concrete_extern_bathroom['Surface']-3*2) / (glass_bathroom['Surface']+concrete_intern_bathroom['Surface']+ceiling_soil_bathroom['Surface'])\nFw_interngbathroom = (concrete_intern_bathroom['Surface']) / (glass_bathroom['Surface']+concrete_extern_bathroom['Surface']+ceiling_soil_bathroom['Surface'])\nFw_externgsalon = (concrete_extern_salon['Surface']-3*5) / (glass_salon['Surface']+concrete_intern_salon['Surface']+ceiling_soil_salon['Surface'])\nFw_interngsalon = (concrete_intern_salon['Surface']) / (glass_salon['Surface']+concrete_extern_salon['Surface']+ceiling_soil_salon['Surface'])\n\nphi0 = Fwall_sky*En*(concrete_extern_bathroom['Surface']-2*3)*α_wSW\nphi14 = Fwall_sky*Ew*glass_bathroom['Surface']*α_gSW\nphi10 = Fwall_sky*Es*glass_salon['Surface']*α_gSW\nphi19 = Fwall_sky*Ew*concrete_extern_salon['Surface']*α_wSW/2\nphi4 = Fw_externgbathroom*phi14*τ_gSW*α_wSW\nphi6 = Fw_interngbathroom*phi14*τ_gSW*α_wSW\nphi8 = Fw_interngsalon*phi10*τ_gSW*α_wSW\nphi15 = Fw_externgsalon*phi10*τ_gSW*α_wSW\nQa1 = 90+70 # one standing people and some machine in W\nQa2 = 90 # one standing people in W\n\nf=[phi0, 0, 0, 0, phi4, Qa2, phi6, 0, phi8, Qa1, phi10, 0, 0, 0, phi14, phi15, 0, 0, 0, phi19 ]\n\n\n# temperature nodes\nnθ = 20      # number of temperature nodes\nθ = [f'θ{i}' for i in range(nθ)]\n\n# flow-rate branches\nnq = 27     # number of flow branches\nq = [f'q{i}' for i in range(nq)]\n\n\nθ = np.linalg.inv(A.T @ G @ A ) @ (A.T @ G @ b + f)\nprint(f'θ = {np.around(θ, 1)} °C')\n\na=wall_bathroom['Width'].iloc[3]\nprint(a , 'test')\n\nprint(f'Bathroom = {np.around(θ[5], 1)} °C')\nprint(f'Living room = {np.around(θ[9], 1)} °C')\n\nprint(f'θ = {np.around(θ, 1)} °C')\nprint(f'Bathroom = {np.around(θ[5], 1)} °C')\nprint(f'Living room = {np.around(θ[9], 1)} °C')",
      "metadata": {},
      "outputs": [
        {
          "name": "stdout",
          "output_type": "stream",
          "text": "θ = [ 0.9  1.   1.2  5.9 10.5 10.7 13.4 14.  14.5 17.   5.9 10.7 13.9 17.\n,  4.8 16.6  9.5  2.5  1.8  1.1] °C\n,0.1 test\n,Bathroom = 10.7 °C\n,Living room = 17.0 °C\n,θ = [ 0.9  1.   1.2  5.9 10.5 10.7 13.4 14.  14.5 17.   5.9 10.7 13.9 17.\n,  4.8 16.6  9.5  2.5  1.8  1.1] °C\n,Bathroom = 10.7 °C\n,Living room = 17.0 °C\n"
        }
      ],
      "execution_count": 26
    },
    {
      "id": "3f6bcfb0-452c-45df-94db-888fc9b19189",
      "cell_type": "markdown",
      "source": "This section of the code presents the results for the winter period using the standard window configuration.\nThese results will serve as a reference point for comparison when evaluating the impact of reducing the window surface area by half. By doing so, we aim to assess how modifying the glazing area influences indoor thermal comfort during the colder months.",
      "metadata": {}
    },
    {
      "id": "93dbe884-ebc6-483d-be12-68a43b753125",
      "cell_type": "code",
      "source": "import numpy as np\nimport pandas as pd\ninsulation_bathroom = {'Conductivity': 0.027,        # W/(m·K)\n              'Density': 50.0,              # kg/m³\n              'Specific heat': 840,        # J/(kg⋅K)\n              'Width': 0.1,                # m\n              'Surface': 5*3+2*3+1*3}          # m²\ninsulation_salon = {'Conductivity': 0.027,        # W/(m·K)\n              'Density': 50.0,              # kg/m³\n              'Specific heat': 840,        # J/(kg⋅K)\n              'Width': 0.1,                # m\n              'Surface': 5*3*2+2.5*3}          # m²\nglass_salon = {'Conductivity': 1.4,               # W/(m·K)\n         'Density': 2500,                   # kg/m³\n         'Specific heat': 1210,             # J/(kg⋅K)\n         'Width': 0.024,                     # m\n         'Surface': 2.5*3}                   # m²\nglass_bathroom = {'Conductivity': 1.4,               # W/(m·K)\n         'Density': 2500,                   # kg/m³\n         'Specific heat': 1210,             # J/(kg⋅K)\n         'Width': 0.024,                     # m\n         'Surface': 1*3}                   # m²\nconcrete_extern_bathroom = {'Conductivity': 1.400,          # W/(m·K)\n            'Density': 2300.0,              # kg/m³\n            'Specific heat': 960,           # J/(kg⋅K)\n            'Width': 0.2,                   # m\n            'Surface': 5*3+2*3+1*3}            # m²\nconcrete_extern_salon = {'Conductivity': 1.400,          # W/(m·K)\n            'Density': 2300.0,              # kg/m³\n            'Specific heat': 960,           # J/(kg⋅K)\n            'Width': 0.2,                   # m\n            'Surface': 5*3+2*3+2.5*3}            # m²\n\nair = {'Density': 1.2,                      # kg/m³\n       'Specific heat': 1000}               # J/(kg·K)\npd.DataFrame(air, index=['Air'])\n\nconcrete_intern_salon = {'Conductivity': 1.400,          # W/(m·K)\n            'Density': 2300.0,              # kg/m³\n            'Specific heat': 960,           # J/(kg⋅K)\n            'Width': 0.075,                   # m\n            'Surface': 5*3}            # m²\n\nconcrete_intern_bathroom = {'Conductivity': 1.400,          # W/(m·K)\n            'Density': 2300.0,              # kg/m³\n            'Specific heat': 960,           # J/(kg⋅K)\n            'Width': 0.075,                   # m\n            'Surface': 5*3}            # m²\n\nceiling_soil_bathroom = {                    # m\n         'Surface': 2*5*2}  \n\nceiling_soil_salon = {                    # m\n         'Surface': 2*5*5}  \ndoor = {'Conductivity' : 0.17,\n        'Width' : 5,\n        'Surface' : 0.9*2.1,\n        'Specific heat' : 2000,\n        'Density' : 800 }\n\nwall_salon = pd.DataFrame.from_dict({'Layer_out': concrete_extern_salon,\n                                     'Layer_out1': concrete_intern_bathroom,\n                               'Layer_in': insulation_salon,\n                               'Layer_in1': insulation_bathroom,\n                               'Glass': glass_salon,\n                               'Glass1': glass_bathroom,\n                               'Layer_out2' : concrete_extern_bathroom,\n                               'roof' : ceiling_soil_bathroom,\n                               'roof1' : ceiling_soil_salon,\n                               'door' : door\n                               },\n                              orient='index')\nwall_salon\n\nwall_bathroom = pd.DataFrame.from_dict({'Layer_out': concrete_extern_salon,\n                                     'Layer_out1': concrete_intern_bathroom,\n                               'Layer_in': insulation_salon,\n                               'Layer_in1': insulation_bathroom,\n                               'Glass': glass_salon,\n                               'Glass1': glass_bathroom,\n                               'Layer_out2' : concrete_extern_bathroom,\n                               'roof' : ceiling_soil_bathroom,\n                               'roof1' : ceiling_soil_salon,\n                               'door' : door\n                               },\n                              orient='index')\nwall_bathroom\n\n\nσ = 5.67e-8     # W/(m²⋅K⁴) Stefan-Bolzmann constant\n\nh = pd.DataFrame([{'in': 8., 'out': 25}], index=['h'])  # W/(m²⋅K)\nh\n\nG = np.zeros((27,27))\n\n# ventilation flow rate\nVa_bathroom = 5*2*3                 # m³, volume of air\nVa_salon = 5*5*3                 # m³, volume of air\nACH = 1                     # 1/h, air changes per hour\nVa_dot_bathroom = ACH / 3600 * Va_bathroom  # m³/s, air infiltration\nVa_dot_salon = ACH / 3600 * Va_salon  # m³/s, air infiltration\nKp = 1000 # W/K\n\n# ventilation & advection\nG[0,0]= air['Density'] * air['Specific heat'] * Va_dot_bathroom\nG[26,26] = air['Density'] * air['Specific heat'] * Va_dot_salon\nG[1,1]=Kp\nG[2,2] = h['out'] * (wall_bathroom['Surface'].iloc[6]-3*2)     # on enlève la partie du mur négligée\nG[3,3] = 2*(wall_bathroom['Surface'].iloc[6]-3*2)*wall_bathroom['Conductivity'].iloc[6]/wall_bathroom['Width'].iloc[6]    # on enlève la partie du mur négligée\nG[4,4] = G[3,3]\nG[5,5]= 2*(wall_bathroom['Surface'].iloc[3]-3*2)*wall_bathroom['Conductivity'].iloc[3]/wall_bathroom['Width'].iloc[3]     # on enlève la partie du mur négligée\nG[6,6] = G[5,5]\nG[7,7]= h['in'] * (wall_bathroom['Surface'].iloc[3]-3*2)  # on enlève la partie du mur négligée\nG[8,8]=h['in'] * wall_bathroom['Surface'].iloc[1]\nG[9,9]=2*wall_bathroom['Surface'].iloc[1]*wall_bathroom['Conductivity'].iloc[1]/wall_bathroom['Width'].iloc[1]\nG[10,10]=2*wall_bathroom['Surface'].iloc[1]*wall_bathroom['Conductivity'].iloc[1]/wall_bathroom['Width'].iloc[1]\nG[11,11]= h['in'] * wall_salon['Surface'].iloc[1]\nG[12,12]= h['in'] * wall_salon['Surface'].iloc[4]\nG[13,13]= h['out'] * wall_salon['Surface'].iloc[4]\nG[14,14]= h['in'] * wall_bathroom['Surface'].iloc[5]\nG[15,15]= h['in'] * wall_bathroom['Surface'].iloc[9]\nG[16,16]= 2*door['Surface']*door['Conductivity']/door['Width']\nG[17,17]=G[16,16]\nG[18,18]= h['in'] * wall_salon['Surface'].iloc[9]\nG[19,19]= h['in'] * (wall_salon['Surface'].iloc[2]-5*3)\nG[20,20]= h['out'] * wall_bathroom['Surface'].iloc[5]\nG[21,21]= 2*(wall_salon['Surface'].iloc[2]-5*3)*wall_bathroom['Conductivity'].iloc[2]/wall_bathroom['Width'].iloc[2]\nG[22,22]=G[21,21]\nG[23,23]=2*(wall_salon['Surface'].iloc[0]-5*3)*wall_bathroom['Conductivity'].iloc[0]/wall_bathroom['Width'].iloc[0]\nG[24,24]= G[23,23]\nG[25,25]=h['out'] * wall_salon['Surface'].iloc[0]\n    \nnr = 27\nnc= 20\n\nA = np.zeros([nr, nc])\n\n\n\nA[0, 5] = 1\nA[1, 9] = 1\nA[2, 0] = 1\n\nj=0\nfor i in range(3,13):\n    A[i,j], A[i,j+1] = -1, 1\n    j+=1\n    \nA[13, 10] = 1\nA[14, 14], A[14, 5] = -1, 1\nA[14, 14], A[14, 5] = -1, 1\nA[15, 5], A[15, 11] = -1, 1\nA[16, 11], A[16, 12] = -1, 1\nA[17, 12], A[17, 13] = -1, 1\nA[18, 13], A[18, 9] = -1, 1\nA[19, 15], A[19, 9] = -1, 1\nA[20, 14] = 1\n \nj=15\nfor i in range(21,25):\n    A[i,j+1], A[i,j] = -1, 1\n    j+=1\n    \nA[25, 19] = 1\nA[26, 9] = 1\n\nf = np.zeros(20)  \n\n# flow-rate sources f for steady state\n\n# ----- C matrix -----\n\nT0=0 #données météo\nTisp=19 # à déinir\nair_bathroom = {'Conductivity': 1.4,               # W/(m·K)\n          'Density': 1.2,                      # kg/m³                  \n          'Specific heat': 1000,             # J/(kg⋅K)\n          'Volume': 30, }                    # m^3\n\nair_salon = {'Conductivity': 1.4,               # W/(m·K)\n          'Density': 1.2,                      # kg/m³                  \n          'Specific heat': 1000,             # J/(kg⋅K)\n          'Volume': 75, }                    # m^3\n                  \n\n# ----- b and f vectors -----\n\nb = np.zeros(27)\nb[0]=b[2]=b[13]=b[20]=b[25]=T0\nb[1]=Tisp    \n\nEs = 307 #W/m²\nEw = 391 #W/m²\nEn = 150 #W/m²\n\n# radiative properties\nε_wLW = 0.85    # long wave emmisivity: wall surface (concrete)\nε_gLW = 0.90    # long wave emmisivity: glass pyrex\nα_wSW = 0.25    # short wave absortivity: white smooth surface\nα_gSW = 0.38    # short wave absortivity: reflective blue glass\nτ_gSW = 0.30    # short wave transmitance: reflective blue glass\n\n# view factor\nFwall_ground = 0.5\nFwall_sky = 0.5\nFw_externgbathroom = (concrete_extern_bathroom['Surface']-3*2) / (glass_bathroom['Surface']+concrete_intern_bathroom['Surface']+ceiling_soil_bathroom['Surface'])\nFw_interngbathroom = (concrete_intern_bathroom['Surface']) / (glass_bathroom['Surface']+concrete_extern_bathroom['Surface']+ceiling_soil_bathroom['Surface'])\nFw_externgsalon = (concrete_extern_salon['Surface']-3*5) / (glass_salon['Surface']+concrete_intern_salon['Surface']+ceiling_soil_salon['Surface'])\nFw_interngsalon = (concrete_intern_salon['Surface']) / (glass_salon['Surface']+concrete_extern_salon['Surface']+ceiling_soil_salon['Surface'])\n\nphi0 = Fwall_sky*En*(concrete_extern_bathroom['Surface']-2*3)*α_wSW\nphi14 = Fwall_sky*Ew*glass_bathroom['Surface']*α_gSW\nphi10 = Fwall_sky*Es*glass_salon['Surface']*α_gSW\nphi19 = Fwall_sky*Ew*concrete_extern_salon['Surface']*α_wSW/2\nphi4 = Fw_externgbathroom*phi14*τ_gSW*α_wSW\nphi6 = Fw_interngbathroom*phi14*τ_gSW*α_wSW\nphi8 = Fw_interngsalon*phi10*τ_gSW*α_wSW\nphi15 = Fw_externgsalon*phi10*τ_gSW*α_wSW\nQa1 = 90+70 # one standing people and some machine in W\nQa2 = 90 # one standing people in W\n\nf=[phi0, 0, 0, 0, phi4, Qa2, phi6, 0, phi8, Qa1, phi10, 0, 0, 0, phi14, phi15, 0, 0, 0, phi19 ]\n\n\n# temperature nodes\nnθ = 20      # number of temperature nodes\nθ = [f'θ{i}' for i in range(nθ)]\n\n# flow-rate branches\nnq = 27     # number of flow branches\nq = [f'q{i}' for i in range(nq)]\n\n\nθ = np.linalg.inv(A.T @ G @ A ) @ (A.T @ G @ b + f)\nprint(f'θ = {np.around(θ, 1)} °C')\n\na=wall_bathroom['Width'].iloc[3]\nprint(a , 'test')\n\nprint(f'Bathroom = {np.around(θ[5], 1)} °C')\nprint(f'Living room = {np.around(θ[9], 1)} °C')\n\nprint(f'θ = {np.around(θ, 1)} °C')\nprint(f'Bathroom = {np.around(θ[5], 1)} °C')\nprint(f'Living room = {np.around(θ[9], 1)} °C')",
      "metadata": {
        "tags": []
      },
      "outputs": [
        {
          "name": "stdout",
          "output_type": "stream",
          "text": "θ = [ 0.9  1.1  1.3  6.8 12.3 12.6 14.7 15.2 15.6 17.7  6.1 12.6 15.1 17.7\n,  5.3 17.2  9.6  2.1  1.6  1.1] °C\n,0.1 test\n,Bathroom = 12.6 °C\n,Living room = 17.7 °C\n,θ = [ 0.9  1.1  1.3  6.8 12.3 12.6 14.7 15.2 15.6 17.7  6.1 12.6 15.1 17.7\n,  5.3 17.2  9.6  2.1  1.6  1.1] °C\n,Bathroom = 12.6 °C\n,Living room = 17.7 °C\n"
        }
      ],
      "execution_count": 25
    },
    {
      "id": "d3d7321a-78ba-42d8-b73c-0cd625ac85c5",
      "cell_type": "markdown",
      "source": "The results above correspond to the winter period (with an outdoor temperature of 0°C), and they clearly demonstrate that reducing the window surface significantly improves the thermal comfort of the house.\nIn the bathroom, for instance, the temperature with the standard window configuration was 10.7°C. After reducing the window size, the temperature dropped to 12.6°C a notable increase of 1.9°C. This is a substantial improvement.\nSimilarly, in the living room, we observe a temperature increase from 17.0°C to 17.7°C, a increase of 0.7°C.\n\nThese results strongly highlight the importance of limiting window surface area during the winter months, as it can significantly improve indoor temperatures and enhance comfort.",
      "metadata": {}
    },
    {
      "id": "25f07d68-a5fc-4eae-9a6e-2adf0b48cd6a",
      "cell_type": "markdown",
      "source": "# Conclusion",
      "metadata": {
        "tags": []
      }
    },
    {
      "id": "d45f1ba8-f637-450a-ac19-08437259404f",
      "cell_type": "markdown",
      "source": "One of the main issues identified in the building model is the temperature in the bathroom. As discussed earlier, this is primarily due to the absence of a temperature controller in that space, combined with the fact that the interior door is modeled as opaque, preventing heat transfer between rooms.\n\nAnother important aspect is the performance of the controller itself. In the current model, the controller is assumed to operate with near-perfect precision due to a high proportional gain value. To enhance the realism of the simulation, this value should be further examined and adjusted to better reflect actual control system performance.\n\nAdditionally, the model could be improved by modifying the window design. The current windows are large and modeled with only double glazing, which contributes significantly to heat gain and loss. Improving the window properties by lowering the U-value and/or reducing the window size would result in a more energy-efficient building model. However, it is important to note that reducing the glazed area would also decrease the availability of natural light, introducing a separate set of considerations related to daylight access and occupant comfort.",
      "metadata": {}
    }
  ]
}