{
 "cells": [
  {
   "cell_type": "markdown",
   "id": "d876cdc6-4a9b-4d04-a475-061cd470940f",
   "metadata": {},
   "source": [
    "# Project 2 M9 "
   ]
  },
  {
   "cell_type": "markdown",
   "id": "ded8e054-62f7-4be6-afb3-b7ea57cbd194",
   "metadata": {},
   "source": [
    "## Introduction"
   ]
  },
  {
   "cell_type": "markdown",
   "id": "89333e58-ea46-4c6e-9865-c2fb564cebb7",
   "metadata": {},
   "source": [
    "Write what the raport is about "
   ]
  },
  {
   "cell_type": "markdown",
   "id": "c76cb8c4-8602-40cf-bc50-4e76a9f12dfd",
   "metadata": {},
   "source": [
    "## Description of building "
   ]
  },
  {
   "cell_type": "markdown",
   "id": "88db8f56-2690-4a0a-b25f-0668c30c655d",
   "metadata": {},
   "source": [
    "The chosen building is a studio apartment with one main living room and a bathroom. The building is located in France with the glazed wall facing south.\n",
    "\n",
    "The apartment is also assumed to be part of an apartment complex, with apartments under and over. This assumption makes the heat transfer from the ceilings and floors neglectable."
   ]
  },
  {
   "cell_type": "markdown",
   "id": "930a3225-3a26-4cb2-bc66-b76c80751a24",
   "metadata": {},
   "source": [
    "![Floor scetch of building](front.jpg)"
   ]
  },
  {
   "cell_type": "markdown",
   "id": "c1984f50-c1c2-4972-8258-31084dea9931",
   "metadata": {},
   "source": [
    "The exterior walls are compossed with a layer of concrete followed by a layer of insulation with the following parameters:\n",
    "| Material     | Thickness [cm] | Thermal conductivity λ [W/mK] | Specific heat c [J/kgK] | Volumetric mass density ρ [kg/m³] |\n",
    "|--------------|----------------|-------------------------------|--------------------------|-----------------------------------|\n",
    "| Concrete     | 20             | 1,4                           | 960                      | 2300                              |\n",
    "| Insulation   | 10             | 0,027                         | 840                      | 50                                |\n"
   ]
  },
  {
   "cell_type": "markdown",
   "id": "3fb21829-2882-4220-beb6-7dde0589c7fb",
   "metadata": {},
   "source": [
    "*Source: [Engineering Toolbox - Specific Heat of Solids](https://www.engineeringtoolbox.com/specific-heat-solids-d_154.html)*"
   ]
  },
  {
   "cell_type": "markdown",
   "id": "98b06156-004a-428b-b884-bd6a55f6b03c",
   "metadata": {},
   "source": [
    "The interior walls are as follows:"
   ]
  },
  {
   "cell_type": "markdown",
   "id": "ad35549f-b41a-465c-81a8-dbe1773a3de6",
   "metadata": {},
   "source": [
    "| Material     | Thickness [cm] | Thermal conductivity λ [W/mK] | Specific heat c [J/kgK] | Volumetric mass density ρ [kg/m³] |\n",
    "|--------------|----------------|-------------------------------|--------------------------|-----------------------------------|\n",
    "| Concrete     | 7.5             | 1,4                           | 960                      | 2300                              |\n",
    "                                               "
   ]
  },
  {
   "cell_type": "markdown",
   "id": "1b33d7de-7f52-497e-8653-f330875fed22",
   "metadata": {},
   "source": [
    "To simplify the model both the exterior and the interior doors have been modelled the same way."
   ]
  },
  {
   "cell_type": "markdown",
   "id": "48099cf7-b5ff-4a8f-8855-e16d0bdc137e",
   "metadata": {},
   "source": [
    "| Material     | Thickness [cm] | Thermal conductivity λ [W/mK] | Specific heat c [J/kgK] | Volumetric mass density ρ [kg/m³] |\n",
    "|--------------|----------------|-------------------------------|--------------------------|-----------------------------------|\n",
    "| Wood         | 5              | 0,17                          | 2000                     | 800                              |\n"
   ]
  },
  {
   "cell_type": "markdown",
   "id": "bdc29d65-1015-49c3-95a6-f1bd4f01f59d",
   "metadata": {},
   "source": [
    "The windows are double glazed and have the following parameters \n",
    "| Material     | Thickness [cm] | Energy transmittance e | Specific heat c [J/kgK] | Volumetric mass density ρ [kg/m³] |\n",
    "|--------------|----------------|-------------------------------|--------------------------|-----------------------------------|\n",
    "| Window     | 2,4             | 0,75                          | 1210                      | 2500                              |\n"
   ]
  },
  {
   "cell_type": "markdown",
   "id": "7867baf0-68c8-464d-b2b0-48c9b7b86393",
   "metadata": {},
   "source": [
    "Furthermore the entire building has been divided into two zones. As seen in the following table, the first zone is the living room/kitchen area whilst the other zone is a bathroom. The total area of the apartment is 35 $m^2$.\n",
    "| Area                                | Surface [m²] |\n",
    "|-------------------------------------|--------------|\n",
    "| Zone 1 (Living room/kitchen)       | 25           |\n",
    "| Zone 2 (Bathroom)                  | 10           |"
   ]
  },
  {
   "cell_type": "markdown",
   "id": "a5d642ba-1bb1-4709-95c3-91016b2b2673",
   "metadata": {},
   "source": [
    "## Thermal model "
   ]
  },
  {
   "cell_type": "markdown",
   "id": "fc74de43-6297-4e69-a082-97fda8076732",
   "metadata": {},
   "source": [
    "The previously described building is depicted using nodes and flows by the following model."
   ]
  },
  {
   "cell_type": "markdown",
   "id": "7431ea7c-8bbe-40d8-8be9-eee8cf656311",
   "metadata": {},
   "source": [
    "![Thermal Model](thermal.png)"
   ]
  },
  {
   "cell_type": "markdown",
   "id": "5fdc5dfe-ae63-471e-a331-5949de4494d9",
   "metadata": {},
   "source": [
    "In the thermal model, each material is depicted using two resistances and a node.<span style=\"color:red\">Need to explain the parts further</span> \n",
    "\n",
    "The equation to solve is as follows:\n",
    "\n",
    "$$\n",
    "C \\dot{\\theta} = -(A^T GA) \\theta + A^T Gb + f\n",
    "$$\n",
    "\n",
    "To find the steady state solution,\n",
    "\n",
    "$$\n",
    "\\dot{\\theta} = 0\n",
    "$$"
   ]
  },
  {
   "cell_type": "code",
   "execution_count": null,
   "id": "3642a6f5-8365-4299-9dec-22fbc7e57fbc",
   "metadata": {},
   "outputs": [],
   "source": []
  },
  {
   "cell_type": "code",
   "execution_count": null,
   "id": "f0f4628c-8259-4f29-8e36-65ab167cfa73",
   "metadata": {},
   "outputs": [],
   "source": []
  },
  {
   "cell_type": "markdown",
   "id": "119bcd7e-857c-4a0b-81fa-6ac74dc4cf1b",
   "metadata": {},
   "source": [
    "Matrix A defines the direction of flows between nodes. The rows correspond to individual flows, while the columns represent each node. A value of 1 indicates that a node receives the flow, whereas -1 signifies that the flow is leaving the node.\n",
    "\n",
    "Matrix G is a square matrix where each row and column correspond to a specific flow. It is a diagonal matrix, with each diagonal element representing the conductance (G-value) of the respective flow. The following equations are used for this:\n",
    "\n",
    "$$\n",
    "G_{\\text{cond}} = S \\frac{\\lambda}{w}\n",
    "$$\n",
    "\n",
    "and\n",
    "\n",
    "$$\n",
    "G_{\\text{cv}} = hS\n",
    "$$\n",
    "\n",
    "Similarly, matrix C shares the same structure as matrix G, but instead of representing flows, its rows and columns correspond to nodes. The diagonal elements of C represent the capacity at each node:\n",
    "\n",
    "$$\n",
    "C = \\rho c w S\n",
    "$$\n",
    "\n",
    "Vector b is a column vector with as many rows as the number of flows. It represents the external temperature sources, which are the only temperature sources in the system. The values in b correspond to the external temperatures. If a flow is influenced by an external temperature source, the corresponding value in b will be the external temperature for that flow. \n",
    "\n",
    "The vector f consists of rows, each corresponding to a different node. It represents the external flows at each node. The value of each entry in the vector corresponds to the size of the external source at that node. If the node has no external source, the value is 0. \n",
    "\n",
    "The auxiliary heat gains, $  Q_{ai}  $, are added to each of the zones and represent the heat flow from the inhabitants and also heat gain from cooking and electronics. The heat gain from the inhabitants was estimated at 90 W."
   ]
  },
  {
   "cell_type": "code",
   "execution_count": null,
   "id": "bb335d06-2b31-4f43-85bf-7ef3db400a42",
   "metadata": {},
   "outputs": [],
   "source": []
  },
  {
   "cell_type": "code",
   "execution_count": null,
   "id": "cf450425-c070-4e79-a664-58ead2fac582",
   "metadata": {},
   "outputs": [],
   "source": []
  },
  {
   "cell_type": "code",
   "execution_count": null,
   "id": "046a3071-86bc-4a25-b2a6-766e30c0a56d",
   "metadata": {},
   "outputs": [],
   "source": []
  },
  {
   "cell_type": "code",
   "execution_count": null,
   "id": "a0bf4423-2770-4abc-bec7-d672ea999cc7",
   "metadata": {},
   "outputs": [],
   "source": []
  },
  {
   "cell_type": "code",
   "execution_count": null,
   "id": "c603f798-0c91-4e11-8daf-15925b032dbd",
   "metadata": {},
   "outputs": [],
   "source": []
  },
  {
   "cell_type": "markdown",
   "id": "5a24b92c-a6f3-4232-9f2f-1025d079533e",
   "metadata": {},
   "source": [
    "![Sensible Heat Gain and Latent Heat Gain in respect of human activities](table1.png)"
   ]
  },
  {
   "cell_type": "markdown",
   "id": "db1056f2-cca8-472a-823a-99289a41e802",
   "metadata": {},
   "source": [
    "*Source: [Scientific Figure - Computer-Aided Load Estimation of Air-conditioning Systems for Non-residential and Residential Buildings](https://www.researchgate.net/figure/Sensible-Heat-Gain-SHG-and-Latent-Heat-Gain-LHG-in-respect-of-human-activities_tbl1_327228047 )*"
   ]
  },
  {
   "cell_type": "markdown",
   "id": "9e452f16-4a28-49b9-8413-23486fa2c443",
   "metadata": {},
   "source": [
    "Heat gain from cooking and electronics was estimated to 70 W. \n",
    "With these matrices implemented it is possible to perform the stead state calculations."
   ]
  },
  {
   "cell_type": "markdown",
   "id": "a4ca13a7-56ec-4b5a-ae80-570fe2f58df3",
   "metadata": {},
   "source": [
    "## Steady-state calculations"
   ]
  },
  {
   "cell_type": "code",
   "execution_count": null,
   "id": "c6fd24b1-0a9f-4dfe-ade4-7717ae32967f",
   "metadata": {},
   "outputs": [],
   "source": []
  },
  {
   "cell_type": "code",
   "execution_count": null,
   "id": "fe7d715d-6e22-4b96-a52c-a3c83ef3ae3b",
   "metadata": {},
   "outputs": [],
   "source": []
  },
  {
   "cell_type": "code",
   "execution_count": null,
   "id": "7035d5a8-f4b5-43ac-adb0-41bfbf451f40",
   "metadata": {},
   "outputs": [],
   "source": []
  },
  {
   "cell_type": "code",
   "execution_count": null,
   "id": "787210cf-daaf-4383-821b-6116fdae27a5",
   "metadata": {},
   "outputs": [],
   "source": []
  },
  {
   "cell_type": "code",
   "execution_count": null,
   "id": "1596faf5-2843-4010-b519-cba5025f428e",
   "metadata": {},
   "outputs": [],
   "source": []
  },
  {
   "cell_type": "code",
   "execution_count": null,
   "id": "944fe387-01ba-4cf4-a99e-bfe958587722",
   "metadata": {},
   "outputs": [],
   "source": []
  },
  {
   "cell_type": "code",
   "execution_count": null,
   "id": "ade0aa41-1c65-4009-918d-c3d96201be89",
   "metadata": {},
   "outputs": [],
   "source": []
  },
  {
   "cell_type": "code",
   "execution_count": 7,
   "id": "d6937407-f819-4b57-b2d9-f8488a2c515c",
   "metadata": {},
   "outputs": [],
   "source": [
    "c=5"
   ]
  },
  {
   "cell_type": "code",
   "execution_count": 9,
   "id": "3741447c-24f9-4828-bac6-a372a09bb565",
   "metadata": {},
   "outputs": [
    {
     "name": "stdout",
     "output_type": "stream",
     "text": [
      "9\n"
     ]
    }
   ],
   "source": [
    "p = c+4\n",
    "print(p)"
   ]
  }
 ],
 "metadata": {
  "kernelspec": {
   "display_name": "Python [conda env:base] *",
   "language": "python",
   "name": "conda-base-py"
  },
  "language_info": {
   "codemirror_mode": {
    "name": "ipython",
    "version": 3
   },
   "file_extension": ".py",
   "mimetype": "text/x-python",
   "name": "python",
   "nbconvert_exporter": "python",
   "pygments_lexer": "ipython3",
   "version": "3.12.7"
  }
 },
 "nbformat": 4,
 "nbformat_minor": 5
}
