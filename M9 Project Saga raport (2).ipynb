{
 "cells": [
  {
   "cell_type": "markdown",
   "id": "d876cdc6-4a9b-4d04-a475-061cd470940f",
   "metadata": {},
   "source": [
    "# Project 2 M9 "
   ]
  },
  {
   "cell_type": "markdown",
   "id": "ded8e054-62f7-4be6-afb3-b7ea57cbd194",
   "metadata": {},
   "source": [
    "## Introduction"
   ]
  },
  {
   "cell_type": "markdown",
   "id": "89333e58-ea46-4c6e-9865-c2fb564cebb7",
   "metadata": {},
   "source": [
    "The goal of the raport is to make a model of a simple building and examine its thermal properties and behaviour. "
   ]
  },
  {
   "cell_type": "markdown",
   "id": "c76cb8c4-8602-40cf-bc50-4e76a9f12dfd",
   "metadata": {},
   "source": [
    "## Description of building "
   ]
  },
  {
   "cell_type": "markdown",
   "id": "88db8f56-2690-4a0a-b25f-0668c30c655d",
   "metadata": {},
   "source": [
    "The chosen building is a studio apartment with one main living room and a bathroom. The building is located in France with the glazed wall facing south."
   ]
  },
  {
   "cell_type": "markdown",
   "id": "930a3225-3a26-4cb2-bc66-b76c80751a24",
   "metadata": {},
   "source": [
    "![Floor scetch of building](front.jpg)"
   ]
  },
  {
   "cell_type": "markdown",
   "id": "6d246530-4020-4f0f-b867-5019202e47a7",
   "metadata": {},
   "source": [
    "Furthermore the entire building has been divided into two zones. As seen in the following table, the first zone is the living room/kitchen area whilst the other zone is a bathroom. The total area of the apartment is 35 $m^2$.\n",
    "| Area                                | Surface [m²] |\n",
    "|-------------------------------------|--------------|\n",
    "| Zone 1 (Living room/kitchen)       | 25           |\n",
    "| Zone 2 (Bathroom)                  | 10           |"
   ]
  },
  {
   "cell_type": "code",
   "execution_count": null,
   "id": "d7095024-18e1-4a7c-8252-ceaf6148eb89",
   "metadata": {},
   "outputs": [],
   "source": [
    "skriv något om air och dess egenskaper"
   ]
  },
  {
   "cell_type": "code",
   "execution_count": 13,
   "id": "800f07e9-a925-4415-82a9-313b5a1916b1",
   "metadata": {},
   "outputs": [
    {
     "data": {
      "text/html": [
       "<div>\n",
       "<style scoped>\n",
       "    .dataframe tbody tr th:only-of-type {\n",
       "        vertical-align: middle;\n",
       "    }\n",
       "\n",
       "    .dataframe tbody tr th {\n",
       "        vertical-align: top;\n",
       "    }\n",
       "\n",
       "    .dataframe thead th {\n",
       "        text-align: right;\n",
       "    }\n",
       "</style>\n",
       "<table border=\"1\" class=\"dataframe\">\n",
       "  <thead>\n",
       "    <tr style=\"text-align: right;\">\n",
       "      <th></th>\n",
       "      <th>Density</th>\n",
       "      <th>Specific heat</th>\n",
       "    </tr>\n",
       "  </thead>\n",
       "  <tbody>\n",
       "    <tr>\n",
       "      <th>Air</th>\n",
       "      <td>1.2</td>\n",
       "      <td>1000</td>\n",
       "    </tr>\n",
       "  </tbody>\n",
       "</table>\n",
       "</div>"
      ],
      "text/plain": [
       "     Density  Specific heat\n",
       "Air      1.2           1000"
      ]
     },
     "execution_count": 13,
     "metadata": {},
     "output_type": "execute_result"
    }
   ],
   "source": [
    "import numpy as np\n",
    "import pandas as pd\n",
    "air = {'Density': 1.2,                      # kg/m³\n",
    "       'Specific heat': 1000}               # J/(kg·K)\n",
    "pd.DataFrame(air, index=['Air'])"
   ]
  },
  {
   "cell_type": "markdown",
   "id": "c1984f50-c1c2-4972-8258-31084dea9931",
   "metadata": {},
   "source": [
    "The exterior walls are compossed with a layer of concrete followed by a layer of insulation with the following parameters:\n",
    "| Material     | Thickness [cm] | Thermal conductivity λ [W/mK] | Specific heat c [J/kgK] | Volumetric mass density ρ [kg/m³] |\n",
    "|--------------|----------------|-------------------------------|--------------------------|-----------------------------------|\n",
    "| Concrete     | 20             | 1,4                           | 960                      | 2300                              |\n",
    "| Insulation   | 10             | 0,027                         | 840                      | 50                                |\n"
   ]
  },
  {
   "cell_type": "code",
   "execution_count": 15,
   "id": "920ba537-7f0a-4572-bf3b-d472b9b6975b",
   "metadata": {},
   "outputs": [],
   "source": [
    "concrete_extern_salon = {'Conductivity': 1.400,          # W/(m·K)\n",
    "            'Density': 2300.0,              # kg/m³\n",
    "            'Specific heat': 960,           # J/(kg⋅K)\n",
    "            'Width': 0.2,                   # m\n",
    "            'Surface': 5*3*2}            # m²"
   ]
  },
  {
   "cell_type": "code",
   "execution_count": 17,
   "id": "989d385c-5841-411d-89b2-cbde67cfd0dd",
   "metadata": {},
   "outputs": [],
   "source": [
    "insulation_salon = {'Conductivity': 0.027,        # W/(m·K)\n",
    "              'Density': 50.0,              # kg/m³\n",
    "              'Specific heat': 840,        # J/(kg⋅K)\n",
    "              'Width': 0.1,                # m\n",
    "              'Surface': 5*2*3}          # m²"
   ]
  },
  {
   "cell_type": "code",
   "execution_count": 19,
   "id": "625f412b-cc72-429c-9359-8c380709466b",
   "metadata": {},
   "outputs": [],
   "source": [
    "concrete_extern_bathroom = {'Conductivity': 1.400,          # W/(m·K)\n",
    "            'Density': 2300.0,              # kg/m³\n",
    "            'Specific heat': 960,           # J/(kg⋅K)\n",
    "            'Width': 0.2,                   # m\n",
    "            'Surface': 5*3+2*3}            # m²\n",
    "\n",
    "insulation_bathroom = {'Conductivity': 0.027,        # W/(m·K)\n",
    "              'Density': 50.0,              # kg/m³\n",
    "              'Specific heat': 840,        # J/(kg⋅K)\n",
    "              'Width': 0.1,                # m\n",
    "              'Surface': 5*3+2*3}          # m²"
   ]
  },
  {
   "cell_type": "markdown",
   "id": "3fb21829-2882-4220-beb6-7dde0589c7fb",
   "metadata": {},
   "source": [
    "*Source: [Engineering Toolbox - Specific Heat of Solids](https://www.engineeringtoolbox.com/specific-heat-solids-d_154.html)*"
   ]
  },
  {
   "cell_type": "markdown",
   "id": "98b06156-004a-428b-b884-bd6a55f6b03c",
   "metadata": {},
   "source": [
    "The interior walls are as follows:"
   ]
  },
  {
   "cell_type": "markdown",
   "id": "ad35549f-b41a-465c-81a8-dbe1773a3de6",
   "metadata": {},
   "source": [
    "| Material     | Thickness [cm] | Thermal conductivity λ [W/mK] | Specific heat c [J/kgK] | Volumetric mass density ρ [kg/m³] |\n",
    "|--------------|----------------|-------------------------------|--------------------------|-----------------------------------|\n",
    "| Concrete     | 7.5             | 1,4                           | 960                      | 2300                              |\n",
    "                                               "
   ]
  },
  {
   "cell_type": "code",
   "execution_count": 24,
   "id": "17c0c838-6d1d-488c-83a3-877d7b3e504e",
   "metadata": {},
   "outputs": [],
   "source": [
    "concrete_intern_salon = {'Conductivity': 1.400,          # W/(m·K)\n",
    "            'Density': 2300.0,              # kg/m³\n",
    "            'Specific heat': 960,           # J/(kg⋅K)\n",
    "            'Width': 0.075,                   # m\n",
    "            'Surface': 5*3}            # m²"
   ]
  },
  {
   "cell_type": "code",
   "execution_count": 26,
   "id": "aa5a8b88-02f1-40c8-bc9b-eedfbb700900",
   "metadata": {},
   "outputs": [],
   "source": [
    "concrete_intern_bathroom = {'Conductivity': 1.400,          # W/(m·K)\n",
    "            'Density': 2300.0,              # kg/m³\n",
    "            'Specific heat': 960,           # J/(kg⋅K)\n",
    "            'Width': 0.075,                   # m\n",
    "            'Surface': 5*3}            # m²"
   ]
  },
  {
   "cell_type": "markdown",
   "id": "1b33d7de-7f52-497e-8653-f330875fed22",
   "metadata": {},
   "source": [
    "To simplify the model both the exterior and the interior doors have been modelled the same way."
   ]
  },
  {
   "cell_type": "markdown",
   "id": "48099cf7-b5ff-4a8f-8855-e16d0bdc137e",
   "metadata": {},
   "source": [
    "| Material     | Thickness [cm] | Thermal conductivity λ [W/mK] | Specific heat c [J/kgK] | Volumetric mass density ρ [kg/m³] |\n",
    "|--------------|----------------|-------------------------------|--------------------------|-----------------------------------|\n",
    "| Wood         | 5              | 0,17                          | 2000                     | 800                              |\n"
   ]
  },
  {
   "cell_type": "code",
   "execution_count": 30,
   "id": "49c82152-544a-44eb-a1cf-fbcf05711cc9",
   "metadata": {},
   "outputs": [],
   "source": [
    "door = {'Conductivity' : 0.17,\n",
    "        'Width' : 5,\n",
    "        'Surface' : 0.9*2.1,\n",
    "        'Specific heat' : 2000,\n",
    "        'Density' : 800 }"
   ]
  },
  {
   "cell_type": "markdown",
   "id": "bdc29d65-1015-49c3-95a6-f1bd4f01f59d",
   "metadata": {},
   "source": [
    "The windows are double glazed and have the following parameters \n",
    "| Material     | Thickness [cm] | Energy transmittance e | Specific heat c [J/kgK] | Volumetric mass density ρ [kg/m³] |\n",
    "|--------------|----------------|-------------------------------|--------------------------|-----------------------------------|\n",
    "| Window     | 2,4             | 0,75                          | 1210                      | 2500                              |\n"
   ]
  },
  {
   "cell_type": "code",
   "execution_count": 33,
   "id": "71241343-df84-46b4-ab49-6dc93d2ad731",
   "metadata": {},
   "outputs": [],
   "source": [
    "glass_salon = {'Conductivity': 1.4,               # W/(m·K)\n",
    "         'Density': 2500,                   # kg/m³\n",
    "         'Specific heat': 1210,             # J/(kg⋅K)\n",
    "         'Width': 0.024,                     # m\n",
    "         'Surface': 5*3}                   # m²"
   ]
  },
  {
   "cell_type": "code",
   "execution_count": 35,
   "id": "39e8b80b-303c-4897-ac87-b53d420570a8",
   "metadata": {},
   "outputs": [],
   "source": [
    "glass_bathroom = {'Conductivity': 1.4,               # W/(m·K)\n",
    "         'Density': 2500,                   # kg/m³\n",
    "         'Specific heat': 1210,             # J/(kg⋅K)\n",
    "         'Width': 0.024,                     # m\n",
    "         'Surface': 2*3}                   # m²"
   ]
  },
  {
   "cell_type": "markdown",
   "id": "5c5330d2-64f0-4878-bfa4-1fdccd032ec1",
   "metadata": {},
   "source": [
    "The apartment is also assumed to be part of an apartment complex, with apartments under and over. This assumption makes the heat transfer from the ceilings and floors neglectable."
   ]
  },
  {
   "cell_type": "code",
   "execution_count": 38,
   "id": "3569e693-fd87-40b8-a9e4-44576fb187dd",
   "metadata": {},
   "outputs": [],
   "source": [
    "ceiling_soil_bathroom = {                    # m\n",
    "         'Surface': 2*5*2}  \n",
    "\n",
    "ceiling_soil_salon = {                    # m\n",
    "         'Surface': 2*5*5} "
   ]
  },
  {
   "cell_type": "markdown",
   "id": "30aef21d-2be4-4952-b010-3ac0dfe30bca",
   "metadata": {},
   "source": [
    "The different rooms are assembled as follows:"
   ]
  },
  {
   "cell_type": "code",
   "execution_count": 44,
   "id": "3be77300-3bd1-4679-9137-9698b931130c",
   "metadata": {},
   "outputs": [
    {
     "data": {
      "text/html": [
       "<div>\n",
       "<style scoped>\n",
       "    .dataframe tbody tr th:only-of-type {\n",
       "        vertical-align: middle;\n",
       "    }\n",
       "\n",
       "    .dataframe tbody tr th {\n",
       "        vertical-align: top;\n",
       "    }\n",
       "\n",
       "    .dataframe thead th {\n",
       "        text-align: right;\n",
       "    }\n",
       "</style>\n",
       "<table border=\"1\" class=\"dataframe\">\n",
       "  <thead>\n",
       "    <tr style=\"text-align: right;\">\n",
       "      <th></th>\n",
       "      <th>Conductivity</th>\n",
       "      <th>Density</th>\n",
       "      <th>Specific heat</th>\n",
       "      <th>Width</th>\n",
       "      <th>Surface</th>\n",
       "    </tr>\n",
       "  </thead>\n",
       "  <tbody>\n",
       "    <tr>\n",
       "      <th>Layer_out</th>\n",
       "      <td>1.400</td>\n",
       "      <td>2300.0</td>\n",
       "      <td>960.0</td>\n",
       "      <td>0.200</td>\n",
       "      <td>30.00</td>\n",
       "    </tr>\n",
       "    <tr>\n",
       "      <th>Layer_out1</th>\n",
       "      <td>1.400</td>\n",
       "      <td>2300.0</td>\n",
       "      <td>960.0</td>\n",
       "      <td>0.075</td>\n",
       "      <td>15.00</td>\n",
       "    </tr>\n",
       "    <tr>\n",
       "      <th>Layer_in</th>\n",
       "      <td>0.027</td>\n",
       "      <td>50.0</td>\n",
       "      <td>840.0</td>\n",
       "      <td>0.100</td>\n",
       "      <td>30.00</td>\n",
       "    </tr>\n",
       "    <tr>\n",
       "      <th>Layer_in1</th>\n",
       "      <td>0.027</td>\n",
       "      <td>50.0</td>\n",
       "      <td>840.0</td>\n",
       "      <td>0.100</td>\n",
       "      <td>21.00</td>\n",
       "    </tr>\n",
       "    <tr>\n",
       "      <th>Glass</th>\n",
       "      <td>1.400</td>\n",
       "      <td>2500.0</td>\n",
       "      <td>1210.0</td>\n",
       "      <td>0.024</td>\n",
       "      <td>15.00</td>\n",
       "    </tr>\n",
       "    <tr>\n",
       "      <th>Glass1</th>\n",
       "      <td>1.400</td>\n",
       "      <td>2500.0</td>\n",
       "      <td>1210.0</td>\n",
       "      <td>0.024</td>\n",
       "      <td>6.00</td>\n",
       "    </tr>\n",
       "    <tr>\n",
       "      <th>Layer_out2</th>\n",
       "      <td>1.400</td>\n",
       "      <td>2300.0</td>\n",
       "      <td>960.0</td>\n",
       "      <td>0.200</td>\n",
       "      <td>21.00</td>\n",
       "    </tr>\n",
       "    <tr>\n",
       "      <th>door</th>\n",
       "      <td>0.170</td>\n",
       "      <td>800.0</td>\n",
       "      <td>2000.0</td>\n",
       "      <td>5.000</td>\n",
       "      <td>1.89</td>\n",
       "    </tr>\n",
       "    <tr>\n",
       "      <th>roof</th>\n",
       "      <td>NaN</td>\n",
       "      <td>NaN</td>\n",
       "      <td>NaN</td>\n",
       "      <td>NaN</td>\n",
       "      <td>20.00</td>\n",
       "    </tr>\n",
       "    <tr>\n",
       "      <th>roof1</th>\n",
       "      <td>NaN</td>\n",
       "      <td>NaN</td>\n",
       "      <td>NaN</td>\n",
       "      <td>NaN</td>\n",
       "      <td>50.00</td>\n",
       "    </tr>\n",
       "  </tbody>\n",
       "</table>\n",
       "</div>"
      ],
      "text/plain": [
       "            Conductivity  Density  Specific heat  Width  Surface\n",
       "Layer_out          1.400   2300.0          960.0  0.200    30.00\n",
       "Layer_out1         1.400   2300.0          960.0  0.075    15.00\n",
       "Layer_in           0.027     50.0          840.0  0.100    30.00\n",
       "Layer_in1          0.027     50.0          840.0  0.100    21.00\n",
       "Glass              1.400   2500.0         1210.0  0.024    15.00\n",
       "Glass1             1.400   2500.0         1210.0  0.024     6.00\n",
       "Layer_out2         1.400   2300.0          960.0  0.200    21.00\n",
       "door               0.170    800.0         2000.0  5.000     1.89\n",
       "roof                 NaN      NaN            NaN    NaN    20.00\n",
       "roof1                NaN      NaN            NaN    NaN    50.00"
      ]
     },
     "execution_count": 44,
     "metadata": {},
     "output_type": "execute_result"
    }
   ],
   "source": [
    "wall_salon = pd.DataFrame.from_dict({'Layer_out': concrete_extern_salon,\n",
    "                                     'Layer_out1': concrete_intern_bathroom,\n",
    "                               'Layer_in': insulation_salon,\n",
    "                               'Layer_in1': insulation_bathroom,\n",
    "                               'Glass': glass_salon,\n",
    "                               'Glass1': glass_bathroom,\n",
    "                               'Layer_out2' : concrete_extern_bathroom,\n",
    "                               'roof' : ceiling_soil_bathroom,\n",
    "                               'roof1' : ceiling_soil_salon,\n",
    "                               'door' : door\n",
    "                               },\n",
    "                              orient='index')\n",
    "wall_salon\n",
    "\n",
    "wall_bathroom = pd.DataFrame.from_dict({'Layer_out': concrete_extern_salon,\n",
    "                                     'Layer_out1': concrete_intern_bathroom,\n",
    "                               'Layer_in': insulation_salon,\n",
    "                               'Layer_in1': insulation_bathroom,\n",
    "                               'Glass': glass_salon,\n",
    "                               'Glass1': glass_bathroom,\n",
    "                               'Layer_out2' : concrete_extern_bathroom,\n",
    "                               'roof' : ceiling_soil_bathroom,\n",
    "                               'roof1' : ceiling_soil_salon,\n",
    "                               'door' : door\n",
    "                               },\n",
    "                              orient='index')\n",
    "wall_bathroom"
   ]
  },
  {
   "cell_type": "markdown",
   "id": "a5d642ba-1bb1-4709-95c3-91016b2b2673",
   "metadata": {},
   "source": [
    "## Thermal model "
   ]
  },
  {
   "cell_type": "markdown",
   "id": "fc74de43-6297-4e69-a082-97fda8076732",
   "metadata": {},
   "source": [
    "The previously described building is depicted using nodes and flows by the following model."
   ]
  },
  {
   "cell_type": "markdown",
   "id": "7431ea7c-8bbe-40d8-8be9-eee8cf656311",
   "metadata": {},
   "source": [
    "![Thermal Model](thermal.png)"
   ]
  },
  {
   "cell_type": "markdown",
   "id": "b038f7ab-ea8f-4af7-b98c-6739355e9101",
   "metadata": {},
   "source": [
    "h is the convection coefficient for the walls. The surface resistance on the inside is 8 $W/(m^2K)$ and for the outside surface the value is 25 $ W/(m^2K) $  ."
   ]
  },
  {
   "cell_type": "code",
   "execution_count": 50,
   "id": "f95ade18-4851-4059-befe-d7529020f903",
   "metadata": {},
   "outputs": [
    {
     "data": {
      "text/html": [
       "<div>\n",
       "<style scoped>\n",
       "    .dataframe tbody tr th:only-of-type {\n",
       "        vertical-align: middle;\n",
       "    }\n",
       "\n",
       "    .dataframe tbody tr th {\n",
       "        vertical-align: top;\n",
       "    }\n",
       "\n",
       "    .dataframe thead th {\n",
       "        text-align: right;\n",
       "    }\n",
       "</style>\n",
       "<table border=\"1\" class=\"dataframe\">\n",
       "  <thead>\n",
       "    <tr style=\"text-align: right;\">\n",
       "      <th></th>\n",
       "      <th>in</th>\n",
       "      <th>out</th>\n",
       "    </tr>\n",
       "  </thead>\n",
       "  <tbody>\n",
       "    <tr>\n",
       "      <th>h</th>\n",
       "      <td>8.0</td>\n",
       "      <td>25</td>\n",
       "    </tr>\n",
       "  </tbody>\n",
       "</table>\n",
       "</div>"
      ],
      "text/plain": [
       "    in  out\n",
       "h  8.0   25"
      ]
     },
     "execution_count": 50,
     "metadata": {},
     "output_type": "execute_result"
    }
   ],
   "source": [
    "σ = 5.67e-8     # W/(m²⋅K⁴) Stefan-Bolzmann constant\n",
    "\n",
    "h = pd.DataFrame([{'in': 8., 'out': 25}], index=['h'])  # W/(m²⋅K)\n",
    "h"
   ]
  },
  {
   "cell_type": "markdown",
   "id": "5df1d75e-8ffa-421b-9847-62ff14b458b9",
   "metadata": {},
   "source": [
    "\n",
    "The volumetric flow rate of the air, $ \\mathrm{m}^3/\\mathrm{s} $, with the following equation:\n"
   ]
  },
  {
   "cell_type": "markdown",
   "id": "a7238d62-09cc-4162-b73f-b06820d9523a",
   "metadata": {},
   "source": [
    "$ \\dot{V}_a = \\frac{\\mathrm{ACH}}{3600} V_a $"
   ]
  },
  {
   "cell_type": "markdown",
   "id": "63f105a6-72b5-4f86-9f0c-935c8bd4dfdd",
   "metadata": {},
   "source": [
    "Where ACH is the air changes per hours, 1/h"
   ]
  },
  {
   "cell_type": "markdown",
   "id": "435144f5-248d-4084-80d3-b247053ed7fe",
   "metadata": {},
   "source": [
    "$ V_a $ is the volume of the air, $ m^3 $ "
   ]
  },
  {
   "cell_type": "markdown",
   "id": "ba157f27-4707-4d4f-ae03-ca60312cc1b8",
   "metadata": {},
   "source": [
    "and 3600 is the number of seconds in one hour"
   ]
  },
  {
   "cell_type": "markdown",
   "id": "a41ccc18-5cfd-4e1e-8728-778750abdd0a",
   "metadata": {},
   "source": [
    "# Controller "
   ]
  },
  {
   "cell_type": "markdown",
   "id": "672f728c-a802-480f-a804-3d47a20a2133",
   "metadata": {},
   "source": [
    "The model utilizes a proportional heater, which is a simple representation of a controller. "
   ]
  },
  {
   "cell_type": "markdown",
   "id": "fdd7f2d3-0241-4bcc-a49c-144db2dbb51f",
   "metadata": {},
   "source": [
    "$$q_{HVAC} = K_p (T_{i, sp} - \\theta_i)$$"
   ]
  },
  {
   "cell_type": "markdown",
   "id": "df04047b-385e-4d58-a799-0b7424c36318",
   "metadata": {},
   "source": [
    "It works by changing the heat flow rate $q_{HVAC}$, in order to controll the indoor temperature $\\theta_i$ to its setpoint temperature $T_{i,sp}$. "
   ]
  },
  {
   "cell_type": "markdown",
   "id": "d742eaa0-6b1b-4446-9bf6-ad7b6dd698e1",
   "metadata": {},
   "source": [
    "The $ K_p $ value, the proportional gain of the controller, was chosen to 1000. This represents an almost perfect controller."
   ]
  },
  {
   "cell_type": "code",
   "execution_count": 134,
   "id": "be209c18-d2ed-4f6c-9245-8149ddafe284",
   "metadata": {},
   "outputs": [],
   "source": [
    "# ventilation flow rate\n",
    "Va_bathroom = 5*2*3                   # m³, volume of air\n",
    "Va_salon = 5*5*3                     # m³, volume of air\n",
    "ACH = 1                     # 1/h, air changes per hour\n",
    "Va_dot_bathroom = ACH / 3600 * Va_bathroom          # m³/s, air infiltration\n",
    "Va_dot_salon = ACH / 3600 * Va_salon         # m³/s, air infiltration\n",
    "Kp = 1000 # W/K"
   ]
  },
  {
   "cell_type": "markdown",
   "id": "7996a2a2-724b-4ea0-8695-76d6bf4f9807",
   "metadata": {},
   "source": [
    "The test was done three times with three different temperatures, 0°C 15°C and 30°C."
   ]
  },
  {
   "cell_type": "code",
   "execution_count": 69,
   "id": "12239fd3-17f5-4877-916d-96be05f63edb",
   "metadata": {},
   "outputs": [],
   "source": [
    "T0=15 #données météo\n",
    "Tisp=19 # à déinir\n",
    "air_bathroom = {'Conductivity': 1.4,               # W/(m·K)\n",
    "          'Density': 1.2,                      # kg/m³                  \n",
    "          'Specific heat': 1000,             # J/(kg⋅K)\n",
    "          'Volume': 30, }                    # m^3\n",
    "\n",
    "air_salon = {'Conductivity': 1.4,               # W/(m·K)\n",
    "          'Density': 1.2,                      # kg/m³                  \n",
    "          'Specific heat': 1000,             # J/(kg⋅K)\n",
    "          'Volume': 75, }                    # m^3"
   ]
  },
  {
   "cell_type": "markdown",
   "id": "5fdc5dfe-ae63-471e-a331-5949de4494d9",
   "metadata": {},
   "source": [
    "In the thermal model, each material is depicted using two resistances and a node. The nodes correspond to the temperatures in volumes, points or surfaces. In this case the temperatures in the air, materials in walls and windows and set point temperatures. The branches corresponds to the heat flow rate between the temperature nodes.\n",
    "\n",
    "The equation to solve is as follows:\n",
    "\n",
    "$$\n",
    "C \\dot{\\theta} = -(A^T GA) \\theta + A^T Gb + f\n",
    "$$\n",
    "\n",
    "To find the steady state solution,\n",
    "\n",
    "$$\n",
    "\\dot{\\theta} = 0\n",
    "$$"
   ]
  },
  {
   "cell_type": "code",
   "execution_count": null,
   "id": "bcf5e684-5f30-4c4b-8c6e-646ab218159b",
   "metadata": {},
   "outputs": [],
   "source": []
  },
  {
   "cell_type": "markdown",
   "id": "4b3c9f09-9b5d-4d66-9e7e-591971135bbc",
   "metadata": {},
   "source": [
    "## Steady state model"
   ]
  },
  {
   "cell_type": "markdown",
   "id": "e397f523-7d91-46ff-a919-e6b1c89030e4",
   "metadata": {},
   "source": [
    "Matrix A defines the direction of flows between nodes. The rows correspond to individual flows, while the columns represent each node. A value of 1 indicates that a node receives the flow, whereas -1 signifies that the flow is leaving the node."
   ]
  },
  {
   "cell_type": "code",
   "execution_count": 74,
   "id": "3642a6f5-8365-4299-9dec-22fbc7e57fbc",
   "metadata": {},
   "outputs": [],
   "source": [
    "nr = 27\n",
    "nc= 20\n",
    "\n",
    "A = np.zeros([nr, nc])\n",
    "\n",
    "A[0, 5] = 1\n",
    "A[1, 9] = 1\n",
    "A[2, 0] = 1\n",
    "\n",
    "j=0\n",
    "for i in range(3,13):\n",
    "    A[i,j], A[i,j+1] = -1, 1\n",
    "    j+=1\n",
    "    \n",
    "A[13, 10] = 1\n",
    "A[14, 14], A[14, 5] = -1, 1\n",
    "A[14, 14], A[14, 5] = -1, 1\n",
    "A[15, 5], A[15, 11] = -1, 1\n",
    "A[16, 11], A[16, 12] = -1, 1\n",
    "A[17, 12], A[17, 13] = -1, 1\n",
    "A[18, 13], A[18, 9] = -1, 1\n",
    "A[19, 15], A[19, 9] = -1, 1\n",
    "A[20, 14] = 1\n",
    " \n",
    "j=15\n",
    "for i in range(21,25):\n",
    "    A[i,j+1], A[i,j] = -1, 1\n",
    "    j+=1\n",
    "    \n",
    "A[25, 19] = 1\n",
    "A[26, 9] = 1"
   ]
  },
  {
   "cell_type": "markdown",
   "id": "3ac650b0-d560-48f1-bbaa-7991c87590ec",
   "metadata": {},
   "source": [
    "Matrix G is a square matrix where each row and column correspond to a specific flow. It is a diagonal matrix, with each diagonal element representing the conductance (G-value) of the respective flow. The following equations are used for this:\n",
    "\n",
    "$$\n",
    "G_{\\text{cond}} = S \\frac{\\lambda}{w}\n",
    "$$\n",
    "\n",
    "and\n",
    "\n",
    "$$\n",
    "G_{\\text{cv}} = hS\n",
    "$$"
   ]
  },
  {
   "cell_type": "markdown",
   "id": "672f6b17-34b2-402b-9b6b-856ca061a25d",
   "metadata": {},
   "source": [
    "For the ventilation, the conductance for ventilation/infiltration is calculated using the following equation "
   ]
  },
  {
   "cell_type": "markdown",
   "id": "00889ad9-bc32-4823-8325-f77d8fa4fd04",
   "metadata": {},
   "source": [
    "$$ G_v = \\rho_a c_a \\dot{V}_a $$\n",
    "with $\\rho_a$ being the density of the air, the volumetric flow rate of the air is $\\dot{V}_a$ and $c_a$ is the specific heat capacity of the air. "
   ]
  },
  {
   "cell_type": "code",
   "execution_count": 77,
   "id": "ae0f3d99-8497-4db1-868b-5478410d3783",
   "metadata": {},
   "outputs": [],
   "source": [
    "G = np.zeros((27,27))"
   ]
  },
  {
   "cell_type": "code",
   "execution_count": null,
   "id": "2e8ed89e-96f9-49c8-bc26-8cd404c28806",
   "metadata": {},
   "outputs": [
    {
     "name": "stderr",
     "output_type": "stream",
     "text": [
      "/var/folders/bb/sz1w83gs0qxf_yh0b20g05bw0000gn/T/ipykernel_25338/2393328718.py:4: FutureWarning: Calling float on a single element Series is deprecated and will raise a TypeError in the future. Use float(ser.iloc[0]) instead\n",
      "  G[2,2] = h['out'] * (wall_bathroom['Surface'].iloc[6]-3*2)     # on enlève la partie du mur négligée\n",
      "/var/folders/bb/sz1w83gs0qxf_yh0b20g05bw0000gn/T/ipykernel_25338/2393328718.py:9: FutureWarning: Calling float on a single element Series is deprecated and will raise a TypeError in the future. Use float(ser.iloc[0]) instead\n",
      "  G[7,7]= h['in'] * (wall_bathroom['Surface'].iloc[3]-3*2)  # on enlève la partie du mur négligée\n",
      "/var/folders/bb/sz1w83gs0qxf_yh0b20g05bw0000gn/T/ipykernel_25338/2393328718.py:10: FutureWarning: Calling float on a single element Series is deprecated and will raise a TypeError in the future. Use float(ser.iloc[0]) instead\n",
      "  G[8,8]=h['in'] * wall_bathroom['Surface'].iloc[1]\n",
      "/var/folders/bb/sz1w83gs0qxf_yh0b20g05bw0000gn/T/ipykernel_25338/2393328718.py:13: FutureWarning: Calling float on a single element Series is deprecated and will raise a TypeError in the future. Use float(ser.iloc[0]) instead\n",
      "  G[11,11]= h['in'] * wall_salon['Surface'].iloc[1]\n",
      "/var/folders/bb/sz1w83gs0qxf_yh0b20g05bw0000gn/T/ipykernel_25338/2393328718.py:14: FutureWarning: Calling float on a single element Series is deprecated and will raise a TypeError in the future. Use float(ser.iloc[0]) instead\n",
      "  G[12,12]= h['in'] * wall_salon['Surface'].iloc[4]\n",
      "/var/folders/bb/sz1w83gs0qxf_yh0b20g05bw0000gn/T/ipykernel_25338/2393328718.py:15: FutureWarning: Calling float on a single element Series is deprecated and will raise a TypeError in the future. Use float(ser.iloc[0]) instead\n",
      "  G[13,13]= h['out'] * wall_salon['Surface'].iloc[4]\n",
      "/var/folders/bb/sz1w83gs0qxf_yh0b20g05bw0000gn/T/ipykernel_25338/2393328718.py:16: FutureWarning: Calling float on a single element Series is deprecated and will raise a TypeError in the future. Use float(ser.iloc[0]) instead\n",
      "  G[14,14]= h['in'] * wall_bathroom['Surface'].iloc[5]\n",
      "/var/folders/bb/sz1w83gs0qxf_yh0b20g05bw0000gn/T/ipykernel_25338/2393328718.py:17: FutureWarning: Calling float on a single element Series is deprecated and will raise a TypeError in the future. Use float(ser.iloc[0]) instead\n",
      "  G[15,15]= h['in'] * wall_bathroom['Surface'].iloc[9]\n",
      "/var/folders/bb/sz1w83gs0qxf_yh0b20g05bw0000gn/T/ipykernel_25338/2393328718.py:20: FutureWarning: Calling float on a single element Series is deprecated and will raise a TypeError in the future. Use float(ser.iloc[0]) instead\n",
      "  G[18,18]= h['in'] * wall_salon['Surface'].iloc[9]\n",
      "/var/folders/bb/sz1w83gs0qxf_yh0b20g05bw0000gn/T/ipykernel_25338/2393328718.py:21: FutureWarning: Calling float on a single element Series is deprecated and will raise a TypeError in the future. Use float(ser.iloc[0]) instead\n",
      "  G[19,19]= h['in'] * (wall_salon['Surface'].iloc[2]-5*3)\n",
      "/var/folders/bb/sz1w83gs0qxf_yh0b20g05bw0000gn/T/ipykernel_25338/2393328718.py:22: FutureWarning: Calling float on a single element Series is deprecated and will raise a TypeError in the future. Use float(ser.iloc[0]) instead\n",
      "  G[20,20]= h['out'] * wall_bathroom['Surface'].iloc[5]\n",
      "/var/folders/bb/sz1w83gs0qxf_yh0b20g05bw0000gn/T/ipykernel_25338/2393328718.py:27: FutureWarning: Calling float on a single element Series is deprecated and will raise a TypeError in the future. Use float(ser.iloc[0]) instead\n",
      "  G[25,25]=h['out'] * wall_salon['Surface'].iloc[0]\n"
     ]
    }
   ],
   "source": [
    "\n",
    "G[0,0] = air['Density'] * air['Specific heat'] * Va_dot_bathroom\n",
    "G[26,26] = air['Density'] * air['Specific heat'] * Va_dot_salon\n",
    "G[2,2] = h['out'] * (wall_bathroom['Surface'].iloc[6]-3*2)     # on enlève la partie du mur négligée\n",
    "G[3,3] = 2*(wall_bathroom['Surface'].iloc[6]-3*2)*wall_bathroom['Conductivity'].iloc[6]/wall_bathroom['Width'].iloc[6]    # on enlève la partie du mur négligée\n",
    "G[4,4] = G[3,3]\n",
    "G[5,5] = 2*(wall_bathroom['Surface'].iloc[3]-3*2)*wall_bathroom['Conductivity'].iloc[3]/wall_bathroom['Width'].iloc[3]     # on enlève la partie du mur négligée\n",
    "G[6,6] = G[5,5]\n",
    "G[7,7]= h['in'] * (wall_bathroom['Surface'].iloc[3]-3*2)  # on enlève la partie du mur négligée\n",
    "G[8,8] = h['in'] * wall_bathroom['Surface'].iloc[1]\n",
    "G[9,9] = 2*wall_bathroom['Surface'].iloc[1]*wall_bathroom['Conductivity'].iloc[1]/wall_bathroom['Width'].iloc[1]\n",
    "G[10,10] = 2*wall_bathroom['Surface'].iloc[1]*wall_bathroom['Conductivity'].iloc[1]/wall_bathroom['Width'].iloc[1]\n",
    "G[11,11]= h['in'] * wall_salon['Surface'].iloc[1]\n",
    "G[12,12]= h['in'] * wall_salon['Surface'].iloc[4]\n",
    "G[13,13]= h['out'] * wall_salon['Surface'].iloc[4]\n",
    "G[14,14]= h['in'] * wall_bathroom['Surface'].iloc[5]\n",
    "G[15,15]= h['in'] * wall_bathroom['Surface'].iloc[9]\n",
    "G[16,16]= 2*door['Surface']*door['Conductivity']/door['Width']\n",
    "G[17,17]=G[16,16]\n",
    "G[18,18]= h['in'] * wall_salon['Surface'].iloc[9]\n",
    "G[19,19]= h['in'] * (wall_salon['Surface'].iloc[2]-5*3)\n",
    "G[20,20]= h['out'] * wall_bathroom['Surface'].iloc[5]\n",
    "G[21,21]= 2*(wall_salon['Surface'].iloc[2]-5*3)*wall_bathroom['Conductivity'].iloc[2]/wall_bathroom['Width'].iloc[2]\n",
    "G[22,22]=G[21,21]\n",
    "G[23,23]=2*(wall_salon['Surface'].iloc[0]-5*3)*wall_bathroom['Conductivity'].iloc[0]/wall_bathroom['Width'].iloc[0]\n",
    "G[24,24]= G[23,23]\n",
    "G[25,25]=h['out'] * wall_salon['Surface'].iloc[0]"
   ]
  },
  {
   "cell_type": "code",
   "execution_count": null,
   "id": "504c7359-c782-4e18-aa36-eaec45984297",
   "metadata": {},
   "outputs": [],
   "source": [
    "\n",
    "G[1,1] = Kp"
   ]
  },
  {
   "cell_type": "markdown",
   "id": "9db80b67-a77f-4a8d-91ad-ac9861d0594a",
   "metadata": {},
   "source": [
    "Similarly, matrix C shares the same structure as matrix G, but instead of representing flows, its rows and columns correspond to nodes. The diagonal elements of C represent the capacity at each node:\n",
    "\n",
    "$$\n",
    "C = \\rho c w S\n",
    "$$\n",
    "\n",
    "Vector b is a column vector with as many rows as the number of flows. It represents the external temperature sources, which are the only temperature sources in the system. The values in b correspond to the external temperatures. If a flow is influenced by an external temperature source, the corresponding value in b will be the external temperature for that flow. \n",
    "\n",
    "The vector f consists of rows, each corresponding to a different node. It represents the external flows at each node. The value of each entry in the vector corresponds to the size of the external source at that node. If the node has no external source, the value is 0. "
   ]
  },
  {
   "cell_type": "code",
   "execution_count": 82,
   "id": "bb335d06-2b31-4f43-85bf-7ef3db400a42",
   "metadata": {},
   "outputs": [],
   "source": [
    "\n",
    "# ----- b and f vectors -----\n",
    "f = np.zeros(20)\n",
    "b = np.zeros(27)\n",
    "b[0]=b[2]=b[13]=b[20]=b[25]=T0\n",
    "b[1]=Tisp    \n",
    "\n",
    "Es = 307 #W/m²\n",
    "Ew = 391 #W/m²\n",
    "En = 150 #W/m²\n",
    "\n",
    "# radiative properties\n",
    "ε_wLW = 0.85    # long wave emmisivity: wall surface (concrete)\n",
    "ε_gLW = 0.90    # long wave emmisivity: glass pyrex\n",
    "α_wSW = 0.25    # short wave absortivity: white smooth surface\n",
    "α_gSW = 0.38    # short wave absortivity: reflective blue glass\n",
    "τ_gSW = 0.30    # short wave transmitance: reflective blue glass\n",
    "\n",
    "# view factor\n",
    "Fwall_ground = 0.5\n",
    "Fwall_sky = 0.5\n",
    "Fw_externgbathroom = (concrete_extern_bathroom['Surface']-3*2) / (glass_bathroom['Surface']+concrete_intern_bathroom['Surface']+ceiling_soil_bathroom['Surface'])\n",
    "Fw_interngbathroom = (concrete_intern_bathroom['Surface']) / (glass_bathroom['Surface']+concrete_extern_bathroom['Surface']+ceiling_soil_bathroom['Surface'])\n",
    "Fw_externgsalon = (concrete_extern_salon['Surface']-3*5) / (glass_salon['Surface']+concrete_intern_salon['Surface']+ceiling_soil_salon['Surface'])\n",
    "Fw_interngsalon = (concrete_intern_salon['Surface']) / (glass_salon['Surface']+concrete_extern_salon['Surface']+ceiling_soil_salon['Surface'])\n",
    "\n",
    "phi0 = Fwall_sky*En*(concrete_extern_bathroom['Surface']-2*3)\n",
    "phi14 = Fwall_sky*Ew*glass_bathroom['Surface']\n",
    "phi10 = Fwall_sky*Es*glass_salon['Surface']\n",
    "phi19 = Fwall_sky*Ew*concrete_extern_salon['Surface']/2\n",
    "phi4 = Fw_externgbathroom*phi14*τ_gSW*α_wSW\n",
    "phi6 = Fw_interngbathroom*phi14*τ_gSW*α_wSW\n",
    "phi8 = Fw_interngsalon*phi10*τ_gSW*α_wSW\n",
    "phi15 = Fw_externgsalon*phi10*τ_gSW*α_wSW\n",
    "Qa1 = 90+70 # one standing people and some machine in W\n",
    "Qa2 = 90 # one standing people in W\n",
    "\n",
    "f=[phi0, 0, 0, 0, phi4, Qa2, phi6, 0, phi8, Qa1, phi10, 0, 0, 0, phi14, phi15, 0, 0, 0, phi19 ]"
   ]
  },
  {
   "cell_type": "markdown",
   "id": "f1433b3a-6112-4d9f-a8f8-127ed7c41619",
   "metadata": {},
   "source": [
    "The auxiliary heat gains, $  Q_{ai}  $, are added to each of the zones and represent the heat flow from the inhabitants and also heat gain from cooking and electronics. The heat gain from the inhabitants was estimated at 90 W."
   ]
  },
  {
   "cell_type": "markdown",
   "id": "5a24b92c-a6f3-4232-9f2f-1025d079533e",
   "metadata": {},
   "source": [
    "![Sensible Heat Gain and Latent Heat Gain in respect of human activities](table1.png)"
   ]
  },
  {
   "cell_type": "markdown",
   "id": "db1056f2-cca8-472a-823a-99289a41e802",
   "metadata": {},
   "source": [
    "*Source: [Scientific Figure - Computer-Aided Load Estimation of Air-conditioning Systems for Non-residential and Residential Buildings](https://www.researchgate.net/figure/Sensible-Heat-Gain-SHG-and-Latent-Heat-Gain-LHG-in-respect-of-human-activities_tbl1_327228047 )*"
   ]
  },
  {
   "cell_type": "markdown",
   "id": "9e452f16-4a28-49b9-8413-23486fa2c443",
   "metadata": {},
   "source": [
    "Heat gain from cooking and electronics was estimated to 70 W. \n",
    "With these matrices implemented it is possible to perform the stead state calculations."
   ]
  },
  {
   "cell_type": "markdown",
   "id": "aa61ae6e-5083-4bc9-bf60-34638747a6ff",
   "metadata": {},
   "source": [
    "# Radiation"
   ]
  },
  {
   "cell_type": "markdown",
   "id": "f441a157-c147-4be3-8b70-23328a4d825a",
   "metadata": {},
   "source": [
    "The long-wave radiation was calculated using the following:"
   ]
  },
  {
   "cell_type": "markdown",
   "id": "627331b6-ac63-4043-9827-3e05619a8f30",
   "metadata": {},
   "source": [
    "$$ G = \\sigma T^3 \\epsilon \\approx 0.135 $$"
   ]
  },
  {
   "cell_type": "markdown",
   "id": "d3e25c26-5aa0-4c33-a2fc-2e75dca145d3",
   "metadata": {},
   "source": [
    "When comparing this value with the convection "
   ]
  },
  {
   "cell_type": "markdown",
   "id": "009ded55-235d-486c-9dbe-8252be9bc965",
   "metadata": {},
   "source": [
    "$$\n",
    "G_{\\text{cv}} = hS \\approx 60\n",
    "$$"
   ]
  },
  {
   "cell_type": "markdown",
   "id": "4f1bbeb0-e0fa-4bd1-8482-3ba2048044cb",
   "metadata": {},
   "source": [
    "and with the value for the conduction "
   ]
  },
  {
   "cell_type": "markdown",
   "id": "2ff67409-305e-4feb-a602-06c18444f7e4",
   "metadata": {},
   "source": [
    "$$\n",
    "G_{\\text{cond}} = S \\frac{\\lambda}{w} \\approx 200\n",
    "$$"
   ]
  },
  {
   "cell_type": "markdown",
   "id": "c3bd6a0f-1c41-43a6-b7da-a828e1de9c65",
   "metadata": {},
   "source": [
    "it is noticeable that the value of the long-wave radiation is neglectable. "
   ]
  },
  {
   "cell_type": "markdown",
   "id": "bdceaece-817f-4a5b-b966-079974b000e4",
   "metadata": {},
   "source": [
    "## Results of steady state"
   ]
  },
  {
   "cell_type": "code",
   "execution_count": 101,
   "id": "7aee9da4-b583-4827-b4bc-137469bdcc7c",
   "metadata": {},
   "outputs": [
    {
     "name": "stdout",
     "output_type": "stream",
     "text": [
      "θ = [18.  18.1 18.2 20.  21.8 21.7 20.9 20.7 20.5 19.3 20.7 21.7 20.5 19.3\n",
      " 22.5 19.6 19.3 18.9 18.9 18.9] °C\n",
      "Bathroom = 21.7 °C\n",
      "Living room = 19.3 °C\n"
     ]
    }
   ],
   "source": [
    "# temperature nodes\n",
    "nθ = 20      # number of temperature nodes\n",
    "θ = [f'θ{i}' for i in range(nθ)]\n",
    "\n",
    "# flow-rate branches\n",
    "nq = 27     # number of flow branches\n",
    "q = [f'q{i}' for i in range(nq)]\n",
    "\n",
    "\n",
    "θ = np.linalg.inv(A.T @ G @ A ) @ (A.T @ G @ b + f)\n",
    "print(f'θ = {np.around(θ, 1)} °C')\n",
    "\n",
    "print(f'Bathroom = {np.around(θ[5], 1)} °C')\n",
    "print(f'Living room = {np.around(θ[9], 1)} °C')"
   ]
  },
  {
   "cell_type": "markdown",
   "id": "f4b331d6-cd9c-4110-9e19-2c1d66bfa79c",
   "metadata": {},
   "source": [
    "# Discussion"
   ]
  },
  {
   "cell_type": "markdown",
   "id": "8610121d-ef33-46b2-baef-3c801c31d44f",
   "metadata": {},
   "source": [
    "The simulation results are considered realistic given the assumption that a temperature controller is only placed in the living room. This design choice leads to significant temperature differences between rooms. If an additional controller had been placed in the bathroom, these differences would likely have been reduced. Moreover, the decision to model the interior door as opaque further contributes to the temperature disparity, as the door is assumed not to allow any heat transfer, effectively acting as a solid barrier.\n",
    "\n",
    "In the current model, the primary factor influencing the indoor temperature is the outdoor temperature. Additionally, the large glazed area contributes to increased indoor temperatures due to solar heat gain.\n",
    "\n",
    "It is also important to note that the controller is modeled with a proportional gain (Kp) value of 1000, which assumes an almost ideal response. In real-life applications, such high performance is rarely achieved, and controller behavior tends to be less precise."
   ]
  },
  {
   "cell_type": "markdown",
   "id": "25f07d68-a5fc-4eae-9a6e-2adf0b48cd6a",
   "metadata": {},
   "source": [
    "# Conclusion"
   ]
  },
  {
   "cell_type": "markdown",
   "id": "d45f1ba8-f637-450a-ac19-08437259404f",
   "metadata": {},
   "source": [
    "One of the main issues identified in the building model is the temperature in the bathroom. As discussed earlier, this is primarily due to the absence of a temperature controller in that space, combined with the fact that the interior door is modeled as opaque, preventing heat transfer between rooms.\n",
    "\n",
    "Another important aspect is the performance of the controller itself. In the current model, the controller is assumed to operate with near-perfect precision due to a high proportional gain value. To enhance the realism of the simulation, this value should be further examined and adjusted to better reflect actual control system performance.\n",
    "\n",
    "Additionally, the model could be improved by modifying the window design. The current windows are large and modeled with only double glazing, which contributes significantly to heat gain and loss. Improving the window properties by lowering the U-value and/or reducing the window size would result in a more energy-efficient building model. However, it is important to note that reducing the glazed area would also decrease the availability of natural light, introducing a separate set of considerations related to daylight access and occupant comfort."
   ]
  }
 ],
 "metadata": {
  "kernelspec": {
   "display_name": "Python [conda env:base] *",
   "language": "python",
   "name": "conda-base-py"
  },
  "language_info": {
   "codemirror_mode": {
    "name": "ipython",
    "version": 3
   },
   "file_extension": ".py",
   "mimetype": "text/x-python",
   "name": "python",
   "nbconvert_exporter": "python",
   "pygments_lexer": "ipython3",
   "version": "3.12.7"
  }
 },
 "nbformat": 4,
 "nbformat_minor": 5
}
